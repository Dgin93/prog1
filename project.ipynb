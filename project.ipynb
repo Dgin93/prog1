{
 "cells": [
  {
   "cell_type": "markdown",
   "metadata": {},
   "source": [
    "<div style=\"border:solid Chocolate 2px; padding: 40px\">\n",
    "\n",
    "<b> Павел, привет!👋</b>\n",
    "\n",
    "Меня зовут Кирилл Васильев, я буду ревьюером твоего проекта. Я предлагаю общаться на «ты», но если привычнее на «вы», просто скажи об этом! \n",
    "\n",
    "Я буду оставлять комментарии в твоем проекте. Пожалуйста, не удаляй их, они могут быть полезны в случае повторной проверки.\n",
    "\n",
    "Ты можешь реагировать на комментарии как просто написав их в Markdown-ячейках, так и выделив их цветом. Например, <font color='blue'>синим</font>. Второй способ, на мой взгляд, удобнее.\n",
    "\n",
    "Свои комментарии я буду обозначать <font color='green'>зеленым</font>, <font color='gold'>желтым</font> и <font color='red'>красным</font> цветами, например:\n",
    "\n",
    "<br/>\n",
    "\n",
    "<div class=\"alert alert-success\">\n",
    "<h2> Комментарий ревьюера <a class=\"tocSkip\"> </h2>\n",
    "\n",
    "<b>Все отлично!👍:</b> В случае, если решение на отдельном шаге является полностью правильным. Здесь же я могу давать советы и предложения.\n",
    "</div>\n",
    "\n",
    "<br/>\n",
    "\n",
    "<div class=\"alert alert-warning\">\n",
    "    <h2> Комментарий ревьюера <a class=\"tocSkip\"> </h2>\n",
    "    \n",
    "<b>Некоторые замечания и рекомендации💡:</b> В случае, когда решение на отдельном шаге станет еще лучше, если внести небольшие коррективы.\n",
    "</div>\n",
    "\n",
    "\n",
    "<br/>\n",
    "<div class=\"alert alert-block alert-danger\">\n",
    "<h2> Комментарий ревьюера <a class=\"tocSkip\"></h2>\n",
    "\n",
    "    \n",
    "<b>На доработку🤔:</b>\n",
    " В случае, когда решение на отдельном шаге требует существенной переработки и внесения правок. Напоминаю, что проект не может быть принят с первого раза, если ревью содержит комментарии, рекомендующие доработать шаги.\n",
    "</div>\n",
    "    \n",
    "Увидев у тебя неточность, в первый раз я лишь укажу на ее наличие и дам тебе возможность самому найти и исправить ее. На реальной работе твой руководитель будет поступать также. Но если ты пока не справишься с такой задачей - при следующей проверке я дам более точную подсказку!"
   ]
  },
  {
   "cell_type": "markdown",
   "metadata": {
    "toc": true
   },
   "source": [
    "<h1>Содержание<span class=\"tocSkip\"></span></h1>\n",
    "<div class=\"toc\"><ul class=\"toc-item\"><li><span><a href=\"#Подготовка-данных\" data-toc-modified-id=\"Подготовка-данных-1\"><span class=\"toc-item-num\">1&nbsp;&nbsp;</span>Подготовка данных</a></span></li><li><span><a href=\"#Исследование-задачи\" data-toc-modified-id=\"Исследование-задачи-2\"><span class=\"toc-item-num\">2&nbsp;&nbsp;</span>Исследование задачи</a></span></li><li><span><a href=\"#Борьба-с-дисбалансом\" data-toc-modified-id=\"Борьба-с-дисбалансом-3\"><span class=\"toc-item-num\">3&nbsp;&nbsp;</span>Борьба с дисбалансом</a></span></li><li><span><a href=\"#Тестирование-модели\" data-toc-modified-id=\"Тестирование-модели-4\"><span class=\"toc-item-num\">4&nbsp;&nbsp;</span>Тестирование модели</a></span></li><li><span><a href=\"#Чек-лист-готовности-проекта\" data-toc-modified-id=\"Чек-лист-готовности-проекта-5\"><span class=\"toc-item-num\">5&nbsp;&nbsp;</span>Чек-лист готовности проекта</a></span></li></ul></div>"
   ]
  },
  {
   "cell_type": "markdown",
   "metadata": {},
   "source": [
    "# Отток клиентов"
   ]
  },
  {
   "cell_type": "markdown",
   "metadata": {},
   "source": [
    "Из «Бета-Банка» стали уходить клиенты. Каждый месяц. Немного, но заметно. Банковские маркетологи посчитали: сохранять текущих клиентов дешевле, чем привлекать новых.\n",
    "\n",
    "Нужно спрогнозировать, уйдёт клиент из банка в ближайшее время или нет. Вам предоставлены исторические данные о поведении клиентов и расторжении договоров с банком. \n",
    "\n",
    "Постройте модель с предельно большим значением *F1*-меры. Чтобы сдать проект успешно, нужно довести метрику до 0.59. Проверьте *F1*-меру на тестовой выборке самостоятельно.\n",
    "\n",
    "Дополнительно измеряйте *AUC-ROC*, сравнивайте её значение с *F1*-мерой.\n",
    "\n",
    "Источник данных: [https://www.kaggle.com/barelydedicated/bank-customer-churn-modeling](https://www.kaggle.com/barelydedicated/bank-customer-churn-modeling)"
   ]
  },
  {
   "cell_type": "markdown",
   "metadata": {},
   "source": [
    "<div class=\"alert alert-success\">\n",
    "<h2> Комментарий ревьюера <a class=\"tocSkip\"> </h2>\n",
    "\n",
    "👍 Отлично. Есть описание проекта. Ясны цели и задачи.\n",
    "</div>"
   ]
  },
  {
   "cell_type": "markdown",
   "metadata": {},
   "source": [
    "## Подготовка данных"
   ]
  },
  {
   "cell_type": "code",
   "execution_count": 49,
   "metadata": {},
   "outputs": [
    {
     "name": "stdout",
     "output_type": "stream",
     "text": [
      "Requirement already satisfied: scikit-learn==1.1.3 in /opt/conda/lib/python3.9/site-packages (1.1.3)\n",
      "Requirement already satisfied: threadpoolctl>=2.0.0 in /opt/conda/lib/python3.9/site-packages (from scikit-learn==1.1.3) (3.1.0)\n",
      "Requirement already satisfied: joblib>=1.0.0 in /opt/conda/lib/python3.9/site-packages (from scikit-learn==1.1.3) (1.2.0)\n",
      "Requirement already satisfied: scipy>=1.3.2 in /opt/conda/lib/python3.9/site-packages (from scikit-learn==1.1.3) (1.9.1)\n",
      "Requirement already satisfied: numpy>=1.17.3 in /opt/conda/lib/python3.9/site-packages (from scikit-learn==1.1.3) (1.21.1)\n",
      "Requirement already satisfied: category_encoders in /opt/conda/lib/python3.9/site-packages (2.5.1.post0)\n",
      "Requirement already satisfied: scipy>=1.0.0 in /opt/conda/lib/python3.9/site-packages (from category_encoders) (1.9.1)\n",
      "Requirement already satisfied: numpy>=1.14.0 in /opt/conda/lib/python3.9/site-packages (from category_encoders) (1.21.1)\n",
      "Requirement already satisfied: pandas>=1.0.5 in /opt/conda/lib/python3.9/site-packages (from category_encoders) (1.2.4)\n",
      "Requirement already satisfied: patsy>=0.5.1 in /opt/conda/lib/python3.9/site-packages (from category_encoders) (0.5.2)\n",
      "Requirement already satisfied: statsmodels>=0.9.0 in /opt/conda/lib/python3.9/site-packages (from category_encoders) (0.13.2)\n",
      "Requirement already satisfied: scikit-learn>=0.20.0 in /opt/conda/lib/python3.9/site-packages (from category_encoders) (1.1.3)\n",
      "Requirement already satisfied: python-dateutil>=2.7.3 in /opt/conda/lib/python3.9/site-packages (from pandas>=1.0.5->category_encoders) (2.8.1)\n",
      "Requirement already satisfied: pytz>=2017.3 in /opt/conda/lib/python3.9/site-packages (from pandas>=1.0.5->category_encoders) (2021.1)\n",
      "Requirement already satisfied: six in /opt/conda/lib/python3.9/site-packages (from patsy>=0.5.1->category_encoders) (1.16.0)\n",
      "Requirement already satisfied: threadpoolctl>=2.0.0 in /opt/conda/lib/python3.9/site-packages (from scikit-learn>=0.20.0->category_encoders) (3.1.0)\n",
      "Requirement already satisfied: joblib>=1.0.0 in /opt/conda/lib/python3.9/site-packages (from scikit-learn>=0.20.0->category_encoders) (1.2.0)\n",
      "Requirement already satisfied: packaging>=21.3 in /opt/conda/lib/python3.9/site-packages (from statsmodels>=0.9.0->category_encoders) (21.3)\n",
      "Requirement already satisfied: pyparsing!=3.0.5,>=2.0.2 in /opt/conda/lib/python3.9/site-packages (from packaging>=21.3->statsmodels>=0.9.0->category_encoders) (2.4.7)\n"
     ]
    }
   ],
   "source": [
    "# код ревьюера - это нам нужно, чтобы избежать ошибки в OHE и такиудалить одну из колонок, чтобы избежать мультиколлинерарности\n",
    "!pip install scikit-learn==1.1.3\n",
    "!pip install category_encoders"
   ]
  },
  {
   "cell_type": "code",
   "execution_count": 50,
   "metadata": {},
   "outputs": [
    {
     "name": "stdout",
     "output_type": "stream",
     "text": [
      "Requirement already satisfied: imblearn in /opt/conda/lib/python3.9/site-packages (0.0)\n",
      "Requirement already satisfied: imbalanced-learn in /opt/conda/lib/python3.9/site-packages (from imblearn) (0.10.0)\n",
      "Requirement already satisfied: numpy>=1.17.3 in /opt/conda/lib/python3.9/site-packages (from imbalanced-learn->imblearn) (1.21.1)\n",
      "Requirement already satisfied: scipy>=1.3.2 in /opt/conda/lib/python3.9/site-packages (from imbalanced-learn->imblearn) (1.9.1)\n",
      "Requirement already satisfied: joblib>=1.1.1 in /opt/conda/lib/python3.9/site-packages (from imbalanced-learn->imblearn) (1.2.0)\n",
      "Requirement already satisfied: threadpoolctl>=2.0.0 in /opt/conda/lib/python3.9/site-packages (from imbalanced-learn->imblearn) (3.1.0)\n",
      "Requirement already satisfied: scikit-learn>=1.0.2 in /opt/conda/lib/python3.9/site-packages (from imbalanced-learn->imblearn) (1.1.3)\n"
     ]
    }
   ],
   "source": [
    "!pip install imblearn"
   ]
  },
  {
   "cell_type": "code",
   "execution_count": 51,
   "metadata": {},
   "outputs": [],
   "source": [
    "import pandas as pd\n",
    "import numpy as np\n",
    "import matplotlib.pyplot as plt\n",
    "import seaborn as sns"
   ]
  },
  {
   "cell_type": "code",
   "execution_count": 52,
   "metadata": {},
   "outputs": [],
   "source": [
    "from sklearn.model_selection import train_test_split\n",
    "from sklearn.linear_model import LogisticRegression\n",
    "from sklearn.tree import DecisionTreeClassifier\n",
    "from sklearn.ensemble import RandomForestClassifier\n",
    "from sklearn.metrics import f1_score\n",
    "from sklearn.utils import shuffle\n",
    "from sklearn.metrics import roc_curve\n",
    "from sklearn.metrics import roc_auc_score\n",
    "from sklearn.metrics import confusion_matrix"
   ]
  },
  {
   "cell_type": "code",
   "execution_count": 1,
   "metadata": {},
   "outputs": [],
   "source": [
    "from sklearn.preprocessing import OneHotEncoder\n",
    "from sklearn.preprocessing import StandardScaler"
   ]
  },
  {
   "cell_type": "code",
   "execution_count": 54,
   "metadata": {},
   "outputs": [],
   "source": [
    "from imblearn.over_sampling import SMOTE\n",
    "from imblearn.under_sampling import RandomUnderSampler"
   ]
  },
  {
   "cell_type": "code",
   "execution_count": 55,
   "metadata": {},
   "outputs": [],
   "source": [
    "from joblib import dump\n",
    "from joblib import load"
   ]
  },
  {
   "cell_type": "code",
   "execution_count": 56,
   "metadata": {},
   "outputs": [],
   "source": [
    "data = pd.read_csv('/datasets/Churn.csv')"
   ]
  },
  {
   "cell_type": "markdown",
   "metadata": {},
   "source": [
    "Познакомимся с данными и проверим на мультиколлинеарность"
   ]
  },
  {
   "cell_type": "code",
   "execution_count": 57,
   "metadata": {},
   "outputs": [
    {
     "data": {
      "text/plain": [
       "(10000, 14)"
      ]
     },
     "execution_count": 57,
     "metadata": {},
     "output_type": "execute_result"
    }
   ],
   "source": [
    "data.shape"
   ]
  },
  {
   "cell_type": "code",
   "execution_count": 58,
   "metadata": {},
   "outputs": [
    {
     "data": {
      "text/html": [
       "<div>\n",
       "<style scoped>\n",
       "    .dataframe tbody tr th:only-of-type {\n",
       "        vertical-align: middle;\n",
       "    }\n",
       "\n",
       "    .dataframe tbody tr th {\n",
       "        vertical-align: top;\n",
       "    }\n",
       "\n",
       "    .dataframe thead th {\n",
       "        text-align: right;\n",
       "    }\n",
       "</style>\n",
       "<table border=\"1\" class=\"dataframe\">\n",
       "  <thead>\n",
       "    <tr style=\"text-align: right;\">\n",
       "      <th></th>\n",
       "      <th>RowNumber</th>\n",
       "      <th>CustomerId</th>\n",
       "      <th>Surname</th>\n",
       "      <th>CreditScore</th>\n",
       "      <th>Geography</th>\n",
       "      <th>Gender</th>\n",
       "      <th>Age</th>\n",
       "      <th>Tenure</th>\n",
       "      <th>Balance</th>\n",
       "      <th>NumOfProducts</th>\n",
       "      <th>HasCrCard</th>\n",
       "      <th>IsActiveMember</th>\n",
       "      <th>EstimatedSalary</th>\n",
       "      <th>Exited</th>\n",
       "    </tr>\n",
       "  </thead>\n",
       "  <tbody>\n",
       "    <tr>\n",
       "      <th>0</th>\n",
       "      <td>1</td>\n",
       "      <td>15634602</td>\n",
       "      <td>Hargrave</td>\n",
       "      <td>619</td>\n",
       "      <td>France</td>\n",
       "      <td>Female</td>\n",
       "      <td>42</td>\n",
       "      <td>2.0</td>\n",
       "      <td>0.00</td>\n",
       "      <td>1</td>\n",
       "      <td>1</td>\n",
       "      <td>1</td>\n",
       "      <td>101348.88</td>\n",
       "      <td>1</td>\n",
       "    </tr>\n",
       "    <tr>\n",
       "      <th>1</th>\n",
       "      <td>2</td>\n",
       "      <td>15647311</td>\n",
       "      <td>Hill</td>\n",
       "      <td>608</td>\n",
       "      <td>Spain</td>\n",
       "      <td>Female</td>\n",
       "      <td>41</td>\n",
       "      <td>1.0</td>\n",
       "      <td>83807.86</td>\n",
       "      <td>1</td>\n",
       "      <td>0</td>\n",
       "      <td>1</td>\n",
       "      <td>112542.58</td>\n",
       "      <td>0</td>\n",
       "    </tr>\n",
       "    <tr>\n",
       "      <th>2</th>\n",
       "      <td>3</td>\n",
       "      <td>15619304</td>\n",
       "      <td>Onio</td>\n",
       "      <td>502</td>\n",
       "      <td>France</td>\n",
       "      <td>Female</td>\n",
       "      <td>42</td>\n",
       "      <td>8.0</td>\n",
       "      <td>159660.80</td>\n",
       "      <td>3</td>\n",
       "      <td>1</td>\n",
       "      <td>0</td>\n",
       "      <td>113931.57</td>\n",
       "      <td>1</td>\n",
       "    </tr>\n",
       "    <tr>\n",
       "      <th>3</th>\n",
       "      <td>4</td>\n",
       "      <td>15701354</td>\n",
       "      <td>Boni</td>\n",
       "      <td>699</td>\n",
       "      <td>France</td>\n",
       "      <td>Female</td>\n",
       "      <td>39</td>\n",
       "      <td>1.0</td>\n",
       "      <td>0.00</td>\n",
       "      <td>2</td>\n",
       "      <td>0</td>\n",
       "      <td>0</td>\n",
       "      <td>93826.63</td>\n",
       "      <td>0</td>\n",
       "    </tr>\n",
       "    <tr>\n",
       "      <th>4</th>\n",
       "      <td>5</td>\n",
       "      <td>15737888</td>\n",
       "      <td>Mitchell</td>\n",
       "      <td>850</td>\n",
       "      <td>Spain</td>\n",
       "      <td>Female</td>\n",
       "      <td>43</td>\n",
       "      <td>2.0</td>\n",
       "      <td>125510.82</td>\n",
       "      <td>1</td>\n",
       "      <td>1</td>\n",
       "      <td>1</td>\n",
       "      <td>79084.10</td>\n",
       "      <td>0</td>\n",
       "    </tr>\n",
       "  </tbody>\n",
       "</table>\n",
       "</div>"
      ],
      "text/plain": [
       "   RowNumber  CustomerId   Surname  CreditScore Geography  Gender  Age  \\\n",
       "0          1    15634602  Hargrave          619    France  Female   42   \n",
       "1          2    15647311      Hill          608     Spain  Female   41   \n",
       "2          3    15619304      Onio          502    France  Female   42   \n",
       "3          4    15701354      Boni          699    France  Female   39   \n",
       "4          5    15737888  Mitchell          850     Spain  Female   43   \n",
       "\n",
       "   Tenure    Balance  NumOfProducts  HasCrCard  IsActiveMember  \\\n",
       "0     2.0       0.00              1          1               1   \n",
       "1     1.0   83807.86              1          0               1   \n",
       "2     8.0  159660.80              3          1               0   \n",
       "3     1.0       0.00              2          0               0   \n",
       "4     2.0  125510.82              1          1               1   \n",
       "\n",
       "   EstimatedSalary  Exited  \n",
       "0        101348.88       1  \n",
       "1        112542.58       0  \n",
       "2        113931.57       1  \n",
       "3         93826.63       0  \n",
       "4         79084.10       0  "
      ]
     },
     "execution_count": 58,
     "metadata": {},
     "output_type": "execute_result"
    }
   ],
   "source": [
    "data.head()"
   ]
  },
  {
   "cell_type": "code",
   "execution_count": 59,
   "metadata": {},
   "outputs": [
    {
     "name": "stdout",
     "output_type": "stream",
     "text": [
      "<class 'pandas.core.frame.DataFrame'>\n",
      "RangeIndex: 10000 entries, 0 to 9999\n",
      "Data columns (total 14 columns):\n",
      " #   Column           Non-Null Count  Dtype  \n",
      "---  ------           --------------  -----  \n",
      " 0   RowNumber        10000 non-null  int64  \n",
      " 1   CustomerId       10000 non-null  int64  \n",
      " 2   Surname          10000 non-null  object \n",
      " 3   CreditScore      10000 non-null  int64  \n",
      " 4   Geography        10000 non-null  object \n",
      " 5   Gender           10000 non-null  object \n",
      " 6   Age              10000 non-null  int64  \n",
      " 7   Tenure           9091 non-null   float64\n",
      " 8   Balance          10000 non-null  float64\n",
      " 9   NumOfProducts    10000 non-null  int64  \n",
      " 10  HasCrCard        10000 non-null  int64  \n",
      " 11  IsActiveMember   10000 non-null  int64  \n",
      " 12  EstimatedSalary  10000 non-null  float64\n",
      " 13  Exited           10000 non-null  int64  \n",
      "dtypes: float64(3), int64(8), object(3)\n",
      "memory usage: 1.1+ MB\n"
     ]
    }
   ],
   "source": [
    "data.info()"
   ]
  },
  {
   "cell_type": "code",
   "execution_count": 60,
   "metadata": {},
   "outputs": [
    {
     "data": {
      "text/html": [
       "<div>\n",
       "<style scoped>\n",
       "    .dataframe tbody tr th:only-of-type {\n",
       "        vertical-align: middle;\n",
       "    }\n",
       "\n",
       "    .dataframe tbody tr th {\n",
       "        vertical-align: top;\n",
       "    }\n",
       "\n",
       "    .dataframe thead th {\n",
       "        text-align: right;\n",
       "    }\n",
       "</style>\n",
       "<table border=\"1\" class=\"dataframe\">\n",
       "  <thead>\n",
       "    <tr style=\"text-align: right;\">\n",
       "      <th></th>\n",
       "      <th>RowNumber</th>\n",
       "      <th>CustomerId</th>\n",
       "      <th>CreditScore</th>\n",
       "      <th>Age</th>\n",
       "      <th>Tenure</th>\n",
       "      <th>Balance</th>\n",
       "      <th>NumOfProducts</th>\n",
       "      <th>HasCrCard</th>\n",
       "      <th>IsActiveMember</th>\n",
       "      <th>EstimatedSalary</th>\n",
       "      <th>Exited</th>\n",
       "    </tr>\n",
       "  </thead>\n",
       "  <tbody>\n",
       "    <tr>\n",
       "      <th>count</th>\n",
       "      <td>10000.00000</td>\n",
       "      <td>1.000000e+04</td>\n",
       "      <td>10000.000000</td>\n",
       "      <td>10000.000000</td>\n",
       "      <td>9091.000000</td>\n",
       "      <td>10000.000000</td>\n",
       "      <td>10000.000000</td>\n",
       "      <td>10000.00000</td>\n",
       "      <td>10000.000000</td>\n",
       "      <td>10000.000000</td>\n",
       "      <td>10000.000000</td>\n",
       "    </tr>\n",
       "    <tr>\n",
       "      <th>mean</th>\n",
       "      <td>5000.50000</td>\n",
       "      <td>1.569094e+07</td>\n",
       "      <td>650.528800</td>\n",
       "      <td>38.921800</td>\n",
       "      <td>4.997690</td>\n",
       "      <td>76485.889288</td>\n",
       "      <td>1.530200</td>\n",
       "      <td>0.70550</td>\n",
       "      <td>0.515100</td>\n",
       "      <td>100090.239881</td>\n",
       "      <td>0.203700</td>\n",
       "    </tr>\n",
       "    <tr>\n",
       "      <th>std</th>\n",
       "      <td>2886.89568</td>\n",
       "      <td>7.193619e+04</td>\n",
       "      <td>96.653299</td>\n",
       "      <td>10.487806</td>\n",
       "      <td>2.894723</td>\n",
       "      <td>62397.405202</td>\n",
       "      <td>0.581654</td>\n",
       "      <td>0.45584</td>\n",
       "      <td>0.499797</td>\n",
       "      <td>57510.492818</td>\n",
       "      <td>0.402769</td>\n",
       "    </tr>\n",
       "    <tr>\n",
       "      <th>min</th>\n",
       "      <td>1.00000</td>\n",
       "      <td>1.556570e+07</td>\n",
       "      <td>350.000000</td>\n",
       "      <td>18.000000</td>\n",
       "      <td>0.000000</td>\n",
       "      <td>0.000000</td>\n",
       "      <td>1.000000</td>\n",
       "      <td>0.00000</td>\n",
       "      <td>0.000000</td>\n",
       "      <td>11.580000</td>\n",
       "      <td>0.000000</td>\n",
       "    </tr>\n",
       "    <tr>\n",
       "      <th>25%</th>\n",
       "      <td>2500.75000</td>\n",
       "      <td>1.562853e+07</td>\n",
       "      <td>584.000000</td>\n",
       "      <td>32.000000</td>\n",
       "      <td>2.000000</td>\n",
       "      <td>0.000000</td>\n",
       "      <td>1.000000</td>\n",
       "      <td>0.00000</td>\n",
       "      <td>0.000000</td>\n",
       "      <td>51002.110000</td>\n",
       "      <td>0.000000</td>\n",
       "    </tr>\n",
       "    <tr>\n",
       "      <th>50%</th>\n",
       "      <td>5000.50000</td>\n",
       "      <td>1.569074e+07</td>\n",
       "      <td>652.000000</td>\n",
       "      <td>37.000000</td>\n",
       "      <td>5.000000</td>\n",
       "      <td>97198.540000</td>\n",
       "      <td>1.000000</td>\n",
       "      <td>1.00000</td>\n",
       "      <td>1.000000</td>\n",
       "      <td>100193.915000</td>\n",
       "      <td>0.000000</td>\n",
       "    </tr>\n",
       "    <tr>\n",
       "      <th>75%</th>\n",
       "      <td>7500.25000</td>\n",
       "      <td>1.575323e+07</td>\n",
       "      <td>718.000000</td>\n",
       "      <td>44.000000</td>\n",
       "      <td>7.000000</td>\n",
       "      <td>127644.240000</td>\n",
       "      <td>2.000000</td>\n",
       "      <td>1.00000</td>\n",
       "      <td>1.000000</td>\n",
       "      <td>149388.247500</td>\n",
       "      <td>0.000000</td>\n",
       "    </tr>\n",
       "    <tr>\n",
       "      <th>max</th>\n",
       "      <td>10000.00000</td>\n",
       "      <td>1.581569e+07</td>\n",
       "      <td>850.000000</td>\n",
       "      <td>92.000000</td>\n",
       "      <td>10.000000</td>\n",
       "      <td>250898.090000</td>\n",
       "      <td>4.000000</td>\n",
       "      <td>1.00000</td>\n",
       "      <td>1.000000</td>\n",
       "      <td>199992.480000</td>\n",
       "      <td>1.000000</td>\n",
       "    </tr>\n",
       "  </tbody>\n",
       "</table>\n",
       "</div>"
      ],
      "text/plain": [
       "         RowNumber    CustomerId   CreditScore           Age       Tenure  \\\n",
       "count  10000.00000  1.000000e+04  10000.000000  10000.000000  9091.000000   \n",
       "mean    5000.50000  1.569094e+07    650.528800     38.921800     4.997690   \n",
       "std     2886.89568  7.193619e+04     96.653299     10.487806     2.894723   \n",
       "min        1.00000  1.556570e+07    350.000000     18.000000     0.000000   \n",
       "25%     2500.75000  1.562853e+07    584.000000     32.000000     2.000000   \n",
       "50%     5000.50000  1.569074e+07    652.000000     37.000000     5.000000   \n",
       "75%     7500.25000  1.575323e+07    718.000000     44.000000     7.000000   \n",
       "max    10000.00000  1.581569e+07    850.000000     92.000000    10.000000   \n",
       "\n",
       "             Balance  NumOfProducts    HasCrCard  IsActiveMember  \\\n",
       "count   10000.000000   10000.000000  10000.00000    10000.000000   \n",
       "mean    76485.889288       1.530200      0.70550        0.515100   \n",
       "std     62397.405202       0.581654      0.45584        0.499797   \n",
       "min         0.000000       1.000000      0.00000        0.000000   \n",
       "25%         0.000000       1.000000      0.00000        0.000000   \n",
       "50%     97198.540000       1.000000      1.00000        1.000000   \n",
       "75%    127644.240000       2.000000      1.00000        1.000000   \n",
       "max    250898.090000       4.000000      1.00000        1.000000   \n",
       "\n",
       "       EstimatedSalary        Exited  \n",
       "count     10000.000000  10000.000000  \n",
       "mean     100090.239881      0.203700  \n",
       "std       57510.492818      0.402769  \n",
       "min          11.580000      0.000000  \n",
       "25%       51002.110000      0.000000  \n",
       "50%      100193.915000      0.000000  \n",
       "75%      149388.247500      0.000000  \n",
       "max      199992.480000      1.000000  "
      ]
     },
     "execution_count": 60,
     "metadata": {},
     "output_type": "execute_result"
    }
   ],
   "source": [
    "data.describe()"
   ]
  },
  {
   "cell_type": "markdown",
   "metadata": {},
   "source": [
    "<div class=\"alert alert-success\">\n",
    "<h2> Комментарий ревьюера <a class=\"tocSkip\"> </h2>\n",
    "\n",
    "👍 Отлично, что смотрим на данные с помощью `describe()`, можно посмотреть также на переменные с нечисленными типами данных, если использовать аргумент `describe(include='all')`. Возможно, для восприятия будет удобно транспонировать таблицу.\n",
    "</div>\n"
   ]
  },
  {
   "cell_type": "markdown",
   "metadata": {},
   "source": [
    "<div class=\"alert alert-info\"> \n",
    "Благодарю, ниже применю\n",
    "</div>"
   ]
  },
  {
   "cell_type": "code",
   "execution_count": 61,
   "metadata": {},
   "outputs": [
    {
     "data": {
      "text/html": [
       "<div>\n",
       "<style scoped>\n",
       "    .dataframe tbody tr th:only-of-type {\n",
       "        vertical-align: middle;\n",
       "    }\n",
       "\n",
       "    .dataframe tbody tr th {\n",
       "        vertical-align: top;\n",
       "    }\n",
       "\n",
       "    .dataframe thead th {\n",
       "        text-align: right;\n",
       "    }\n",
       "</style>\n",
       "<table border=\"1\" class=\"dataframe\">\n",
       "  <thead>\n",
       "    <tr style=\"text-align: right;\">\n",
       "      <th></th>\n",
       "      <th>RowNumber</th>\n",
       "      <th>CustomerId</th>\n",
       "      <th>Surname</th>\n",
       "      <th>CreditScore</th>\n",
       "      <th>Geography</th>\n",
       "      <th>Gender</th>\n",
       "      <th>Age</th>\n",
       "      <th>Tenure</th>\n",
       "      <th>Balance</th>\n",
       "      <th>NumOfProducts</th>\n",
       "      <th>HasCrCard</th>\n",
       "      <th>IsActiveMember</th>\n",
       "      <th>EstimatedSalary</th>\n",
       "      <th>Exited</th>\n",
       "    </tr>\n",
       "  </thead>\n",
       "  <tbody>\n",
       "    <tr>\n",
       "      <th>count</th>\n",
       "      <td>10000.00000</td>\n",
       "      <td>1.000000e+04</td>\n",
       "      <td>10000</td>\n",
       "      <td>10000.000000</td>\n",
       "      <td>10000</td>\n",
       "      <td>10000</td>\n",
       "      <td>10000.000000</td>\n",
       "      <td>9091.000000</td>\n",
       "      <td>10000.000000</td>\n",
       "      <td>10000.000000</td>\n",
       "      <td>10000.00000</td>\n",
       "      <td>10000.000000</td>\n",
       "      <td>10000.000000</td>\n",
       "      <td>10000.000000</td>\n",
       "    </tr>\n",
       "    <tr>\n",
       "      <th>unique</th>\n",
       "      <td>NaN</td>\n",
       "      <td>NaN</td>\n",
       "      <td>2932</td>\n",
       "      <td>NaN</td>\n",
       "      <td>3</td>\n",
       "      <td>2</td>\n",
       "      <td>NaN</td>\n",
       "      <td>NaN</td>\n",
       "      <td>NaN</td>\n",
       "      <td>NaN</td>\n",
       "      <td>NaN</td>\n",
       "      <td>NaN</td>\n",
       "      <td>NaN</td>\n",
       "      <td>NaN</td>\n",
       "    </tr>\n",
       "    <tr>\n",
       "      <th>top</th>\n",
       "      <td>NaN</td>\n",
       "      <td>NaN</td>\n",
       "      <td>Smith</td>\n",
       "      <td>NaN</td>\n",
       "      <td>France</td>\n",
       "      <td>Male</td>\n",
       "      <td>NaN</td>\n",
       "      <td>NaN</td>\n",
       "      <td>NaN</td>\n",
       "      <td>NaN</td>\n",
       "      <td>NaN</td>\n",
       "      <td>NaN</td>\n",
       "      <td>NaN</td>\n",
       "      <td>NaN</td>\n",
       "    </tr>\n",
       "    <tr>\n",
       "      <th>freq</th>\n",
       "      <td>NaN</td>\n",
       "      <td>NaN</td>\n",
       "      <td>32</td>\n",
       "      <td>NaN</td>\n",
       "      <td>5014</td>\n",
       "      <td>5457</td>\n",
       "      <td>NaN</td>\n",
       "      <td>NaN</td>\n",
       "      <td>NaN</td>\n",
       "      <td>NaN</td>\n",
       "      <td>NaN</td>\n",
       "      <td>NaN</td>\n",
       "      <td>NaN</td>\n",
       "      <td>NaN</td>\n",
       "    </tr>\n",
       "    <tr>\n",
       "      <th>mean</th>\n",
       "      <td>5000.50000</td>\n",
       "      <td>1.569094e+07</td>\n",
       "      <td>NaN</td>\n",
       "      <td>650.528800</td>\n",
       "      <td>NaN</td>\n",
       "      <td>NaN</td>\n",
       "      <td>38.921800</td>\n",
       "      <td>4.997690</td>\n",
       "      <td>76485.889288</td>\n",
       "      <td>1.530200</td>\n",
       "      <td>0.70550</td>\n",
       "      <td>0.515100</td>\n",
       "      <td>100090.239881</td>\n",
       "      <td>0.203700</td>\n",
       "    </tr>\n",
       "    <tr>\n",
       "      <th>std</th>\n",
       "      <td>2886.89568</td>\n",
       "      <td>7.193619e+04</td>\n",
       "      <td>NaN</td>\n",
       "      <td>96.653299</td>\n",
       "      <td>NaN</td>\n",
       "      <td>NaN</td>\n",
       "      <td>10.487806</td>\n",
       "      <td>2.894723</td>\n",
       "      <td>62397.405202</td>\n",
       "      <td>0.581654</td>\n",
       "      <td>0.45584</td>\n",
       "      <td>0.499797</td>\n",
       "      <td>57510.492818</td>\n",
       "      <td>0.402769</td>\n",
       "    </tr>\n",
       "    <tr>\n",
       "      <th>min</th>\n",
       "      <td>1.00000</td>\n",
       "      <td>1.556570e+07</td>\n",
       "      <td>NaN</td>\n",
       "      <td>350.000000</td>\n",
       "      <td>NaN</td>\n",
       "      <td>NaN</td>\n",
       "      <td>18.000000</td>\n",
       "      <td>0.000000</td>\n",
       "      <td>0.000000</td>\n",
       "      <td>1.000000</td>\n",
       "      <td>0.00000</td>\n",
       "      <td>0.000000</td>\n",
       "      <td>11.580000</td>\n",
       "      <td>0.000000</td>\n",
       "    </tr>\n",
       "    <tr>\n",
       "      <th>25%</th>\n",
       "      <td>2500.75000</td>\n",
       "      <td>1.562853e+07</td>\n",
       "      <td>NaN</td>\n",
       "      <td>584.000000</td>\n",
       "      <td>NaN</td>\n",
       "      <td>NaN</td>\n",
       "      <td>32.000000</td>\n",
       "      <td>2.000000</td>\n",
       "      <td>0.000000</td>\n",
       "      <td>1.000000</td>\n",
       "      <td>0.00000</td>\n",
       "      <td>0.000000</td>\n",
       "      <td>51002.110000</td>\n",
       "      <td>0.000000</td>\n",
       "    </tr>\n",
       "    <tr>\n",
       "      <th>50%</th>\n",
       "      <td>5000.50000</td>\n",
       "      <td>1.569074e+07</td>\n",
       "      <td>NaN</td>\n",
       "      <td>652.000000</td>\n",
       "      <td>NaN</td>\n",
       "      <td>NaN</td>\n",
       "      <td>37.000000</td>\n",
       "      <td>5.000000</td>\n",
       "      <td>97198.540000</td>\n",
       "      <td>1.000000</td>\n",
       "      <td>1.00000</td>\n",
       "      <td>1.000000</td>\n",
       "      <td>100193.915000</td>\n",
       "      <td>0.000000</td>\n",
       "    </tr>\n",
       "    <tr>\n",
       "      <th>75%</th>\n",
       "      <td>7500.25000</td>\n",
       "      <td>1.575323e+07</td>\n",
       "      <td>NaN</td>\n",
       "      <td>718.000000</td>\n",
       "      <td>NaN</td>\n",
       "      <td>NaN</td>\n",
       "      <td>44.000000</td>\n",
       "      <td>7.000000</td>\n",
       "      <td>127644.240000</td>\n",
       "      <td>2.000000</td>\n",
       "      <td>1.00000</td>\n",
       "      <td>1.000000</td>\n",
       "      <td>149388.247500</td>\n",
       "      <td>0.000000</td>\n",
       "    </tr>\n",
       "    <tr>\n",
       "      <th>max</th>\n",
       "      <td>10000.00000</td>\n",
       "      <td>1.581569e+07</td>\n",
       "      <td>NaN</td>\n",
       "      <td>850.000000</td>\n",
       "      <td>NaN</td>\n",
       "      <td>NaN</td>\n",
       "      <td>92.000000</td>\n",
       "      <td>10.000000</td>\n",
       "      <td>250898.090000</td>\n",
       "      <td>4.000000</td>\n",
       "      <td>1.00000</td>\n",
       "      <td>1.000000</td>\n",
       "      <td>199992.480000</td>\n",
       "      <td>1.000000</td>\n",
       "    </tr>\n",
       "  </tbody>\n",
       "</table>\n",
       "</div>"
      ],
      "text/plain": [
       "          RowNumber    CustomerId Surname   CreditScore Geography Gender  \\\n",
       "count   10000.00000  1.000000e+04   10000  10000.000000     10000  10000   \n",
       "unique          NaN           NaN    2932           NaN         3      2   \n",
       "top             NaN           NaN   Smith           NaN    France   Male   \n",
       "freq            NaN           NaN      32           NaN      5014   5457   \n",
       "mean     5000.50000  1.569094e+07     NaN    650.528800       NaN    NaN   \n",
       "std      2886.89568  7.193619e+04     NaN     96.653299       NaN    NaN   \n",
       "min         1.00000  1.556570e+07     NaN    350.000000       NaN    NaN   \n",
       "25%      2500.75000  1.562853e+07     NaN    584.000000       NaN    NaN   \n",
       "50%      5000.50000  1.569074e+07     NaN    652.000000       NaN    NaN   \n",
       "75%      7500.25000  1.575323e+07     NaN    718.000000       NaN    NaN   \n",
       "max     10000.00000  1.581569e+07     NaN    850.000000       NaN    NaN   \n",
       "\n",
       "                 Age       Tenure        Balance  NumOfProducts    HasCrCard  \\\n",
       "count   10000.000000  9091.000000   10000.000000   10000.000000  10000.00000   \n",
       "unique           NaN          NaN            NaN            NaN          NaN   \n",
       "top              NaN          NaN            NaN            NaN          NaN   \n",
       "freq             NaN          NaN            NaN            NaN          NaN   \n",
       "mean       38.921800     4.997690   76485.889288       1.530200      0.70550   \n",
       "std        10.487806     2.894723   62397.405202       0.581654      0.45584   \n",
       "min        18.000000     0.000000       0.000000       1.000000      0.00000   \n",
       "25%        32.000000     2.000000       0.000000       1.000000      0.00000   \n",
       "50%        37.000000     5.000000   97198.540000       1.000000      1.00000   \n",
       "75%        44.000000     7.000000  127644.240000       2.000000      1.00000   \n",
       "max        92.000000    10.000000  250898.090000       4.000000      1.00000   \n",
       "\n",
       "        IsActiveMember  EstimatedSalary        Exited  \n",
       "count     10000.000000     10000.000000  10000.000000  \n",
       "unique             NaN              NaN           NaN  \n",
       "top                NaN              NaN           NaN  \n",
       "freq               NaN              NaN           NaN  \n",
       "mean          0.515100    100090.239881      0.203700  \n",
       "std           0.499797     57510.492818      0.402769  \n",
       "min           0.000000        11.580000      0.000000  \n",
       "25%           0.000000     51002.110000      0.000000  \n",
       "50%           1.000000    100193.915000      0.000000  \n",
       "75%           1.000000    149388.247500      0.000000  \n",
       "max           1.000000    199992.480000      1.000000  "
      ]
     },
     "execution_count": 61,
     "metadata": {},
     "output_type": "execute_result"
    }
   ],
   "source": [
    "data.describe(include='all')"
   ]
  },
  {
   "cell_type": "code",
   "execution_count": 62,
   "metadata": {},
   "outputs": [
    {
     "data": {
      "text/html": [
       "<div>\n",
       "<style scoped>\n",
       "    .dataframe tbody tr th:only-of-type {\n",
       "        vertical-align: middle;\n",
       "    }\n",
       "\n",
       "    .dataframe tbody tr th {\n",
       "        vertical-align: top;\n",
       "    }\n",
       "\n",
       "    .dataframe thead th {\n",
       "        text-align: right;\n",
       "    }\n",
       "</style>\n",
       "<table border=\"1\" class=\"dataframe\">\n",
       "  <thead>\n",
       "    <tr style=\"text-align: right;\">\n",
       "      <th></th>\n",
       "      <th>RowNumber</th>\n",
       "      <th>CustomerId</th>\n",
       "      <th>CreditScore</th>\n",
       "      <th>Age</th>\n",
       "      <th>Tenure</th>\n",
       "      <th>Balance</th>\n",
       "      <th>NumOfProducts</th>\n",
       "      <th>HasCrCard</th>\n",
       "      <th>IsActiveMember</th>\n",
       "      <th>EstimatedSalary</th>\n",
       "      <th>Exited</th>\n",
       "    </tr>\n",
       "  </thead>\n",
       "  <tbody>\n",
       "    <tr>\n",
       "      <th>RowNumber</th>\n",
       "      <td>1.000000</td>\n",
       "      <td>0.004202</td>\n",
       "      <td>0.005840</td>\n",
       "      <td>0.000783</td>\n",
       "      <td>-0.007322</td>\n",
       "      <td>-0.009067</td>\n",
       "      <td>0.007246</td>\n",
       "      <td>0.000599</td>\n",
       "      <td>0.012044</td>\n",
       "      <td>-0.005988</td>\n",
       "      <td>-0.016571</td>\n",
       "    </tr>\n",
       "    <tr>\n",
       "      <th>CustomerId</th>\n",
       "      <td>0.004202</td>\n",
       "      <td>1.000000</td>\n",
       "      <td>0.005308</td>\n",
       "      <td>0.009497</td>\n",
       "      <td>-0.021418</td>\n",
       "      <td>-0.012419</td>\n",
       "      <td>0.016972</td>\n",
       "      <td>-0.014025</td>\n",
       "      <td>0.001665</td>\n",
       "      <td>0.015271</td>\n",
       "      <td>-0.006248</td>\n",
       "    </tr>\n",
       "    <tr>\n",
       "      <th>CreditScore</th>\n",
       "      <td>0.005840</td>\n",
       "      <td>0.005308</td>\n",
       "      <td>1.000000</td>\n",
       "      <td>-0.003965</td>\n",
       "      <td>-0.000062</td>\n",
       "      <td>0.006268</td>\n",
       "      <td>0.012238</td>\n",
       "      <td>-0.005458</td>\n",
       "      <td>0.025651</td>\n",
       "      <td>-0.001384</td>\n",
       "      <td>-0.027094</td>\n",
       "    </tr>\n",
       "    <tr>\n",
       "      <th>Age</th>\n",
       "      <td>0.000783</td>\n",
       "      <td>0.009497</td>\n",
       "      <td>-0.003965</td>\n",
       "      <td>1.000000</td>\n",
       "      <td>-0.013134</td>\n",
       "      <td>0.028308</td>\n",
       "      <td>-0.030680</td>\n",
       "      <td>-0.011721</td>\n",
       "      <td>0.085472</td>\n",
       "      <td>-0.007201</td>\n",
       "      <td>0.285323</td>\n",
       "    </tr>\n",
       "    <tr>\n",
       "      <th>Tenure</th>\n",
       "      <td>-0.007322</td>\n",
       "      <td>-0.021418</td>\n",
       "      <td>-0.000062</td>\n",
       "      <td>-0.013134</td>\n",
       "      <td>1.000000</td>\n",
       "      <td>-0.007911</td>\n",
       "      <td>0.011979</td>\n",
       "      <td>0.027232</td>\n",
       "      <td>-0.032178</td>\n",
       "      <td>0.010520</td>\n",
       "      <td>-0.016761</td>\n",
       "    </tr>\n",
       "    <tr>\n",
       "      <th>Balance</th>\n",
       "      <td>-0.009067</td>\n",
       "      <td>-0.012419</td>\n",
       "      <td>0.006268</td>\n",
       "      <td>0.028308</td>\n",
       "      <td>-0.007911</td>\n",
       "      <td>1.000000</td>\n",
       "      <td>-0.304180</td>\n",
       "      <td>-0.014858</td>\n",
       "      <td>-0.010084</td>\n",
       "      <td>0.012797</td>\n",
       "      <td>0.118533</td>\n",
       "    </tr>\n",
       "    <tr>\n",
       "      <th>NumOfProducts</th>\n",
       "      <td>0.007246</td>\n",
       "      <td>0.016972</td>\n",
       "      <td>0.012238</td>\n",
       "      <td>-0.030680</td>\n",
       "      <td>0.011979</td>\n",
       "      <td>-0.304180</td>\n",
       "      <td>1.000000</td>\n",
       "      <td>0.003183</td>\n",
       "      <td>0.009612</td>\n",
       "      <td>0.014204</td>\n",
       "      <td>-0.047820</td>\n",
       "    </tr>\n",
       "    <tr>\n",
       "      <th>HasCrCard</th>\n",
       "      <td>0.000599</td>\n",
       "      <td>-0.014025</td>\n",
       "      <td>-0.005458</td>\n",
       "      <td>-0.011721</td>\n",
       "      <td>0.027232</td>\n",
       "      <td>-0.014858</td>\n",
       "      <td>0.003183</td>\n",
       "      <td>1.000000</td>\n",
       "      <td>-0.011866</td>\n",
       "      <td>-0.009933</td>\n",
       "      <td>-0.007138</td>\n",
       "    </tr>\n",
       "    <tr>\n",
       "      <th>IsActiveMember</th>\n",
       "      <td>0.012044</td>\n",
       "      <td>0.001665</td>\n",
       "      <td>0.025651</td>\n",
       "      <td>0.085472</td>\n",
       "      <td>-0.032178</td>\n",
       "      <td>-0.010084</td>\n",
       "      <td>0.009612</td>\n",
       "      <td>-0.011866</td>\n",
       "      <td>1.000000</td>\n",
       "      <td>-0.011421</td>\n",
       "      <td>-0.156128</td>\n",
       "    </tr>\n",
       "    <tr>\n",
       "      <th>EstimatedSalary</th>\n",
       "      <td>-0.005988</td>\n",
       "      <td>0.015271</td>\n",
       "      <td>-0.001384</td>\n",
       "      <td>-0.007201</td>\n",
       "      <td>0.010520</td>\n",
       "      <td>0.012797</td>\n",
       "      <td>0.014204</td>\n",
       "      <td>-0.009933</td>\n",
       "      <td>-0.011421</td>\n",
       "      <td>1.000000</td>\n",
       "      <td>0.012097</td>\n",
       "    </tr>\n",
       "    <tr>\n",
       "      <th>Exited</th>\n",
       "      <td>-0.016571</td>\n",
       "      <td>-0.006248</td>\n",
       "      <td>-0.027094</td>\n",
       "      <td>0.285323</td>\n",
       "      <td>-0.016761</td>\n",
       "      <td>0.118533</td>\n",
       "      <td>-0.047820</td>\n",
       "      <td>-0.007138</td>\n",
       "      <td>-0.156128</td>\n",
       "      <td>0.012097</td>\n",
       "      <td>1.000000</td>\n",
       "    </tr>\n",
       "  </tbody>\n",
       "</table>\n",
       "</div>"
      ],
      "text/plain": [
       "                 RowNumber  CustomerId  CreditScore       Age    Tenure  \\\n",
       "RowNumber         1.000000    0.004202     0.005840  0.000783 -0.007322   \n",
       "CustomerId        0.004202    1.000000     0.005308  0.009497 -0.021418   \n",
       "CreditScore       0.005840    0.005308     1.000000 -0.003965 -0.000062   \n",
       "Age               0.000783    0.009497    -0.003965  1.000000 -0.013134   \n",
       "Tenure           -0.007322   -0.021418    -0.000062 -0.013134  1.000000   \n",
       "Balance          -0.009067   -0.012419     0.006268  0.028308 -0.007911   \n",
       "NumOfProducts     0.007246    0.016972     0.012238 -0.030680  0.011979   \n",
       "HasCrCard         0.000599   -0.014025    -0.005458 -0.011721  0.027232   \n",
       "IsActiveMember    0.012044    0.001665     0.025651  0.085472 -0.032178   \n",
       "EstimatedSalary  -0.005988    0.015271    -0.001384 -0.007201  0.010520   \n",
       "Exited           -0.016571   -0.006248    -0.027094  0.285323 -0.016761   \n",
       "\n",
       "                  Balance  NumOfProducts  HasCrCard  IsActiveMember  \\\n",
       "RowNumber       -0.009067       0.007246   0.000599        0.012044   \n",
       "CustomerId      -0.012419       0.016972  -0.014025        0.001665   \n",
       "CreditScore      0.006268       0.012238  -0.005458        0.025651   \n",
       "Age              0.028308      -0.030680  -0.011721        0.085472   \n",
       "Tenure          -0.007911       0.011979   0.027232       -0.032178   \n",
       "Balance          1.000000      -0.304180  -0.014858       -0.010084   \n",
       "NumOfProducts   -0.304180       1.000000   0.003183        0.009612   \n",
       "HasCrCard       -0.014858       0.003183   1.000000       -0.011866   \n",
       "IsActiveMember  -0.010084       0.009612  -0.011866        1.000000   \n",
       "EstimatedSalary  0.012797       0.014204  -0.009933       -0.011421   \n",
       "Exited           0.118533      -0.047820  -0.007138       -0.156128   \n",
       "\n",
       "                 EstimatedSalary    Exited  \n",
       "RowNumber              -0.005988 -0.016571  \n",
       "CustomerId              0.015271 -0.006248  \n",
       "CreditScore            -0.001384 -0.027094  \n",
       "Age                    -0.007201  0.285323  \n",
       "Tenure                  0.010520 -0.016761  \n",
       "Balance                 0.012797  0.118533  \n",
       "NumOfProducts           0.014204 -0.047820  \n",
       "HasCrCard              -0.009933 -0.007138  \n",
       "IsActiveMember         -0.011421 -0.156128  \n",
       "EstimatedSalary         1.000000  0.012097  \n",
       "Exited                  0.012097  1.000000  "
      ]
     },
     "execution_count": 62,
     "metadata": {},
     "output_type": "execute_result"
    }
   ],
   "source": [
    "data.corr()"
   ]
  },
  {
   "cell_type": "markdown",
   "metadata": {},
   "source": [
    "Мультколлинеарности нет, но есть не нужные ждя модели ненужные столбцы, например RowNumber, CustomerId и Surname. Эти данные быди бы полезны дня анализа жанных, но для модели бесполезны, и даже скорее всего вредны. Удалим столбцы. "
   ]
  },
  {
   "cell_type": "code",
   "execution_count": 63,
   "metadata": {},
   "outputs": [],
   "source": [
    "data = data.drop(['RowNumber', 'CustomerId', 'Surname'], axis=1)"
   ]
  },
  {
   "cell_type": "markdown",
   "metadata": {},
   "source": [
    "<div class=\"alert alert-success\">\n",
    "<h2> Комментарий ревьюера <a class=\"tocSkip\"> </h2>\n",
    "\n",
    "👍 Согласен. Отличное обоснование!\n",
    "</div>\n"
   ]
  },
  {
   "cell_type": "code",
   "execution_count": 64,
   "metadata": {},
   "outputs": [
    {
     "data": {
      "text/html": [
       "<div>\n",
       "<style scoped>\n",
       "    .dataframe tbody tr th:only-of-type {\n",
       "        vertical-align: middle;\n",
       "    }\n",
       "\n",
       "    .dataframe tbody tr th {\n",
       "        vertical-align: top;\n",
       "    }\n",
       "\n",
       "    .dataframe thead th {\n",
       "        text-align: right;\n",
       "    }\n",
       "</style>\n",
       "<table border=\"1\" class=\"dataframe\">\n",
       "  <thead>\n",
       "    <tr style=\"text-align: right;\">\n",
       "      <th></th>\n",
       "      <th>CreditScore</th>\n",
       "      <th>Geography</th>\n",
       "      <th>Gender</th>\n",
       "      <th>Age</th>\n",
       "      <th>Tenure</th>\n",
       "      <th>Balance</th>\n",
       "      <th>NumOfProducts</th>\n",
       "      <th>HasCrCard</th>\n",
       "      <th>IsActiveMember</th>\n",
       "      <th>EstimatedSalary</th>\n",
       "      <th>Exited</th>\n",
       "    </tr>\n",
       "  </thead>\n",
       "  <tbody>\n",
       "    <tr>\n",
       "      <th>0</th>\n",
       "      <td>619</td>\n",
       "      <td>France</td>\n",
       "      <td>Female</td>\n",
       "      <td>42</td>\n",
       "      <td>2.0</td>\n",
       "      <td>0.00</td>\n",
       "      <td>1</td>\n",
       "      <td>1</td>\n",
       "      <td>1</td>\n",
       "      <td>101348.88</td>\n",
       "      <td>1</td>\n",
       "    </tr>\n",
       "    <tr>\n",
       "      <th>1</th>\n",
       "      <td>608</td>\n",
       "      <td>Spain</td>\n",
       "      <td>Female</td>\n",
       "      <td>41</td>\n",
       "      <td>1.0</td>\n",
       "      <td>83807.86</td>\n",
       "      <td>1</td>\n",
       "      <td>0</td>\n",
       "      <td>1</td>\n",
       "      <td>112542.58</td>\n",
       "      <td>0</td>\n",
       "    </tr>\n",
       "    <tr>\n",
       "      <th>2</th>\n",
       "      <td>502</td>\n",
       "      <td>France</td>\n",
       "      <td>Female</td>\n",
       "      <td>42</td>\n",
       "      <td>8.0</td>\n",
       "      <td>159660.80</td>\n",
       "      <td>3</td>\n",
       "      <td>1</td>\n",
       "      <td>0</td>\n",
       "      <td>113931.57</td>\n",
       "      <td>1</td>\n",
       "    </tr>\n",
       "    <tr>\n",
       "      <th>3</th>\n",
       "      <td>699</td>\n",
       "      <td>France</td>\n",
       "      <td>Female</td>\n",
       "      <td>39</td>\n",
       "      <td>1.0</td>\n",
       "      <td>0.00</td>\n",
       "      <td>2</td>\n",
       "      <td>0</td>\n",
       "      <td>0</td>\n",
       "      <td>93826.63</td>\n",
       "      <td>0</td>\n",
       "    </tr>\n",
       "    <tr>\n",
       "      <th>4</th>\n",
       "      <td>850</td>\n",
       "      <td>Spain</td>\n",
       "      <td>Female</td>\n",
       "      <td>43</td>\n",
       "      <td>2.0</td>\n",
       "      <td>125510.82</td>\n",
       "      <td>1</td>\n",
       "      <td>1</td>\n",
       "      <td>1</td>\n",
       "      <td>79084.10</td>\n",
       "      <td>0</td>\n",
       "    </tr>\n",
       "  </tbody>\n",
       "</table>\n",
       "</div>"
      ],
      "text/plain": [
       "   CreditScore Geography  Gender  Age  Tenure    Balance  NumOfProducts  \\\n",
       "0          619    France  Female   42     2.0       0.00              1   \n",
       "1          608     Spain  Female   41     1.0   83807.86              1   \n",
       "2          502    France  Female   42     8.0  159660.80              3   \n",
       "3          699    France  Female   39     1.0       0.00              2   \n",
       "4          850     Spain  Female   43     2.0  125510.82              1   \n",
       "\n",
       "   HasCrCard  IsActiveMember  EstimatedSalary  Exited  \n",
       "0          1               1        101348.88       1  \n",
       "1          0               1        112542.58       0  \n",
       "2          1               0        113931.57       1  \n",
       "3          0               0         93826.63       0  \n",
       "4          1               1         79084.10       0  "
      ]
     },
     "execution_count": 64,
     "metadata": {},
     "output_type": "execute_result"
    }
   ],
   "source": [
    "data.head()"
   ]
  },
  {
   "cell_type": "markdown",
   "metadata": {},
   "source": [
    "Есть пропуски в столбце Tenure. Изучим столбец и посмотрим что можно сделать"
   ]
  },
  {
   "cell_type": "code",
   "execution_count": 65,
   "metadata": {},
   "outputs": [
    {
     "data": {
      "text/plain": [
       "1.0     952\n",
       "2.0     950\n",
       "8.0     933\n",
       "3.0     928\n",
       "5.0     927\n",
       "7.0     925\n",
       "4.0     885\n",
       "9.0     882\n",
       "6.0     881\n",
       "10.0    446\n",
       "0.0     382\n",
       "Name: Tenure, dtype: int64"
      ]
     },
     "execution_count": 65,
     "metadata": {},
     "output_type": "execute_result"
    }
   ],
   "source": [
    "data['Tenure'].value_counts()"
   ]
  },
  {
   "cell_type": "markdown",
   "metadata": {},
   "source": [
    "Не читая 10 и 0, данные очень равноерно распределены. Думаю лучше удалить строки с Null, это меньше 10% данных."
   ]
  },
  {
   "cell_type": "markdown",
   "metadata": {},
   "source": [
    "<div class=\"alert alert-success\">\n",
    "<h2> Комментарий ревьюера <a class=\"tocSkip\"> </h2>\n",
    "\n",
    "👍 Согласен. Это допустимое решение. \n",
    "</div>\n"
   ]
  },
  {
   "cell_type": "code",
   "execution_count": 66,
   "metadata": {},
   "outputs": [],
   "source": [
    "data = data.dropna(subset=['Tenure']).reset_index(drop=True)"
   ]
  },
  {
   "cell_type": "code",
   "execution_count": 67,
   "metadata": {},
   "outputs": [
    {
     "name": "stdout",
     "output_type": "stream",
     "text": [
      "<class 'pandas.core.frame.DataFrame'>\n",
      "RangeIndex: 9091 entries, 0 to 9090\n",
      "Data columns (total 11 columns):\n",
      " #   Column           Non-Null Count  Dtype  \n",
      "---  ------           --------------  -----  \n",
      " 0   CreditScore      9091 non-null   int64  \n",
      " 1   Geography        9091 non-null   object \n",
      " 2   Gender           9091 non-null   object \n",
      " 3   Age              9091 non-null   int64  \n",
      " 4   Tenure           9091 non-null   float64\n",
      " 5   Balance          9091 non-null   float64\n",
      " 6   NumOfProducts    9091 non-null   int64  \n",
      " 7   HasCrCard        9091 non-null   int64  \n",
      " 8   IsActiveMember   9091 non-null   int64  \n",
      " 9   EstimatedSalary  9091 non-null   float64\n",
      " 10  Exited           9091 non-null   int64  \n",
      "dtypes: float64(3), int64(6), object(2)\n",
      "memory usage: 781.4+ KB\n"
     ]
    }
   ],
   "source": [
    "data.info()"
   ]
  },
  {
   "cell_type": "code",
   "execution_count": 68,
   "metadata": {},
   "outputs": [
    {
     "data": {
      "text/html": [
       "<div>\n",
       "<style scoped>\n",
       "    .dataframe tbody tr th:only-of-type {\n",
       "        vertical-align: middle;\n",
       "    }\n",
       "\n",
       "    .dataframe tbody tr th {\n",
       "        vertical-align: top;\n",
       "    }\n",
       "\n",
       "    .dataframe thead th {\n",
       "        text-align: right;\n",
       "    }\n",
       "</style>\n",
       "<table border=\"1\" class=\"dataframe\">\n",
       "  <thead>\n",
       "    <tr style=\"text-align: right;\">\n",
       "      <th></th>\n",
       "      <th>CreditScore</th>\n",
       "      <th>Geography</th>\n",
       "      <th>Gender</th>\n",
       "      <th>Age</th>\n",
       "      <th>Tenure</th>\n",
       "      <th>Balance</th>\n",
       "      <th>NumOfProducts</th>\n",
       "      <th>HasCrCard</th>\n",
       "      <th>IsActiveMember</th>\n",
       "      <th>EstimatedSalary</th>\n",
       "      <th>Exited</th>\n",
       "    </tr>\n",
       "  </thead>\n",
       "  <tbody>\n",
       "    <tr>\n",
       "      <th>0</th>\n",
       "      <td>619</td>\n",
       "      <td>France</td>\n",
       "      <td>Female</td>\n",
       "      <td>42</td>\n",
       "      <td>2.0</td>\n",
       "      <td>0.00</td>\n",
       "      <td>1</td>\n",
       "      <td>1</td>\n",
       "      <td>1</td>\n",
       "      <td>101348.88</td>\n",
       "      <td>1</td>\n",
       "    </tr>\n",
       "    <tr>\n",
       "      <th>1</th>\n",
       "      <td>608</td>\n",
       "      <td>Spain</td>\n",
       "      <td>Female</td>\n",
       "      <td>41</td>\n",
       "      <td>1.0</td>\n",
       "      <td>83807.86</td>\n",
       "      <td>1</td>\n",
       "      <td>0</td>\n",
       "      <td>1</td>\n",
       "      <td>112542.58</td>\n",
       "      <td>0</td>\n",
       "    </tr>\n",
       "    <tr>\n",
       "      <th>2</th>\n",
       "      <td>502</td>\n",
       "      <td>France</td>\n",
       "      <td>Female</td>\n",
       "      <td>42</td>\n",
       "      <td>8.0</td>\n",
       "      <td>159660.80</td>\n",
       "      <td>3</td>\n",
       "      <td>1</td>\n",
       "      <td>0</td>\n",
       "      <td>113931.57</td>\n",
       "      <td>1</td>\n",
       "    </tr>\n",
       "    <tr>\n",
       "      <th>3</th>\n",
       "      <td>699</td>\n",
       "      <td>France</td>\n",
       "      <td>Female</td>\n",
       "      <td>39</td>\n",
       "      <td>1.0</td>\n",
       "      <td>0.00</td>\n",
       "      <td>2</td>\n",
       "      <td>0</td>\n",
       "      <td>0</td>\n",
       "      <td>93826.63</td>\n",
       "      <td>0</td>\n",
       "    </tr>\n",
       "    <tr>\n",
       "      <th>4</th>\n",
       "      <td>850</td>\n",
       "      <td>Spain</td>\n",
       "      <td>Female</td>\n",
       "      <td>43</td>\n",
       "      <td>2.0</td>\n",
       "      <td>125510.82</td>\n",
       "      <td>1</td>\n",
       "      <td>1</td>\n",
       "      <td>1</td>\n",
       "      <td>79084.10</td>\n",
       "      <td>0</td>\n",
       "    </tr>\n",
       "  </tbody>\n",
       "</table>\n",
       "</div>"
      ],
      "text/plain": [
       "   CreditScore Geography  Gender  Age  Tenure    Balance  NumOfProducts  \\\n",
       "0          619    France  Female   42     2.0       0.00              1   \n",
       "1          608     Spain  Female   41     1.0   83807.86              1   \n",
       "2          502    France  Female   42     8.0  159660.80              3   \n",
       "3          699    France  Female   39     1.0       0.00              2   \n",
       "4          850     Spain  Female   43     2.0  125510.82              1   \n",
       "\n",
       "   HasCrCard  IsActiveMember  EstimatedSalary  Exited  \n",
       "0          1               1        101348.88       1  \n",
       "1          0               1        112542.58       0  \n",
       "2          1               0        113931.57       1  \n",
       "3          0               0         93826.63       0  \n",
       "4          1               1         79084.10       0  "
      ]
     },
     "execution_count": 68,
     "metadata": {},
     "output_type": "execute_result"
    }
   ],
   "source": [
    "data.head()"
   ]
  },
  {
   "cell_type": "markdown",
   "metadata": {},
   "source": [
    "Очень интересно получается. Страны у нас три и с одной стороны хочется применить технику Ordinal Encoding, но она очень плохо работает с логистической регрессией поэтому скорее всего остановимся на технике One-Hot Encoding и   скорее всего применим модель логистической регрессии поскольку такая модель очень хорошо подходит для решения задач классификации. В учебных целя также можно разоьрать модели на основе деревьев. Забегая вперёд отмечу что модели основанные на деревьях, а именно решающее дерево и случайный лес не будем использовать поскольку данные модели плохо реагируют на масштабирование данных, а судя по задаче данные масштабировать придётся."
   ]
  },
  {
   "cell_type": "markdown",
   "metadata": {},
   "source": [
    "<div class=\"alert alert-warning\">\n",
    "<h2> Комментарий ревьюера <a class=\"tocSkip\"> </h2>\n",
    "    \n",
    "<b>Некоторые замечания и рекомендации💡:</b> \n",
    "\n",
    "Да, действительно, регрессионные модели не работают с порядковым кодированием, «деревянные» же хорошо с ним справляются. Масштабирование же признаков тоже не должно негативно сказываться на деревьях.\n",
    "    \n",
    "Достаточно хорошо это объясняется здесь https://habr.com/ru/company/ods/blog/322534/ в пункте «Как дерево решений работает с количественными признаками».\n",
    "    \n",
    "PS Забегая вперед, скажу, что ниже ты попробовал модели деревьев до и после масштабирования и убедился, что результат идентичный. Так что, вероятно, нужно подправить комментарий выше :)\n",
    "       \n",
    "</div>\n"
   ]
  },
  {
   "cell_type": "markdown",
   "metadata": {},
   "source": [
    "<div class=\"alert alert-info\"> \n",
    "Благодарю, дабы не терять ход мысли изменять не буду вывод, но по ходу проекта буду добавлять новые выводы\n",
    "</div>"
   ]
  },
  {
   "cell_type": "markdown",
   "metadata": {},
   "source": [
    "<div class=\"alert alert-success\">\n",
    "<h2> Комментарий ревьюера #2 <a class=\"tocSkip\"> </h2>\n",
    "\n",
    "👍 Ок, договорились. Ну я больше здесь тогда оставил комментарий на будущее - когда будем готовить проекты к резюме. Нужно будет причесать.\n",
    "</div>"
   ]
  },
  {
   "cell_type": "code",
   "execution_count": 69,
   "metadata": {},
   "outputs": [],
   "source": [
    "#data['Geography'].value_counts()"
   ]
  },
  {
   "cell_type": "code",
   "execution_count": 70,
   "metadata": {},
   "outputs": [],
   "source": [
    "#data['Gender'].value_counts()"
   ]
  },
  {
   "cell_type": "markdown",
   "metadata": {},
   "source": [
    "Применим One-Hot Encoding"
   ]
  },
  {
   "cell_type": "code",
   "execution_count": 71,
   "metadata": {},
   "outputs": [],
   "source": [
    "#data['Geography'] = pd.get_dummies(data['Geography'], drop_first=True)\n",
    "#data['Gender'] = pd.get_dummies(data['Gender'], drop_first=True)"
   ]
  },
  {
   "cell_type": "markdown",
   "metadata": {},
   "source": [
    "<div class=\"alert alert-warning\">\n",
    "<h2> Комментарий ревьюера <a class=\"tocSkip\"> </h2>\n",
    "    \n",
    "<b>Некоторые замечания и рекомендации💡:</b> \n",
    "\n",
    "В тренажере давался пример использования прямого кодирования с помощью get_dummies, однако это далеко не самый оптимальный вариант. Он подходит для анализа данных, но в машинном обучении может служить причиной ошибок при обучении моделей.\n",
    "    \n",
    "Предлагаю тебе использовать класс <a href=\"https://scikit-learn.org/stable/modules/generated/sklearn.preprocessing.OneHotEncoder.html\">OHE из sklearn</a>, тем более, что мы импортируем его в начале проекта.\n",
    "      \n",
    "</div>"
   ]
  },
  {
   "cell_type": "markdown",
   "metadata": {},
   "source": [
    "<div class=\"alert alert-info\"> \n",
    "Благодарю, исправлю\n",
    "</div>"
   ]
  },
  {
   "cell_type": "markdown",
   "metadata": {},
   "source": [
    "<div class=\"alert alert-block alert-danger\">\n",
    "<h2><s> Комментарий ревьюера <a class=\"tocSkip\"></h2>\n",
    "  \n",
    "<b>На доработку🤔:</b>\n",
    " \n",
    "И сразу уточню, что OHE мы используем уже после разделения выборок на обучающую, валидационную и тестовую. Обучаем на трейне, применяем ко всем.\n",
    "    \n",
    "В этом плане кодирование в нашем алгоритме работы будет иднетично с масштабированием: на том же этапе, также fit к трейну, а затем применяем на всех выборках.\n",
    "\n",
    "</div>\n"
   ]
  },
  {
   "cell_type": "markdown",
   "metadata": {},
   "source": [
    "<div class=\"alert alert-info\"> \n",
    "Благодарю, исправлю\n",
    "</div>"
   ]
  },
  {
   "cell_type": "code",
   "execution_count": 72,
   "metadata": {},
   "outputs": [
    {
     "data": {
      "text/html": [
       "<div>\n",
       "<style scoped>\n",
       "    .dataframe tbody tr th:only-of-type {\n",
       "        vertical-align: middle;\n",
       "    }\n",
       "\n",
       "    .dataframe tbody tr th {\n",
       "        vertical-align: top;\n",
       "    }\n",
       "\n",
       "    .dataframe thead th {\n",
       "        text-align: right;\n",
       "    }\n",
       "</style>\n",
       "<table border=\"1\" class=\"dataframe\">\n",
       "  <thead>\n",
       "    <tr style=\"text-align: right;\">\n",
       "      <th></th>\n",
       "      <th>CreditScore</th>\n",
       "      <th>Geography</th>\n",
       "      <th>Gender</th>\n",
       "      <th>Age</th>\n",
       "      <th>Tenure</th>\n",
       "      <th>Balance</th>\n",
       "      <th>NumOfProducts</th>\n",
       "      <th>HasCrCard</th>\n",
       "      <th>IsActiveMember</th>\n",
       "      <th>EstimatedSalary</th>\n",
       "      <th>Exited</th>\n",
       "    </tr>\n",
       "  </thead>\n",
       "  <tbody>\n",
       "    <tr>\n",
       "      <th>0</th>\n",
       "      <td>619</td>\n",
       "      <td>France</td>\n",
       "      <td>Female</td>\n",
       "      <td>42</td>\n",
       "      <td>2.0</td>\n",
       "      <td>0.00</td>\n",
       "      <td>1</td>\n",
       "      <td>1</td>\n",
       "      <td>1</td>\n",
       "      <td>101348.88</td>\n",
       "      <td>1</td>\n",
       "    </tr>\n",
       "    <tr>\n",
       "      <th>1</th>\n",
       "      <td>608</td>\n",
       "      <td>Spain</td>\n",
       "      <td>Female</td>\n",
       "      <td>41</td>\n",
       "      <td>1.0</td>\n",
       "      <td>83807.86</td>\n",
       "      <td>1</td>\n",
       "      <td>0</td>\n",
       "      <td>1</td>\n",
       "      <td>112542.58</td>\n",
       "      <td>0</td>\n",
       "    </tr>\n",
       "    <tr>\n",
       "      <th>2</th>\n",
       "      <td>502</td>\n",
       "      <td>France</td>\n",
       "      <td>Female</td>\n",
       "      <td>42</td>\n",
       "      <td>8.0</td>\n",
       "      <td>159660.80</td>\n",
       "      <td>3</td>\n",
       "      <td>1</td>\n",
       "      <td>0</td>\n",
       "      <td>113931.57</td>\n",
       "      <td>1</td>\n",
       "    </tr>\n",
       "    <tr>\n",
       "      <th>3</th>\n",
       "      <td>699</td>\n",
       "      <td>France</td>\n",
       "      <td>Female</td>\n",
       "      <td>39</td>\n",
       "      <td>1.0</td>\n",
       "      <td>0.00</td>\n",
       "      <td>2</td>\n",
       "      <td>0</td>\n",
       "      <td>0</td>\n",
       "      <td>93826.63</td>\n",
       "      <td>0</td>\n",
       "    </tr>\n",
       "    <tr>\n",
       "      <th>4</th>\n",
       "      <td>850</td>\n",
       "      <td>Spain</td>\n",
       "      <td>Female</td>\n",
       "      <td>43</td>\n",
       "      <td>2.0</td>\n",
       "      <td>125510.82</td>\n",
       "      <td>1</td>\n",
       "      <td>1</td>\n",
       "      <td>1</td>\n",
       "      <td>79084.10</td>\n",
       "      <td>0</td>\n",
       "    </tr>\n",
       "  </tbody>\n",
       "</table>\n",
       "</div>"
      ],
      "text/plain": [
       "   CreditScore Geography  Gender  Age  Tenure    Balance  NumOfProducts  \\\n",
       "0          619    France  Female   42     2.0       0.00              1   \n",
       "1          608     Spain  Female   41     1.0   83807.86              1   \n",
       "2          502    France  Female   42     8.0  159660.80              3   \n",
       "3          699    France  Female   39     1.0       0.00              2   \n",
       "4          850     Spain  Female   43     2.0  125510.82              1   \n",
       "\n",
       "   HasCrCard  IsActiveMember  EstimatedSalary  Exited  \n",
       "0          1               1        101348.88       1  \n",
       "1          0               1        112542.58       0  \n",
       "2          1               0        113931.57       1  \n",
       "3          0               0         93826.63       0  \n",
       "4          1               1         79084.10       0  "
      ]
     },
     "execution_count": 72,
     "metadata": {},
     "output_type": "execute_result"
    }
   ],
   "source": [
    "data.head()"
   ]
  },
  {
   "cell_type": "markdown",
   "metadata": {},
   "source": [
    "<div class=\"alert alert-warning\">\n",
    "<h2> Комментарий ревьюера <a class=\"tocSkip\"> </h2>\n",
    "    \n",
    "<b>Некоторые замечания и рекомендации💡:</b> \n",
    "\n",
    "Дисбаланс целевого признака также лучше проверить до начала обучения моделей. Ты делаешь это после.\n",
    "       \n",
    "</div>\n",
    "\n",
    "\n"
   ]
  },
  {
   "cell_type": "markdown",
   "metadata": {},
   "source": [
    "<div class=\"alert alert-info\"> \n",
    "Благодарю, исправил\n",
    "</div>"
   ]
  },
  {
   "cell_type": "code",
   "execution_count": 73,
   "metadata": {},
   "outputs": [
    {
     "data": {
      "text/plain": [
       "0    7237\n",
       "1    1854\n",
       "Name: Exited, dtype: int64"
      ]
     },
     "execution_count": 73,
     "metadata": {},
     "output_type": "execute_result"
    }
   ],
   "source": [
    "data['Exited'].value_counts()"
   ]
  },
  {
   "cell_type": "markdown",
   "metadata": {},
   "source": [
    "<div class=\"alert alert-warning\">\n",
    "<h2> Комментарий ревьюера  #2 <a class=\"tocSkip\"> </h2>\n",
    "    \n",
    "<b>Некоторые замечания и рекомендации💡:</b> \n",
    "\n",
    "Ок, ну и предполагается, что в двух словах скажем, что не дело это иметь такой дисбаланс.\n",
    "       \n",
    "</div>\n"
   ]
  },
  {
   "cell_type": "markdown",
   "metadata": {},
   "source": [
    "<div class=\"alert alert-info\"> \n",
    "Благодарю, я просто это в тот раз делал. Но замечение правильное.\n",
    "</div>"
   ]
  },
  {
   "cell_type": "markdown",
   "metadata": {},
   "source": [
    "Наблюдается дисбаланс классов, то не хорошо. Ниже будем избавляться от этого явления"
   ]
  },
  {
   "cell_type": "markdown",
   "metadata": {},
   "source": [
    "## Исследование задачи"
   ]
  },
  {
   "cell_type": "markdown",
   "metadata": {},
   "source": [
    "Разобьем данные на выборки"
   ]
  },
  {
   "cell_type": "code",
   "execution_count": 74,
   "metadata": {},
   "outputs": [],
   "source": [
    "target = data['Exited']\n",
    "features = data.drop('Exited', axis=1)\n",
    "\n",
    "features_train, features_valid, target_train, target_valid = train_test_split(\n",
    "    features, target, test_size=0.25, random_state=12345)\n",
    "features_valid, features_test, target_valid, target_test = train_test_split(\n",
    "    features_valid, target_valid, test_size=0.5, random_state=12345)"
   ]
  },
  {
   "cell_type": "markdown",
   "metadata": {},
   "source": [
    "<div class=\"alert alert-warning\">\n",
    "<h2> Комментарий ревьюера <a class=\"tocSkip\"> </h2>\n",
    "    \n",
    "<b>Некоторые замечания и рекомендации💡:</b> \n",
    "\n",
    "Ок, по размерам выборок все хорошо. Было бы неплохо здесь вывести размер выборок `shape`.\n",
    "       \n",
    "</div>\n"
   ]
  },
  {
   "cell_type": "markdown",
   "metadata": {},
   "source": [
    "<div class=\"alert alert-info\"> \n",
    "Благодарю, исправил\n",
    "</div>"
   ]
  },
  {
   "cell_type": "code",
   "execution_count": 75,
   "metadata": {},
   "outputs": [
    {
     "name": "stdout",
     "output_type": "stream",
     "text": [
      "(9091, 11)\n",
      "-------------------\n",
      "(6818, 10)\n",
      "(6818,)\n",
      "(1136, 10)\n",
      "(1136,)\n",
      "(1137, 10)\n",
      "(1137,)\n"
     ]
    }
   ],
   "source": [
    "print(data.shape)\n",
    "print('-------------------')\n",
    "print(features_train.shape)\n",
    "print(target_train.shape)\n",
    "print(features_valid.shape)\n",
    "print(target_valid.shape)\n",
    "print(features_test.shape)\n",
    "print(target_test.shape)"
   ]
  },
  {
   "cell_type": "markdown",
   "metadata": {},
   "source": [
    "<div class=\"alert alert-success\">\n",
    "<h2> Комментарий ревьюера #2 <a class=\"tocSkip\"> </h2>\n",
    "\n",
    "👍 Да, отлично. Так удобнее, мне кажется, понимать, что везде данных хватает и по количеству, и по пропорциям. Хорошее разделение.\n",
    "</div>\n",
    " "
   ]
  },
  {
   "cell_type": "markdown",
   "metadata": {},
   "source": [
    "<div class=\"alert alert-warning\">\n",
    "<h2> Комментарий ревьюера <a class=\"tocSkip\"> </h2>\n",
    "    \n",
    "<b>Некоторые замечания и рекомендации💡:</b> \n",
    "\n",
    "На этом этапе нужно будет закодировать категориальные признаки с помощью OHE.\n",
    "       \n",
    "</div>\n"
   ]
  },
  {
   "cell_type": "markdown",
   "metadata": {},
   "source": [
    "<div class=\"alert alert-info\"> \n",
    "Благодарю,   я потратил целый день, но так и не разоьрался как кодировать. Перепробывал все, что можно. Информации в сети практически не нашел. Везде выдает ошибку. Прошу жать подсказку \n",
    "</div>"
   ]
  },
  {
   "cell_type": "markdown",
   "metadata": {},
   "source": [
    "<div class=\"alert alert-warning\">\n",
    "<h2> Комментарий ревьюера  #2 <a class=\"tocSkip\"> </h2>\n",
    "    \n",
    "<b>Некоторые замечания и рекомендации💡:</b> \n",
    "\n",
    "На этом моменте после прочтения твоего комментария я начал с того, что загрузил версию энкодера в самом начале проекта (посмотри). \n",
    "    \n",
    "`!pip install scikit-learn==1.1.3`\n",
    "    \n",
    "`!pip install category_encoders`\n",
    "    \n",
    "Есть такая история, что энкодер летает через раз при одновременном применении параметров (handle_unknown='ignore', drop='first'), а они то нам и нужны. Что они означают? Дропаем первую колонку - ну тут понятно, боремся с мультиколлинеарностью. handle_unknown = что делаем, если после обучения встретим неизвестную категорию (на трейн не попала, а в тесте вылезла, например). Параметр 'ignore' - игнорируем, не падаем, работаем дальше. Очень полезно.\n",
    "\n",
    "    \n",
    "Дальше ты называешь колонки numeric - а ведь у нас именно они то и не «numeric». Может, как-то переназвать, чтобы не путаться? \n",
    "    \n",
    "Берем энкодер, обучаем на нужных колонках, дальше применяем ко всем трем выборкам (я применил к двум, за тобой тест).\n",
    "    \n",
    "Дальше я вывожу, что у нас вышло из энкодера. Обрати внимание, там только те колонки, которые мы закодировали. Нужно их будет объединить со всеми остальными. Обрати внимание, энкодер не выдает датафрейм, мы к нему приводим сами.\n",
    "       \n",
    "</div>"
   ]
  },
  {
   "cell_type": "markdown",
   "metadata": {},
   "source": [
    "<div class=\"alert alert-info\"> \n",
    "Благодарю, но этот код тоже выдает ошибку\n",
    "</div>"
   ]
  },
  {
   "cell_type": "markdown",
   "metadata": {},
   "source": [
    "<div class=\"alert alert-warning\">\n",
    "<h2> Комментарий ревьюера  #2 <a class=\"tocSkip\"> </h2>\n",
    "    \n",
    "<b>Некоторые замечания и рекомендации💡:</b> \n",
    "\n",
    "Ух )) Чтобы изменения в импортах применились, нужно перезагрузить среду исполнения: вверху на меню kernel - Restart&Run All.\n",
    "       \n",
    "</div>\n"
   ]
  },
  {
   "cell_type": "markdown",
   "metadata": {},
   "source": [
    "<div class=\"alert alert-info\"> \n",
    "Благодарю, нам это просто не рассказывали\n",
    "</div>"
   ]
  },
  {
   "cell_type": "markdown",
   "metadata": {},
   "source": [
    "<div class=\"alert alert-success\">\n",
    "<h2> Комментарий ревьюера #2 <a class=\"tocSkip\"> </h2>\n",
    "\n",
    "👍 Да оно вроде бы недавно падать начало все с OHE ))) Но все равно нужно сейчас освоить этот метод, потому что в дальнейших проектах он пригодится и там будет много чего другого интересного.\n",
    "    \n",
    "А про «перезагрузить» - тут да, много было бы чуть поподробнее рассказать, согласен.\n",
    "</div>"
   ]
  },
  {
   "cell_type": "code",
   "execution_count": 76,
   "metadata": {},
   "outputs": [],
   "source": [
    "categoricals = ['Geography', 'Gender']\n",
    "\n",
    "\"\"\"\n",
    "\n",
    "ohe = OneHotEncoder(categories = 'auto', sparse = False, drop='first')\n",
    "ohe.fit(features_train[['Geography']])\n",
    "\n",
    "features_train[['Geography']] = ohe.transform(features_train[['Geography']]).toarray()\n",
    "\n",
    "\n",
    "\"\"\"\n",
    "\n",
    "#код ревьюера\n",
    "\n",
    "encoder = OneHotEncoder(handle_unknown='ignore', drop='first') \n",
    "\n",
    "features_train_ohe = pd.DataFrame(\n",
    "    encoder.fit_transform(features_train[categoricals]).toarray(),\n",
    "    columns=encoder.get_feature_names_out()\n",
    ")\n",
    "\n",
    "features_valid_ohe = pd.DataFrame(\n",
    "    encoder.transform(features_valid[categoricals]).toarray(),\n",
    "    columns=encoder.get_feature_names_out()\n",
    ")\n",
    "\n",
    "# дальше тест нужно будет прогнать еще не забыть (все по аналогии с валидационной)\n",
    "\n",
    "features_test_ohe = pd.DataFrame(\n",
    "    encoder.transform(features_test[categoricals]).toarray(),\n",
    "    columns=encoder.get_feature_names_out()\n",
    ")"
   ]
  },
  {
   "cell_type": "code",
   "execution_count": 77,
   "metadata": {
    "scrolled": true
   },
   "outputs": [
    {
     "data": {
      "text/html": [
       "<div>\n",
       "<style scoped>\n",
       "    .dataframe tbody tr th:only-of-type {\n",
       "        vertical-align: middle;\n",
       "    }\n",
       "\n",
       "    .dataframe tbody tr th {\n",
       "        vertical-align: top;\n",
       "    }\n",
       "\n",
       "    .dataframe thead th {\n",
       "        text-align: right;\n",
       "    }\n",
       "</style>\n",
       "<table border=\"1\" class=\"dataframe\">\n",
       "  <thead>\n",
       "    <tr style=\"text-align: right;\">\n",
       "      <th></th>\n",
       "      <th>Geography_Germany</th>\n",
       "      <th>Geography_Spain</th>\n",
       "      <th>Gender_Male</th>\n",
       "    </tr>\n",
       "  </thead>\n",
       "  <tbody>\n",
       "    <tr>\n",
       "      <th>0</th>\n",
       "      <td>1.0</td>\n",
       "      <td>0.0</td>\n",
       "      <td>0.0</td>\n",
       "    </tr>\n",
       "    <tr>\n",
       "      <th>1</th>\n",
       "      <td>0.0</td>\n",
       "      <td>0.0</td>\n",
       "      <td>1.0</td>\n",
       "    </tr>\n",
       "    <tr>\n",
       "      <th>2</th>\n",
       "      <td>1.0</td>\n",
       "      <td>0.0</td>\n",
       "      <td>1.0</td>\n",
       "    </tr>\n",
       "    <tr>\n",
       "      <th>3</th>\n",
       "      <td>0.0</td>\n",
       "      <td>1.0</td>\n",
       "      <td>1.0</td>\n",
       "    </tr>\n",
       "    <tr>\n",
       "      <th>4</th>\n",
       "      <td>0.0</td>\n",
       "      <td>0.0</td>\n",
       "      <td>1.0</td>\n",
       "    </tr>\n",
       "  </tbody>\n",
       "</table>\n",
       "</div>"
      ],
      "text/plain": [
       "   Geography_Germany  Geography_Spain  Gender_Male\n",
       "0                1.0              0.0          0.0\n",
       "1                0.0              0.0          1.0\n",
       "2                1.0              0.0          1.0\n",
       "3                0.0              1.0          1.0\n",
       "4                0.0              0.0          1.0"
      ]
     },
     "execution_count": 77,
     "metadata": {},
     "output_type": "execute_result"
    }
   ],
   "source": [
    "# код ревьюера\n",
    "features_train_ohe.head()"
   ]
  },
  {
   "cell_type": "markdown",
   "metadata": {},
   "source": [
    "<div class=\"alert alert-warning\">\n",
    "<h2> Комментарий ревьюера  #2 <a class=\"tocSkip\"> </h2>\n",
    "    \n",
    "<b>Некоторые замечания и рекомендации💡:</b> \n",
    "\n",
    "На этом месте я бы отвлекся на масштабирование количественных признаков (нумерик как раз), а затем уже объединял бы две части в готовый датафрейм.\n",
    "       \n",
    "</div>"
   ]
  },
  {
   "cell_type": "markdown",
   "metadata": {},
   "source": [
    "<div class=\"alert alert-info\"> \n",
    "Благодарю, исправил\n",
    "</div>"
   ]
  },
  {
   "cell_type": "markdown",
   "metadata": {},
   "source": [
    "У нас есть признаки CreditScore, Balance, EstimatedSalary и их значения сильно разьроссаны, поэтому алгоритм будет думать, что какойто признак важнее другого. Приведем признаки к одному масштабу."
   ]
  },
  {
   "cell_type": "code",
   "execution_count": 78,
   "metadata": {},
   "outputs": [],
   "source": [
    "pd.options.mode.chained_assignment = None\n",
    "\n",
    "numeric = ['CreditScore', 'Balance', 'EstimatedSalary']\n",
    "\n",
    "scaler = StandardScaler()\n",
    "scaler.fit(features_train[numeric])\n",
    "features_train[numeric] = scaler.transform(features_train[numeric])\n",
    "features_valid[numeric] = scaler.transform(features_valid[numeric])\n",
    "features_test[numeric] = scaler.transform(features_test[numeric]) "
   ]
  },
  {
   "cell_type": "code",
   "execution_count": 79,
   "metadata": {},
   "outputs": [
    {
     "data": {
      "text/html": [
       "<div>\n",
       "<style scoped>\n",
       "    .dataframe tbody tr th:only-of-type {\n",
       "        vertical-align: middle;\n",
       "    }\n",
       "\n",
       "    .dataframe tbody tr th {\n",
       "        vertical-align: top;\n",
       "    }\n",
       "\n",
       "    .dataframe thead th {\n",
       "        text-align: right;\n",
       "    }\n",
       "</style>\n",
       "<table border=\"1\" class=\"dataframe\">\n",
       "  <thead>\n",
       "    <tr style=\"text-align: right;\">\n",
       "      <th></th>\n",
       "      <th>CreditScore</th>\n",
       "      <th>Balance</th>\n",
       "      <th>EstimatedSalary</th>\n",
       "    </tr>\n",
       "  </thead>\n",
       "  <tbody>\n",
       "    <tr>\n",
       "      <th>1349</th>\n",
       "      <td>-1.037187</td>\n",
       "      <td>0.937205</td>\n",
       "      <td>-1.635163</td>\n",
       "    </tr>\n",
       "    <tr>\n",
       "      <th>6740</th>\n",
       "      <td>0.297802</td>\n",
       "      <td>-1.233158</td>\n",
       "      <td>-0.590123</td>\n",
       "    </tr>\n",
       "    <tr>\n",
       "      <th>6816</th>\n",
       "      <td>-1.078582</td>\n",
       "      <td>0.307627</td>\n",
       "      <td>0.073185</td>\n",
       "    </tr>\n",
       "    <tr>\n",
       "      <th>5145</th>\n",
       "      <td>-1.130326</td>\n",
       "      <td>-1.233158</td>\n",
       "      <td>1.674643</td>\n",
       "    </tr>\n",
       "    <tr>\n",
       "      <th>6678</th>\n",
       "      <td>-0.478354</td>\n",
       "      <td>0.420246</td>\n",
       "      <td>-1.069473</td>\n",
       "    </tr>\n",
       "    <tr>\n",
       "      <th>...</th>\n",
       "      <td>...</td>\n",
       "      <td>...</td>\n",
       "      <td>...</td>\n",
       "    </tr>\n",
       "    <tr>\n",
       "      <th>4478</th>\n",
       "      <td>1.280934</td>\n",
       "      <td>0.808482</td>\n",
       "      <td>-1.104143</td>\n",
       "    </tr>\n",
       "    <tr>\n",
       "      <th>4094</th>\n",
       "      <td>0.152920</td>\n",
       "      <td>1.065897</td>\n",
       "      <td>0.254945</td>\n",
       "    </tr>\n",
       "    <tr>\n",
       "      <th>3492</th>\n",
       "      <td>-1.057885</td>\n",
       "      <td>0.446252</td>\n",
       "      <td>-1.098318</td>\n",
       "    </tr>\n",
       "    <tr>\n",
       "      <th>2177</th>\n",
       "      <td>-0.964746</td>\n",
       "      <td>-1.233158</td>\n",
       "      <td>1.286788</td>\n",
       "    </tr>\n",
       "    <tr>\n",
       "      <th>4578</th>\n",
       "      <td>1.218841</td>\n",
       "      <td>1.010477</td>\n",
       "      <td>-1.255989</td>\n",
       "    </tr>\n",
       "  </tbody>\n",
       "</table>\n",
       "<p>6818 rows × 3 columns</p>\n",
       "</div>"
      ],
      "text/plain": [
       "      CreditScore   Balance  EstimatedSalary\n",
       "1349    -1.037187  0.937205        -1.635163\n",
       "6740     0.297802 -1.233158        -0.590123\n",
       "6816    -1.078582  0.307627         0.073185\n",
       "5145    -1.130326 -1.233158         1.674643\n",
       "6678    -0.478354  0.420246        -1.069473\n",
       "...           ...       ...              ...\n",
       "4478     1.280934  0.808482        -1.104143\n",
       "4094     0.152920  1.065897         0.254945\n",
       "3492    -1.057885  0.446252        -1.098318\n",
       "2177    -0.964746 -1.233158         1.286788\n",
       "4578     1.218841  1.010477        -1.255989\n",
       "\n",
       "[6818 rows x 3 columns]"
      ]
     },
     "execution_count": 79,
     "metadata": {},
     "output_type": "execute_result"
    }
   ],
   "source": [
    "features_train[numeric]"
   ]
  },
  {
   "cell_type": "code",
   "execution_count": 80,
   "metadata": {},
   "outputs": [],
   "source": [
    "# код ревьюера\n",
    "# здесь главное не забыть объединить.\n",
    "\n",
    "\n",
    "#features_train_enc = features_train_ohe.join(features_train_normalised)\n",
    "\n",
    "# то же самое с валидацией и тестом"
   ]
  },
  {
   "cell_type": "code",
   "execution_count": 81,
   "metadata": {},
   "outputs": [
    {
     "data": {
      "text/html": [
       "<div>\n",
       "<style scoped>\n",
       "    .dataframe tbody tr th:only-of-type {\n",
       "        vertical-align: middle;\n",
       "    }\n",
       "\n",
       "    .dataframe tbody tr th {\n",
       "        vertical-align: top;\n",
       "    }\n",
       "\n",
       "    .dataframe thead th {\n",
       "        text-align: right;\n",
       "    }\n",
       "</style>\n",
       "<table border=\"1\" class=\"dataframe\">\n",
       "  <thead>\n",
       "    <tr style=\"text-align: right;\">\n",
       "      <th></th>\n",
       "      <th>CreditScore</th>\n",
       "      <th>Geography</th>\n",
       "      <th>Gender</th>\n",
       "      <th>Age</th>\n",
       "      <th>Tenure</th>\n",
       "      <th>Balance</th>\n",
       "      <th>NumOfProducts</th>\n",
       "      <th>HasCrCard</th>\n",
       "      <th>IsActiveMember</th>\n",
       "      <th>EstimatedSalary</th>\n",
       "    </tr>\n",
       "  </thead>\n",
       "  <tbody>\n",
       "    <tr>\n",
       "      <th>1349</th>\n",
       "      <td>-1.037187</td>\n",
       "      <td>Germany</td>\n",
       "      <td>Female</td>\n",
       "      <td>43</td>\n",
       "      <td>3.0</td>\n",
       "      <td>0.937205</td>\n",
       "      <td>1</td>\n",
       "      <td>1</td>\n",
       "      <td>0</td>\n",
       "      <td>-1.635163</td>\n",
       "    </tr>\n",
       "    <tr>\n",
       "      <th>6740</th>\n",
       "      <td>0.297802</td>\n",
       "      <td>France</td>\n",
       "      <td>Male</td>\n",
       "      <td>38</td>\n",
       "      <td>3.0</td>\n",
       "      <td>-1.233158</td>\n",
       "      <td>2</td>\n",
       "      <td>1</td>\n",
       "      <td>0</td>\n",
       "      <td>-0.590123</td>\n",
       "    </tr>\n",
       "    <tr>\n",
       "      <th>6816</th>\n",
       "      <td>-1.078582</td>\n",
       "      <td>Germany</td>\n",
       "      <td>Male</td>\n",
       "      <td>37</td>\n",
       "      <td>9.0</td>\n",
       "      <td>0.307627</td>\n",
       "      <td>2</td>\n",
       "      <td>0</td>\n",
       "      <td>1</td>\n",
       "      <td>0.073185</td>\n",
       "    </tr>\n",
       "    <tr>\n",
       "      <th>5145</th>\n",
       "      <td>-1.130326</td>\n",
       "      <td>Spain</td>\n",
       "      <td>Male</td>\n",
       "      <td>28</td>\n",
       "      <td>8.0</td>\n",
       "      <td>-1.233158</td>\n",
       "      <td>2</td>\n",
       "      <td>0</td>\n",
       "      <td>0</td>\n",
       "      <td>1.674643</td>\n",
       "    </tr>\n",
       "    <tr>\n",
       "      <th>6678</th>\n",
       "      <td>-0.478354</td>\n",
       "      <td>France</td>\n",
       "      <td>Male</td>\n",
       "      <td>40</td>\n",
       "      <td>4.0</td>\n",
       "      <td>0.420246</td>\n",
       "      <td>2</td>\n",
       "      <td>1</td>\n",
       "      <td>1</td>\n",
       "      <td>-1.069473</td>\n",
       "    </tr>\n",
       "    <tr>\n",
       "      <th>...</th>\n",
       "      <td>...</td>\n",
       "      <td>...</td>\n",
       "      <td>...</td>\n",
       "      <td>...</td>\n",
       "      <td>...</td>\n",
       "      <td>...</td>\n",
       "      <td>...</td>\n",
       "      <td>...</td>\n",
       "      <td>...</td>\n",
       "      <td>...</td>\n",
       "    </tr>\n",
       "    <tr>\n",
       "      <th>4478</th>\n",
       "      <td>1.280934</td>\n",
       "      <td>Germany</td>\n",
       "      <td>Male</td>\n",
       "      <td>34</td>\n",
       "      <td>10.0</td>\n",
       "      <td>0.808482</td>\n",
       "      <td>1</td>\n",
       "      <td>0</td>\n",
       "      <td>0</td>\n",
       "      <td>-1.104143</td>\n",
       "    </tr>\n",
       "    <tr>\n",
       "      <th>4094</th>\n",
       "      <td>0.152920</td>\n",
       "      <td>France</td>\n",
       "      <td>Female</td>\n",
       "      <td>44</td>\n",
       "      <td>8.0</td>\n",
       "      <td>1.065897</td>\n",
       "      <td>1</td>\n",
       "      <td>1</td>\n",
       "      <td>1</td>\n",
       "      <td>0.254945</td>\n",
       "    </tr>\n",
       "    <tr>\n",
       "      <th>3492</th>\n",
       "      <td>-1.057885</td>\n",
       "      <td>France</td>\n",
       "      <td>Female</td>\n",
       "      <td>29</td>\n",
       "      <td>6.0</td>\n",
       "      <td>0.446252</td>\n",
       "      <td>1</td>\n",
       "      <td>1</td>\n",
       "      <td>1</td>\n",
       "      <td>-1.098318</td>\n",
       "    </tr>\n",
       "    <tr>\n",
       "      <th>2177</th>\n",
       "      <td>-0.964746</td>\n",
       "      <td>France</td>\n",
       "      <td>Female</td>\n",
       "      <td>52</td>\n",
       "      <td>9.0</td>\n",
       "      <td>-1.233158</td>\n",
       "      <td>1</td>\n",
       "      <td>1</td>\n",
       "      <td>0</td>\n",
       "      <td>1.286788</td>\n",
       "    </tr>\n",
       "    <tr>\n",
       "      <th>4578</th>\n",
       "      <td>1.218841</td>\n",
       "      <td>Germany</td>\n",
       "      <td>Male</td>\n",
       "      <td>23</td>\n",
       "      <td>2.0</td>\n",
       "      <td>1.010477</td>\n",
       "      <td>1</td>\n",
       "      <td>0</td>\n",
       "      <td>1</td>\n",
       "      <td>-1.255989</td>\n",
       "    </tr>\n",
       "  </tbody>\n",
       "</table>\n",
       "<p>6818 rows × 10 columns</p>\n",
       "</div>"
      ],
      "text/plain": [
       "      CreditScore Geography  Gender  Age  Tenure   Balance  NumOfProducts  \\\n",
       "1349    -1.037187   Germany  Female   43     3.0  0.937205              1   \n",
       "6740     0.297802    France    Male   38     3.0 -1.233158              2   \n",
       "6816    -1.078582   Germany    Male   37     9.0  0.307627              2   \n",
       "5145    -1.130326     Spain    Male   28     8.0 -1.233158              2   \n",
       "6678    -0.478354    France    Male   40     4.0  0.420246              2   \n",
       "...           ...       ...     ...  ...     ...       ...            ...   \n",
       "4478     1.280934   Germany    Male   34    10.0  0.808482              1   \n",
       "4094     0.152920    France  Female   44     8.0  1.065897              1   \n",
       "3492    -1.057885    France  Female   29     6.0  0.446252              1   \n",
       "2177    -0.964746    France  Female   52     9.0 -1.233158              1   \n",
       "4578     1.218841   Germany    Male   23     2.0  1.010477              1   \n",
       "\n",
       "      HasCrCard  IsActiveMember  EstimatedSalary  \n",
       "1349          1               0        -1.635163  \n",
       "6740          1               0        -0.590123  \n",
       "6816          0               1         0.073185  \n",
       "5145          0               0         1.674643  \n",
       "6678          1               1        -1.069473  \n",
       "...         ...             ...              ...  \n",
       "4478          0               0        -1.104143  \n",
       "4094          1               1         0.254945  \n",
       "3492          1               1        -1.098318  \n",
       "2177          1               0         1.286788  \n",
       "4578          0               1        -1.255989  \n",
       "\n",
       "[6818 rows x 10 columns]"
      ]
     },
     "execution_count": 81,
     "metadata": {},
     "output_type": "execute_result"
    }
   ],
   "source": [
    "features_train"
   ]
  },
  {
   "cell_type": "markdown",
   "metadata": {},
   "source": [
    "Удалим ячейки Geography и Gender перед обьединением. Они больше не нужны"
   ]
  },
  {
   "cell_type": "code",
   "execution_count": 82,
   "metadata": {},
   "outputs": [],
   "source": [
    "features_train = features_train.drop(['Geography', 'Gender'], axis=1, errors='ignore')\n",
    "features_valid = features_valid.drop(['Geography', 'Gender'], axis=1, errors='ignore')\n",
    "features_test = features_test.drop(['Geography', 'Gender'], axis=1, errors='ignore')"
   ]
  },
  {
   "cell_type": "markdown",
   "metadata": {},
   "source": [
    "<div class=\"alert alert-info\"> \n",
    "Здесь приглось применить errors='ignore' поскольку без ьыла ошибка label not contained in axis\n",
    "</div>"
   ]
  },
  {
   "cell_type": "code",
   "execution_count": 83,
   "metadata": {},
   "outputs": [
    {
     "data": {
      "text/html": [
       "<div>\n",
       "<style scoped>\n",
       "    .dataframe tbody tr th:only-of-type {\n",
       "        vertical-align: middle;\n",
       "    }\n",
       "\n",
       "    .dataframe tbody tr th {\n",
       "        vertical-align: top;\n",
       "    }\n",
       "\n",
       "    .dataframe thead th {\n",
       "        text-align: right;\n",
       "    }\n",
       "</style>\n",
       "<table border=\"1\" class=\"dataframe\">\n",
       "  <thead>\n",
       "    <tr style=\"text-align: right;\">\n",
       "      <th></th>\n",
       "      <th>CreditScore</th>\n",
       "      <th>Age</th>\n",
       "      <th>Tenure</th>\n",
       "      <th>Balance</th>\n",
       "      <th>NumOfProducts</th>\n",
       "      <th>HasCrCard</th>\n",
       "      <th>IsActiveMember</th>\n",
       "      <th>EstimatedSalary</th>\n",
       "    </tr>\n",
       "  </thead>\n",
       "  <tbody>\n",
       "    <tr>\n",
       "      <th>1349</th>\n",
       "      <td>-1.037187</td>\n",
       "      <td>43</td>\n",
       "      <td>3.0</td>\n",
       "      <td>0.937205</td>\n",
       "      <td>1</td>\n",
       "      <td>1</td>\n",
       "      <td>0</td>\n",
       "      <td>-1.635163</td>\n",
       "    </tr>\n",
       "    <tr>\n",
       "      <th>6740</th>\n",
       "      <td>0.297802</td>\n",
       "      <td>38</td>\n",
       "      <td>3.0</td>\n",
       "      <td>-1.233158</td>\n",
       "      <td>2</td>\n",
       "      <td>1</td>\n",
       "      <td>0</td>\n",
       "      <td>-0.590123</td>\n",
       "    </tr>\n",
       "    <tr>\n",
       "      <th>6816</th>\n",
       "      <td>-1.078582</td>\n",
       "      <td>37</td>\n",
       "      <td>9.0</td>\n",
       "      <td>0.307627</td>\n",
       "      <td>2</td>\n",
       "      <td>0</td>\n",
       "      <td>1</td>\n",
       "      <td>0.073185</td>\n",
       "    </tr>\n",
       "    <tr>\n",
       "      <th>5145</th>\n",
       "      <td>-1.130326</td>\n",
       "      <td>28</td>\n",
       "      <td>8.0</td>\n",
       "      <td>-1.233158</td>\n",
       "      <td>2</td>\n",
       "      <td>0</td>\n",
       "      <td>0</td>\n",
       "      <td>1.674643</td>\n",
       "    </tr>\n",
       "    <tr>\n",
       "      <th>6678</th>\n",
       "      <td>-0.478354</td>\n",
       "      <td>40</td>\n",
       "      <td>4.0</td>\n",
       "      <td>0.420246</td>\n",
       "      <td>2</td>\n",
       "      <td>1</td>\n",
       "      <td>1</td>\n",
       "      <td>-1.069473</td>\n",
       "    </tr>\n",
       "  </tbody>\n",
       "</table>\n",
       "</div>"
      ],
      "text/plain": [
       "      CreditScore  Age  Tenure   Balance  NumOfProducts  HasCrCard  \\\n",
       "1349    -1.037187   43     3.0  0.937205              1          1   \n",
       "6740     0.297802   38     3.0 -1.233158              2          1   \n",
       "6816    -1.078582   37     9.0  0.307627              2          0   \n",
       "5145    -1.130326   28     8.0 -1.233158              2          0   \n",
       "6678    -0.478354   40     4.0  0.420246              2          1   \n",
       "\n",
       "      IsActiveMember  EstimatedSalary  \n",
       "1349               0        -1.635163  \n",
       "6740               0        -0.590123  \n",
       "6816               1         0.073185  \n",
       "5145               0         1.674643  \n",
       "6678               1        -1.069473  "
      ]
     },
     "execution_count": 83,
     "metadata": {},
     "output_type": "execute_result"
    }
   ],
   "source": [
    "features_train.head()"
   ]
  },
  {
   "cell_type": "code",
   "execution_count": 84,
   "metadata": {},
   "outputs": [],
   "source": [
    "#код ревьюера\n",
    "features_train= features_train.reset_index(drop=True)\n",
    "features_valid = features_valid.reset_index(drop=True)\n",
    "features_test = features_test.reset_index(drop=True)"
   ]
  },
  {
   "cell_type": "markdown",
   "metadata": {},
   "source": [
    "<div class=\"alert alert-info\"> \n",
    "Благодарю, забегая вперед скажу, что отсутствие 0 и правильные индексы сделали свое дело. Ниже модели дают f1-0.85 и auc-0.9\n",
    "</div>"
   ]
  },
  {
   "cell_type": "code",
   "execution_count": 117,
   "metadata": {},
   "outputs": [
    {
     "data": {
      "text/html": [
       "<div>\n",
       "<style scoped>\n",
       "    .dataframe tbody tr th:only-of-type {\n",
       "        vertical-align: middle;\n",
       "    }\n",
       "\n",
       "    .dataframe tbody tr th {\n",
       "        vertical-align: top;\n",
       "    }\n",
       "\n",
       "    .dataframe thead th {\n",
       "        text-align: right;\n",
       "    }\n",
       "</style>\n",
       "<table border=\"1\" class=\"dataframe\">\n",
       "  <thead>\n",
       "    <tr style=\"text-align: right;\">\n",
       "      <th></th>\n",
       "      <th>Geography_Germany</th>\n",
       "      <th>Geography_Spain</th>\n",
       "      <th>Gender_Male</th>\n",
       "    </tr>\n",
       "  </thead>\n",
       "  <tbody>\n",
       "    <tr>\n",
       "      <th>0</th>\n",
       "      <td>1.0</td>\n",
       "      <td>0.0</td>\n",
       "      <td>0.0</td>\n",
       "    </tr>\n",
       "    <tr>\n",
       "      <th>1</th>\n",
       "      <td>0.0</td>\n",
       "      <td>0.0</td>\n",
       "      <td>1.0</td>\n",
       "    </tr>\n",
       "    <tr>\n",
       "      <th>2</th>\n",
       "      <td>1.0</td>\n",
       "      <td>0.0</td>\n",
       "      <td>1.0</td>\n",
       "    </tr>\n",
       "    <tr>\n",
       "      <th>3</th>\n",
       "      <td>0.0</td>\n",
       "      <td>1.0</td>\n",
       "      <td>1.0</td>\n",
       "    </tr>\n",
       "    <tr>\n",
       "      <th>4</th>\n",
       "      <td>0.0</td>\n",
       "      <td>0.0</td>\n",
       "      <td>1.0</td>\n",
       "    </tr>\n",
       "  </tbody>\n",
       "</table>\n",
       "</div>"
      ],
      "text/plain": [
       "   Geography_Germany  Geography_Spain  Gender_Male\n",
       "0                1.0              0.0          0.0\n",
       "1                0.0              0.0          1.0\n",
       "2                1.0              0.0          1.0\n",
       "3                0.0              1.0          1.0\n",
       "4                0.0              0.0          1.0"
      ]
     },
     "execution_count": 117,
     "metadata": {},
     "output_type": "execute_result"
    }
   ],
   "source": [
    "features_train_ohe.head()"
   ]
  },
  {
   "cell_type": "markdown",
   "metadata": {},
   "source": [
    "Обьединим данные"
   ]
  },
  {
   "cell_type": "markdown",
   "metadata": {},
   "source": []
  },
  {
   "cell_type": "code",
   "execution_count": 86,
   "metadata": {},
   "outputs": [],
   "source": [
    "features_train_enc = features_train_ohe.join(features_train)\n",
    "features_valid_enc = features_valid_ohe.join(features_valid)\n",
    "features_test_enc = features_test_ohe.join(features_test)"
   ]
  },
  {
   "cell_type": "code",
   "execution_count": 87,
   "metadata": {},
   "outputs": [],
   "source": [
    "#features_train_enc = features_train_ohe.merge(features_train, how='right', left_index=True, right_index=True)\n",
    "#features_valid_enc = features_valid_ohe.merge(features_valid, how='right', left_index=True, right_index=True)\n",
    "#features_test_enc = features_test_ohe.merge(features_test, how='right', left_index=True, right_index=True)"
   ]
  },
  {
   "cell_type": "code",
   "execution_count": 88,
   "metadata": {},
   "outputs": [
    {
     "data": {
      "text/html": [
       "<div>\n",
       "<style scoped>\n",
       "    .dataframe tbody tr th:only-of-type {\n",
       "        vertical-align: middle;\n",
       "    }\n",
       "\n",
       "    .dataframe tbody tr th {\n",
       "        vertical-align: top;\n",
       "    }\n",
       "\n",
       "    .dataframe thead th {\n",
       "        text-align: right;\n",
       "    }\n",
       "</style>\n",
       "<table border=\"1\" class=\"dataframe\">\n",
       "  <thead>\n",
       "    <tr style=\"text-align: right;\">\n",
       "      <th></th>\n",
       "      <th>Geography_Germany</th>\n",
       "      <th>Geography_Spain</th>\n",
       "      <th>Gender_Male</th>\n",
       "      <th>CreditScore</th>\n",
       "      <th>Age</th>\n",
       "      <th>Tenure</th>\n",
       "      <th>Balance</th>\n",
       "      <th>NumOfProducts</th>\n",
       "      <th>HasCrCard</th>\n",
       "      <th>IsActiveMember</th>\n",
       "      <th>EstimatedSalary</th>\n",
       "    </tr>\n",
       "  </thead>\n",
       "  <tbody>\n",
       "    <tr>\n",
       "      <th>0</th>\n",
       "      <td>1.0</td>\n",
       "      <td>0.0</td>\n",
       "      <td>0.0</td>\n",
       "      <td>-1.037187</td>\n",
       "      <td>43</td>\n",
       "      <td>3.0</td>\n",
       "      <td>0.937205</td>\n",
       "      <td>1</td>\n",
       "      <td>1</td>\n",
       "      <td>0</td>\n",
       "      <td>-1.635163</td>\n",
       "    </tr>\n",
       "    <tr>\n",
       "      <th>1</th>\n",
       "      <td>0.0</td>\n",
       "      <td>0.0</td>\n",
       "      <td>1.0</td>\n",
       "      <td>0.297802</td>\n",
       "      <td>38</td>\n",
       "      <td>3.0</td>\n",
       "      <td>-1.233158</td>\n",
       "      <td>2</td>\n",
       "      <td>1</td>\n",
       "      <td>0</td>\n",
       "      <td>-0.590123</td>\n",
       "    </tr>\n",
       "    <tr>\n",
       "      <th>2</th>\n",
       "      <td>1.0</td>\n",
       "      <td>0.0</td>\n",
       "      <td>1.0</td>\n",
       "      <td>-1.078582</td>\n",
       "      <td>37</td>\n",
       "      <td>9.0</td>\n",
       "      <td>0.307627</td>\n",
       "      <td>2</td>\n",
       "      <td>0</td>\n",
       "      <td>1</td>\n",
       "      <td>0.073185</td>\n",
       "    </tr>\n",
       "    <tr>\n",
       "      <th>3</th>\n",
       "      <td>0.0</td>\n",
       "      <td>1.0</td>\n",
       "      <td>1.0</td>\n",
       "      <td>-1.130326</td>\n",
       "      <td>28</td>\n",
       "      <td>8.0</td>\n",
       "      <td>-1.233158</td>\n",
       "      <td>2</td>\n",
       "      <td>0</td>\n",
       "      <td>0</td>\n",
       "      <td>1.674643</td>\n",
       "    </tr>\n",
       "    <tr>\n",
       "      <th>4</th>\n",
       "      <td>0.0</td>\n",
       "      <td>0.0</td>\n",
       "      <td>1.0</td>\n",
       "      <td>-0.478354</td>\n",
       "      <td>40</td>\n",
       "      <td>4.0</td>\n",
       "      <td>0.420246</td>\n",
       "      <td>2</td>\n",
       "      <td>1</td>\n",
       "      <td>1</td>\n",
       "      <td>-1.069473</td>\n",
       "    </tr>\n",
       "    <tr>\n",
       "      <th>...</th>\n",
       "      <td>...</td>\n",
       "      <td>...</td>\n",
       "      <td>...</td>\n",
       "      <td>...</td>\n",
       "      <td>...</td>\n",
       "      <td>...</td>\n",
       "      <td>...</td>\n",
       "      <td>...</td>\n",
       "      <td>...</td>\n",
       "      <td>...</td>\n",
       "      <td>...</td>\n",
       "    </tr>\n",
       "    <tr>\n",
       "      <th>6813</th>\n",
       "      <td>1.0</td>\n",
       "      <td>0.0</td>\n",
       "      <td>1.0</td>\n",
       "      <td>1.280934</td>\n",
       "      <td>34</td>\n",
       "      <td>10.0</td>\n",
       "      <td>0.808482</td>\n",
       "      <td>1</td>\n",
       "      <td>0</td>\n",
       "      <td>0</td>\n",
       "      <td>-1.104143</td>\n",
       "    </tr>\n",
       "    <tr>\n",
       "      <th>6814</th>\n",
       "      <td>0.0</td>\n",
       "      <td>0.0</td>\n",
       "      <td>0.0</td>\n",
       "      <td>0.152920</td>\n",
       "      <td>44</td>\n",
       "      <td>8.0</td>\n",
       "      <td>1.065897</td>\n",
       "      <td>1</td>\n",
       "      <td>1</td>\n",
       "      <td>1</td>\n",
       "      <td>0.254945</td>\n",
       "    </tr>\n",
       "    <tr>\n",
       "      <th>6815</th>\n",
       "      <td>0.0</td>\n",
       "      <td>0.0</td>\n",
       "      <td>0.0</td>\n",
       "      <td>-1.057885</td>\n",
       "      <td>29</td>\n",
       "      <td>6.0</td>\n",
       "      <td>0.446252</td>\n",
       "      <td>1</td>\n",
       "      <td>1</td>\n",
       "      <td>1</td>\n",
       "      <td>-1.098318</td>\n",
       "    </tr>\n",
       "    <tr>\n",
       "      <th>6816</th>\n",
       "      <td>0.0</td>\n",
       "      <td>0.0</td>\n",
       "      <td>0.0</td>\n",
       "      <td>-0.964746</td>\n",
       "      <td>52</td>\n",
       "      <td>9.0</td>\n",
       "      <td>-1.233158</td>\n",
       "      <td>1</td>\n",
       "      <td>1</td>\n",
       "      <td>0</td>\n",
       "      <td>1.286788</td>\n",
       "    </tr>\n",
       "    <tr>\n",
       "      <th>6817</th>\n",
       "      <td>1.0</td>\n",
       "      <td>0.0</td>\n",
       "      <td>1.0</td>\n",
       "      <td>1.218841</td>\n",
       "      <td>23</td>\n",
       "      <td>2.0</td>\n",
       "      <td>1.010477</td>\n",
       "      <td>1</td>\n",
       "      <td>0</td>\n",
       "      <td>1</td>\n",
       "      <td>-1.255989</td>\n",
       "    </tr>\n",
       "  </tbody>\n",
       "</table>\n",
       "<p>6818 rows × 11 columns</p>\n",
       "</div>"
      ],
      "text/plain": [
       "      Geography_Germany  Geography_Spain  Gender_Male  CreditScore  Age  \\\n",
       "0                   1.0              0.0          0.0    -1.037187   43   \n",
       "1                   0.0              0.0          1.0     0.297802   38   \n",
       "2                   1.0              0.0          1.0    -1.078582   37   \n",
       "3                   0.0              1.0          1.0    -1.130326   28   \n",
       "4                   0.0              0.0          1.0    -0.478354   40   \n",
       "...                 ...              ...          ...          ...  ...   \n",
       "6813                1.0              0.0          1.0     1.280934   34   \n",
       "6814                0.0              0.0          0.0     0.152920   44   \n",
       "6815                0.0              0.0          0.0    -1.057885   29   \n",
       "6816                0.0              0.0          0.0    -0.964746   52   \n",
       "6817                1.0              0.0          1.0     1.218841   23   \n",
       "\n",
       "      Tenure   Balance  NumOfProducts  HasCrCard  IsActiveMember  \\\n",
       "0        3.0  0.937205              1          1               0   \n",
       "1        3.0 -1.233158              2          1               0   \n",
       "2        9.0  0.307627              2          0               1   \n",
       "3        8.0 -1.233158              2          0               0   \n",
       "4        4.0  0.420246              2          1               1   \n",
       "...      ...       ...            ...        ...             ...   \n",
       "6813    10.0  0.808482              1          0               0   \n",
       "6814     8.0  1.065897              1          1               1   \n",
       "6815     6.0  0.446252              1          1               1   \n",
       "6816     9.0 -1.233158              1          1               0   \n",
       "6817     2.0  1.010477              1          0               1   \n",
       "\n",
       "      EstimatedSalary  \n",
       "0           -1.635163  \n",
       "1           -0.590123  \n",
       "2            0.073185  \n",
       "3            1.674643  \n",
       "4           -1.069473  \n",
       "...               ...  \n",
       "6813        -1.104143  \n",
       "6814         0.254945  \n",
       "6815        -1.098318  \n",
       "6816         1.286788  \n",
       "6817        -1.255989  \n",
       "\n",
       "[6818 rows x 11 columns]"
      ]
     },
     "execution_count": 88,
     "metadata": {},
     "output_type": "execute_result"
    }
   ],
   "source": [
    "features_train_enc"
   ]
  },
  {
   "cell_type": "markdown",
   "metadata": {},
   "source": [
    "<div class=\"alert alert-warning\">\n",
    "<h2> Комментарий ревьюера  #2 <a class=\"tocSkip\"> </h2>\n",
    "    \n",
    "<b>Некоторые замечания и рекомендации💡:</b> \n",
    "\n",
    "Я бы попробовал удалить строки с пропуском, их, конечно, много, но интересно, улучшится ли качество.\n",
    "    \n",
    "Откуда взялись нули − вопрос. Нужно бы проверить качество склейки. \n",
    "       \n",
    "</div>"
   ]
  },
  {
   "cell_type": "markdown",
   "metadata": {},
   "source": [
    "<div class=\"alert alert-info\"> \n",
    "Трудно сказать правильно я сделал что поставил везде 0 или лучше ьыло звнулить. Еше можно было обьединить по merge(features_train, how='right', left_index=True, right_index=True). Nan были бы в признаках к которым применили OHE\n",
    "</div>"
   ]
  },
  {
   "cell_type": "markdown",
   "metadata": {},
   "source": [
    "<div class=\"alert alert-warning\">\n",
    "<h2> Комментарий ревьюера  #2 <a class=\"tocSkip\"> </h2>\n",
    "    \n",
    "<b>Некоторые замечания и рекомендации💡:</b> \n",
    "\n",
    "Да вроде бы пропуски как раз не в них. Если в них, то логично занулить, да.\n",
    "       \n",
    "</div>"
   ]
  },
  {
   "cell_type": "markdown",
   "metadata": {},
   "source": [
    "<div class=\"alert alert-warning\">\n",
    "<h2> Комментарий ревьюера <a class=\"tocSkip\"> </h2>\n",
    "    \n",
    "<b>Некоторые замечания и рекомендации💡:</b> \n",
    " \n",
    "И здесь же нужно будет масштабировать количественные признаки, если дальше мы используем регрессионные модели. Ты в проекте делаешь это ниже, но оптимальнее это сделать уже на этом этапе, чтобы не запускать модель заведомо без шансов на хороший результат.\n",
    "\n",
    "</div>\n"
   ]
  },
  {
   "cell_type": "markdown",
   "metadata": {},
   "source": [
    "<div class=\"alert alert-info\"> \n",
    "Благодарю, все что сделал в первый раз закоментарю тогда\n",
    "</div>"
   ]
  },
  {
   "cell_type": "markdown",
   "metadata": {},
   "source": [
    "Построим модель дерева решений"
   ]
  },
  {
   "cell_type": "code",
   "execution_count": 89,
   "metadata": {},
   "outputs": [
    {
     "name": "stdout",
     "output_type": "stream",
     "text": [
      "depth: 1   F1: 0.0   auc_roc: 0.676547653325655\n",
      "depth: 2   F1: 0.5643564356435643   auc_roc: 0.7436030329206257\n",
      "depth: 3   F1: 0.44012944983818775   auc_roc: 0.7920001919570017\n",
      "depth: 4   F1: 0.5730027548209367   auc_roc: 0.8235939149630483\n",
      "depth: 5   F1: 0.525679758308157   auc_roc: 0.8498272386985316\n",
      "depth: 6   F1: 0.5714285714285714   auc_roc: 0.8499496112870717\n",
      "depth: 7   F1: 0.5691906005221932   auc_roc: 0.844217295325847\n",
      "depth: 8   F1: 0.547872340425532   auc_roc: 0.812517995968903\n",
      "depth: 9   F1: 0.5241730279898219   auc_roc: 0.7782896631154621\n",
      "depth: 10   F1: 0.5190839694656488   auc_roc: 0.7660763988866494\n",
      "depth: 11   F1: 0.5036674816625917   auc_roc: 0.7265308570880122\n",
      "depth: 12   F1: 0.4834123222748815   auc_roc: 0.7083741241961801\n",
      "depth: 13   F1: 0.5069124423963134   auc_roc: 0.6926024570496208\n",
      "depth: 14   F1: 0.49448123620309054   auc_roc: 0.6937374028217679\n",
      "depth: 15   F1: 0.4736842105263158   auc_roc: 0.6653613590555716\n",
      "depth: 16   F1: 0.4592274678111588   auc_roc: 0.6597034264324791\n",
      "depth: 17   F1: 0.47280334728033474   auc_roc: 0.6635329686150302\n",
      "depth: 18   F1: 0.4698544698544698   auc_roc: 0.6617381706497745\n",
      "depth: 19   F1: 0.46625766871165647   auc_roc: 0.66049764852673\n",
      "depth: 20   F1: 0.4793388429752066   auc_roc: 0.6746520779345426\n",
      "depth: 21   F1: 0.45134575569358176   auc_roc: 0.6577478644783568\n",
      "depth: 22   F1: 0.4472049689440994   auc_roc: 0.6547605336404645\n",
      "depth: 23   F1: 0.4534412955465587   auc_roc: 0.659593051156541\n",
      "depth: 24   F1: 0.4534412955465587   auc_roc: 0.659593051156541\n",
      "depth: 25   F1: 0.4534412955465587   auc_roc: 0.659593051156541\n",
      "depth: 26   F1: 0.4534412955465587   auc_roc: 0.659593051156541\n",
      "depth: 27   F1: 0.4534412955465587   auc_roc: 0.659593051156541\n",
      "depth: 28   F1: 0.4534412955465587   auc_roc: 0.659593051156541\n",
      "depth: 29   F1: 0.4534412955465587   auc_roc: 0.659593051156541\n",
      "depth: 30   F1: 0.4534412955465587   auc_roc: 0.659593051156541\n",
      "depth: 31   F1: 0.4534412955465587   auc_roc: 0.659593051156541\n",
      "depth: 32   F1: 0.4534412955465587   auc_roc: 0.659593051156541\n",
      "depth: 33   F1: 0.4534412955465587   auc_roc: 0.659593051156541\n",
      "depth: 34   F1: 0.4534412955465587   auc_roc: 0.659593051156541\n",
      "depth: 35   F1: 0.4534412955465587   auc_roc: 0.659593051156541\n",
      "depth: 36   F1: 0.4534412955465587   auc_roc: 0.659593051156541\n",
      "depth: 37   F1: 0.4534412955465587   auc_roc: 0.659593051156541\n",
      "depth: 38   F1: 0.4534412955465587   auc_roc: 0.659593051156541\n",
      "depth: 39   F1: 0.4534412955465587   auc_roc: 0.659593051156541\n",
      "depth: 40   F1: 0.4534412955465587   auc_roc: 0.659593051156541\n",
      "depth: 41   F1: 0.4534412955465587   auc_roc: 0.659593051156541\n",
      "depth: 42   F1: 0.4534412955465587   auc_roc: 0.659593051156541\n",
      "depth: 43   F1: 0.4534412955465587   auc_roc: 0.659593051156541\n",
      "depth: 44   F1: 0.4534412955465587   auc_roc: 0.659593051156541\n",
      "depth: 45   F1: 0.4534412955465587   auc_roc: 0.659593051156541\n",
      "depth: 46   F1: 0.4534412955465587   auc_roc: 0.659593051156541\n",
      "depth: 47   F1: 0.4534412955465587   auc_roc: 0.659593051156541\n",
      "depth: 48   F1: 0.4534412955465587   auc_roc: 0.659593051156541\n",
      "depth: 49   F1: 0.4534412955465587   auc_roc: 0.659593051156541\n"
     ]
    }
   ],
   "source": [
    "for depth in range(1, 50):\n",
    "    model = DecisionTreeClassifier(random_state=12345, max_depth=depth) \n",
    "    model.fit(features_train_enc, target_train) \n",
    "    predicted_valid = model.predict(features_valid_enc)\n",
    "    f1 = f1_score(target_valid, predicted_valid)\n",
    "    probabilities_valid = model.predict_proba(features_valid_enc)\n",
    "    probabilities_one_valid = probabilities_valid[:, 1]\n",
    "\n",
    "    fpr, tpr, treshold = roc_curve(target_valid, probabilities_one_valid)\n",
    "    auc_roc = roc_auc_score(target_valid, probabilities_one_valid)\n",
    "    \n",
    "    print('depth:', depth, ' ', 'F1:', f1, ' ', 'auc_roc:', auc_roc)"
   ]
  },
  {
   "cell_type": "markdown",
   "metadata": {},
   "source": [
    "<div class=\"alert alert-block alert-danger\">\n",
    "<h2><s> Комментарий ревьюера <a class=\"tocSkip\"></h2>\n",
    "  \n",
    "<b>На доработку🤔:</b>\n",
    " \n",
    "Здесь нам важно также вывести, при каких гиперпараметрах достигается такой результат. То есть, нужно подавать на принт не только метрику, но и соответствующую ей глубину дерева.\n",
    "    \n",
    "(предположу, что от этой глубины можно будет оттолкнуться, когда в случайном лесе будем перебирать гиперпараметры).\n",
    "\n",
    "Также напомню, что по ТЗ проекта нам нужно измерить и ROC-AUC: *«Дополнительно измеряйте AUC-ROC, сравнивайте её значение с F1-мерой».*\n",
    "</div>\n"
   ]
  },
  {
   "cell_type": "markdown",
   "metadata": {},
   "source": [
    "<div class=\"alert alert-info\"> \n",
    "Благодарю, исправил\n",
    "</div>"
   ]
  },
  {
   "cell_type": "code",
   "execution_count": 90,
   "metadata": {},
   "outputs": [],
   "source": [
    "#Видно что на значении delf = 7 достигается наилучший результат по обучающей выборке 0.5729"
   ]
  },
  {
   "cell_type": "markdown",
   "metadata": {},
   "source": [
    "Наилучший результат при depth: 31   F1: 0.05303030303030304   auc_roc: 0.603992705633938. f1 мера очень низкая, попробуем другую модель"
   ]
  },
  {
   "cell_type": "markdown",
   "metadata": {},
   "source": [
    "Построим модель случайного леса"
   ]
  },
  {
   "cell_type": "code",
   "execution_count": 91,
   "metadata": {},
   "outputs": [
    {
     "name": "stdout",
     "output_type": "stream",
     "text": [
      "depth: 40   F1: 0.4618556701030928   est: 1   auc_roc: 0.6645599385737595\n",
      "depth: 50   F1: 0.4618556701030928   est: 1   auc_roc: 0.6645599385737595\n",
      "depth: 60   F1: 0.4618556701030928   est: 1   auc_roc: 0.6645599385737595\n",
      "depth: 70   F1: 0.4618556701030928   est: 1   auc_roc: 0.6645599385737595\n",
      "depth: 80   F1: 0.4618556701030928   est: 1   auc_roc: 0.6645599385737595\n",
      "depth: 90   F1: 0.4618556701030928   est: 1   auc_roc: 0.6645599385737595\n",
      "depth: 40   F1: 0.5818181818181818   est: 21   auc_roc: 0.8443396679143871\n",
      "depth: 50   F1: 0.5818181818181818   est: 21   auc_roc: 0.8443396679143871\n",
      "depth: 60   F1: 0.5818181818181818   est: 21   auc_roc: 0.8443396679143871\n",
      "depth: 70   F1: 0.5818181818181818   est: 21   auc_roc: 0.8443396679143871\n",
      "depth: 80   F1: 0.5818181818181818   est: 21   auc_roc: 0.8443396679143871\n",
      "depth: 90   F1: 0.5818181818181818   est: 21   auc_roc: 0.8443396679143871\n",
      "depth: 40   F1: 0.5851063829787234   est: 41   auc_roc: 0.8455322007870236\n",
      "depth: 50   F1: 0.5851063829787234   est: 41   auc_roc: 0.8455322007870236\n",
      "depth: 60   F1: 0.5851063829787234   est: 41   auc_roc: 0.8455322007870236\n",
      "depth: 70   F1: 0.5851063829787234   est: 41   auc_roc: 0.8455322007870236\n",
      "depth: 80   F1: 0.5851063829787234   est: 41   auc_roc: 0.8455322007870236\n",
      "depth: 90   F1: 0.5851063829787234   est: 41   auc_roc: 0.8455322007870236\n",
      "depth: 40   F1: 0.5984251968503936   est: 61   auc_roc: 0.8435310490450139\n",
      "depth: 50   F1: 0.5984251968503936   est: 61   auc_roc: 0.8435310490450139\n",
      "depth: 60   F1: 0.5984251968503936   est: 61   auc_roc: 0.8435310490450139\n",
      "depth: 70   F1: 0.5984251968503936   est: 61   auc_roc: 0.8435310490450139\n",
      "depth: 80   F1: 0.5984251968503936   est: 61   auc_roc: 0.8435310490450139\n",
      "depth: 90   F1: 0.5984251968503936   est: 61   auc_roc: 0.8435310490450139\n",
      "depth: 40   F1: 0.592   est: 81   auc_roc: 0.8481092235339284\n",
      "depth: 50   F1: 0.592   est: 81   auc_roc: 0.8481092235339284\n",
      "depth: 60   F1: 0.592   est: 81   auc_roc: 0.8481092235339284\n",
      "depth: 70   F1: 0.592   est: 81   auc_roc: 0.8481092235339284\n",
      "depth: 80   F1: 0.592   est: 81   auc_roc: 0.8481092235339284\n",
      "depth: 90   F1: 0.592   est: 81   auc_roc: 0.8481092235339284\n",
      "depth: 40   F1: 0.5888594164456233   est: 101   auc_roc: 0.8501247720510606\n",
      "depth: 50   F1: 0.5888594164456233   est: 101   auc_roc: 0.8501247720510606\n",
      "depth: 60   F1: 0.5888594164456233   est: 101   auc_roc: 0.8501247720510606\n",
      "depth: 70   F1: 0.5888594164456233   est: 101   auc_roc: 0.8501247720510606\n",
      "depth: 80   F1: 0.5888594164456233   est: 101   auc_roc: 0.8501247720510606\n",
      "depth: 90   F1: 0.5888594164456233   est: 101   auc_roc: 0.8501247720510606\n",
      "depth: 40   F1: 0.5828877005347594   est: 121   auc_roc: 0.8524642480084461\n",
      "depth: 50   F1: 0.5828877005347594   est: 121   auc_roc: 0.8524642480084461\n",
      "depth: 60   F1: 0.5828877005347594   est: 121   auc_roc: 0.8524642480084461\n",
      "depth: 70   F1: 0.5828877005347594   est: 121   auc_roc: 0.8524642480084461\n",
      "depth: 80   F1: 0.5828877005347594   est: 121   auc_roc: 0.8524642480084461\n",
      "depth: 90   F1: 0.5828877005347594   est: 121   auc_roc: 0.8524642480084461\n",
      "depth: 40   F1: 0.5866666666666667   est: 141   auc_roc: 0.8524522506958443\n",
      "depth: 50   F1: 0.5866666666666667   est: 141   auc_roc: 0.8524522506958443\n",
      "depth: 60   F1: 0.5866666666666667   est: 141   auc_roc: 0.8524522506958443\n",
      "depth: 70   F1: 0.5866666666666667   est: 141   auc_roc: 0.8524522506958443\n",
      "depth: 80   F1: 0.5866666666666667   est: 141   auc_roc: 0.8524522506958443\n",
      "depth: 90   F1: 0.5866666666666667   est: 141   auc_roc: 0.8524522506958443\n",
      "depth: 40   F1: 0.5904255319148937   est: 161   auc_roc: 0.8546429599769652\n",
      "depth: 50   F1: 0.5904255319148937   est: 161   auc_roc: 0.8546429599769652\n",
      "depth: 60   F1: 0.5904255319148937   est: 161   auc_roc: 0.8546429599769652\n",
      "depth: 70   F1: 0.5904255319148937   est: 161   auc_roc: 0.8546429599769652\n",
      "depth: 80   F1: 0.5904255319148937   est: 161   auc_roc: 0.8546429599769652\n",
      "depth: 90   F1: 0.5904255319148937   est: 161   auc_roc: 0.8546429599769652\n",
      "depth: 40   F1: 0.5888594164456233   est: 181   auc_roc: 0.8547965255782706\n",
      "depth: 50   F1: 0.5888594164456233   est: 181   auc_roc: 0.8547965255782706\n",
      "depth: 60   F1: 0.5888594164456233   est: 181   auc_roc: 0.8547965255782706\n",
      "depth: 70   F1: 0.5888594164456233   est: 181   auc_roc: 0.8547965255782706\n",
      "depth: 80   F1: 0.5888594164456233   est: 181   auc_roc: 0.8547965255782706\n",
      "depth: 90   F1: 0.5888594164456233   est: 181   auc_roc: 0.8547965255782706\n"
     ]
    }
   ],
   "source": [
    "for est in range(1, 200, 20):\n",
    "    for depth in range(40, 100, 10):\n",
    "        model = RandomForestClassifier(random_state=12345, n_estimators=est, max_depth=depth) \n",
    "        model.fit(features_train_enc, target_train) \n",
    "        predicted_valid = model.predict(features_valid_enc)\n",
    "        f1 = f1_score(target_valid, predicted_valid)\n",
    "        probabilities_valid = model.predict_proba(features_valid_enc)\n",
    "        probabilities_one_valid = probabilities_valid[:, 1]\n",
    "\n",
    "        fpr, tpr, treshold = roc_curve(target_valid, probabilities_one_valid)\n",
    "        auc_roc = roc_auc_score(target_valid, probabilities_one_valid)\n",
    "    \n",
    "        print('depth:', depth, ' ', 'F1:', f1, ' ', 'est:', est,  ' ', 'auc_roc:', auc_roc)"
   ]
  },
  {
   "cell_type": "markdown",
   "metadata": {},
   "source": [
    "<div class=\"alert alert-warning\">\n",
    "<h2> Комментарий ревьюера <a class=\"tocSkip\"> </h2>\n",
    "    \n",
    "<b>Некоторые замечания и рекомендации💡:</b> \n",
    "\n",
    "Я бы здесь применил двойной цикл. Можно увеличить шаг в количестве оценщиков `n_estimators`, но попробовать несколько вариантов с глубиной дерева.\n",
    "       \n",
    "</div>\n"
   ]
  },
  {
   "cell_type": "markdown",
   "metadata": {},
   "source": [
    "<div class=\"alert alert-info\"> \n",
    "Благодарю, сделал\n",
    "</div>"
   ]
  },
  {
   "cell_type": "code",
   "execution_count": 92,
   "metadata": {},
   "outputs": [],
   "source": [
    "#Видно что результат не удучшился, лучший на est=200, 0.56980"
   ]
  },
  {
   "cell_type": "markdown",
   "metadata": {},
   "source": [
    "Наилучший результат при depth: 40-90, F1: 0.048780487804878044   est 21   auc_roc: 0.6466551492465689, f1 мера очень низкая, попробуем другую модель"
   ]
  },
  {
   "cell_type": "markdown",
   "metadata": {},
   "source": [
    "<div class=\"alert alert-block alert-danger\">\n",
    "<h2><s> Комментарий ревьюера <a class=\"tocSkip\"></h2>\n",
    "  \n",
    "<b>На доработку🤔:</b>\n",
    " \n",
    "Здесь то же замечание − нужно выводить не только значение метрики качества, но и гиперпараметры. Пока неочевидно, откуда взяли `est=200`.\n",
    "\n",
    "</div>\n"
   ]
  },
  {
   "cell_type": "markdown",
   "metadata": {},
   "source": [
    "<div class=\"alert alert-info\"> \n",
    "Благодарю, исправил\n",
    "</div>"
   ]
  },
  {
   "cell_type": "markdown",
   "metadata": {},
   "source": [
    "Построим модель логистической регрессии "
   ]
  },
  {
   "cell_type": "code",
   "execution_count": 93,
   "metadata": {},
   "outputs": [
    {
     "name": "stdout",
     "output_type": "stream",
     "text": [
      "F1: 0.3470031545741325   auc_roc: 0.7820472214224014\n"
     ]
    }
   ],
   "source": [
    "model = LogisticRegression(random_state=12345, solver='liblinear')\n",
    "model.fit(features_train_enc, target_train)\n",
    "predicted_valid = model.predict(features_valid_enc)\n",
    "f1 = f1_score(target_valid, predicted_valid)\n",
    "probabilities_valid = model.predict_proba(features_valid_enc)\n",
    "probabilities_one_valid = probabilities_valid[:, 1]\n",
    "fpr, tpr, treshold = roc_curve(target_valid, probabilities_one_valid)\n",
    "auc_roc = roc_auc_score(target_valid, probabilities_one_valid)\n",
    "    \n",
    "print('F1:', f1, ' ', 'auc_roc:', auc_roc)"
   ]
  },
  {
   "cell_type": "code",
   "execution_count": 94,
   "metadata": {},
   "outputs": [],
   "source": [
    "#Вопреки моей первой гипотезе логистическая рекгрессия показала плохой рузультат.\n",
    "#У нас есть признаки CreditScore, Balance, EstimatedSalary  и их значения сильно разьроссаны, поэтому алгоритм будет думать, что какойто признак важнее другого. \n",
    "#Приведем признаки к одному масштабу."
   ]
  },
  {
   "cell_type": "markdown",
   "metadata": {},
   "source": [
    "Результат никакой от слова совсем.Возможна причина в дисбалансе классов.Проверим"
   ]
  },
  {
   "cell_type": "markdown",
   "metadata": {},
   "source": [
    "<div class=\"alert alert-success\">\n",
    "<h2> Комментарий ревьюера <a class=\"tocSkip\"> </h2>\n",
    "\n",
    "👍 Верная догадка (выше написал, на каком моменте лучше сделать нормализацию).\n",
    "</div>"
   ]
  },
  {
   "cell_type": "code",
   "execution_count": 95,
   "metadata": {},
   "outputs": [],
   "source": [
    "#pd.options.mode.chained_assignment = None\n",
    "\n",
    "#numeric = ['CreditScore', 'Balance', 'EstimatedSalary']\n",
    "\n",
    "#scaler = StandardScaler()\n",
    "#scaler.fit(features_train[numeric])\n",
    "#features_train[numeric] = scaler.transform(features_train[numeric])\n",
    "#features_valid[numeric] = scaler.transform(features_valid[numeric])\n",
    "#features_test[numeric] = scaler.transform(features_test[numeric])"
   ]
  },
  {
   "cell_type": "code",
   "execution_count": 96,
   "metadata": {},
   "outputs": [],
   "source": [
    "#Снова попробуем построить модели"
   ]
  },
  {
   "cell_type": "code",
   "execution_count": 97,
   "metadata": {},
   "outputs": [],
   "source": [
    "#model = DecisionTreeClassifier(random_state=12345, max_depth=7) \n",
    "#model.fit(features_train, target_train) \n",
    "#predicted_valid = model.predict(features_valid)\n",
    "#f1 = f1_score(target_valid, predicted_valid)\n",
    "    \n",
    "#print(f1)"
   ]
  },
  {
   "cell_type": "code",
   "execution_count": 98,
   "metadata": {},
   "outputs": [],
   "source": [
    "#model = RandomForestClassifier(random_state=12345, n_estimators=200, max_depth=7) \n",
    "#model.fit(features_train, target_train) \n",
    "#predicted_valid = model.predict(features_valid)\n",
    "#f1 = f1_score(target_valid, predicted_valid)\n",
    "    \n",
    "#print(f1)"
   ]
  },
  {
   "cell_type": "code",
   "execution_count": 99,
   "metadata": {},
   "outputs": [],
   "source": [
    "#model = LogisticRegression(random_state=12345, solver='liblinear')\n",
    "#model.fit(features_train, target_train)\n",
    "#predicted_valid = model.predict(features_valid)\n",
    "#print(\"f1_score:\", f1_score(target_valid, predicted_valid)) "
   ]
  },
  {
   "cell_type": "code",
   "execution_count": 100,
   "metadata": {},
   "outputs": [],
   "source": [
    "#Маштабирование немного улучшило ситуацию c регрессией, и не поалияло на модели с деревьями, что соответствует теории. Но думаю иммет смысл проверки на дисболанс классов"
   ]
  },
  {
   "cell_type": "markdown",
   "metadata": {},
   "source": [
    "<div class=\"alert alert-warning\">\n",
    "<h2> Комментарий ревьюера <a class=\"tocSkip\"> </h2>\n",
    "    \n",
    "<b>Некоторые замечания и рекомендации💡:</b> \n",
    "\n",
    "А выше ты писал, что масштабирование как-то сказывается на деревьях :)\n",
    "       \n",
    "</div>\n"
   ]
  },
  {
   "cell_type": "code",
   "execution_count": 101,
   "metadata": {},
   "outputs": [],
   "source": [
    "# data['Exited'].value_counts()"
   ]
  },
  {
   "cell_type": "code",
   "execution_count": 102,
   "metadata": {},
   "outputs": [],
   "source": [
    "#Что и требовалось доказать, наблюдается дисбаланс класслов"
   ]
  },
  {
   "cell_type": "markdown",
   "metadata": {},
   "source": [
    "<div class=\"alert alert-success\">\n",
    "<h2> Комментарий ревьюера <a class=\"tocSkip\"> </h2>\n",
    "\n",
    "👍 Ага.\n",
    "</div>"
   ]
  },
  {
   "cell_type": "markdown",
   "metadata": {},
   "source": [
    "## Борьба с дисбалансом"
   ]
  },
  {
   "cell_type": "markdown",
   "metadata": {},
   "source": [
    "Для борьбы с дисбалансом классов применим несколько стрптегий.\n",
    "1.  class_weight = 'balanced' добавим этот аргумент к каждой модели\n",
    "2. upsampling\n",
    "3. downsampling"
   ]
  },
  {
   "cell_type": "markdown",
   "metadata": {},
   "source": [
    "<div class=\"alert alert-success\">\n",
    "<h2> Комментарий ревьюера <a class=\"tocSkip\"> </h2>\n",
    "\n",
    "👍 Отличный план.\n",
    "</div>"
   ]
  },
  {
   "cell_type": "markdown",
   "metadata": {},
   "source": [
    "1 стратегия"
   ]
  },
  {
   "cell_type": "markdown",
   "metadata": {},
   "source": [
    "Дерево решений"
   ]
  },
  {
   "cell_type": "code",
   "execution_count": 103,
   "metadata": {},
   "outputs": [
    {
     "name": "stdout",
     "output_type": "stream",
     "text": [
      "depth: 1   F1: 0.4655737704918032   auc_roc: 0.6773490738074671\n",
      "depth: 2   F1: 0.4944178628389156   auc_roc: 0.7437613974469718\n",
      "depth: 3   F1: 0.5197934595524957   auc_roc: 0.7908652461848545\n",
      "depth: 4   F1: 0.5307346326836582   auc_roc: 0.8130434782608695\n",
      "depth: 5   F1: 0.5685279187817259   auc_roc: 0.8317136961320664\n",
      "depth: 6   F1: 0.5533333333333333   auc_roc: 0.8275434302716191\n",
      "depth: 7   F1: 0.5591766723842195   auc_roc: 0.8222262213264231\n",
      "depth: 8   F1: 0.5375   auc_roc: 0.8033688453786352\n",
      "depth: 9   F1: 0.560553633217993   auc_roc: 0.7906756886457433\n",
      "depth: 10   F1: 0.5506756756756758   auc_roc: 0.7699851233323736\n",
      "depth: 11   F1: 0.5322033898305084   auc_roc: 0.7589307995009118\n",
      "depth: 12   F1: 0.5026178010471204   auc_roc: 0.7341923409156349\n",
      "depth: 13   F1: 0.4972577696526508   auc_roc: 0.7139744697187831\n",
      "depth: 14   F1: 0.4858757062146893   auc_roc: 0.69211056723294\n",
      "depth: 15   F1: 0.50390625   auc_roc: 0.6961248680295613\n",
      "depth: 16   F1: 0.4652087475149105   auc_roc: 0.6726005374796046\n",
      "depth: 17   F1: 0.467065868263473   auc_roc: 0.6710528841539495\n",
      "depth: 18   F1: 0.4834710743801653   auc_roc: 0.6807083213360207\n",
      "depth: 19   F1: 0.45569620253164556   auc_roc: 0.6699587292446492\n",
      "depth: 20   F1: 0.461864406779661   auc_roc: 0.670721758326135\n",
      "depth: 21   F1: 0.45473684210526316   auc_roc: 0.6641784240330166\n",
      "depth: 22   F1: 0.4678111587982833   auc_roc: 0.6704722142240138\n",
      "depth: 23   F1: 0.47133757961783435   auc_roc: 0.6695172281408964\n",
      "depth: 24   F1: 0.4668094218415417   auc_roc: 0.6663163451386889\n",
      "depth: 25   F1: 0.46382978723404256   auc_roc: 0.6646607159996161\n",
      "depth: 26   F1: 0.46382978723404256   auc_roc: 0.6646607159996161\n",
      "depth: 27   F1: 0.46382978723404256   auc_roc: 0.6646607159996161\n",
      "depth: 28   F1: 0.46382978723404256   auc_roc: 0.6646607159996161\n",
      "depth: 29   F1: 0.46382978723404256   auc_roc: 0.6646607159996161\n",
      "depth: 30   F1: 0.46382978723404256   auc_roc: 0.6646607159996161\n",
      "depth: 31   F1: 0.46382978723404256   auc_roc: 0.6646607159996161\n",
      "depth: 32   F1: 0.46382978723404256   auc_roc: 0.6646607159996161\n",
      "depth: 33   F1: 0.46382978723404256   auc_roc: 0.6646607159996161\n",
      "depth: 34   F1: 0.46382978723404256   auc_roc: 0.6646607159996161\n",
      "depth: 35   F1: 0.46382978723404256   auc_roc: 0.6646607159996161\n",
      "depth: 36   F1: 0.46382978723404256   auc_roc: 0.6646607159996161\n",
      "depth: 37   F1: 0.46382978723404256   auc_roc: 0.6646607159996161\n",
      "depth: 38   F1: 0.46382978723404256   auc_roc: 0.6646607159996161\n",
      "depth: 39   F1: 0.46382978723404256   auc_roc: 0.6646607159996161\n",
      "depth: 40   F1: 0.46382978723404256   auc_roc: 0.6646607159996161\n",
      "depth: 41   F1: 0.46382978723404256   auc_roc: 0.6646607159996161\n",
      "depth: 42   F1: 0.46382978723404256   auc_roc: 0.6646607159996161\n",
      "depth: 43   F1: 0.46382978723404256   auc_roc: 0.6646607159996161\n",
      "depth: 44   F1: 0.46382978723404256   auc_roc: 0.6646607159996161\n",
      "depth: 45   F1: 0.46382978723404256   auc_roc: 0.6646607159996161\n",
      "depth: 46   F1: 0.46382978723404256   auc_roc: 0.6646607159996161\n",
      "depth: 47   F1: 0.46382978723404256   auc_roc: 0.6646607159996161\n",
      "depth: 48   F1: 0.46382978723404256   auc_roc: 0.6646607159996161\n",
      "depth: 49   F1: 0.46382978723404256   auc_roc: 0.6646607159996161\n"
     ]
    }
   ],
   "source": [
    "for depth in range(1, 50):\n",
    "    model = DecisionTreeClassifier(random_state=12345, max_depth=depth, class_weight = 'balanced') \n",
    "    model.fit(features_train_enc, target_train) \n",
    "    predicted_valid = model.predict(features_valid_enc)\n",
    "    f1 = f1_score(target_valid, predicted_valid)\n",
    "    probabilities_valid = model.predict_proba(features_valid_enc)\n",
    "    probabilities_one_valid = probabilities_valid[:, 1]\n",
    "\n",
    "    fpr, tpr, treshold = roc_curve(target_valid, probabilities_one_valid)\n",
    "    auc_roc = roc_auc_score(target_valid, probabilities_one_valid)\n",
    "    \n",
    "    print('depth:', depth, ' ', 'F1:', f1, ' ', 'auc_roc:', auc_roc)"
   ]
  },
  {
   "cell_type": "markdown",
   "metadata": {},
   "source": [
    "<div class=\"alert alert-block alert-danger\">\n",
    "<h2><s> Комментарий ревьюера <a class=\"tocSkip\"></h2>\n",
    "  \n",
    "<b>На доработку🤔:</b>\n",
    " \n",
    "Здесь нужно заново попробовать разные гиперпараметры.\n",
    "\n",
    "</div>\n"
   ]
  },
  {
   "cell_type": "markdown",
   "metadata": {},
   "source": [
    "<div class=\"alert alert-info\"> \n",
    "Благодарю, исправил\n",
    "</div>"
   ]
  },
  {
   "cell_type": "markdown",
   "metadata": {},
   "source": [
    "После балансировки резултат на лицо. При любом depth результат примерно 0.46382978723404256   auc_roc: 0.6646607159996161. Но нужно пробывать другую модель f1 мера маленькая"
   ]
  },
  {
   "cell_type": "code",
   "execution_count": 104,
   "metadata": {},
   "outputs": [],
   "source": [
    "#На дереве решений это не отразилось"
   ]
  },
  {
   "cell_type": "markdown",
   "metadata": {},
   "source": [
    "Случайный лес"
   ]
  },
  {
   "cell_type": "code",
   "execution_count": 105,
   "metadata": {},
   "outputs": [
    {
     "name": "stdout",
     "output_type": "stream",
     "text": [
      "depth: 40   F1: 0.47537473233404715   est: 1   auc_roc: 0.6717679239850274\n",
      "depth: 50   F1: 0.47537473233404715   est: 1   auc_roc: 0.6717679239850274\n",
      "depth: 60   F1: 0.47537473233404715   est: 1   auc_roc: 0.6717679239850274\n",
      "depth: 70   F1: 0.47537473233404715   est: 1   auc_roc: 0.6717679239850274\n",
      "depth: 80   F1: 0.47537473233404715   est: 1   auc_roc: 0.6717679239850274\n",
      "depth: 90   F1: 0.47537473233404715   est: 1   auc_roc: 0.6717679239850274\n",
      "depth: 40   F1: 0.568421052631579   est: 21   auc_roc: 0.8352673001247719\n",
      "depth: 50   F1: 0.568421052631579   est: 21   auc_roc: 0.8352673001247719\n",
      "depth: 60   F1: 0.568421052631579   est: 21   auc_roc: 0.8352673001247719\n",
      "depth: 70   F1: 0.568421052631579   est: 21   auc_roc: 0.8352673001247719\n",
      "depth: 80   F1: 0.568421052631579   est: 21   auc_roc: 0.8352673001247719\n",
      "depth: 90   F1: 0.568421052631579   est: 21   auc_roc: 0.8352673001247719\n",
      "depth: 40   F1: 0.5767195767195767   est: 41   auc_roc: 0.8466527497840484\n",
      "depth: 50   F1: 0.5767195767195767   est: 41   auc_roc: 0.8466527497840484\n",
      "depth: 60   F1: 0.5767195767195767   est: 41   auc_roc: 0.8466527497840484\n",
      "depth: 70   F1: 0.5767195767195767   est: 41   auc_roc: 0.8466527497840484\n",
      "depth: 80   F1: 0.5767195767195767   est: 41   auc_roc: 0.8466527497840484\n",
      "depth: 90   F1: 0.5767195767195767   est: 41   auc_roc: 0.8466527497840484\n",
      "depth: 40   F1: 0.5913978494623656   est: 61   auc_roc: 0.854155869085325\n",
      "depth: 50   F1: 0.5913978494623656   est: 61   auc_roc: 0.854155869085325\n",
      "depth: 60   F1: 0.5913978494623656   est: 61   auc_roc: 0.854155869085325\n",
      "depth: 70   F1: 0.5913978494623656   est: 61   auc_roc: 0.854155869085325\n",
      "depth: 80   F1: 0.5913978494623656   est: 61   auc_roc: 0.854155869085325\n",
      "depth: 90   F1: 0.5913978494623656   est: 61   auc_roc: 0.854155869085325\n",
      "depth: 40   F1: 0.5853658536585367   est: 81   auc_roc: 0.8519267684038776\n",
      "depth: 50   F1: 0.5853658536585367   est: 81   auc_roc: 0.8519267684038776\n",
      "depth: 60   F1: 0.5853658536585367   est: 81   auc_roc: 0.8519267684038776\n",
      "depth: 70   F1: 0.5853658536585367   est: 81   auc_roc: 0.8519267684038776\n",
      "depth: 80   F1: 0.5853658536585367   est: 81   auc_roc: 0.8519267684038776\n",
      "depth: 90   F1: 0.5853658536585367   est: 81   auc_roc: 0.8519267684038776\n",
      "depth: 40   F1: 0.5760869565217392   est: 101   auc_roc: 0.8539759093962952\n",
      "depth: 50   F1: 0.5760869565217392   est: 101   auc_roc: 0.8539759093962952\n",
      "depth: 60   F1: 0.5760869565217392   est: 101   auc_roc: 0.8539759093962952\n",
      "depth: 70   F1: 0.5760869565217392   est: 101   auc_roc: 0.8539759093962952\n",
      "depth: 80   F1: 0.5760869565217392   est: 101   auc_roc: 0.8539759093962952\n",
      "depth: 90   F1: 0.5760869565217392   est: 101   auc_roc: 0.8539759093962952\n",
      "depth: 40   F1: 0.5792349726775957   est: 121   auc_roc: 0.8540382954218255\n",
      "depth: 50   F1: 0.5792349726775957   est: 121   auc_roc: 0.8540382954218255\n",
      "depth: 60   F1: 0.5792349726775957   est: 121   auc_roc: 0.8540382954218255\n",
      "depth: 70   F1: 0.5792349726775957   est: 121   auc_roc: 0.8540382954218255\n",
      "depth: 80   F1: 0.5792349726775957   est: 121   auc_roc: 0.8540382954218255\n",
      "depth: 90   F1: 0.5792349726775957   est: 121   auc_roc: 0.8540382954218255\n",
      "depth: 40   F1: 0.5831062670299728   est: 141   auc_roc: 0.8541030809098763\n",
      "depth: 50   F1: 0.5831062670299728   est: 141   auc_roc: 0.8541030809098763\n",
      "depth: 60   F1: 0.5831062670299728   est: 141   auc_roc: 0.8541030809098763\n",
      "depth: 70   F1: 0.5831062670299728   est: 141   auc_roc: 0.8541030809098763\n",
      "depth: 80   F1: 0.5831062670299728   est: 141   auc_roc: 0.8541030809098763\n",
      "depth: 90   F1: 0.5831062670299728   est: 141   auc_roc: 0.8541030809098763\n",
      "depth: 40   F1: 0.5853658536585367   est: 161   auc_roc: 0.8558882810250503\n",
      "depth: 50   F1: 0.5853658536585367   est: 161   auc_roc: 0.8558882810250503\n",
      "depth: 60   F1: 0.5853658536585367   est: 161   auc_roc: 0.8558882810250503\n",
      "depth: 70   F1: 0.5853658536585367   est: 161   auc_roc: 0.8558882810250503\n",
      "depth: 80   F1: 0.5853658536585367   est: 161   auc_roc: 0.8558882810250503\n",
      "depth: 90   F1: 0.5853658536585367   est: 161   auc_roc: 0.8558882810250503\n",
      "depth: 40   F1: 0.5745257452574525   est: 181   auc_roc: 0.8574983203762356\n",
      "depth: 50   F1: 0.5745257452574525   est: 181   auc_roc: 0.8574983203762356\n",
      "depth: 60   F1: 0.5745257452574525   est: 181   auc_roc: 0.8574983203762356\n",
      "depth: 70   F1: 0.5745257452574525   est: 181   auc_roc: 0.8574983203762356\n",
      "depth: 80   F1: 0.5745257452574525   est: 181   auc_roc: 0.8574983203762356\n",
      "depth: 90   F1: 0.5745257452574525   est: 181   auc_roc: 0.8574983203762356\n"
     ]
    }
   ],
   "source": [
    "for est in range(1, 200, 20):\n",
    "    for depth in range(40, 100, 10):\n",
    "        model = RandomForestClassifier(random_state=12345, n_estimators=est, max_depth=depth , class_weight = 'balanced') \n",
    "        model.fit(features_train_enc, target_train) \n",
    "        predicted_valid = model.predict(features_valid_enc)\n",
    "        f1 = f1_score(target_valid, predicted_valid)\n",
    "        probabilities_valid = model.predict_proba(features_valid_enc)\n",
    "        probabilities_one_valid = probabilities_valid[:, 1]\n",
    "\n",
    "        fpr, tpr, treshold = roc_curve(target_valid, probabilities_one_valid)\n",
    "        auc_roc = roc_auc_score(target_valid, probabilities_one_valid)\n",
    "    \n",
    "        print('depth:', depth, ' ', 'F1:', f1, ' ', 'est:', est,  ' ', 'auc_roc:', auc_roc)"
   ]
  },
  {
   "cell_type": "code",
   "execution_count": 106,
   "metadata": {},
   "outputs": [],
   "source": [
    "#А вот у случайного леса метрика улучшилась"
   ]
  },
  {
   "cell_type": "markdown",
   "metadata": {},
   "source": [
    "После балансировки резултат на лицо. При любом depth и est результат примерно F1: 0.5745257452574525   est: 181   auc_roc: 0.8574983203762356 Но нужно пробывать другую модель f1 мера маленькая."
   ]
  },
  {
   "cell_type": "code",
   "execution_count": 107,
   "metadata": {},
   "outputs": [
    {
     "name": "stdout",
     "output_type": "stream",
     "text": [
      "F1: 0.4933135215453195   auc_roc: 0.7806507342355312\n"
     ]
    }
   ],
   "source": [
    "model = LogisticRegression(random_state=12345, solver='liblinear', class_weight = 'balanced')\n",
    "model.fit(features_train_enc, target_train)\n",
    "predicted_valid = model.predict(features_valid_enc)\n",
    "f1 = f1_score(target_valid, predicted_valid)\n",
    "probabilities_valid = model.predict_proba(features_valid_enc)\n",
    "probabilities_one_valid = probabilities_valid[:, 1]\n",
    "fpr, tpr, treshold = roc_curve(target_valid, probabilities_one_valid)\n",
    "auc_roc = roc_auc_score(target_valid, probabilities_one_valid)\n",
    "    \n",
    "print('F1:', f1, ' ', 'auc_roc:', auc_roc) "
   ]
  },
  {
   "cell_type": "code",
   "execution_count": 108,
   "metadata": {},
   "outputs": [],
   "source": [
    "#И у регрсесии метрика улучшилась"
   ]
  },
  {
   "cell_type": "markdown",
   "metadata": {},
   "source": [
    "После балансировки резултат на лицо. F1: 0.4933135215453195   auc_roc: 0.7806507342355312. Но f1 мера маленькая."
   ]
  },
  {
   "cell_type": "markdown",
   "metadata": {},
   "source": [
    "<div class=\"alert alert-success\">\n",
    "<h2> Комментарий ревьюера <a class=\"tocSkip\"> </h2>\n",
    "\n",
    "👍 Ок, зафиксировали.\n",
    "</div>"
   ]
  },
  {
   "cell_type": "markdown",
   "metadata": {},
   "source": [
    "2 стратегия метод SMOTE"
   ]
  },
  {
   "cell_type": "code",
   "execution_count": 109,
   "metadata": {},
   "outputs": [],
   "source": [
    "#2 стратегия. 7237/1854 = 3,903452. Тоесть параметр repeat возбмем равным 4"
   ]
  },
  {
   "cell_type": "code",
   "execution_count": 110,
   "metadata": {},
   "outputs": [],
   "source": [
    "#def upsample(features, target, repeat):\n",
    "    #features_zeros = features[target == 0]\n",
    "    #features_ones = features[target == 1]\n",
    "    #target_zeros = target[target == 0]\n",
    "    #target_ones = target[target == 1]\n",
    "\n",
    "    #features_upsampled = pd.concat([features_zeros] + [features_ones] * repeat)\n",
    "    #target_upsampled = pd.concat([target_zeros] + [target_ones] * repeat)\n",
    "    \n",
    "    #features_upsampled, target_upsampled = shuffle(\n",
    "        #features_upsampled, target_upsampled, random_state=12345)\n",
    "    \n",
    "    #return features_upsampled, target_upsampled\n",
    "\n",
    "#features_upsampled, target_upsampled = upsample(features_train, target_train, 4)"
   ]
  },
  {
   "cell_type": "markdown",
   "metadata": {},
   "source": [
    "<div class=\"alert alert-success\">\n",
    "<h2> Комментарий ревьюера <a class=\"tocSkip\"> </h2>\n",
    "\n",
    "👍 Отлично, что используешь рукописную функцию, но здесь можно все оптимизировать, используя <a href=\"https://imbalanced-learn.org/stable/references/generated/imblearn.over_sampling.SMOTE.html\">SMOTE</a> для увеличения выборки и <a href=\"https://imbalanced-learn.org/stable/references/generated/imblearn.under_sampling.RandomUnderSampler.html\">RandomUnderSampler</a>  для уменьшения. \n",
    "    \n",
    "Апсемплинг делается очень просто:\n",
    "    \n",
    "`oversample = SMOTE(random_state=RANDOM_STATE)`\n",
    "\n",
    "`features_train_up, target_train_up = oversample.fit_resample(features_train_enc, target_train)`\n",
    "    \n",
    "PS предварительно импотрировав `from imblearn.over_sampling import SMOTE`\n",
    "    \n",
    "PPS Чтобы импортировать imblearn его сначала требуется проинсталлировать. через `!pip install imblearn`\n",
    "\n",
    "    \n",
    "</div>"
   ]
  },
  {
   "cell_type": "markdown",
   "metadata": {},
   "source": [
    "<div class=\"alert alert-info\"> \n",
    "Благодарю, так сделаю\n",
    "</div>"
   ]
  },
  {
   "cell_type": "code",
   "execution_count": 111,
   "metadata": {},
   "outputs": [],
   "source": [
    "oversample = SMOTE(random_state=12345)\n",
    "features_train_up, target_train_up = oversample.fit_resample(features_train_enc, target_train)\n",
    "features_valid_up, target_valid_up = oversample.fit_resample(features_valid_enc, target_valid)\n",
    "features_test_up, target_test_up = oversample.fit_resample(features_test_enc, target_test)"
   ]
  },
  {
   "cell_type": "markdown",
   "metadata": {},
   "source": [
    "Решающее дерево"
   ]
  },
  {
   "cell_type": "code",
   "execution_count": 112,
   "metadata": {},
   "outputs": [
    {
     "name": "stdout",
     "output_type": "stream",
     "text": [
      "depth: 1   F1: 0.6501474926253688   auc_roc: 0.6727373068432672\n",
      "depth: 2   F1: 0.6543463381245722   auc_roc: 0.7577731727165964\n",
      "depth: 3   F1: 0.790750141003948   auc_roc: 0.8401958491099318\n",
      "depth: 4   F1: 0.7970401691331924   auc_roc: 0.8593659391157309\n",
      "depth: 5   F1: 0.7969029184038119   auc_roc: 0.8878990443888913\n",
      "depth: 6   F1: 0.8241320432555492   auc_roc: 0.9008900681743978\n",
      "depth: 7   F1: 0.8180764774044033   auc_roc: 0.8985388067774803\n",
      "depth: 8   F1: 0.8011494252873562   auc_roc: 0.8902235038424241\n",
      "depth: 9   F1: 0.8035190615835777   auc_roc: 0.8763668991126119\n",
      "depth: 10   F1: 0.7890122735242548   auc_roc: 0.8481316608920662\n",
      "depth: 11   F1: 0.7812685240071133   auc_roc: 0.8300427856478029\n",
      "depth: 12   F1: 0.7979214780600461   auc_roc: 0.827720762734578\n",
      "depth: 13   F1: 0.7829139847864247   auc_roc: 0.7947933570165051\n",
      "depth: 14   F1: 0.7817437097717963   auc_roc: 0.799663391956493\n",
      "depth: 15   F1: 0.7844276583381755   auc_roc: 0.791353571237129\n",
      "depth: 16   F1: 0.7657342657342657   auc_roc: 0.7732378940494813\n",
      "depth: 17   F1: 0.7645331767469172   auc_roc: 0.7762293564122432\n",
      "depth: 18   F1: 0.7654320987654321   auc_roc: 0.7737873338888646\n",
      "depth: 19   F1: 0.755738669805768   auc_roc: 0.768882578249492\n",
      "depth: 20   F1: 0.754739336492891   auc_roc: 0.7699333362571817\n",
      "depth: 21   F1: 0.7511792452830188   auc_roc: 0.7671081677704196\n",
      "depth: 22   F1: 0.7596717467760844   auc_roc: 0.7737306843267109\n",
      "depth: 23   F1: 0.7596717467760844   auc_roc: 0.7737306843267109\n",
      "depth: 24   F1: 0.7596717467760844   auc_roc: 0.7737306843267109\n",
      "depth: 25   F1: 0.7596717467760844   auc_roc: 0.7737306843267109\n",
      "depth: 26   F1: 0.7596717467760844   auc_roc: 0.7737306843267109\n",
      "depth: 27   F1: 0.7596717467760844   auc_roc: 0.7737306843267109\n",
      "depth: 28   F1: 0.7596717467760844   auc_roc: 0.7737306843267109\n",
      "depth: 29   F1: 0.7596717467760844   auc_roc: 0.7737306843267109\n",
      "depth: 30   F1: 0.7596717467760844   auc_roc: 0.7737306843267109\n",
      "depth: 31   F1: 0.7596717467760844   auc_roc: 0.7737306843267109\n",
      "depth: 32   F1: 0.7596717467760844   auc_roc: 0.7737306843267109\n",
      "depth: 33   F1: 0.7596717467760844   auc_roc: 0.7737306843267109\n",
      "depth: 34   F1: 0.7596717467760844   auc_roc: 0.7737306843267109\n",
      "depth: 35   F1: 0.7596717467760844   auc_roc: 0.7737306843267109\n",
      "depth: 36   F1: 0.7596717467760844   auc_roc: 0.7737306843267109\n",
      "depth: 37   F1: 0.7596717467760844   auc_roc: 0.7737306843267109\n",
      "depth: 38   F1: 0.7596717467760844   auc_roc: 0.7737306843267109\n",
      "depth: 39   F1: 0.7596717467760844   auc_roc: 0.7737306843267109\n",
      "depth: 40   F1: 0.7596717467760844   auc_roc: 0.7737306843267109\n",
      "depth: 41   F1: 0.7596717467760844   auc_roc: 0.7737306843267109\n",
      "depth: 42   F1: 0.7596717467760844   auc_roc: 0.7737306843267109\n",
      "depth: 43   F1: 0.7596717467760844   auc_roc: 0.7737306843267109\n",
      "depth: 44   F1: 0.7596717467760844   auc_roc: 0.7737306843267109\n",
      "depth: 45   F1: 0.7596717467760844   auc_roc: 0.7737306843267109\n",
      "depth: 46   F1: 0.7596717467760844   auc_roc: 0.7737306843267109\n",
      "depth: 47   F1: 0.7596717467760844   auc_roc: 0.7737306843267109\n",
      "depth: 48   F1: 0.7596717467760844   auc_roc: 0.7737306843267109\n",
      "depth: 49   F1: 0.7596717467760844   auc_roc: 0.7737306843267109\n"
     ]
    }
   ],
   "source": [
    "for depth in range(1, 50):\n",
    "    model = DecisionTreeClassifier(random_state=12345, max_depth=depth) \n",
    "    model.fit(features_train_up, target_train_up) \n",
    "    predicted_valid = model.predict(features_valid_up)\n",
    "    f1 = f1_score(target_valid_up, predicted_valid)\n",
    "    \n",
    "    probabilities_valid = model.predict_proba(features_valid_up)\n",
    "    probabilities_one_valid = probabilities_valid[:, 1]\n",
    "\n",
    "    fpr, tpr, treshold = roc_curve(target_valid_up, probabilities_one_valid)\n",
    "    auc_roc = roc_auc_score(target_valid_up, probabilities_one_valid)\n",
    "    \n",
    "    print('depth:', depth, ' ', 'F1:', f1, ' ', 'auc_roc:', auc_roc)"
   ]
  },
  {
   "cell_type": "markdown",
   "metadata": {},
   "source": [
    "Метод SMOTE дает очень хороший результат. depth: 7 - 49 примерно  F1: 0.7596717467760844   auc_roc: 0.7737306843267109"
   ]
  },
  {
   "cell_type": "markdown",
   "metadata": {},
   "source": [
    "Случайный лес"
   ]
  },
  {
   "cell_type": "code",
   "execution_count": 113,
   "metadata": {},
   "outputs": [
    {
     "name": "stdout",
     "output_type": "stream",
     "text": [
      "depth: 1   F1: 0.6501474926253688   est: 1   auc_roc: 0.6727373068432672\n",
      "depth: 11   F1: 0.7988636363636363   est: 1   auc_roc: 0.8570232056098903\n",
      "depth: 21   F1: 0.77539175856065   est: 1   auc_roc: 0.787517238522677\n",
      "depth: 31   F1: 0.7776484284051223   est: 1   auc_roc: 0.7891832229580573\n",
      "depth: 41   F1: 0.7776484284051223   est: 1   auc_roc: 0.7891832229580573\n",
      "depth: 51   F1: 0.7776484284051223   est: 1   auc_roc: 0.7891832229580573\n",
      "depth: 61   F1: 0.7776484284051223   est: 1   auc_roc: 0.7891832229580573\n",
      "depth: 71   F1: 0.7776484284051223   est: 1   auc_roc: 0.7891832229580573\n",
      "depth: 81   F1: 0.7776484284051223   est: 1   auc_roc: 0.7891832229580573\n",
      "depth: 91   F1: 0.7776484284051223   est: 1   auc_roc: 0.7891832229580573\n",
      "depth: 1   F1: 0.7624132407901761   est: 21   auc_roc: 0.8479428290182205\n",
      "depth: 11   F1: 0.8490456911509543   est: 21   auc_roc: 0.9330042785647803\n",
      "depth: 21   F1: 0.8566433566433567   est: 21   auc_roc: 0.9312012387370924\n",
      "depth: 31   F1: 0.8511383537653239   est: 21   auc_roc: 0.9316660088007835\n",
      "depth: 41   F1: 0.8511383537653239   est: 21   auc_roc: 0.9316660088007835\n",
      "depth: 51   F1: 0.8511383537653239   est: 21   auc_roc: 0.9316660088007835\n",
      "depth: 61   F1: 0.8511383537653239   est: 21   auc_roc: 0.9316660088007835\n",
      "depth: 71   F1: 0.8511383537653239   est: 21   auc_roc: 0.9316660088007835\n",
      "depth: 81   F1: 0.8511383537653239   est: 21   auc_roc: 0.9316660088007835\n",
      "depth: 91   F1: 0.8511383537653239   est: 21   auc_roc: 0.9316660088007835\n",
      "depth: 1   F1: 0.7939262472885033   est: 41   auc_roc: 0.8733967564775424\n",
      "depth: 11   F1: 0.851851851851852   est: 41   auc_roc: 0.9376172585023074\n",
      "depth: 21   F1: 0.8539848749272833   est: 41   auc_roc: 0.9312383959767847\n",
      "depth: 31   F1: 0.8571428571428571   est: 41   auc_roc: 0.933426409173087\n",
      "depth: 41   F1: 0.8571428571428571   est: 41   auc_roc: 0.933426409173087\n",
      "depth: 51   F1: 0.8571428571428571   est: 41   auc_roc: 0.933426409173087\n",
      "depth: 61   F1: 0.8571428571428571   est: 41   auc_roc: 0.933426409173087\n",
      "depth: 71   F1: 0.8571428571428571   est: 41   auc_roc: 0.933426409173087\n",
      "depth: 81   F1: 0.8571428571428571   est: 41   auc_roc: 0.933426409173087\n",
      "depth: 91   F1: 0.8571428571428571   est: 41   auc_roc: 0.933426409173087\n",
      "depth: 1   F1: 0.7957219251336898   est: 61   auc_roc: 0.8694501703141675\n",
      "depth: 11   F1: 0.8568115942028985   est: 61   auc_roc: 0.9394702474063028\n",
      "depth: 21   F1: 0.8554710356933879   est: 61   auc_roc: 0.9339356460973934\n",
      "depth: 31   F1: 0.8507638072855465   est: 61   auc_roc: 0.9346044764118533\n",
      "depth: 41   F1: 0.8507638072855465   est: 61   auc_roc: 0.9346044764118533\n",
      "depth: 51   F1: 0.8507638072855465   est: 61   auc_roc: 0.9346044764118533\n",
      "depth: 61   F1: 0.8507638072855465   est: 61   auc_roc: 0.9346044764118533\n",
      "depth: 71   F1: 0.8507638072855465   est: 61   auc_roc: 0.9346044764118533\n",
      "depth: 81   F1: 0.8507638072855465   est: 61   auc_roc: 0.9346044764118533\n",
      "depth: 91   F1: 0.8507638072855465   est: 61   auc_roc: 0.9346044764118533\n",
      "depth: 1   F1: 0.7860215053763441   est: 81   auc_roc: 0.8746850771652315\n",
      "depth: 11   F1: 0.8612716763005781   est: 81   auc_roc: 0.9398795861779942\n",
      "depth: 21   F1: 0.855309218203034   est: 81   auc_roc: 0.934101939973393\n",
      "depth: 31   F1: 0.851764705882353   est: 81   auc_roc: 0.9348140188783144\n",
      "depth: 41   F1: 0.851764705882353   est: 81   auc_roc: 0.9348140188783144\n",
      "depth: 51   F1: 0.851764705882353   est: 81   auc_roc: 0.9348140188783144\n",
      "depth: 61   F1: 0.851764705882353   est: 81   auc_roc: 0.9348140188783144\n",
      "depth: 71   F1: 0.851764705882353   est: 81   auc_roc: 0.9348140188783144\n",
      "depth: 81   F1: 0.851764705882353   est: 81   auc_roc: 0.9348140188783144\n",
      "depth: 91   F1: 0.851764705882353   est: 81   auc_roc: 0.9348140188783144\n",
      "depth: 1   F1: 0.7922497308934339   est: 101   auc_roc: 0.8739638612341564\n",
      "depth: 11   F1: 0.8601156069364162   est: 101   auc_roc: 0.9398893323392249\n",
      "depth: 21   F1: 0.8522860492379836   est: 101   auc_roc: 0.9341512799146235\n",
      "depth: 31   F1: 0.8487345497351383   est: 101   auc_roc: 0.9343230560063156\n",
      "depth: 41   F1: 0.8487345497351383   est: 101   auc_roc: 0.9343230560063156\n",
      "depth: 51   F1: 0.8487345497351383   est: 101   auc_roc: 0.9343230560063156\n",
      "depth: 61   F1: 0.8487345497351383   est: 101   auc_roc: 0.9343230560063156\n",
      "depth: 71   F1: 0.8487345497351383   est: 101   auc_roc: 0.9343230560063156\n",
      "depth: 81   F1: 0.8487345497351383   est: 101   auc_roc: 0.9343230560063156\n",
      "depth: 91   F1: 0.8487345497351383   est: 101   auc_roc: 0.9343230560063156\n",
      "depth: 1   F1: 0.7946380697050938   est: 121   auc_roc: 0.8750968524772305\n",
      "depth: 11   F1: 0.8589595375722543   est: 121   auc_roc: 0.9398479111539944\n",
      "depth: 21   F1: 0.8524590163934426   est: 121   auc_roc: 0.9349206175167757\n",
      "depth: 31   F1: 0.8529411764705883   est: 121   auc_roc: 0.9350156425887755\n",
      "depth: 41   F1: 0.8529411764705883   est: 121   auc_roc: 0.9350156425887755\n",
      "depth: 51   F1: 0.8529411764705883   est: 121   auc_roc: 0.9350156425887755\n",
      "depth: 61   F1: 0.8529411764705883   est: 121   auc_roc: 0.9350156425887755\n",
      "depth: 71   F1: 0.8529411764705883   est: 121   auc_roc: 0.9350156425887755\n",
      "depth: 81   F1: 0.8529411764705883   est: 121   auc_roc: 0.9350156425887755\n",
      "depth: 91   F1: 0.8529411764705883   est: 121   auc_roc: 0.9350156425887755\n",
      "depth: 1   F1: 0.7942276857295564   est: 141   auc_roc: 0.8741362464609252\n",
      "depth: 11   F1: 0.8609347951529139   est: 141   auc_roc: 0.9398588755853787\n",
      "depth: 21   F1: 0.8536299765807962   est: 141   auc_roc: 0.9348907698980065\n",
      "depth: 31   F1: 0.8490566037735848   est: 141   auc_roc: 0.9349529016758525\n",
      "depth: 41   F1: 0.8490566037735848   est: 141   auc_roc: 0.9349529016758525\n",
      "depth: 51   F1: 0.8490566037735848   est: 141   auc_roc: 0.9349529016758525\n",
      "depth: 61   F1: 0.8490566037735848   est: 141   auc_roc: 0.9349529016758525\n",
      "depth: 71   F1: 0.8490566037735848   est: 141   auc_roc: 0.9349529016758525\n",
      "depth: 81   F1: 0.8490566037735848   est: 141   auc_roc: 0.9349529016758525\n",
      "depth: 91   F1: 0.8490566037735848   est: 141   auc_roc: 0.9349529016758525\n",
      "depth: 1   F1: 0.7934959349593497   est: 161   auc_roc: 0.8738383794083104\n",
      "depth: 11   F1: 0.8610951008645533   est: 161   auc_roc: 0.9400952199952246\n",
      "depth: 21   F1: 0.8554710356933879   est: 161   auc_roc: 0.934856049198622\n",
      "depth: 31   F1: 0.8497348261638183   est: 161   auc_roc: 0.9350674190703138\n",
      "depth: 41   F1: 0.8497348261638183   est: 161   auc_roc: 0.9350674190703138\n",
      "depth: 51   F1: 0.8497348261638183   est: 161   auc_roc: 0.9350674190703138\n",
      "depth: 61   F1: 0.8497348261638183   est: 161   auc_roc: 0.9350674190703138\n",
      "depth: 71   F1: 0.8497348261638183   est: 161   auc_roc: 0.9350674190703138\n",
      "depth: 81   F1: 0.8497348261638183   est: 161   auc_roc: 0.9350674190703138\n",
      "depth: 91   F1: 0.8497348261638183   est: 161   auc_roc: 0.9350674190703138\n",
      "depth: 1   F1: 0.7934604904632153   est: 181   auc_roc: 0.8704052941147805\n",
      "depth: 11   F1: 0.861431870669746   est: 181   auc_roc: 0.9400026314635324\n",
      "depth: 21   F1: 0.8548009367681498   est: 181   auc_roc: 0.9349425463795448\n",
      "depth: 31   F1: 0.8515901060070671   est: 181   auc_roc: 0.9349784853490831\n",
      "depth: 41   F1: 0.8515901060070671   est: 181   auc_roc: 0.9349784853490831\n",
      "depth: 51   F1: 0.8515901060070671   est: 181   auc_roc: 0.9349784853490831\n",
      "depth: 61   F1: 0.8515901060070671   est: 181   auc_roc: 0.9349784853490831\n",
      "depth: 71   F1: 0.8515901060070671   est: 181   auc_roc: 0.9349784853490831\n",
      "depth: 81   F1: 0.8515901060070671   est: 181   auc_roc: 0.9349784853490831\n",
      "depth: 91   F1: 0.8515901060070671   est: 181   auc_roc: 0.9349784853490831\n"
     ]
    }
   ],
   "source": [
    "for est in range(1, 200, 20):\n",
    "    for depth in range(1, 100, 10):\n",
    "        model = RandomForestClassifier(random_state=12345, n_estimators=est, max_depth=depth) \n",
    "        model.fit(features_train_up, target_train_up) \n",
    "        predicted_valid = model.predict(features_valid_up)\n",
    "        f1 = f1_score(target_valid_up, predicted_valid)\n",
    "        \n",
    "        probabilities_valid = model.predict_proba(features_valid_up)\n",
    "        probabilities_one_valid = probabilities_valid[:, 1]\n",
    "\n",
    "        fpr, tpr, treshold = roc_curve(target_valid_up, probabilities_one_valid)\n",
    "        auc_roc = roc_auc_score(target_valid_up, probabilities_one_valid)\n",
    "    \n",
    "        print('depth:', depth, ' ', 'F1:', f1, ' ', 'est:', est,  ' ', 'auc_roc:', auc_roc)"
   ]
  },
  {
   "cell_type": "code",
   "execution_count": 118,
   "metadata": {},
   "outputs": [],
   "source": [
    "#Очень незначительные изминения"
   ]
  },
  {
   "cell_type": "markdown",
   "metadata": {},
   "source": [
    "Очень незначительные изминения относительно решающего дерева. Лучший резкдьтат на всем диапозоне примерно одинаковй depth: 51   F1: 0.8529411764705883   est: 121   auc_roc: 0.9350156425887755"
   ]
  },
  {
   "cell_type": "markdown",
   "metadata": {},
   "source": [
    "<div class=\"alert alert-warning\">\n",
    "<h2> Комментарий ревьюера <a class=\"tocSkip\"> </h2>\n",
    "    \n",
    "<b>Некоторые замечания и рекомендации💡:</b> \n",
    "\n",
    "Мы внесли значительные изменения во вводные данные, логично, что нужно заново подобрать гиперпараметры.\n",
    "       \n",
    "</div>\n"
   ]
  },
  {
   "cell_type": "markdown",
   "metadata": {},
   "source": [
    "<div class=\"alert alert-info\"> \n",
    "Благодарю, исправил\n",
    "</div>"
   ]
  },
  {
   "cell_type": "code",
   "execution_count": 119,
   "metadata": {},
   "outputs": [],
   "source": [
    "#А вот у случайного леса метрика немнго даже ухудшилась"
   ]
  },
  {
   "cell_type": "markdown",
   "metadata": {},
   "source": [
    "Регрессия"
   ]
  },
  {
   "cell_type": "code",
   "execution_count": 120,
   "metadata": {},
   "outputs": [
    {
     "name": "stdout",
     "output_type": "stream",
     "text": [
      "F1: 0.7728487439871727   auc_roc: 0.8442904550969987\n"
     ]
    }
   ],
   "source": [
    "model = LogisticRegression(solver='liblinear', random_state=12345) \n",
    "model.fit(features_train_up, target_train_up) \n",
    "predicted_valid = model.predict(features_valid_up)\n",
    "f1 = f1_score(target_valid_up, predicted_valid)\n",
    "\n",
    "probabilities_valid = model.predict_proba(features_valid_up)\n",
    "probabilities_one_valid = probabilities_valid[:, 1]\n",
    "\n",
    "fpr, tpr, treshold = roc_curve(target_valid_up, probabilities_one_valid)\n",
    "auc_roc = roc_auc_score(target_valid_up, probabilities_one_valid)\n",
    "    \n",
    "print('F1:', f1, ' ', 'auc_roc:', auc_roc) "
   ]
  },
  {
   "cell_type": "markdown",
   "metadata": {},
   "source": [
    "И у регрсесии метрика тоже улучгилась, F1: 0.7728487439871727   auc_roc: 0.8442904550969987"
   ]
  },
  {
   "cell_type": "markdown",
   "metadata": {},
   "source": [
    "3 стратегия метод RandomUnderSampler"
   ]
  },
  {
   "cell_type": "code",
   "execution_count": 121,
   "metadata": {},
   "outputs": [
    {
     "data": {
      "text/plain": [
       "'\\n#def downsample(features, target, fraction):\\n    #features_zeros = features[target == 0]\\n    #features_ones = features[target == 1]\\n    #target_zeros = target[target == 0]\\n    #target_ones = target[target == 1]\\n\\n    #features_downsampled = pd.concat(\\n        [#features_zeros.sample(frac=fraction, random_state=12345)] + [features_ones])\\n    #target_downsampled = pd.concat(\\n        #[target_zeros.sample(frac=fraction, random_state=12345)] + [target_ones])\\n    \\n    #features_downsampled, target_downsampled = shuffle(\\n        #features_downsampled, target_downsampled, random_state=12345)\\n   #return features_downsampled, target_downsampled\\n\\n#features_downsampled, target_downsampled = downsampled(features_train, target_train, 0,25)'"
      ]
     },
     "execution_count": 121,
     "metadata": {},
     "output_type": "execute_result"
    }
   ],
   "source": [
    "'''\n",
    "#def downsample(features, target, fraction):\n",
    "    #features_zeros = features[target == 0]\n",
    "    #features_ones = features[target == 1]\n",
    "    #target_zeros = target[target == 0]\n",
    "    #target_ones = target[target == 1]\n",
    "\n",
    "    #features_downsampled = pd.concat(\n",
    "        [#features_zeros.sample(frac=fraction, random_state=12345)] + [features_ones])\n",
    "    #target_downsampled = pd.concat(\n",
    "        #[target_zeros.sample(frac=fraction, random_state=12345)] + [target_ones])\n",
    "    \n",
    "    #features_downsampled, target_downsampled = shuffle(\n",
    "        #features_downsampled, target_downsampled, random_state=12345)\n",
    "   #return features_downsampled, target_downsampled\n",
    "\n",
    "#features_downsampled, target_downsampled = downsampled(features_train, target_train, 0,25)'''"
   ]
  },
  {
   "cell_type": "code",
   "execution_count": 122,
   "metadata": {},
   "outputs": [],
   "source": [
    "downsample = RandomUnderSampler(random_state=12345)\n",
    "\n",
    "features_train_down, target_train_down = downsample.fit_resample(features_train_enc, target_train)\n",
    "features_valid_down, target_valid_down = downsample.fit_resample(features_valid_enc, target_valid)\n",
    "features_test_down, target_test_down = downsample.fit_resample(features_test_enc, target_test)"
   ]
  },
  {
   "cell_type": "markdown",
   "metadata": {},
   "source": [
    "Решающее дерево"
   ]
  },
  {
   "cell_type": "code",
   "execution_count": 123,
   "metadata": {},
   "outputs": [
    {
     "name": "stdout",
     "output_type": "stream",
     "text": [
      "depth: 1   F1: 0.6592427616926503   auc_roc: 0.6673913043478261\n",
      "depth: 2   F1: 0.6911447084233261   auc_roc: 0.736030245746692\n",
      "depth: 3   F1: 0.6911447084233261   auc_roc: 0.7794706994328923\n",
      "depth: 4   F1: 0.7574468085106384   auc_roc: 0.8126465028355387\n",
      "depth: 5   F1: 0.7676348547717842   auc_roc: 0.8370699432892248\n",
      "depth: 6   F1: 0.7672413793103448   auc_roc: 0.8272778827977315\n",
      "depth: 7   F1: 0.7645788336933045   auc_roc: 0.8231001890359168\n",
      "depth: 8   F1: 0.772823779193206   auc_roc: 0.8248582230623819\n",
      "depth: 9   F1: 0.7531380753138075   auc_roc: 0.8001890359168241\n",
      "depth: 10   F1: 0.7531380753138075   auc_roc: 0.7757655954631381\n",
      "depth: 11   F1: 0.7574468085106384   auc_roc: 0.7732136105860113\n",
      "depth: 12   F1: 0.7366167023554604   auc_roc: 0.7642533081285444\n",
      "depth: 13   F1: 0.7172995780590717   auc_roc: 0.7337618147448016\n",
      "depth: 14   F1: 0.7161016949152542   auc_roc: 0.7191871455576558\n",
      "depth: 15   F1: 0.7291666666666667   auc_roc: 0.7322211720226843\n",
      "depth: 16   F1: 0.7106382978723403   auc_roc: 0.7080340264650283\n",
      "depth: 17   F1: 0.723404255319149   auc_roc: 0.7124102079395086\n",
      "depth: 18   F1: 0.7115789473684211   auc_roc: 0.7039319470699433\n",
      "depth: 19   F1: 0.7142857142857142   auc_roc: 0.7074102079395085\n",
      "depth: 20   F1: 0.7169811320754716   auc_roc: 0.7065217391304348\n",
      "depth: 21   F1: 0.7157894736842104   auc_roc: 0.7065217391304347\n",
      "depth: 22   F1: 0.7157894736842104   auc_roc: 0.7065217391304347\n",
      "depth: 23   F1: 0.7157894736842104   auc_roc: 0.7065217391304347\n",
      "depth: 24   F1: 0.7157894736842104   auc_roc: 0.7065217391304347\n",
      "depth: 25   F1: 0.7157894736842104   auc_roc: 0.7065217391304347\n",
      "depth: 26   F1: 0.7157894736842104   auc_roc: 0.7065217391304347\n",
      "depth: 27   F1: 0.7157894736842104   auc_roc: 0.7065217391304347\n",
      "depth: 28   F1: 0.7157894736842104   auc_roc: 0.7065217391304347\n",
      "depth: 29   F1: 0.7157894736842104   auc_roc: 0.7065217391304347\n",
      "depth: 30   F1: 0.7157894736842104   auc_roc: 0.7065217391304347\n",
      "depth: 31   F1: 0.7157894736842104   auc_roc: 0.7065217391304347\n",
      "depth: 32   F1: 0.7157894736842104   auc_roc: 0.7065217391304347\n",
      "depth: 33   F1: 0.7157894736842104   auc_roc: 0.7065217391304347\n",
      "depth: 34   F1: 0.7157894736842104   auc_roc: 0.7065217391304347\n",
      "depth: 35   F1: 0.7157894736842104   auc_roc: 0.7065217391304347\n",
      "depth: 36   F1: 0.7157894736842104   auc_roc: 0.7065217391304347\n",
      "depth: 37   F1: 0.7157894736842104   auc_roc: 0.7065217391304347\n",
      "depth: 38   F1: 0.7157894736842104   auc_roc: 0.7065217391304347\n",
      "depth: 39   F1: 0.7157894736842104   auc_roc: 0.7065217391304347\n",
      "depth: 40   F1: 0.7157894736842104   auc_roc: 0.7065217391304347\n",
      "depth: 41   F1: 0.7157894736842104   auc_roc: 0.7065217391304347\n",
      "depth: 42   F1: 0.7157894736842104   auc_roc: 0.7065217391304347\n",
      "depth: 43   F1: 0.7157894736842104   auc_roc: 0.7065217391304347\n",
      "depth: 44   F1: 0.7157894736842104   auc_roc: 0.7065217391304347\n",
      "depth: 45   F1: 0.7157894736842104   auc_roc: 0.7065217391304347\n",
      "depth: 46   F1: 0.7157894736842104   auc_roc: 0.7065217391304347\n",
      "depth: 47   F1: 0.7157894736842104   auc_roc: 0.7065217391304347\n",
      "depth: 48   F1: 0.7157894736842104   auc_roc: 0.7065217391304347\n",
      "depth: 49   F1: 0.7157894736842104   auc_roc: 0.7065217391304347\n"
     ]
    }
   ],
   "source": [
    "for depth in range(1, 50):\n",
    "    model = DecisionTreeClassifier(random_state=12345, max_depth=depth) \n",
    "    model.fit(features_train_down, target_train_down) \n",
    "    predicted_valid = model.predict(features_valid_down)\n",
    "    f1 = f1_score(target_valid_down, predicted_valid)\n",
    "    \n",
    "    probabilities_valid = model.predict_proba(features_valid_down)\n",
    "    probabilities_one_valid = probabilities_valid[:, 1]\n",
    "\n",
    "    fpr, tpr, treshold = roc_curve(target_valid_down, probabilities_one_valid)\n",
    "    auc_roc = roc_auc_score(target_valid_down, probabilities_one_valid)\n",
    "    \n",
    "    print('depth:', depth, ' ', 'F1:', f1, ' ', 'auc_roc:', auc_roc)"
   ]
  },
  {
   "cell_type": "code",
   "execution_count": 112,
   "metadata": {},
   "outputs": [],
   "source": [
    "#Очень незначительные изминения"
   ]
  },
  {
   "cell_type": "markdown",
   "metadata": {},
   "source": [
    "Результат чуть хуже чем при SMOTE. depth: 49   F1: 0.7157894736842104   auc_roc: 0.7065217391304347"
   ]
  },
  {
   "cell_type": "code",
   "execution_count": 124,
   "metadata": {},
   "outputs": [
    {
     "name": "stdout",
     "output_type": "stream",
     "text": [
      "depth: 1   F1: 0.6921529175050303   est: 1   auc_roc: 0.667391304347826\n",
      "depth: 11   F1: 0.7028199566160521   est: 1   auc_roc: 0.7193289224952741\n",
      "depth: 21   F1: 0.6709129511677283   est: 1   auc_roc: 0.6630434782608695\n",
      "depth: 31   F1: 0.6709129511677283   est: 1   auc_roc: 0.6630434782608695\n",
      "depth: 41   F1: 0.6709129511677283   est: 1   auc_roc: 0.6630434782608695\n",
      "depth: 51   F1: 0.6709129511677283   est: 1   auc_roc: 0.6630434782608695\n",
      "depth: 61   F1: 0.6709129511677283   est: 1   auc_roc: 0.6630434782608695\n",
      "depth: 71   F1: 0.6709129511677283   est: 1   auc_roc: 0.6630434782608695\n",
      "depth: 81   F1: 0.6709129511677283   est: 1   auc_roc: 0.6630434782608695\n",
      "depth: 91   F1: 0.6709129511677283   est: 1   auc_roc: 0.6630434782608695\n",
      "depth: 1   F1: 0.7543859649122807   est: 21   auc_roc: 0.8205103969754253\n",
      "depth: 11   F1: 0.7789934354485777   est: 21   auc_roc: 0.8616635160680528\n",
      "depth: 21   F1: 0.7833698030634574   est: 21   auc_roc: 0.8510964083175804\n",
      "depth: 31   F1: 0.7868131868131868   est: 21   auc_roc: 0.8525047258979206\n",
      "depth: 41   F1: 0.7868131868131868   est: 21   auc_roc: 0.8525047258979206\n",
      "depth: 51   F1: 0.7868131868131868   est: 21   auc_roc: 0.8525047258979206\n",
      "depth: 61   F1: 0.7868131868131868   est: 21   auc_roc: 0.8525047258979206\n",
      "depth: 71   F1: 0.7868131868131868   est: 21   auc_roc: 0.8525047258979206\n",
      "depth: 81   F1: 0.7868131868131868   est: 21   auc_roc: 0.8525047258979206\n",
      "depth: 91   F1: 0.7868131868131868   est: 21   auc_roc: 0.8525047258979206\n",
      "depth: 1   F1: 0.7510917030567685   est: 41   auc_roc: 0.8190453686200379\n",
      "depth: 11   F1: 0.7839643652561248   est: 41   auc_roc: 0.8655576559546314\n",
      "depth: 21   F1: 0.7807017543859648   est: 41   auc_roc: 0.8567485822306238\n",
      "depth: 31   F1: 0.7869565217391304   est: 41   auc_roc: 0.8593950850661627\n",
      "depth: 41   F1: 0.7869565217391304   est: 41   auc_roc: 0.8593950850661627\n",
      "depth: 51   F1: 0.7869565217391304   est: 41   auc_roc: 0.8593950850661627\n",
      "depth: 61   F1: 0.7869565217391304   est: 41   auc_roc: 0.8593950850661627\n",
      "depth: 71   F1: 0.7869565217391304   est: 41   auc_roc: 0.8593950850661627\n",
      "depth: 81   F1: 0.7869565217391304   est: 41   auc_roc: 0.8593950850661627\n",
      "depth: 91   F1: 0.7869565217391304   est: 41   auc_roc: 0.8593950850661627\n",
      "depth: 1   F1: 0.7483296213808464   est: 61   auc_roc: 0.819546313799622\n",
      "depth: 11   F1: 0.7929515418502202   est: 61   auc_roc: 0.8687712665406426\n",
      "depth: 21   F1: 0.7775377969762419   est: 61   auc_roc: 0.8576275992438565\n",
      "depth: 31   F1: 0.782608695652174   est: 61   auc_roc: 0.8602835538752364\n",
      "depth: 41   F1: 0.782608695652174   est: 61   auc_roc: 0.8602835538752364\n",
      "depth: 51   F1: 0.782608695652174   est: 61   auc_roc: 0.8602835538752364\n",
      "depth: 61   F1: 0.782608695652174   est: 61   auc_roc: 0.8602835538752364\n",
      "depth: 71   F1: 0.782608695652174   est: 61   auc_roc: 0.8602835538752364\n",
      "depth: 81   F1: 0.782608695652174   est: 61   auc_roc: 0.8602835538752364\n",
      "depth: 91   F1: 0.782608695652174   est: 61   auc_roc: 0.8602835538752364\n",
      "depth: 1   F1: 0.7587719298245614   est: 81   auc_roc: 0.8158695652173914\n",
      "depth: 11   F1: 0.801762114537445   est: 81   auc_roc: 0.8699243856332702\n",
      "depth: 21   F1: 0.7792207792207793   est: 81   auc_roc: 0.8591209829867675\n",
      "depth: 31   F1: 0.7860262008733624   est: 81   auc_roc: 0.8606427221172023\n",
      "depth: 41   F1: 0.7860262008733624   est: 81   auc_roc: 0.8606427221172023\n",
      "depth: 51   F1: 0.7860262008733624   est: 81   auc_roc: 0.8606427221172023\n",
      "depth: 61   F1: 0.7860262008733624   est: 81   auc_roc: 0.8606427221172023\n",
      "depth: 71   F1: 0.7860262008733624   est: 81   auc_roc: 0.8606427221172023\n",
      "depth: 81   F1: 0.7860262008733624   est: 81   auc_roc: 0.8606427221172023\n",
      "depth: 91   F1: 0.7860262008733624   est: 81   auc_roc: 0.8606427221172023\n",
      "depth: 1   F1: 0.7538126361655774   est: 101   auc_roc: 0.8129017013232516\n",
      "depth: 11   F1: 0.800875273522976   est: 101   auc_roc: 0.8695274102079396\n",
      "depth: 21   F1: 0.7868131868131868   est: 101   auc_roc: 0.8609546313799622\n",
      "depth: 31   F1: 0.7850877192982456   est: 101   auc_roc: 0.8625614366729678\n",
      "depth: 41   F1: 0.7850877192982456   est: 101   auc_roc: 0.8625614366729678\n",
      "depth: 51   F1: 0.7850877192982456   est: 101   auc_roc: 0.8625614366729678\n",
      "depth: 61   F1: 0.7850877192982456   est: 101   auc_roc: 0.8625614366729678\n",
      "depth: 71   F1: 0.7850877192982456   est: 101   auc_roc: 0.8625614366729678\n",
      "depth: 81   F1: 0.7850877192982456   est: 101   auc_roc: 0.8625614366729678\n",
      "depth: 91   F1: 0.7850877192982456   est: 101   auc_roc: 0.8625614366729678\n",
      "depth: 1   F1: 0.7565217391304349   est: 121   auc_roc: 0.8137334593572777\n",
      "depth: 11   F1: 0.7929515418502202   est: 121   auc_roc: 0.8681852551984878\n",
      "depth: 21   F1: 0.7799564270152507   est: 121   auc_roc: 0.8614461247637051\n",
      "depth: 31   F1: 0.782608695652174   est: 121   auc_roc: 0.8636105860113422\n",
      "depth: 41   F1: 0.782608695652174   est: 121   auc_roc: 0.8636105860113422\n",
      "depth: 51   F1: 0.782608695652174   est: 121   auc_roc: 0.8636105860113422\n",
      "depth: 61   F1: 0.782608695652174   est: 121   auc_roc: 0.8636105860113422\n",
      "depth: 71   F1: 0.782608695652174   est: 121   auc_roc: 0.8636105860113422\n",
      "depth: 81   F1: 0.782608695652174   est: 121   auc_roc: 0.8636105860113422\n",
      "depth: 91   F1: 0.782608695652174   est: 121   auc_roc: 0.8636105860113422\n",
      "depth: 1   F1: 0.7361419068736142   est: 141   auc_roc: 0.8093005671077504\n",
      "depth: 11   F1: 0.7912087912087912   est: 141   auc_roc: 0.8666540642722116\n",
      "depth: 21   F1: 0.7939262472885033   est: 141   auc_roc: 0.8645368620037807\n",
      "depth: 31   F1: 0.791304347826087   est: 141   auc_roc: 0.86648393194707\n",
      "depth: 41   F1: 0.791304347826087   est: 141   auc_roc: 0.86648393194707\n",
      "depth: 51   F1: 0.791304347826087   est: 141   auc_roc: 0.86648393194707\n",
      "depth: 61   F1: 0.791304347826087   est: 141   auc_roc: 0.86648393194707\n",
      "depth: 71   F1: 0.791304347826087   est: 141   auc_roc: 0.86648393194707\n",
      "depth: 81   F1: 0.791304347826087   est: 141   auc_roc: 0.86648393194707\n",
      "depth: 91   F1: 0.791304347826087   est: 141   auc_roc: 0.86648393194707\n",
      "depth: 1   F1: 0.6971677559912854   est: 161   auc_roc: 0.8040548204158791\n",
      "depth: 11   F1: 0.7877461706783371   est: 161   auc_roc: 0.8662192816635161\n",
      "depth: 21   F1: 0.7835497835497837   est: 161   auc_roc: 0.8639603024574669\n",
      "depth: 31   F1: 0.7835497835497837   est: 161   auc_roc: 0.8655198487712665\n",
      "depth: 41   F1: 0.7835497835497837   est: 161   auc_roc: 0.8655198487712665\n",
      "depth: 51   F1: 0.7835497835497837   est: 161   auc_roc: 0.8655198487712665\n",
      "depth: 61   F1: 0.7835497835497837   est: 161   auc_roc: 0.8655198487712665\n",
      "depth: 71   F1: 0.7835497835497837   est: 161   auc_roc: 0.8655198487712665\n",
      "depth: 81   F1: 0.7835497835497837   est: 161   auc_roc: 0.8655198487712665\n",
      "depth: 91   F1: 0.7835497835497837   est: 161   auc_roc: 0.8655198487712665\n",
      "depth: 1   F1: 0.6958424507658643   est: 181   auc_roc: 0.8018620037807184\n",
      "depth: 11   F1: 0.7930283224400871   est: 181   auc_roc: 0.8676937618147448\n",
      "depth: 21   F1: 0.7869565217391304   est: 181   auc_roc: 0.8653402646502835\n",
      "depth: 31   F1: 0.7895878524945769   est: 181   auc_roc: 0.8672873345935728\n",
      "depth: 41   F1: 0.7895878524945769   est: 181   auc_roc: 0.8672873345935728\n",
      "depth: 51   F1: 0.7895878524945769   est: 181   auc_roc: 0.8672873345935728\n",
      "depth: 61   F1: 0.7895878524945769   est: 181   auc_roc: 0.8672873345935728\n",
      "depth: 71   F1: 0.7895878524945769   est: 181   auc_roc: 0.8672873345935728\n",
      "depth: 81   F1: 0.7895878524945769   est: 181   auc_roc: 0.8672873345935728\n",
      "depth: 91   F1: 0.7895878524945769   est: 181   auc_roc: 0.8672873345935728\n"
     ]
    }
   ],
   "source": [
    "for est in range(1, 200, 20):\n",
    "    for depth in range(1, 100, 10):\n",
    "        model = RandomForestClassifier(random_state=12345, n_estimators=est, max_depth=depth) \n",
    "        model.fit(features_train_down, target_train_down) \n",
    "        predicted_valid = model.predict(features_valid_down)\n",
    "        f1 = f1_score(target_valid_down, predicted_valid)\n",
    "        \n",
    "        probabilities_valid = model.predict_proba(features_valid_down)\n",
    "        probabilities_one_valid = probabilities_valid[:, 1]\n",
    "    \n",
    "        fpr, tpr, treshold = roc_curve(target_valid_down, probabilities_one_valid)\n",
    "        auc_roc = roc_auc_score(target_valid_down, probabilities_one_valid)\n",
    "    \n",
    "        print('depth:', depth, ' ', 'F1:', f1, ' ', 'est:', est,  ' ', 'auc_roc:', auc_roc)"
   ]
  },
  {
   "cell_type": "markdown",
   "metadata": {},
   "source": [
    "У случайного леса метрика немнго eще ухудшилась при SMOTE. depth: 91   F1: 0.7895878524945769   est: 181   auc_roc: 0.8672873345935728"
   ]
  },
  {
   "cell_type": "markdown",
   "metadata": {},
   "source": [
    "Регрессия"
   ]
  },
  {
   "cell_type": "code",
   "execution_count": 125,
   "metadata": {},
   "outputs": [
    {
     "name": "stdout",
     "output_type": "stream",
     "text": [
      "F1: 0.7336244541484717   auc_roc: 0.7900756143667296\n"
     ]
    }
   ],
   "source": [
    "model = LogisticRegression(solver='liblinear', random_state=12345) \n",
    "model.fit(features_train_down, target_train_down) \n",
    "predicted_valid = model.predict(features_valid_down)\n",
    "f1 = f1_score(target_valid_down, predicted_valid)\n",
    "\n",
    "probabilities_valid = model.predict_proba(features_valid_down)\n",
    "probabilities_one_valid = probabilities_valid[:, 1]\n",
    "    \n",
    "fpr, tpr, treshold = roc_curve(target_valid_down, probabilities_one_valid)\n",
    "auc_roc = roc_auc_score(target_valid_down, probabilities_one_valid)\n",
    "    \n",
    "print('F1:', f1, ' ', 'auc_roc:', auc_roc) "
   ]
  },
  {
   "cell_type": "markdown",
   "metadata": {},
   "source": [
    "И у регрсесии метрика тоже ухудшилась, и хуже чем у дерева и леса"
   ]
  },
  {
   "cell_type": "markdown",
   "metadata": {},
   "source": [
    "<div class=\"alert alert-warning\">\n",
    "<h2> Комментарий ревьюера <a class=\"tocSkip\"> </h2>\n",
    "    \n",
    "<b>Некоторые замечания и рекомендации💡:</b> \n",
    "\n",
    "Везде, где возможно, нужно подбирать гиперпараметры.\n",
    "       \n",
    "</div>\n"
   ]
  },
  {
   "cell_type": "markdown",
   "metadata": {},
   "source": [
    "<div class=\"alert alert-info\"> \n",
    "Благодарю, исправил\n",
    "</div>"
   ]
  },
  {
   "cell_type": "markdown",
   "metadata": {},
   "source": [
    "Очень незначительные изминения"
   ]
  },
  {
   "cell_type": "markdown",
   "metadata": {},
   "source": [
    "Вывод: \n",
    "Видно что самая лучшая оказалась первая стратегия где баланс классов устанавливается с помощью аргумента class_weight = 'balanced'. Самый лучший результат у модели случайного леса, где f1 метрика равна 0.6208. Что касается стратегии upsampling и downsampling, то следует отметить что нету точных показателей которые говорят насколько нужно увеличить или уменьшить выборку чтобы достичь наилучшего результата. Кто-то считает, что нужно выравнивать 50 на 50, есть те кто не использует upsampling/downsampling, кто-то пробует различные коэффициенты, это все эмпирические выводы."
   ]
  },
  {
   "cell_type": "markdown",
   "metadata": {},
   "source": [
    "<div class=\"alert alert-warning\">\n",
    "<h2> Комментарий ревьюера <a class=\"tocSkip\"> </h2>\n",
    "    \n",
    "<b>Некоторые замечания и рекомендации💡:</b> \n",
    "\n",
    "Как мы увидели, на линейных моделях дисбаланс классов становится серьезной проблемой для обучения. При огромном разбросе регрессии сложно подобрать коэффициенты к весам, не «перепрыгнув» оптимального состояния.\n",
    "    \n",
    "По балансу классов, в идеале нужно стремиться к 50/50.\n",
    "       \n",
    "</div>\n"
   ]
  },
  {
   "cell_type": "markdown",
   "metadata": {},
   "source": [
    "<div class=\"alert alert-info\"> \n",
    "Благодарю, принял. Как и писал выше я выводы оставою прежние чтобы не не терять нить\n",
    "</div>"
   ]
  },
  {
   "cell_type": "markdown",
   "metadata": {},
   "source": [
    "## Тестирование модели"
   ]
  },
  {
   "cell_type": "markdown",
   "metadata": {},
   "source": [
    "Вначале сохраним лучшуу модель, случайный лес метод SMOKE при n_estimators=191, max_depth=91"
   ]
  },
  {
   "cell_type": "code",
   "execution_count": 126,
   "metadata": {},
   "outputs": [
    {
     "data": {
      "text/plain": [
       "['model_RandomForestClassifier_SMOKE.joblib']"
      ]
     },
     "execution_count": 126,
     "metadata": {},
     "output_type": "execute_result"
    }
   ],
   "source": [
    "model = RandomForestClassifier(random_state=12345, n_estimators=181, max_depth=91) \n",
    "model.fit(features_train_up, target_train_up) \n",
    "dump(model, 'model_RandomForestClassifier_SMOKE.joblib')"
   ]
  },
  {
   "cell_type": "code",
   "execution_count": 127,
   "metadata": {},
   "outputs": [
    {
     "name": "stdout",
     "output_type": "stream",
     "text": [
      "depth: 91   F1: 0.8612385321100918   est: 181   auc_roc: 0.9411451679029768\n"
     ]
    }
   ],
   "source": [
    "model = load('model_RandomForestClassifier_SMOKE.joblib')\n",
    "\n",
    "test_predictions = model.predict(features_test_up)\n",
    "test_f1 = f1_score(target_test_up, test_predictions)\n",
    "\n",
    "probabilities_test = model.predict_proba(features_test_up)\n",
    "probabilities_one_test = probabilities_test[:, 1]\n",
    "fpr, tpr, treshold = roc_curve(target_test_up, probabilities_one_test)\n",
    "auc_roc = roc_auc_score(target_test_up, probabilities_one_test)\n",
    "\n",
    "print('depth:', depth, ' ', 'F1:', test_f1, ' ', 'est:', est,  ' ', 'auc_roc:', auc_roc)"
   ]
  },
  {
   "cell_type": "markdown",
   "metadata": {},
   "source": [
    "Результат намного больше 0,59, depth: 91   F1: 0.8612385321100918   est: 181   auc_roc: 0.9411451679029768, но попробую обьединить выборки"
   ]
  },
  {
   "cell_type": "markdown",
   "metadata": {},
   "source": [
    "<div class=\"alert alert-success\">\n",
    "<h2> Комментарий ревьюера <a class=\"tocSkip\"> </h2>\n",
    "\n",
    "👍 Хорошая идея.\n",
    "</div>"
   ]
  },
  {
   "cell_type": "code",
   "execution_count": 128,
   "metadata": {},
   "outputs": [],
   "source": [
    "NEW_features_train_up = pd.concat([features_train_up, features_valid_up])\n",
    "NEW_target_train_up = pd.concat([target_train_up, target_valid_up])"
   ]
  },
  {
   "cell_type": "markdown",
   "metadata": {},
   "source": [
    "<div class=\"alert alert-block alert-danger\">\n",
    "<h2><s> Комментарий ревьюера #2 <a class=\"tocSkip\"></h2>\n",
    "  \n",
    "<b>На доработку🤔:</b>\n",
    " \n",
    "Мы здесь можем обединить трейн и валидационную, обучить модель на этой объединенной выборке заново, а затем посчитать метрику на тесте. Никак иначе.  В твоем случае у нас идет утечка целевого признака. \n",
    "\n",
    "</div>\n",
    "\n"
   ]
  },
  {
   "cell_type": "markdown",
   "metadata": {},
   "source": [
    "<div class=\"alert alert-info\"> \n",
    "Благодарю, исправил\n",
    "</div>"
   ]
  },
  {
   "cell_type": "markdown",
   "metadata": {},
   "source": [
    "<div class=\"alert alert-success\">\n",
    "<h2> Комментарий ревьюера #3 <a class=\"tocSkip\"> </h2>\n",
    "\n",
    "👍 Отлично! Круто, что решил доделать.\n",
    "</div>\n"
   ]
  },
  {
   "cell_type": "code",
   "execution_count": 134,
   "metadata": {},
   "outputs": [
    {
     "name": "stdout",
     "output_type": "stream",
     "text": [
      "depth: 91   F1: 0.8649885583524027   est: 181   auc_roc: 0.9443815430674471\n"
     ]
    }
   ],
   "source": [
    "model = RandomForestClassifier(random_state=12345, n_estimators=181, max_depth=91) \n",
    "model.fit(NEW_features_train_up, NEW_target_train_up) \n",
    "predicted_test = model.predict(features_test_up)\n",
    "f1 = f1_score(target_test_up, predicted_test)\n",
    "\n",
    "\n",
    "probabilities_test = model.predict_proba(features_test_up)\n",
    "probabilities_one_test = probabilities_test[:, 1]\n",
    "fpr, tpr, treshold = roc_curve(target_test_up, probabilities_one_test)\n",
    "auc_roc = roc_auc_score(target_test_up, probabilities_one_test)\n",
    "    \n",
    "print('depth:', depth, ' ', 'F1:', f1, ' ', 'est:', est,  ' ', 'auc_roc:', auc_roc)"
   ]
  },
  {
   "cell_type": "markdown",
   "metadata": {},
   "source": [
    "Результат не сильно поменялся "
   ]
  },
  {
   "cell_type": "markdown",
   "metadata": {},
   "source": [
    "<div class=\"alert alert-info\"> \n",
    "Я правильно понял, что модель обучает при лучших гиперпараметрах которые нашои в преыдуший раз. Тоесть не нудно снова для этой выборки искать лучгий медот балансировки, лучшую модель и гиперпараметры.\n",
    "</div>"
   ]
  },
  {
   "cell_type": "markdown",
   "metadata": {},
   "source": [
    "<div class=\"alert alert-success\">\n",
    "<h2> Комментарий ревьюера #2 <a class=\"tocSkip\"> </h2>\n",
    "\n",
    "👍 Да, с тестом уже параметры подбирать нельзя. Иначе будет качество лучше, чем мы можем гарантировать заказчику. \n",
    "</div>\n"
   ]
  },
  {
   "cell_type": "code",
   "execution_count": 135,
   "metadata": {},
   "outputs": [],
   "source": [
    "#Метрика улучшилась и стала равной 0,6086"
   ]
  },
  {
   "cell_type": "code",
   "execution_count": 136,
   "metadata": {},
   "outputs": [],
   "source": [
    "#Иследуем метрику для нашей лучшей модели"
   ]
  },
  {
   "cell_type": "code",
   "execution_count": 137,
   "metadata": {},
   "outputs": [],
   "source": [
    "#model = load('model_RandomForestClassifier.joblib')\n",
    "\n",
    "#probabilities_valid = model.predict_proba(features_valid)\n",
    "#probabilities_one_valid = probabilities_valid[:, 1]\n",
    "\n",
    "#fpr, tpr, treshold = roc_curve(target_valid, probabilities_one_valid)\n",
    "#auc_roc = roc_auc_score(target_valid, probabilities_one_valid)\n",
    "#print(auc_roc)"
   ]
  },
  {
   "cell_type": "code",
   "execution_count": 138,
   "metadata": {},
   "outputs": [],
   "source": [
    "#AUC-ROC показывает как сильно наша модель отличается от случайной, это площадь под ROC-кривой. Это хороший результат. "
   ]
  },
  {
   "cell_type": "markdown",
   "metadata": {},
   "source": [
    "<div class=\"alert alert-info\"> \n",
    "Результат больше 0,59 значит задача выполнена, но я так и неразоьрался почему выводит depth = 91, est = 191 хотя я указывал другие параметры\n",
    "</div>"
   ]
  },
  {
   "cell_type": "markdown",
   "metadata": {},
   "source": [
    "<div class=\"alert alert-success\">\n",
    "<h2> Комментарий ревьюера <a class=\"tocSkip\"> </h2>\n",
    "\n",
    "👍 Да, результат неплохой!\n",
    "</div>"
   ]
  },
  {
   "cell_type": "markdown",
   "metadata": {},
   "source": [
    "Вывод: Основной проблемой для адекватной работы модели был дисбаланс классов\n",
    "\n",
    "Мы применили несколько стратегий борьбы с дисбалансом классов.\n",
    "\n",
    "Стратегия class_weight = 'balanced'  дала следующие результаты:\n",
    "• решающее дерево: F1-мера = 0.5601, при max_depth = 7\n",
    "• случайный лес: максимальная F1-мера: 0.6208, при n_estimators = 200, при max_depth = 7 \n",
    "• логистическая регрессия: F1-мера = 0.4962\n",
    "\n",
    "Стратегия upsampling дала следующие результаты :\n",
    "• решающее дерево: F1-мера = 0.5676, при max_depth = 7\n",
    "• случайный лес: максимальная F1-мера: 0.6027, при n_estimators = 200, при max_depth = 7 \n",
    "• логистическая регрессия: F1-мера = 0.4832\n",
    "\n",
    "Стратегия downsampling дала следующие результаты :\n",
    "• решающее дерево: F1-мера = 0.5681, при max_depth = 7\n",
    "• случайный лес: максимальная F1-мера: 0.5837, при n_estimators = 200, при max_depth = 7 \n",
    "• логистическая регрессия: F1-мера = 0.4892\n",
    "\n",
    "В качестве лучшей модели была выбрана модель  случайного леса при значении гиперпараметра max_depth = 5, n_estimators = 200, указании атрибута class_weight='balanced' \n",
    "\n",
    "На валидационной выборке модель следующие результаты:\n",
    "• F1-мера: 0.6208\n",
    "На тестовой выборке модель следующие результаты:\n",
    "• F1-мера: 0.60869\n",
    "• AUC-ROC: 0.86463 \n",
    "\n",
    "Проверку на тестовой выборке модель прошла. Требование касательно значения F1-меры (нужно довести метрику до 0.59) выполнено."
   ]
  },
  {
   "cell_type": "markdown",
   "metadata": {},
   "source": [
    "P.S. Для более лучшей работы стратегий по уменьшению дисблаоанса классов, следовало бы немного поиграть порогом и посмтреть как он повлияет на тосность и полноту и как следствие на f1 меру, но это более шлубокая работа и повидимому немного выодит за рамки проекта."
   ]
  },
  {
   "cell_type": "markdown",
   "metadata": {},
   "source": [
    "<div class=\"alert alert-warning\">\n",
    "<h2> Комментарий ревьюера <a class=\"tocSkip\"> </h2>\n",
    "    \n",
    "<b>Некоторые замечания и рекомендации💡:</b> \n",
    "\n",
    "Я предполагаю, что у нас достаточно большая выборка, как мы видели, многие признаки хорошо распределены, и оптимально будет все-таки доведение баланса до 50/50. Но всегда можно потестить.\n",
    "       \n",
    "</div>\n"
   ]
  },
  {
   "cell_type": "markdown",
   "metadata": {},
   "source": [
    "<div class=\"alert alert-info\"> \n",
    "Благодарю, вывод осталю. Тк логика таже, а цифры поменять всегда можно\n",
    "</div>"
   ]
  },
  {
   "cell_type": "markdown",
   "metadata": {},
   "source": [
    "<div style=\"border:solid Chocolate 2px; padding: 40px\">\n",
    "\n",
    "**Общий вывод по проекту**\n",
    "    \n",
    "Спасибо за твой проект! Мне было интересно следить за ходом мыслей и твоими решениями. Виден интерес к проекту. Есть несколько важных моментов, которые необходимо улучшить. Их ты найдешь в разноцветных комментариях.\n",
    "    \n",
    "**Отмечу положительные моменты проекта🚀**\n",
    "    \n",
    "* Выдержана структура проекта, хорошее оформление, аргументация шагов, выводы.\n",
    "* Верные решения по предобработке.\n",
    "* Хорошее исследование методов борьбы с дасбалансом.\n",
    "    \n",
    "**На что стоит обратить внимание🤔**\n",
    "    \n",
    "* До и после борьбы с дисбалансом в моделях нужно подбирать гиперпараметры, в «лесе» − и количество эстиматоров, и глубину.\n",
    "* Оптимальнее использовать OHE из Sklearn. Рекомендую реализовать в проекте. Кодирование необходимо будет сделать после разбиения на выборки.\n",
    "* Везде смотрим не только на F-меру, но и на ROC-AUC. Ты применил только к результату на тесте.\n",
    "* Рекомендую также использовать SMOTE для ресемплирования «вверх». Это удобнее, чем рукописная функция.\n",
    "* Эти и остальные замечания я также написал по ходу проекта.\n",
    "    \n",
    "**Желаю удачи и жду твой проект на повторное ревью!**😉\n",
    "    \n",
    "    \n",
    "</div>\n"
   ]
  },
  {
   "cell_type": "markdown",
   "metadata": {},
   "source": [
    "<div style=\"border:solid Chocolate 2px; padding: 40px\">\n",
    "\n",
    "**Комментарий ко второй проверке**\n",
    "\n",
    "Павел, привет еще раз! Как понял, дошли до OHE. Я попробовал показать по коду и даже немного проверил работоспособность, все работает и вроде бы тебе останется доделать по аналогии. \n",
    "    \n",
    "Описал подробно по двум параметрам, которые нам нужны будут примерно в 100% использования энкодера (по крайней мере в проектах Практикума). Также обрати внимание, что я ставлю определенные версии в начале проекта и OHE, и sklearn. В этих версиях проблем с исполнением точно быть не должно. Если где-то конспектируешь решения по коду, то на будущее запиши этот момент. В сборных проектах точно нужно будет использовать OHE и нужно будет устанавливать версии.\n",
    "    \n",
    "Дальше, надеюсь, с доработкой должно быть попроще. Там нужно почаще переиспользовать код с перебором гиперпараметров, а в лесе написать двойной цикл, чтобы и эстиматоры подобрать, и глубину. При апсемнлинге и даунсемплинге лучшие модели могут быть с разными параметрами, это надо учитывать.\n",
    "    \n",
    "Сразу выводим метрику и гиперпараметры, и сразу применяем кроме F1 еще ROC-AUC. Не настаиваю, но всегда красиво, когда в проекте есть хотя бы один график. Здесь будет смотреться график ROC-AUC. \n",
    "    \n",
    "**Желаю удачи и жду твой проект на повторное ревью!**😉\n",
    "</div>\n",
    "\n",
    "\n"
   ]
  },
  {
   "cell_type": "markdown",
   "metadata": {},
   "source": [
    "<div style=\"border:solid Chocolate 2px; padding: 40px\">\n",
    "\n",
    "**Комментарий ко второй \"+\" проверке**\n",
    "\n",
    "Чтобы OHE заработал, нужно применить верные импорты. Для этого: вверху ноутбука найти кнопку Kernel, затем в меню Restart&Ran All и нажать.\n",
    "    \n",
    "Я протестил, все работает. (дальше код падает уже из-за того, что мы недоприменили пока OHE, не объединили выборки ну и так далее).\n",
    "\n",
    "</div>"
   ]
  },
  {
   "cell_type": "markdown",
   "metadata": {},
   "source": [
    "<div class=\"alert alert-info\"> \n",
    "Благодарю, вроде все исправоенно\n",
    "</div>"
   ]
  },
  {
   "cell_type": "markdown",
   "metadata": {},
   "source": [
    "<div style=\"border:solid Chocolate 2px; padding: 40px\">\n",
    "\n",
    "**Комментарий к третьей проверке**\n",
    "\n",
    "Спасибо за доработку. С главными сложностями мы справились.\n",
    "    \n",
    "Я взял на себя ответственность и обнулил индексы при объединении таблиц. Посмотри там красный комментарий, удали, наверное, двойную проверку на пропуски, заполнение нулями − всю эту часть. По всему проекту вопросов нет, метрики достигнуты шикарные.\n",
    "    \n",
    "В самом конце ты неверно объединяешь выборки - нужно объединить трейн и валидацинную - на них обучить модель с лучшими гиперпараметрами и еще раз померить на тесте. Вот так возможно сделать. Нужно либо переделать (если время терпит) либо снести этот блок. В остальном, повторюсь, проект готов. \n",
    "    \n",
    "PS Я сначала загрустил, когда увидел результаты f1 (а потом как понял). Хороший проект получается :) И по всем неожиданным трудностям проехались. \n",
    "    \n",
    "Осталось чуть-чуть. Жду на ревью!\n",
    "</div>"
   ]
  },
  {
   "cell_type": "markdown",
   "metadata": {},
   "source": [
    "<div class=\"alert alert-info\"> \n",
    "Благодарю, Удалил комментарий и проверку на нули с заполнением. \n",
    "    \n",
    "По поводу обьединения - это опыт предыдущего проекта, тк там говорили валидационную с тестовой обьелинять и тем самым большая тестовая будет. И на этой большей тестовой выборке проверить лучшую модель обученную на трейне. \n",
    "    \n",
    "А так если я обьединяю трейн и валид, то у меня будет просто большой трейн и маленькая тестовая. Время терпит, но я пока не понял смысл этой процедуры, попробую чисто из интереса. \n",
    "</div>"
   ]
  },
  {
   "cell_type": "markdown",
   "metadata": {},
   "source": [
    "<div class=\"alert alert-success\">\n",
    "<h2> Комментарий ревьюера #3 <a class=\"tocSkip\"> </h2>\n",
    "\n",
    "👍 Да, тут история только в том, что чем больше трейн, тем лучше обобщение модели и тем меньше переобучение. По ходу работы мы не можем работать без валидационной выборки (почти, если не считать кросс-валидацию), потом же нам валидационная как отдельная единица уже не нужна, можно объединить и посмотреть на качество модели. \n",
    "</div>\n"
   ]
  },
  {
   "cell_type": "markdown",
   "metadata": {},
   "source": [
    "<div style=\"border:solid Chocolate 2px; padding: 40px\">\n",
    "\n",
    "**Комментарий к финальной проверке**\n",
    "\n",
    "Спасибо за оперативную доработку. Критичных комментариев нет. Интересный проект вышел! \n",
    "\n",
    "Желаю удачи в дальнейшей учебе!\n",
    "\n",
    "</div>\n"
   ]
  },
  {
   "cell_type": "markdown",
   "metadata": {},
   "source": [
    "## Чек-лист готовности проекта"
   ]
  },
  {
   "cell_type": "markdown",
   "metadata": {},
   "source": [
    "Поставьте 'x' в выполненных пунктах. Далее нажмите Shift+Enter."
   ]
  },
  {
   "cell_type": "markdown",
   "metadata": {},
   "source": [
    "- [x]  Jupyter Notebook открыт\n",
    "- [x]  Весь код выполняется без ошибок\n",
    "- [x]  Ячейки с кодом расположены в порядке исполнения\n",
    "- [x]  Выполнен шаг 1: данные подготовлены\n",
    "- [x]  Выполнен шаг 2: задача исследована\n",
    "    - [x]  Исследован баланс классов\n",
    "    - [x]  Изучены модели без учёта дисбаланса\n",
    "    - [x]  Написаны выводы по результатам исследования\n",
    "- [x]  Выполнен шаг 3: учтён дисбаланс\n",
    "    - [x]  Применено несколько способов борьбы с дисбалансом\n",
    "    - [x]  Написаны выводы по результатам исследования\n",
    "- [x]  Выполнен шаг 4: проведено тестирование\n",
    "- [x]  Удалось достичь *F1*-меры не менее 0.59\n",
    "- [x]  Исследована метрика *AUC-ROC*"
   ]
  },
  {
   "cell_type": "code",
   "execution_count": null,
   "metadata": {},
   "outputs": [],
   "source": []
  }
 ],
 "metadata": {
  "ExecuteTimeLog": [
   {
    "duration": 430,
    "start_time": "2022-12-09T12:08:08.300Z"
   },
   {
    "duration": 107,
    "start_time": "2022-12-09T12:08:52.035Z"
   },
   {
    "duration": 9,
    "start_time": "2022-12-09T12:09:13.069Z"
   },
   {
    "duration": 17,
    "start_time": "2022-12-09T13:10:09.324Z"
   },
   {
    "duration": 14,
    "start_time": "2022-12-09T13:10:44.979Z"
   },
   {
    "duration": 68,
    "start_time": "2022-12-09T13:11:42.971Z"
   },
   {
    "duration": 42,
    "start_time": "2022-12-09T13:12:35.374Z"
   },
   {
    "duration": 7,
    "start_time": "2022-12-09T13:12:50.703Z"
   },
   {
    "duration": 20,
    "start_time": "2022-12-09T13:12:57.620Z"
   },
   {
    "duration": 882,
    "start_time": "2022-12-09T13:13:24.146Z"
   },
   {
    "duration": 41,
    "start_time": "2022-12-09T13:13:25.029Z"
   },
   {
    "duration": 4,
    "start_time": "2022-12-09T13:13:25.071Z"
   },
   {
    "duration": 19,
    "start_time": "2022-12-09T13:13:25.077Z"
   },
   {
    "duration": 14,
    "start_time": "2022-12-09T13:13:25.097Z"
   },
   {
    "duration": 39,
    "start_time": "2022-12-09T13:13:25.251Z"
   },
   {
    "duration": 20,
    "start_time": "2022-12-09T13:13:25.439Z"
   },
   {
    "duration": 7643,
    "start_time": "2022-12-09T13:13:43.909Z"
   },
   {
    "duration": 56845,
    "start_time": "2022-12-09T13:14:58.626Z"
   },
   {
    "duration": 1378,
    "start_time": "2022-12-13T09:49:07.275Z"
   },
   {
    "duration": 89,
    "start_time": "2022-12-13T09:49:08.656Z"
   },
   {
    "duration": 6,
    "start_time": "2022-12-13T09:49:08.747Z"
   },
   {
    "duration": 27,
    "start_time": "2022-12-13T09:49:08.755Z"
   },
   {
    "duration": 13,
    "start_time": "2022-12-13T09:49:08.784Z"
   },
   {
    "duration": 46,
    "start_time": "2022-12-13T09:49:08.798Z"
   },
   {
    "duration": 19,
    "start_time": "2022-12-13T09:49:08.983Z"
   },
   {
    "duration": 5,
    "start_time": "2022-12-13T10:12:00.229Z"
   },
   {
    "duration": 13,
    "start_time": "2022-12-13T10:12:23.268Z"
   },
   {
    "duration": 11,
    "start_time": "2022-12-13T10:12:29.584Z"
   },
   {
    "duration": 2,
    "start_time": "2022-12-13T10:12:37.746Z"
   },
   {
    "duration": 38,
    "start_time": "2022-12-13T10:12:38.485Z"
   },
   {
    "duration": 4,
    "start_time": "2022-12-13T10:12:40.107Z"
   },
   {
    "duration": 12,
    "start_time": "2022-12-13T10:12:40.432Z"
   },
   {
    "duration": 13,
    "start_time": "2022-12-13T10:12:43.468Z"
   },
   {
    "duration": 38,
    "start_time": "2022-12-13T10:12:43.704Z"
   },
   {
    "duration": 17,
    "start_time": "2022-12-13T10:12:44.461Z"
   },
   {
    "duration": 5,
    "start_time": "2022-12-13T10:12:45.950Z"
   },
   {
    "duration": 13,
    "start_time": "2022-12-13T10:13:02.025Z"
   },
   {
    "duration": 105,
    "start_time": "2022-12-13T10:18:37.958Z"
   },
   {
    "duration": 14,
    "start_time": "2022-12-13T10:18:38.477Z"
   },
   {
    "duration": 3,
    "start_time": "2022-12-13T10:18:47.347Z"
   },
   {
    "duration": 41,
    "start_time": "2022-12-13T10:18:47.653Z"
   },
   {
    "duration": 4,
    "start_time": "2022-12-13T10:18:48.036Z"
   },
   {
    "duration": 14,
    "start_time": "2022-12-13T10:18:48.823Z"
   },
   {
    "duration": 13,
    "start_time": "2022-12-13T10:18:50.111Z"
   },
   {
    "duration": 40,
    "start_time": "2022-12-13T10:18:50.904Z"
   },
   {
    "duration": 20,
    "start_time": "2022-12-13T10:18:51.328Z"
   },
   {
    "duration": 4,
    "start_time": "2022-12-13T10:18:52.102Z"
   },
   {
    "duration": 13,
    "start_time": "2022-12-13T10:18:58.761Z"
   },
   {
    "duration": 3,
    "start_time": "2022-12-13T10:19:11.050Z"
   },
   {
    "duration": 44,
    "start_time": "2022-12-13T10:19:11.577Z"
   },
   {
    "duration": 5,
    "start_time": "2022-12-13T10:19:12.721Z"
   },
   {
    "duration": 13,
    "start_time": "2022-12-13T10:19:13.990Z"
   },
   {
    "duration": 12,
    "start_time": "2022-12-13T10:19:15.291Z"
   },
   {
    "duration": 42,
    "start_time": "2022-12-13T10:19:15.907Z"
   },
   {
    "duration": 20,
    "start_time": "2022-12-13T10:19:17.588Z"
   },
   {
    "duration": 5,
    "start_time": "2022-12-13T10:19:19.303Z"
   },
   {
    "duration": 12,
    "start_time": "2022-12-13T10:19:21.336Z"
   },
   {
    "duration": 7,
    "start_time": "2022-12-13T10:26:02.921Z"
   },
   {
    "duration": 9,
    "start_time": "2022-12-13T10:39:09.548Z"
   },
   {
    "duration": 13,
    "start_time": "2022-12-13T10:39:21.323Z"
   },
   {
    "duration": 13,
    "start_time": "2022-12-13T10:40:49.504Z"
   },
   {
    "duration": 3,
    "start_time": "2022-12-13T11:20:10.978Z"
   },
   {
    "duration": 274,
    "start_time": "2022-12-13T11:20:11.175Z"
   },
   {
    "duration": 47,
    "start_time": "2022-12-13T11:20:11.451Z"
   },
   {
    "duration": 4,
    "start_time": "2022-12-13T11:20:11.770Z"
   },
   {
    "duration": 14,
    "start_time": "2022-12-13T11:20:11.971Z"
   },
   {
    "duration": 13,
    "start_time": "2022-12-13T11:20:12.150Z"
   },
   {
    "duration": 46,
    "start_time": "2022-12-13T11:20:12.346Z"
   },
   {
    "duration": 25,
    "start_time": "2022-12-13T11:20:12.547Z"
   },
   {
    "duration": 4,
    "start_time": "2022-12-13T11:20:12.928Z"
   },
   {
    "duration": 14,
    "start_time": "2022-12-13T11:20:13.134Z"
   },
   {
    "duration": 8,
    "start_time": "2022-12-13T11:20:13.589Z"
   },
   {
    "duration": 9,
    "start_time": "2022-12-13T11:20:14.434Z"
   },
   {
    "duration": 15,
    "start_time": "2022-12-13T11:20:14.642Z"
   },
   {
    "duration": 12,
    "start_time": "2022-12-13T11:20:15.280Z"
   },
   {
    "duration": 7,
    "start_time": "2022-12-13T11:22:20.114Z"
   },
   {
    "duration": 8,
    "start_time": "2022-12-13T11:23:43.598Z"
   },
   {
    "duration": 4,
    "start_time": "2022-12-13T11:24:35.795Z"
   },
   {
    "duration": 4,
    "start_time": "2022-12-13T11:24:45.503Z"
   },
   {
    "duration": 4,
    "start_time": "2022-12-13T11:25:05.156Z"
   },
   {
    "duration": 6,
    "start_time": "2022-12-13T11:35:35.624Z"
   },
   {
    "duration": 7,
    "start_time": "2022-12-13T11:36:38.415Z"
   },
   {
    "duration": 714,
    "start_time": "2022-12-13T11:54:36.112Z"
   },
   {
    "duration": 5,
    "start_time": "2022-12-13T11:55:00.205Z"
   },
   {
    "duration": 7,
    "start_time": "2022-12-13T11:55:25.115Z"
   },
   {
    "duration": 768,
    "start_time": "2022-12-13T11:55:35.243Z"
   },
   {
    "duration": 3,
    "start_time": "2022-12-13T11:55:44.522Z"
   },
   {
    "duration": 2,
    "start_time": "2022-12-13T11:55:44.705Z"
   },
   {
    "duration": 40,
    "start_time": "2022-12-13T11:55:44.894Z"
   },
   {
    "duration": 4,
    "start_time": "2022-12-13T11:55:45.283Z"
   },
   {
    "duration": 14,
    "start_time": "2022-12-13T11:55:45.485Z"
   },
   {
    "duration": 13,
    "start_time": "2022-12-13T11:55:45.716Z"
   },
   {
    "duration": 42,
    "start_time": "2022-12-13T11:55:46.085Z"
   },
   {
    "duration": 25,
    "start_time": "2022-12-13T11:55:46.323Z"
   },
   {
    "duration": 6,
    "start_time": "2022-12-13T11:55:46.837Z"
   },
   {
    "duration": 12,
    "start_time": "2022-12-13T11:55:47.162Z"
   },
   {
    "duration": 6,
    "start_time": "2022-12-13T11:55:48.393Z"
   },
   {
    "duration": 7,
    "start_time": "2022-12-13T11:55:49.354Z"
   },
   {
    "duration": 12,
    "start_time": "2022-12-13T11:55:49.561Z"
   },
   {
    "duration": 12,
    "start_time": "2022-12-13T11:55:49.909Z"
   },
   {
    "duration": 7,
    "start_time": "2022-12-13T11:55:51.426Z"
   },
   {
    "duration": 4,
    "start_time": "2022-12-13T11:55:52.231Z"
   },
   {
    "duration": 6,
    "start_time": "2022-12-13T11:55:55.944Z"
   },
   {
    "duration": 7,
    "start_time": "2022-12-13T11:55:56.256Z"
   },
   {
    "duration": 10,
    "start_time": "2022-12-13T11:56:02.089Z"
   },
   {
    "duration": 12,
    "start_time": "2022-12-13T11:56:09.264Z"
   },
   {
    "duration": 4,
    "start_time": "2022-12-13T11:56:25.240Z"
   },
   {
    "duration": 7,
    "start_time": "2022-12-13T11:56:26.036Z"
   },
   {
    "duration": 738,
    "start_time": "2022-12-13T11:56:40.112Z"
   },
   {
    "duration": 0,
    "start_time": "2022-12-13T11:56:40.851Z"
   },
   {
    "duration": 864,
    "start_time": "2022-12-13T11:56:46.330Z"
   },
   {
    "duration": 7,
    "start_time": "2022-12-13T11:56:47.201Z"
   },
   {
    "duration": 3,
    "start_time": "2022-12-13T11:56:52.181Z"
   },
   {
    "duration": 2,
    "start_time": "2022-12-13T11:56:52.361Z"
   },
   {
    "duration": 43,
    "start_time": "2022-12-13T11:56:52.550Z"
   },
   {
    "duration": 4,
    "start_time": "2022-12-13T11:56:52.909Z"
   },
   {
    "duration": 14,
    "start_time": "2022-12-13T11:56:53.130Z"
   },
   {
    "duration": 12,
    "start_time": "2022-12-13T11:56:53.321Z"
   },
   {
    "duration": 41,
    "start_time": "2022-12-13T11:56:53.554Z"
   },
   {
    "duration": 20,
    "start_time": "2022-12-13T11:56:53.783Z"
   },
   {
    "duration": 4,
    "start_time": "2022-12-13T11:56:54.440Z"
   },
   {
    "duration": 12,
    "start_time": "2022-12-13T11:56:54.696Z"
   },
   {
    "duration": 6,
    "start_time": "2022-12-13T11:56:55.335Z"
   },
   {
    "duration": 7,
    "start_time": "2022-12-13T11:56:56.155Z"
   },
   {
    "duration": 13,
    "start_time": "2022-12-13T11:56:56.432Z"
   },
   {
    "duration": 12,
    "start_time": "2022-12-13T11:56:56.795Z"
   },
   {
    "duration": 9,
    "start_time": "2022-12-13T11:56:57.979Z"
   },
   {
    "duration": 4,
    "start_time": "2022-12-13T11:56:58.494Z"
   },
   {
    "duration": 7,
    "start_time": "2022-12-13T11:56:59.339Z"
   },
   {
    "duration": 6,
    "start_time": "2022-12-13T11:56:59.899Z"
   },
   {
    "duration": 5,
    "start_time": "2022-12-13T11:57:01.000Z"
   },
   {
    "duration": 12,
    "start_time": "2022-12-13T11:57:03.976Z"
   },
   {
    "duration": 855,
    "start_time": "2022-12-13T11:57:47.952Z"
   },
   {
    "duration": 11,
    "start_time": "2022-12-13T11:57:48.811Z"
   },
   {
    "duration": 3,
    "start_time": "2022-12-13T11:57:54.861Z"
   },
   {
    "duration": 3,
    "start_time": "2022-12-13T11:57:55.040Z"
   },
   {
    "duration": 42,
    "start_time": "2022-12-13T11:57:55.234Z"
   },
   {
    "duration": 4,
    "start_time": "2022-12-13T11:57:55.621Z"
   },
   {
    "duration": 14,
    "start_time": "2022-12-13T11:57:55.805Z"
   },
   {
    "duration": 14,
    "start_time": "2022-12-13T11:57:56.007Z"
   },
   {
    "duration": 40,
    "start_time": "2022-12-13T11:57:56.220Z"
   },
   {
    "duration": 20,
    "start_time": "2022-12-13T11:57:56.420Z"
   },
   {
    "duration": 4,
    "start_time": "2022-12-13T11:57:56.827Z"
   },
   {
    "duration": 13,
    "start_time": "2022-12-13T11:57:57.078Z"
   },
   {
    "duration": 7,
    "start_time": "2022-12-13T11:57:57.518Z"
   },
   {
    "duration": 7,
    "start_time": "2022-12-13T11:57:58.093Z"
   },
   {
    "duration": 12,
    "start_time": "2022-12-13T11:57:58.492Z"
   },
   {
    "duration": 13,
    "start_time": "2022-12-13T11:57:58.767Z"
   },
   {
    "duration": 7,
    "start_time": "2022-12-13T11:57:59.854Z"
   },
   {
    "duration": 5,
    "start_time": "2022-12-13T11:58:00.206Z"
   },
   {
    "duration": 7,
    "start_time": "2022-12-13T11:58:00.750Z"
   },
   {
    "duration": 7,
    "start_time": "2022-12-13T11:58:01.223Z"
   },
   {
    "duration": 1223,
    "start_time": "2022-12-13T11:58:01.943Z"
   },
   {
    "duration": 956,
    "start_time": "2022-12-13T11:58:52.842Z"
   },
   {
    "duration": 775,
    "start_time": "2022-12-13T11:59:13.257Z"
   },
   {
    "duration": 5,
    "start_time": "2022-12-13T11:59:34.511Z"
   },
   {
    "duration": 6,
    "start_time": "2022-12-13T12:00:03.823Z"
   },
   {
    "duration": 11,
    "start_time": "2022-12-13T12:00:04.854Z"
   },
   {
    "duration": 5,
    "start_time": "2022-12-13T12:01:53.478Z"
   },
   {
    "duration": 11,
    "start_time": "2022-12-13T12:01:54.098Z"
   },
   {
    "duration": 21,
    "start_time": "2022-12-13T12:03:42.941Z"
   },
   {
    "duration": 6,
    "start_time": "2022-12-13T12:04:50.035Z"
   },
   {
    "duration": 3,
    "start_time": "2022-12-13T12:05:02.378Z"
   },
   {
    "duration": 3,
    "start_time": "2022-12-13T12:05:02.586Z"
   },
   {
    "duration": 48,
    "start_time": "2022-12-13T12:05:02.788Z"
   },
   {
    "duration": 5,
    "start_time": "2022-12-13T12:05:03.178Z"
   },
   {
    "duration": 14,
    "start_time": "2022-12-13T12:05:03.392Z"
   },
   {
    "duration": 19,
    "start_time": "2022-12-13T12:05:03.603Z"
   },
   {
    "duration": 44,
    "start_time": "2022-12-13T12:05:03.912Z"
   },
   {
    "duration": 20,
    "start_time": "2022-12-13T12:05:04.364Z"
   },
   {
    "duration": 4,
    "start_time": "2022-12-13T12:05:06.511Z"
   },
   {
    "duration": 18,
    "start_time": "2022-12-13T12:05:06.517Z"
   },
   {
    "duration": 7,
    "start_time": "2022-12-13T12:05:06.997Z"
   },
   {
    "duration": 6,
    "start_time": "2022-12-13T12:05:07.917Z"
   },
   {
    "duration": 11,
    "start_time": "2022-12-13T12:05:08.466Z"
   },
   {
    "duration": 12,
    "start_time": "2022-12-13T12:05:08.714Z"
   },
   {
    "duration": 7,
    "start_time": "2022-12-13T12:05:09.700Z"
   },
   {
    "duration": 4,
    "start_time": "2022-12-13T12:05:09.941Z"
   },
   {
    "duration": 6,
    "start_time": "2022-12-13T12:05:10.682Z"
   },
   {
    "duration": 6,
    "start_time": "2022-12-13T12:05:11.065Z"
   },
   {
    "duration": 7,
    "start_time": "2022-12-13T12:05:11.808Z"
   },
   {
    "duration": 15,
    "start_time": "2022-12-13T12:05:12.388Z"
   },
   {
    "duration": 21,
    "start_time": "2022-12-13T12:05:14.128Z"
   },
   {
    "duration": 11,
    "start_time": "2022-12-13T12:07:20.311Z"
   },
   {
    "duration": 2,
    "start_time": "2022-12-13T12:07:40.594Z"
   },
   {
    "duration": 2,
    "start_time": "2022-12-13T12:07:40.778Z"
   },
   {
    "duration": 39,
    "start_time": "2022-12-13T12:07:40.970Z"
   },
   {
    "duration": 5,
    "start_time": "2022-12-13T12:07:41.362Z"
   },
   {
    "duration": 14,
    "start_time": "2022-12-13T12:07:41.565Z"
   },
   {
    "duration": 13,
    "start_time": "2022-12-13T12:07:41.771Z"
   },
   {
    "duration": 50,
    "start_time": "2022-12-13T12:07:41.962Z"
   },
   {
    "duration": 20,
    "start_time": "2022-12-13T12:07:42.174Z"
   },
   {
    "duration": 4,
    "start_time": "2022-12-13T12:07:42.711Z"
   },
   {
    "duration": 11,
    "start_time": "2022-12-13T12:07:42.946Z"
   },
   {
    "duration": 7,
    "start_time": "2022-12-13T12:07:43.361Z"
   },
   {
    "duration": 9,
    "start_time": "2022-12-13T12:07:43.802Z"
   },
   {
    "duration": 12,
    "start_time": "2022-12-13T12:07:44.038Z"
   },
   {
    "duration": 11,
    "start_time": "2022-12-13T12:07:44.522Z"
   },
   {
    "duration": 8,
    "start_time": "2022-12-13T12:07:45.735Z"
   },
   {
    "duration": 4,
    "start_time": "2022-12-13T12:07:45.963Z"
   },
   {
    "duration": 8,
    "start_time": "2022-12-13T12:07:46.779Z"
   },
   {
    "duration": 6,
    "start_time": "2022-12-13T12:07:47.563Z"
   },
   {
    "duration": 6,
    "start_time": "2022-12-13T12:07:48.567Z"
   },
   {
    "duration": 13,
    "start_time": "2022-12-13T12:07:49.024Z"
   },
   {
    "duration": 21,
    "start_time": "2022-12-13T12:07:50.040Z"
   },
   {
    "duration": 2,
    "start_time": "2022-12-13T12:08:00.695Z"
   },
   {
    "duration": 17,
    "start_time": "2022-12-13T12:08:14.219Z"
   },
   {
    "duration": 47,
    "start_time": "2022-12-13T12:10:21.692Z"
   },
   {
    "duration": 9,
    "start_time": "2022-12-13T12:10:33.235Z"
   },
   {
    "duration": 2,
    "start_time": "2022-12-13T12:16:53.553Z"
   },
   {
    "duration": 40,
    "start_time": "2022-12-13T12:16:55.053Z"
   },
   {
    "duration": 4,
    "start_time": "2022-12-13T12:16:55.481Z"
   },
   {
    "duration": 15,
    "start_time": "2022-12-13T12:16:55.624Z"
   },
   {
    "duration": 13,
    "start_time": "2022-12-13T12:16:55.812Z"
   },
   {
    "duration": 49,
    "start_time": "2022-12-13T12:16:56.017Z"
   },
   {
    "duration": 19,
    "start_time": "2022-12-13T12:16:56.278Z"
   },
   {
    "duration": 4,
    "start_time": "2022-12-13T12:16:56.781Z"
   },
   {
    "duration": 11,
    "start_time": "2022-12-13T12:16:57.182Z"
   },
   {
    "duration": 8,
    "start_time": "2022-12-13T12:16:57.994Z"
   },
   {
    "duration": 7,
    "start_time": "2022-12-13T12:16:59.098Z"
   },
   {
    "duration": 11,
    "start_time": "2022-12-13T12:16:59.346Z"
   },
   {
    "duration": 11,
    "start_time": "2022-12-13T12:16:59.962Z"
   },
   {
    "duration": 7,
    "start_time": "2022-12-13T12:17:02.799Z"
   },
   {
    "duration": 4,
    "start_time": "2022-12-13T12:17:03.001Z"
   },
   {
    "duration": 7,
    "start_time": "2022-12-13T12:17:03.396Z"
   },
   {
    "duration": 7,
    "start_time": "2022-12-13T12:17:03.590Z"
   },
   {
    "duration": 8,
    "start_time": "2022-12-13T12:17:04.233Z"
   },
   {
    "duration": 12,
    "start_time": "2022-12-13T12:17:07.982Z"
   },
   {
    "duration": 20,
    "start_time": "2022-12-13T12:17:08.390Z"
   },
   {
    "duration": 6,
    "start_time": "2022-12-13T12:18:02.419Z"
   },
   {
    "duration": 13,
    "start_time": "2022-12-13T12:18:03.367Z"
   },
   {
    "duration": 18,
    "start_time": "2022-12-13T12:18:07.045Z"
   },
   {
    "duration": 9,
    "start_time": "2022-12-13T12:19:02.682Z"
   },
   {
    "duration": 162,
    "start_time": "2022-12-13T12:22:27.128Z"
   },
   {
    "duration": 5,
    "start_time": "2022-12-13T12:23:07.147Z"
   },
   {
    "duration": 5,
    "start_time": "2022-12-13T12:23:29.563Z"
   },
   {
    "duration": 770,
    "start_time": "2022-12-13T12:24:07.511Z"
   },
   {
    "duration": 0,
    "start_time": "2022-12-13T12:24:08.283Z"
   },
   {
    "duration": 3,
    "start_time": "2022-12-13T12:24:15.704Z"
   },
   {
    "duration": 3,
    "start_time": "2022-12-13T12:24:15.866Z"
   },
   {
    "duration": 3,
    "start_time": "2022-12-13T12:24:17.338Z"
   },
   {
    "duration": 36,
    "start_time": "2022-12-13T12:24:17.503Z"
   },
   {
    "duration": 3,
    "start_time": "2022-12-13T12:24:17.804Z"
   },
   {
    "duration": 13,
    "start_time": "2022-12-13T12:24:18.076Z"
   },
   {
    "duration": 12,
    "start_time": "2022-12-13T12:24:18.323Z"
   },
   {
    "duration": 39,
    "start_time": "2022-12-13T12:24:18.570Z"
   },
   {
    "duration": 18,
    "start_time": "2022-12-13T12:24:18.611Z"
   },
   {
    "duration": 5,
    "start_time": "2022-12-13T12:24:19.059Z"
   },
   {
    "duration": 11,
    "start_time": "2022-12-13T12:24:19.309Z"
   },
   {
    "duration": 6,
    "start_time": "2022-12-13T12:24:19.553Z"
   },
   {
    "duration": 6,
    "start_time": "2022-12-13T12:24:20.043Z"
   },
   {
    "duration": 10,
    "start_time": "2022-12-13T12:24:20.297Z"
   },
   {
    "duration": 14,
    "start_time": "2022-12-13T12:24:20.520Z"
   },
   {
    "duration": 6,
    "start_time": "2022-12-13T12:24:21.877Z"
   },
   {
    "duration": 6,
    "start_time": "2022-12-13T12:24:27.103Z"
   },
   {
    "duration": 11,
    "start_time": "2022-12-13T12:25:28.271Z"
   },
   {
    "duration": 10,
    "start_time": "2022-12-13T12:25:40.912Z"
   },
   {
    "duration": 10,
    "start_time": "2022-12-13T12:45:46.514Z"
   },
   {
    "duration": 331,
    "start_time": "2022-12-13T12:46:47.199Z"
   },
   {
    "duration": 424,
    "start_time": "2022-12-13T12:53:39.469Z"
   },
   {
    "duration": 396,
    "start_time": "2022-12-13T12:56:11.713Z"
   },
   {
    "duration": 378,
    "start_time": "2022-12-13T12:57:15.543Z"
   },
   {
    "duration": 494,
    "start_time": "2022-12-13T12:57:35.655Z"
   },
   {
    "duration": 18,
    "start_time": "2022-12-13T13:00:38.010Z"
   },
   {
    "duration": 15,
    "start_time": "2022-12-13T13:00:47.504Z"
   },
   {
    "duration": 18,
    "start_time": "2022-12-13T13:03:52.584Z"
   },
   {
    "duration": 18,
    "start_time": "2022-12-13T13:03:55.539Z"
   },
   {
    "duration": 5,
    "start_time": "2022-12-13T13:04:49.844Z"
   },
   {
    "duration": 6,
    "start_time": "2022-12-13T13:05:21.593Z"
   },
   {
    "duration": 8,
    "start_time": "2022-12-13T13:06:36.371Z"
   },
   {
    "duration": 86,
    "start_time": "2022-12-13T13:06:57.949Z"
   },
   {
    "duration": 33,
    "start_time": "2022-12-13T13:07:55.755Z"
   },
   {
    "duration": 75,
    "start_time": "2022-12-13T13:18:20.047Z"
   },
   {
    "duration": 3,
    "start_time": "2022-12-13T13:18:27.782Z"
   },
   {
    "duration": 2,
    "start_time": "2022-12-13T13:18:27.961Z"
   },
   {
    "duration": 2,
    "start_time": "2022-12-13T13:18:28.153Z"
   },
   {
    "duration": 41,
    "start_time": "2022-12-13T13:18:28.361Z"
   },
   {
    "duration": 4,
    "start_time": "2022-12-13T13:18:28.763Z"
   },
   {
    "duration": 15,
    "start_time": "2022-12-13T13:18:28.969Z"
   },
   {
    "duration": 12,
    "start_time": "2022-12-13T13:18:29.352Z"
   },
   {
    "duration": 40,
    "start_time": "2022-12-13T13:18:29.564Z"
   },
   {
    "duration": 20,
    "start_time": "2022-12-13T13:18:29.766Z"
   },
   {
    "duration": 4,
    "start_time": "2022-12-13T13:18:30.376Z"
   },
   {
    "duration": 12,
    "start_time": "2022-12-13T13:18:30.789Z"
   },
   {
    "duration": 7,
    "start_time": "2022-12-13T13:18:31.627Z"
   },
   {
    "duration": 7,
    "start_time": "2022-12-13T13:18:32.247Z"
   },
   {
    "duration": 15,
    "start_time": "2022-12-13T13:18:32.611Z"
   },
   {
    "duration": 14,
    "start_time": "2022-12-13T13:18:33.076Z"
   },
   {
    "duration": 7,
    "start_time": "2022-12-13T13:18:35.939Z"
   },
   {
    "duration": 7,
    "start_time": "2022-12-13T13:18:36.500Z"
   },
   {
    "duration": 49,
    "start_time": "2022-12-13T13:18:37.629Z"
   },
   {
    "duration": 7,
    "start_time": "2022-12-13T13:19:41.650Z"
   },
   {
    "duration": 8,
    "start_time": "2022-12-13T13:19:44.304Z"
   },
   {
    "duration": 38,
    "start_time": "2022-12-13T13:19:45.721Z"
   },
   {
    "duration": 2,
    "start_time": "2022-12-13T13:20:18.559Z"
   },
   {
    "duration": 3,
    "start_time": "2022-12-13T13:20:21.026Z"
   },
   {
    "duration": 3,
    "start_time": "2022-12-13T13:20:21.206Z"
   },
   {
    "duration": 3,
    "start_time": "2022-12-13T13:20:21.374Z"
   },
   {
    "duration": 40,
    "start_time": "2022-12-13T13:20:21.554Z"
   },
   {
    "duration": 4,
    "start_time": "2022-12-13T13:20:21.926Z"
   },
   {
    "duration": 14,
    "start_time": "2022-12-13T13:20:22.112Z"
   },
   {
    "duration": 13,
    "start_time": "2022-12-13T13:20:22.281Z"
   },
   {
    "duration": 56,
    "start_time": "2022-12-13T13:20:22.462Z"
   },
   {
    "duration": 23,
    "start_time": "2022-12-13T13:20:22.634Z"
   },
   {
    "duration": 4,
    "start_time": "2022-12-13T13:20:23.011Z"
   },
   {
    "duration": 12,
    "start_time": "2022-12-13T13:20:23.197Z"
   },
   {
    "duration": 6,
    "start_time": "2022-12-13T13:20:23.576Z"
   },
   {
    "duration": 6,
    "start_time": "2022-12-13T13:20:23.983Z"
   },
   {
    "duration": 11,
    "start_time": "2022-12-13T13:20:24.214Z"
   },
   {
    "duration": 13,
    "start_time": "2022-12-13T13:20:24.343Z"
   },
   {
    "duration": 7,
    "start_time": "2022-12-13T13:20:25.136Z"
   },
   {
    "duration": 6,
    "start_time": "2022-12-13T13:20:25.337Z"
   },
   {
    "duration": 6,
    "start_time": "2022-12-13T13:20:25.929Z"
   },
   {
    "duration": 8,
    "start_time": "2022-12-13T13:20:27.109Z"
   },
   {
    "duration": 74,
    "start_time": "2022-12-13T13:20:30.464Z"
   },
   {
    "duration": 20,
    "start_time": "2022-12-13T13:22:37.954Z"
   },
   {
    "duration": 5,
    "start_time": "2022-12-13T13:23:57.530Z"
   },
   {
    "duration": 20,
    "start_time": "2022-12-13T13:26:43.398Z"
   },
   {
    "duration": 15,
    "start_time": "2022-12-13T13:27:13.631Z"
   },
   {
    "duration": 16,
    "start_time": "2022-12-13T13:27:18.268Z"
   },
   {
    "duration": 16,
    "start_time": "2022-12-13T13:28:44.525Z"
   },
   {
    "duration": 101,
    "start_time": "2022-12-13T13:28:45.133Z"
   },
   {
    "duration": 6,
    "start_time": "2022-12-13T13:29:27.208Z"
   },
   {
    "duration": 20,
    "start_time": "2022-12-13T13:31:53.100Z"
   },
   {
    "duration": 10,
    "start_time": "2022-12-13T13:52:00.275Z"
   },
   {
    "duration": 30,
    "start_time": "2022-12-13T13:52:03.634Z"
   },
   {
    "duration": 6,
    "start_time": "2022-12-13T13:52:34.121Z"
   },
   {
    "duration": 9,
    "start_time": "2022-12-13T13:55:14.163Z"
   },
   {
    "duration": 6,
    "start_time": "2022-12-13T13:57:37.782Z"
   },
   {
    "duration": 6,
    "start_time": "2022-12-13T13:58:03.874Z"
   },
   {
    "duration": 6,
    "start_time": "2022-12-13T13:59:46.935Z"
   },
   {
    "duration": 33,
    "start_time": "2022-12-13T13:59:48.780Z"
   },
   {
    "duration": 3,
    "start_time": "2022-12-13T14:36:15.497Z"
   },
   {
    "duration": 27,
    "start_time": "2022-12-13T14:36:15.673Z"
   },
   {
    "duration": 2,
    "start_time": "2022-12-13T14:36:15.860Z"
   },
   {
    "duration": 3,
    "start_time": "2022-12-13T14:36:16.040Z"
   },
   {
    "duration": 43,
    "start_time": "2022-12-13T14:36:16.223Z"
   },
   {
    "duration": 5,
    "start_time": "2022-12-13T14:36:16.564Z"
   },
   {
    "duration": 17,
    "start_time": "2022-12-13T14:36:16.741Z"
   },
   {
    "duration": 13,
    "start_time": "2022-12-13T14:36:16.924Z"
   },
   {
    "duration": 40,
    "start_time": "2022-12-13T14:36:17.115Z"
   },
   {
    "duration": 21,
    "start_time": "2022-12-13T14:36:17.297Z"
   },
   {
    "duration": 4,
    "start_time": "2022-12-13T14:36:17.685Z"
   },
   {
    "duration": 12,
    "start_time": "2022-12-13T14:36:17.870Z"
   },
   {
    "duration": 6,
    "start_time": "2022-12-13T14:36:18.283Z"
   },
   {
    "duration": 6,
    "start_time": "2022-12-13T14:36:18.718Z"
   },
   {
    "duration": 14,
    "start_time": "2022-12-13T14:36:18.942Z"
   },
   {
    "duration": 12,
    "start_time": "2022-12-13T14:36:19.183Z"
   },
   {
    "duration": 9,
    "start_time": "2022-12-13T14:36:19.946Z"
   },
   {
    "duration": 7,
    "start_time": "2022-12-13T14:36:20.406Z"
   },
   {
    "duration": 6,
    "start_time": "2022-12-13T14:36:20.634Z"
   },
   {
    "duration": 7,
    "start_time": "2022-12-13T14:36:21.098Z"
   },
   {
    "duration": 22,
    "start_time": "2022-12-13T14:36:22.655Z"
   },
   {
    "duration": 12,
    "start_time": "2022-12-13T14:37:20.326Z"
   },
   {
    "duration": 7,
    "start_time": "2022-12-13T14:40:56.095Z"
   },
   {
    "duration": 7,
    "start_time": "2022-12-13T14:41:18.664Z"
   },
   {
    "duration": 9,
    "start_time": "2022-12-13T14:42:33.220Z"
   },
   {
    "duration": 33,
    "start_time": "2022-12-13T14:42:35.881Z"
   },
   {
    "duration": 5,
    "start_time": "2022-12-13T14:44:39.763Z"
   },
   {
    "duration": 5,
    "start_time": "2022-12-13T14:45:05.481Z"
   },
   {
    "duration": 12,
    "start_time": "2022-12-13T14:45:22.258Z"
   },
   {
    "duration": 9,
    "start_time": "2022-12-13T14:46:54.701Z"
   },
   {
    "duration": 31,
    "start_time": "2022-12-13T14:46:55.668Z"
   },
   {
    "duration": 17,
    "start_time": "2022-12-13T14:46:57.642Z"
   },
   {
    "duration": 12,
    "start_time": "2022-12-13T14:47:20.577Z"
   },
   {
    "duration": 31,
    "start_time": "2022-12-13T14:49:58.841Z"
   },
   {
    "duration": 19,
    "start_time": "2022-12-13T14:50:37.199Z"
   },
   {
    "duration": 4,
    "start_time": "2022-12-13T14:51:48.610Z"
   },
   {
    "duration": 4,
    "start_time": "2022-12-13T14:51:48.818Z"
   },
   {
    "duration": 3,
    "start_time": "2022-12-13T14:51:49.064Z"
   },
   {
    "duration": 3,
    "start_time": "2022-12-13T14:51:49.320Z"
   },
   {
    "duration": 60,
    "start_time": "2022-12-13T14:51:49.326Z"
   },
   {
    "duration": 3,
    "start_time": "2022-12-13T14:51:49.812Z"
   },
   {
    "duration": 13,
    "start_time": "2022-12-13T14:51:49.978Z"
   },
   {
    "duration": 22,
    "start_time": "2022-12-13T14:51:50.013Z"
   },
   {
    "duration": 42,
    "start_time": "2022-12-13T14:51:50.198Z"
   },
   {
    "duration": 21,
    "start_time": "2022-12-13T14:51:50.409Z"
   },
   {
    "duration": 5,
    "start_time": "2022-12-13T14:51:50.768Z"
   },
   {
    "duration": 17,
    "start_time": "2022-12-13T14:51:50.953Z"
   },
   {
    "duration": 7,
    "start_time": "2022-12-13T14:51:51.329Z"
   },
   {
    "duration": 7,
    "start_time": "2022-12-13T14:51:51.724Z"
   },
   {
    "duration": 12,
    "start_time": "2022-12-13T14:51:51.911Z"
   },
   {
    "duration": 12,
    "start_time": "2022-12-13T14:51:52.121Z"
   },
   {
    "duration": 8,
    "start_time": "2022-12-13T14:51:52.573Z"
   },
   {
    "duration": 6,
    "start_time": "2022-12-13T14:51:52.779Z"
   },
   {
    "duration": 6,
    "start_time": "2022-12-13T14:51:53.607Z"
   },
   {
    "duration": 12,
    "start_time": "2022-12-13T14:51:54.006Z"
   },
   {
    "duration": 10,
    "start_time": "2022-12-13T14:51:55.104Z"
   },
   {
    "duration": 941,
    "start_time": "2022-12-13T14:51:55.823Z"
   },
   {
    "duration": 953,
    "start_time": "2022-12-13T14:52:10.907Z"
   },
   {
    "duration": 954,
    "start_time": "2022-12-13T14:53:20.354Z"
   },
   {
    "duration": 11,
    "start_time": "2022-12-13T14:54:04.478Z"
   },
   {
    "duration": 877,
    "start_time": "2022-12-13T14:54:09.903Z"
   },
   {
    "duration": 522,
    "start_time": "2022-12-13T14:54:28.116Z"
   },
   {
    "duration": 537,
    "start_time": "2022-12-13T14:54:37.615Z"
   },
   {
    "duration": 506,
    "start_time": "2022-12-13T14:56:45.510Z"
   },
   {
    "duration": 886,
    "start_time": "2022-12-13T14:57:06.749Z"
   },
   {
    "duration": 2723,
    "start_time": "2022-12-13T15:00:53.679Z"
   },
   {
    "duration": 5719,
    "start_time": "2022-12-13T15:01:14.178Z"
   },
   {
    "duration": 2673,
    "start_time": "2022-12-13T15:01:23.234Z"
   },
   {
    "duration": 47,
    "start_time": "2022-12-13T15:01:59.970Z"
   },
   {
    "duration": 3690,
    "start_time": "2022-12-13T15:02:08.386Z"
   },
   {
    "duration": 10558,
    "start_time": "2022-12-13T15:02:56.362Z"
   },
   {
    "duration": 5095,
    "start_time": "2022-12-13T15:03:17.070Z"
   },
   {
    "duration": 20219,
    "start_time": "2022-12-13T15:03:49.195Z"
   },
   {
    "duration": 9780,
    "start_time": "2022-12-13T15:04:28.192Z"
   },
   {
    "duration": 59,
    "start_time": "2022-12-13T15:05:37.317Z"
   },
   {
    "duration": 85,
    "start_time": "2022-12-13T15:05:47.152Z"
   },
   {
    "duration": 30,
    "start_time": "2022-12-13T15:05:56.390Z"
   },
   {
    "duration": 17,
    "start_time": "2022-12-13T15:12:43.757Z"
   },
   {
    "duration": 30,
    "start_time": "2022-12-13T15:12:44.264Z"
   },
   {
    "duration": 20,
    "start_time": "2022-12-13T15:13:49.622Z"
   },
   {
    "duration": 52,
    "start_time": "2022-12-13T15:14:22.038Z"
   },
   {
    "duration": 2,
    "start_time": "2022-12-13T15:14:33.368Z"
   },
   {
    "duration": 5,
    "start_time": "2022-12-13T15:14:33.543Z"
   },
   {
    "duration": 3,
    "start_time": "2022-12-13T15:14:33.730Z"
   },
   {
    "duration": 2,
    "start_time": "2022-12-13T15:14:33.937Z"
   },
   {
    "duration": 44,
    "start_time": "2022-12-13T15:14:34.137Z"
   },
   {
    "duration": 3,
    "start_time": "2022-12-13T15:14:34.545Z"
   },
   {
    "duration": 12,
    "start_time": "2022-12-13T15:14:34.757Z"
   },
   {
    "duration": 12,
    "start_time": "2022-12-13T15:14:34.969Z"
   },
   {
    "duration": 38,
    "start_time": "2022-12-13T15:14:35.208Z"
   },
   {
    "duration": 17,
    "start_time": "2022-12-13T15:14:35.441Z"
   },
   {
    "duration": 4,
    "start_time": "2022-12-13T15:14:35.941Z"
   },
   {
    "duration": 11,
    "start_time": "2022-12-13T15:14:36.203Z"
   },
   {
    "duration": 9,
    "start_time": "2022-12-13T15:14:36.725Z"
   },
   {
    "duration": 6,
    "start_time": "2022-12-13T15:14:37.333Z"
   },
   {
    "duration": 12,
    "start_time": "2022-12-13T15:14:37.652Z"
   },
   {
    "duration": 11,
    "start_time": "2022-12-13T15:14:37.965Z"
   },
   {
    "duration": 6,
    "start_time": "2022-12-13T15:14:38.858Z"
   },
   {
    "duration": 7,
    "start_time": "2022-12-13T15:14:39.272Z"
   },
   {
    "duration": 7,
    "start_time": "2022-12-13T15:14:40.108Z"
   },
   {
    "duration": 11,
    "start_time": "2022-12-13T15:14:40.398Z"
   },
   {
    "duration": 9,
    "start_time": "2022-12-13T15:14:41.697Z"
   },
   {
    "duration": 916,
    "start_time": "2022-12-13T15:14:42.362Z"
   },
   {
    "duration": 10092,
    "start_time": "2022-12-13T15:14:45.312Z"
   },
   {
    "duration": 41,
    "start_time": "2022-12-13T15:14:55.406Z"
   },
   {
    "duration": 198,
    "start_time": "2022-12-13T15:14:55.449Z"
   },
   {
    "duration": 60,
    "start_time": "2022-12-13T15:14:55.650Z"
   },
   {
    "duration": 28,
    "start_time": "2022-12-13T15:15:11.173Z"
   },
   {
    "duration": 36,
    "start_time": "2022-12-13T15:15:42.397Z"
   },
   {
    "duration": 28,
    "start_time": "2022-12-13T15:15:55.705Z"
   },
   {
    "duration": 24140,
    "start_time": "2022-12-13T15:17:03.947Z"
   },
   {
    "duration": 1565,
    "start_time": "2022-12-13T15:18:05.538Z"
   },
   {
    "duration": 1500,
    "start_time": "2022-12-13T15:19:48.543Z"
   },
   {
    "duration": 33,
    "start_time": "2022-12-13T15:19:52.918Z"
   },
   {
    "duration": 6,
    "start_time": "2022-12-13T15:20:59.450Z"
   },
   {
    "duration": 26,
    "start_time": "2022-12-13T16:02:52.787Z"
   },
   {
    "duration": 3,
    "start_time": "2022-12-13T16:02:59.816Z"
   },
   {
    "duration": 3,
    "start_time": "2022-12-13T16:03:00.014Z"
   },
   {
    "duration": 2,
    "start_time": "2022-12-13T16:03:00.185Z"
   },
   {
    "duration": 2,
    "start_time": "2022-12-13T16:03:00.366Z"
   },
   {
    "duration": 42,
    "start_time": "2022-12-13T16:03:00.559Z"
   },
   {
    "duration": 4,
    "start_time": "2022-12-13T16:03:00.921Z"
   },
   {
    "duration": 13,
    "start_time": "2022-12-13T16:03:01.113Z"
   },
   {
    "duration": 12,
    "start_time": "2022-12-13T16:03:01.308Z"
   },
   {
    "duration": 38,
    "start_time": "2022-12-13T16:03:01.520Z"
   },
   {
    "duration": 19,
    "start_time": "2022-12-13T16:03:01.711Z"
   },
   {
    "duration": 4,
    "start_time": "2022-12-13T16:03:02.097Z"
   },
   {
    "duration": 12,
    "start_time": "2022-12-13T16:03:02.306Z"
   },
   {
    "duration": 6,
    "start_time": "2022-12-13T16:03:02.719Z"
   },
   {
    "duration": 7,
    "start_time": "2022-12-13T16:03:03.144Z"
   },
   {
    "duration": 10,
    "start_time": "2022-12-13T16:03:03.363Z"
   },
   {
    "duration": 13,
    "start_time": "2022-12-13T16:03:03.600Z"
   },
   {
    "duration": 7,
    "start_time": "2022-12-13T16:03:04.143Z"
   },
   {
    "duration": 6,
    "start_time": "2022-12-13T16:03:04.383Z"
   },
   {
    "duration": 8,
    "start_time": "2022-12-13T16:03:04.929Z"
   },
   {
    "duration": 10,
    "start_time": "2022-12-13T16:03:05.361Z"
   },
   {
    "duration": 9,
    "start_time": "2022-12-13T16:03:05.922Z"
   },
   {
    "duration": 860,
    "start_time": "2022-12-13T16:03:06.447Z"
   },
   {
    "duration": 23911,
    "start_time": "2022-12-13T16:03:08.442Z"
   },
   {
    "duration": 94,
    "start_time": "2022-12-13T16:03:32.356Z"
   },
   {
    "duration": 108,
    "start_time": "2022-12-13T16:03:32.451Z"
   },
   {
    "duration": 31,
    "start_time": "2022-12-13T16:03:32.562Z"
   },
   {
    "duration": 1599,
    "start_time": "2022-12-13T16:03:32.595Z"
   },
   {
    "duration": 139,
    "start_time": "2022-12-13T16:03:34.196Z"
   },
   {
    "duration": 98,
    "start_time": "2022-12-13T16:03:34.338Z"
   },
   {
    "duration": 40,
    "start_time": "2022-12-13T16:03:34.438Z"
   },
   {
    "duration": 1047,
    "start_time": "2022-12-13T16:03:52.343Z"
   },
   {
    "duration": 1068,
    "start_time": "2022-12-13T16:04:14.121Z"
   },
   {
    "duration": 1064,
    "start_time": "2022-12-13T16:05:15.293Z"
   },
   {
    "duration": 35,
    "start_time": "2022-12-13T16:06:58.362Z"
   },
   {
    "duration": 4,
    "start_time": "2022-12-13T16:14:39.585Z"
   },
   {
    "duration": 4,
    "start_time": "2022-12-13T16:14:39.735Z"
   },
   {
    "duration": 4,
    "start_time": "2022-12-13T16:14:39.923Z"
   },
   {
    "duration": 3,
    "start_time": "2022-12-13T16:14:40.110Z"
   },
   {
    "duration": 41,
    "start_time": "2022-12-13T16:14:40.316Z"
   },
   {
    "duration": 4,
    "start_time": "2022-12-13T16:14:40.738Z"
   },
   {
    "duration": 13,
    "start_time": "2022-12-13T16:14:40.955Z"
   },
   {
    "duration": 13,
    "start_time": "2022-12-13T16:14:41.175Z"
   },
   {
    "duration": 42,
    "start_time": "2022-12-13T16:14:41.552Z"
   },
   {
    "duration": 22,
    "start_time": "2022-12-13T16:14:41.758Z"
   },
   {
    "duration": 5,
    "start_time": "2022-12-13T16:14:42.154Z"
   },
   {
    "duration": 12,
    "start_time": "2022-12-13T16:14:42.334Z"
   },
   {
    "duration": 7,
    "start_time": "2022-12-13T16:14:42.794Z"
   },
   {
    "duration": 7,
    "start_time": "2022-12-13T16:14:43.174Z"
   },
   {
    "duration": 13,
    "start_time": "2022-12-13T16:14:43.406Z"
   },
   {
    "duration": 13,
    "start_time": "2022-12-13T16:14:43.709Z"
   },
   {
    "duration": 6,
    "start_time": "2022-12-13T16:14:44.207Z"
   },
   {
    "duration": 6,
    "start_time": "2022-12-13T16:14:44.450Z"
   },
   {
    "duration": 6,
    "start_time": "2022-12-13T16:14:44.695Z"
   },
   {
    "duration": 13,
    "start_time": "2022-12-13T16:14:44.940Z"
   },
   {
    "duration": 9,
    "start_time": "2022-12-13T16:14:45.433Z"
   },
   {
    "duration": 912,
    "start_time": "2022-12-13T16:14:45.924Z"
   },
   {
    "duration": 23376,
    "start_time": "2022-12-13T16:14:46.839Z"
   },
   {
    "duration": 118,
    "start_time": "2022-12-13T16:15:10.217Z"
   },
   {
    "duration": 112,
    "start_time": "2022-12-13T16:15:10.338Z"
   },
   {
    "duration": 25,
    "start_time": "2022-12-13T16:15:10.452Z"
   },
   {
    "duration": 1056,
    "start_time": "2022-12-13T16:15:10.479Z"
   },
   {
    "duration": 33,
    "start_time": "2022-12-13T16:15:11.537Z"
   },
   {
    "duration": 8,
    "start_time": "2022-12-13T16:15:11.635Z"
   },
   {
    "duration": 129,
    "start_time": "2022-12-13T16:15:11.645Z"
   },
   {
    "duration": 1128,
    "start_time": "2022-12-13T16:15:11.776Z"
   },
   {
    "duration": 129,
    "start_time": "2022-12-13T16:15:12.907Z"
   },
   {
    "duration": 106,
    "start_time": "2022-12-13T16:15:13.040Z"
   },
   {
    "duration": 15,
    "start_time": "2022-12-13T16:17:44.727Z"
   },
   {
    "duration": 34,
    "start_time": "2022-12-13T16:18:56.939Z"
   },
   {
    "duration": 44,
    "start_time": "2022-12-13T16:19:37.031Z"
   },
   {
    "duration": 10,
    "start_time": "2022-12-13T16:22:48.722Z"
   },
   {
    "duration": 1472,
    "start_time": "2022-12-13T16:22:53.556Z"
   },
   {
    "duration": 59,
    "start_time": "2022-12-13T16:24:22.513Z"
   },
   {
    "duration": 12,
    "start_time": "2022-12-13T16:30:05.360Z"
   },
   {
    "duration": 21,
    "start_time": "2022-12-13T16:31:18.909Z"
   },
   {
    "duration": 620,
    "start_time": "2022-12-13T16:32:11.667Z"
   },
   {
    "duration": 46,
    "start_time": "2022-12-13T16:33:09.339Z"
   },
   {
    "duration": 24,
    "start_time": "2022-12-13T16:35:53.484Z"
   },
   {
    "duration": 1130,
    "start_time": "2022-12-13T16:52:15.740Z"
   },
   {
    "duration": 1240,
    "start_time": "2022-12-13T16:52:29.647Z"
   },
   {
    "duration": 162,
    "start_time": "2022-12-13T16:53:55.675Z"
   },
   {
    "duration": 3,
    "start_time": "2022-12-13T16:54:28.919Z"
   },
   {
    "duration": 3,
    "start_time": "2022-12-13T16:54:29.107Z"
   },
   {
    "duration": 3,
    "start_time": "2022-12-13T16:54:29.280Z"
   },
   {
    "duration": 2,
    "start_time": "2022-12-13T16:54:29.462Z"
   },
   {
    "duration": 41,
    "start_time": "2022-12-13T16:54:29.662Z"
   },
   {
    "duration": 4,
    "start_time": "2022-12-13T16:54:30.034Z"
   },
   {
    "duration": 13,
    "start_time": "2022-12-13T16:54:30.234Z"
   },
   {
    "duration": 11,
    "start_time": "2022-12-13T16:54:30.422Z"
   },
   {
    "duration": 48,
    "start_time": "2022-12-13T16:54:30.614Z"
   },
   {
    "duration": 20,
    "start_time": "2022-12-13T16:54:30.811Z"
   },
   {
    "duration": 4,
    "start_time": "2022-12-13T16:54:31.202Z"
   },
   {
    "duration": 12,
    "start_time": "2022-12-13T16:54:31.394Z"
   },
   {
    "duration": 7,
    "start_time": "2022-12-13T16:54:31.791Z"
   },
   {
    "duration": 8,
    "start_time": "2022-12-13T16:54:32.189Z"
   },
   {
    "duration": 16,
    "start_time": "2022-12-13T16:54:32.406Z"
   },
   {
    "duration": 14,
    "start_time": "2022-12-13T16:54:32.611Z"
   },
   {
    "duration": 7,
    "start_time": "2022-12-13T16:54:33.038Z"
   },
   {
    "duration": 7,
    "start_time": "2022-12-13T16:54:33.250Z"
   },
   {
    "duration": 7,
    "start_time": "2022-12-13T16:54:33.693Z"
   },
   {
    "duration": 12,
    "start_time": "2022-12-13T16:54:33.922Z"
   },
   {
    "duration": 9,
    "start_time": "2022-12-13T16:54:34.630Z"
   },
   {
    "duration": 848,
    "start_time": "2022-12-13T16:54:35.078Z"
   },
   {
    "duration": 23629,
    "start_time": "2022-12-13T16:54:35.928Z"
   },
   {
    "duration": 33,
    "start_time": "2022-12-13T16:54:59.559Z"
   },
   {
    "duration": 112,
    "start_time": "2022-12-13T16:54:59.636Z"
   },
   {
    "duration": 28,
    "start_time": "2022-12-13T16:54:59.750Z"
   },
   {
    "duration": 1069,
    "start_time": "2022-12-13T16:54:59.780Z"
   },
   {
    "duration": 66,
    "start_time": "2022-12-13T16:55:01.048Z"
   },
   {
    "duration": 128,
    "start_time": "2022-12-13T16:55:01.139Z"
   },
   {
    "duration": 51,
    "start_time": "2022-12-13T16:55:01.270Z"
   },
   {
    "duration": 1107,
    "start_time": "2022-12-13T16:55:02.383Z"
   },
   {
    "duration": 47,
    "start_time": "2022-12-13T16:55:03.492Z"
   },
   {
    "duration": 89,
    "start_time": "2022-12-13T16:55:03.647Z"
   },
   {
    "duration": 40,
    "start_time": "2022-12-13T16:55:03.737Z"
   },
   {
    "duration": 1507,
    "start_time": "2022-12-13T16:55:03.779Z"
   },
   {
    "duration": 57,
    "start_time": "2022-12-13T16:55:05.287Z"
   },
   {
    "duration": 108,
    "start_time": "2022-12-13T16:55:05.436Z"
   },
   {
    "duration": 43,
    "start_time": "2022-12-13T16:55:05.546Z"
   },
   {
    "duration": 674,
    "start_time": "2022-12-13T16:55:05.591Z"
   },
   {
    "duration": 69,
    "start_time": "2022-12-13T16:55:06.267Z"
   },
   {
    "duration": 1423,
    "start_time": "2022-12-13T16:55:06.341Z"
   },
   {
    "duration": 148,
    "start_time": "2022-12-13T16:55:07.766Z"
   },
   {
    "duration": 6,
    "start_time": "2022-12-13T16:58:11.958Z"
   },
   {
    "duration": 161,
    "start_time": "2022-12-13T16:59:26.389Z"
   },
   {
    "duration": 229,
    "start_time": "2022-12-13T17:00:31.298Z"
   },
   {
    "duration": 3,
    "start_time": "2022-12-13T17:03:02.516Z"
   },
   {
    "duration": 4,
    "start_time": "2022-12-13T17:03:02.692Z"
   },
   {
    "duration": 3,
    "start_time": "2022-12-13T17:03:02.863Z"
   },
   {
    "duration": 3,
    "start_time": "2022-12-13T17:03:03.031Z"
   },
   {
    "duration": 39,
    "start_time": "2022-12-13T17:03:03.199Z"
   },
   {
    "duration": 5,
    "start_time": "2022-12-13T17:03:03.543Z"
   },
   {
    "duration": 20,
    "start_time": "2022-12-13T17:03:03.723Z"
   },
   {
    "duration": 12,
    "start_time": "2022-12-13T17:03:03.912Z"
   },
   {
    "duration": 39,
    "start_time": "2022-12-13T17:03:04.072Z"
   },
   {
    "duration": 18,
    "start_time": "2022-12-13T17:03:04.260Z"
   },
   {
    "duration": 4,
    "start_time": "2022-12-13T17:03:04.628Z"
   },
   {
    "duration": 12,
    "start_time": "2022-12-13T17:03:04.821Z"
   },
   {
    "duration": 6,
    "start_time": "2022-12-13T17:03:07.716Z"
   },
   {
    "duration": 26,
    "start_time": "2022-12-13T17:03:07.724Z"
   },
   {
    "duration": 16,
    "start_time": "2022-12-13T17:03:07.752Z"
   },
   {
    "duration": 10,
    "start_time": "2022-12-13T17:03:07.770Z"
   },
   {
    "duration": 15,
    "start_time": "2022-12-13T17:03:07.782Z"
   },
   {
    "duration": 18,
    "start_time": "2022-12-13T17:03:07.799Z"
   },
   {
    "duration": 31,
    "start_time": "2022-12-13T17:03:07.819Z"
   },
   {
    "duration": 18,
    "start_time": "2022-12-13T17:03:07.852Z"
   },
   {
    "duration": 17,
    "start_time": "2022-12-13T17:03:07.871Z"
   },
   {
    "duration": 887,
    "start_time": "2022-12-13T17:03:08.381Z"
   },
   {
    "duration": 23791,
    "start_time": "2022-12-13T17:03:09.270Z"
   },
   {
    "duration": 78,
    "start_time": "2022-12-13T17:03:33.064Z"
   },
   {
    "duration": 115,
    "start_time": "2022-12-13T17:03:33.143Z"
   },
   {
    "duration": 74,
    "start_time": "2022-12-13T17:03:33.262Z"
   },
   {
    "duration": 1085,
    "start_time": "2022-12-13T17:03:33.339Z"
   },
   {
    "duration": 212,
    "start_time": "2022-12-13T17:03:34.425Z"
   },
   {
    "duration": 10,
    "start_time": "2022-12-13T17:03:34.644Z"
   },
   {
    "duration": 69,
    "start_time": "2022-12-13T17:03:34.656Z"
   },
   {
    "duration": 1143,
    "start_time": "2022-12-13T17:03:34.726Z"
   },
   {
    "duration": 75,
    "start_time": "2022-12-13T17:03:35.872Z"
   },
   {
    "duration": 98,
    "start_time": "2022-12-13T17:03:35.951Z"
   },
   {
    "duration": 37,
    "start_time": "2022-12-13T17:03:36.053Z"
   },
   {
    "duration": 1532,
    "start_time": "2022-12-13T17:03:36.091Z"
   },
   {
    "duration": 111,
    "start_time": "2022-12-13T17:03:37.624Z"
   },
   {
    "duration": 102,
    "start_time": "2022-12-13T17:03:37.737Z"
   },
   {
    "duration": 25,
    "start_time": "2022-12-13T17:03:37.841Z"
   },
   {
    "duration": 626,
    "start_time": "2022-12-13T17:03:37.868Z"
   },
   {
    "duration": 55,
    "start_time": "2022-12-13T17:03:38.495Z"
   },
   {
    "duration": 1456,
    "start_time": "2022-12-13T17:03:38.552Z"
   },
   {
    "duration": 166,
    "start_time": "2022-12-13T17:03:40.010Z"
   },
   {
    "duration": 5,
    "start_time": "2022-12-13T17:03:40.178Z"
   },
   {
    "duration": 199,
    "start_time": "2022-12-13T17:03:40.184Z"
   },
   {
    "duration": 4,
    "start_time": "2022-12-13T17:05:27.154Z"
   },
   {
    "duration": 2,
    "start_time": "2022-12-13T17:05:27.332Z"
   },
   {
    "duration": 3,
    "start_time": "2022-12-13T17:05:27.525Z"
   },
   {
    "duration": 47,
    "start_time": "2022-12-13T17:05:27.711Z"
   },
   {
    "duration": 4,
    "start_time": "2022-12-13T17:05:30.758Z"
   },
   {
    "duration": 4,
    "start_time": "2022-12-13T17:05:30.928Z"
   },
   {
    "duration": 3,
    "start_time": "2022-12-13T17:05:31.100Z"
   },
   {
    "duration": 3,
    "start_time": "2022-12-13T17:05:31.277Z"
   },
   {
    "duration": 38,
    "start_time": "2022-12-13T17:05:31.465Z"
   },
   {
    "duration": 4,
    "start_time": "2022-12-13T17:05:31.824Z"
   },
   {
    "duration": 15,
    "start_time": "2022-12-13T17:05:32.016Z"
   },
   {
    "duration": 13,
    "start_time": "2022-12-13T17:05:32.211Z"
   },
   {
    "duration": 52,
    "start_time": "2022-12-13T17:05:32.381Z"
   },
   {
    "duration": 25,
    "start_time": "2022-12-13T17:05:32.559Z"
   },
   {
    "duration": 4,
    "start_time": "2022-12-13T17:05:32.917Z"
   },
   {
    "duration": 13,
    "start_time": "2022-12-13T17:05:33.114Z"
   },
   {
    "duration": 6,
    "start_time": "2022-12-13T17:05:33.489Z"
   },
   {
    "duration": 7,
    "start_time": "2022-12-13T17:05:33.859Z"
   },
   {
    "duration": 11,
    "start_time": "2022-12-13T17:05:34.061Z"
   },
   {
    "duration": 17,
    "start_time": "2022-12-13T17:05:34.233Z"
   },
   {
    "duration": 6,
    "start_time": "2022-12-13T17:05:34.597Z"
   },
   {
    "duration": 6,
    "start_time": "2022-12-13T17:05:34.781Z"
   },
   {
    "duration": 9,
    "start_time": "2022-12-13T17:05:35.159Z"
   },
   {
    "duration": 14,
    "start_time": "2022-12-13T17:05:35.327Z"
   },
   {
    "duration": 10,
    "start_time": "2022-12-13T17:05:35.879Z"
   },
   {
    "duration": 921,
    "start_time": "2022-12-13T17:05:36.279Z"
   },
   {
    "duration": 24816,
    "start_time": "2022-12-13T17:05:37.202Z"
   },
   {
    "duration": 117,
    "start_time": "2022-12-13T17:06:02.020Z"
   },
   {
    "duration": 113,
    "start_time": "2022-12-13T17:06:02.140Z"
   },
   {
    "duration": 40,
    "start_time": "2022-12-13T17:06:02.256Z"
   },
   {
    "duration": 1157,
    "start_time": "2022-12-13T17:06:02.298Z"
   },
   {
    "duration": 78,
    "start_time": "2022-12-13T17:06:03.457Z"
   },
   {
    "duration": 95,
    "start_time": "2022-12-13T17:06:03.539Z"
   },
   {
    "duration": 32,
    "start_time": "2022-12-13T17:06:03.637Z"
   },
   {
    "duration": 1167,
    "start_time": "2022-12-13T17:06:03.672Z"
   },
   {
    "duration": 32,
    "start_time": "2022-12-13T17:06:04.843Z"
   },
   {
    "duration": 165,
    "start_time": "2022-12-13T17:06:04.878Z"
   },
   {
    "duration": 53,
    "start_time": "2022-12-13T17:06:05.045Z"
   },
   {
    "duration": 1617,
    "start_time": "2022-12-13T17:06:05.100Z"
   },
   {
    "duration": 121,
    "start_time": "2022-12-13T17:06:06.719Z"
   },
   {
    "duration": 97,
    "start_time": "2022-12-13T17:06:06.842Z"
   },
   {
    "duration": 34,
    "start_time": "2022-12-13T17:06:06.941Z"
   },
   {
    "duration": 678,
    "start_time": "2022-12-13T17:06:06.977Z"
   },
   {
    "duration": 87,
    "start_time": "2022-12-13T17:06:07.657Z"
   },
   {
    "duration": 1597,
    "start_time": "2022-12-13T17:06:07.746Z"
   },
   {
    "duration": 162,
    "start_time": "2022-12-13T17:06:09.534Z"
   },
   {
    "duration": 6,
    "start_time": "2022-12-13T17:06:09.698Z"
   },
   {
    "duration": 192,
    "start_time": "2022-12-13T17:06:09.706Z"
   },
   {
    "duration": 142,
    "start_time": "2022-12-13T17:12:30.515Z"
   },
   {
    "duration": 3,
    "start_time": "2022-12-13T17:41:42.887Z"
   },
   {
    "duration": 5,
    "start_time": "2022-12-13T17:41:43.055Z"
   },
   {
    "duration": 3,
    "start_time": "2022-12-13T17:41:43.239Z"
   },
   {
    "duration": 3,
    "start_time": "2022-12-13T17:41:43.378Z"
   },
   {
    "duration": 50,
    "start_time": "2022-12-13T17:41:43.567Z"
   },
   {
    "duration": 4,
    "start_time": "2022-12-13T17:41:43.920Z"
   },
   {
    "duration": 13,
    "start_time": "2022-12-13T17:41:44.083Z"
   },
   {
    "duration": 12,
    "start_time": "2022-12-13T17:41:44.268Z"
   },
   {
    "duration": 40,
    "start_time": "2022-12-13T17:41:44.444Z"
   },
   {
    "duration": 19,
    "start_time": "2022-12-13T17:41:44.628Z"
   },
   {
    "duration": 5,
    "start_time": "2022-12-13T17:41:44.999Z"
   },
   {
    "duration": 13,
    "start_time": "2022-12-13T17:41:45.188Z"
   },
   {
    "duration": 6,
    "start_time": "2022-12-13T17:41:45.563Z"
   },
   {
    "duration": 6,
    "start_time": "2022-12-13T17:41:45.936Z"
   },
   {
    "duration": 13,
    "start_time": "2022-12-13T17:41:46.123Z"
   },
   {
    "duration": 12,
    "start_time": "2022-12-13T17:41:46.307Z"
   },
   {
    "duration": 8,
    "start_time": "2022-12-13T17:41:46.675Z"
   },
   {
    "duration": 9,
    "start_time": "2022-12-13T17:41:46.877Z"
   },
   {
    "duration": 9,
    "start_time": "2022-12-13T17:41:47.266Z"
   },
   {
    "duration": 14,
    "start_time": "2022-12-13T17:41:47.479Z"
   },
   {
    "duration": 9,
    "start_time": "2022-12-13T17:41:48.047Z"
   },
   {
    "duration": 883,
    "start_time": "2022-12-13T17:41:48.452Z"
   },
   {
    "duration": 24557,
    "start_time": "2022-12-13T17:41:49.338Z"
   },
   {
    "duration": 42,
    "start_time": "2022-12-13T17:42:13.897Z"
   },
   {
    "duration": 197,
    "start_time": "2022-12-13T17:42:13.942Z"
   },
   {
    "duration": 27,
    "start_time": "2022-12-13T17:42:14.141Z"
   },
   {
    "duration": 1089,
    "start_time": "2022-12-13T17:42:14.170Z"
   },
   {
    "duration": 32,
    "start_time": "2022-12-13T17:42:15.261Z"
   },
   {
    "duration": 11,
    "start_time": "2022-12-13T17:42:15.336Z"
   },
   {
    "duration": 28,
    "start_time": "2022-12-13T17:42:15.436Z"
   },
   {
    "duration": 1128,
    "start_time": "2022-12-13T17:42:15.465Z"
   },
   {
    "duration": 51,
    "start_time": "2022-12-13T17:42:16.596Z"
   },
   {
    "duration": 21,
    "start_time": "2022-12-13T17:42:16.736Z"
   },
   {
    "duration": 58,
    "start_time": "2022-12-13T17:42:16.834Z"
   },
   {
    "duration": 1480,
    "start_time": "2022-12-13T17:42:16.894Z"
   },
   {
    "duration": 70,
    "start_time": "2022-12-13T17:42:18.376Z"
   },
   {
    "duration": 103,
    "start_time": "2022-12-13T17:42:18.537Z"
   },
   {
    "duration": 17,
    "start_time": "2022-12-13T17:42:18.641Z"
   },
   {
    "duration": 678,
    "start_time": "2022-12-13T17:42:18.660Z"
   },
   {
    "duration": 98,
    "start_time": "2022-12-13T17:42:19.340Z"
   },
   {
    "duration": 1469,
    "start_time": "2022-12-13T17:42:19.443Z"
   },
   {
    "duration": 177,
    "start_time": "2022-12-13T17:42:20.914Z"
   },
   {
    "duration": 6,
    "start_time": "2022-12-13T17:42:21.093Z"
   },
   {
    "duration": 211,
    "start_time": "2022-12-13T17:42:21.100Z"
   },
   {
    "duration": 174,
    "start_time": "2022-12-13T17:42:21.313Z"
   },
   {
    "duration": 1438,
    "start_time": "2022-12-14T11:00:33.046Z"
   },
   {
    "duration": 720,
    "start_time": "2022-12-14T11:00:34.486Z"
   },
   {
    "duration": 3,
    "start_time": "2022-12-14T11:00:35.207Z"
   },
   {
    "duration": 9,
    "start_time": "2022-12-14T11:00:35.212Z"
   },
   {
    "duration": 159,
    "start_time": "2022-12-14T11:00:35.222Z"
   },
   {
    "duration": 6,
    "start_time": "2022-12-14T11:00:35.382Z"
   },
   {
    "duration": 32,
    "start_time": "2022-12-14T11:00:35.389Z"
   },
   {
    "duration": 36,
    "start_time": "2022-12-14T11:00:35.422Z"
   },
   {
    "duration": 37,
    "start_time": "2022-12-14T11:00:35.459Z"
   },
   {
    "duration": 18,
    "start_time": "2022-12-14T11:00:35.498Z"
   },
   {
    "duration": 4,
    "start_time": "2022-12-14T11:00:35.517Z"
   },
   {
    "duration": 18,
    "start_time": "2022-12-14T11:00:35.522Z"
   },
   {
    "duration": 10,
    "start_time": "2022-12-14T11:00:35.541Z"
   },
   {
    "duration": 14,
    "start_time": "2022-12-14T11:00:35.552Z"
   },
   {
    "duration": 18,
    "start_time": "2022-12-14T11:00:35.567Z"
   },
   {
    "duration": 10,
    "start_time": "2022-12-14T11:00:35.587Z"
   },
   {
    "duration": 14,
    "start_time": "2022-12-14T11:00:35.598Z"
   },
   {
    "duration": 18,
    "start_time": "2022-12-14T11:00:35.613Z"
   },
   {
    "duration": 11,
    "start_time": "2022-12-14T11:00:35.633Z"
   },
   {
    "duration": 16,
    "start_time": "2022-12-14T11:00:35.646Z"
   },
   {
    "duration": 20,
    "start_time": "2022-12-14T11:00:35.664Z"
   },
   {
    "duration": 812,
    "start_time": "2022-12-14T11:00:35.686Z"
   },
   {
    "duration": 21901,
    "start_time": "2022-12-14T11:00:36.500Z"
   },
   {
    "duration": 79,
    "start_time": "2022-12-14T11:00:58.402Z"
   },
   {
    "duration": 107,
    "start_time": "2022-12-14T11:00:58.483Z"
   },
   {
    "duration": 24,
    "start_time": "2022-12-14T11:00:58.592Z"
   },
   {
    "duration": 1019,
    "start_time": "2022-12-14T11:00:58.618Z"
   },
   {
    "duration": 44,
    "start_time": "2022-12-14T11:00:59.642Z"
   },
   {
    "duration": 89,
    "start_time": "2022-12-14T11:00:59.688Z"
   },
   {
    "duration": 127,
    "start_time": "2022-12-14T11:00:59.780Z"
   },
   {
    "duration": 1005,
    "start_time": "2022-12-14T11:00:59.908Z"
   },
   {
    "duration": 69,
    "start_time": "2022-12-14T11:01:00.915Z"
   },
   {
    "duration": 115,
    "start_time": "2022-12-14T11:01:00.985Z"
   },
   {
    "duration": 48,
    "start_time": "2022-12-14T11:01:01.102Z"
   },
   {
    "duration": 1433,
    "start_time": "2022-12-14T11:01:01.152Z"
   },
   {
    "duration": 94,
    "start_time": "2022-12-14T11:01:02.587Z"
   },
   {
    "duration": 104,
    "start_time": "2022-12-14T11:01:02.683Z"
   },
   {
    "duration": 29,
    "start_time": "2022-12-14T11:01:02.788Z"
   },
   {
    "duration": 615,
    "start_time": "2022-12-14T11:01:02.819Z"
   },
   {
    "duration": 50,
    "start_time": "2022-12-14T11:01:03.436Z"
   },
   {
    "duration": 1600,
    "start_time": "2022-12-14T11:01:03.488Z"
   },
   {
    "duration": 162,
    "start_time": "2022-12-14T11:01:05.090Z"
   },
   {
    "duration": 6,
    "start_time": "2022-12-14T11:01:05.254Z"
   },
   {
    "duration": 208,
    "start_time": "2022-12-14T11:01:05.262Z"
   },
   {
    "duration": 204,
    "start_time": "2022-12-14T11:01:05.471Z"
   },
   {
    "duration": 51,
    "start_time": "2022-12-14T12:53:07.323Z"
   },
   {
    "duration": 1272,
    "start_time": "2022-12-14T12:53:18.083Z"
   },
   {
    "duration": 312,
    "start_time": "2022-12-14T12:53:19.358Z"
   },
   {
    "duration": 3,
    "start_time": "2022-12-14T12:53:19.672Z"
   },
   {
    "duration": 24,
    "start_time": "2022-12-14T12:53:19.677Z"
   },
   {
    "duration": 196,
    "start_time": "2022-12-14T12:53:19.704Z"
   },
   {
    "duration": 5,
    "start_time": "2022-12-14T12:53:20.061Z"
   },
   {
    "duration": 15,
    "start_time": "2022-12-14T12:53:20.370Z"
   },
   {
    "duration": 12,
    "start_time": "2022-12-14T12:53:20.734Z"
   },
   {
    "duration": 41,
    "start_time": "2022-12-14T12:53:21.470Z"
   },
   {
    "duration": 11,
    "start_time": "2022-12-14T12:53:35.593Z"
   },
   {
    "duration": 45,
    "start_time": "2022-12-14T12:53:35.783Z"
   },
   {
    "duration": 51,
    "start_time": "2022-12-14T12:53:37.073Z"
   },
   {
    "duration": 70,
    "start_time": "2022-12-14T12:59:43.351Z"
   },
   {
    "duration": 5,
    "start_time": "2022-12-14T13:02:21.617Z"
   },
   {
    "duration": 69,
    "start_time": "2022-12-14T13:03:57.888Z"
   },
   {
    "duration": 75,
    "start_time": "2022-12-14T13:04:07.266Z"
   },
   {
    "duration": 10,
    "start_time": "2022-12-14T13:04:15.677Z"
   },
   {
    "duration": 10,
    "start_time": "2022-12-14T13:04:54.441Z"
   },
   {
    "duration": 3,
    "start_time": "2022-12-14T13:05:01.723Z"
   },
   {
    "duration": 4,
    "start_time": "2022-12-14T13:05:01.904Z"
   },
   {
    "duration": 3,
    "start_time": "2022-12-14T13:05:02.126Z"
   },
   {
    "duration": 2,
    "start_time": "2022-12-14T13:05:02.327Z"
   },
   {
    "duration": 40,
    "start_time": "2022-12-14T13:05:02.558Z"
   },
   {
    "duration": 5,
    "start_time": "2022-12-14T13:05:02.950Z"
   },
   {
    "duration": 12,
    "start_time": "2022-12-14T13:05:03.171Z"
   },
   {
    "duration": 13,
    "start_time": "2022-12-14T13:05:03.352Z"
   },
   {
    "duration": 42,
    "start_time": "2022-12-14T13:05:03.550Z"
   },
   {
    "duration": 64,
    "start_time": "2022-12-14T13:05:04.187Z"
   },
   {
    "duration": 19,
    "start_time": "2022-12-14T13:05:04.432Z"
   },
   {
    "duration": 6,
    "start_time": "2022-12-14T13:05:04.938Z"
   },
   {
    "duration": 11,
    "start_time": "2022-12-14T13:05:05.429Z"
   },
   {
    "duration": 6,
    "start_time": "2022-12-14T13:05:05.917Z"
   },
   {
    "duration": 7,
    "start_time": "2022-12-14T13:05:06.901Z"
   },
   {
    "duration": 12,
    "start_time": "2022-12-14T13:05:07.146Z"
   },
   {
    "duration": 10,
    "start_time": "2022-12-14T13:05:07.639Z"
   },
   {
    "duration": 2,
    "start_time": "2022-12-14T13:05:34.434Z"
   },
   {
    "duration": 2,
    "start_time": "2022-12-14T13:05:38.643Z"
   },
   {
    "duration": 2,
    "start_time": "2022-12-14T13:05:39.384Z"
   },
   {
    "duration": 11,
    "start_time": "2022-12-14T13:05:41.379Z"
   },
   {
    "duration": 6,
    "start_time": "2022-12-14T13:05:44.432Z"
   },
   {
    "duration": 8,
    "start_time": "2022-12-14T13:05:48.611Z"
   },
   {
    "duration": 4,
    "start_time": "2022-12-14T13:05:51.099Z"
   },
   {
    "duration": 30,
    "start_time": "2022-12-14T13:30:45.439Z"
   },
   {
    "duration": 12,
    "start_time": "2022-12-14T13:31:06.841Z"
   },
   {
    "duration": 27,
    "start_time": "2022-12-14T13:31:33.597Z"
   },
   {
    "duration": 18,
    "start_time": "2022-12-14T13:31:35.920Z"
   },
   {
    "duration": 10,
    "start_time": "2022-12-14T13:34:14.296Z"
   },
   {
    "duration": 11,
    "start_time": "2022-12-14T13:35:22.134Z"
   },
   {
    "duration": 2,
    "start_time": "2022-12-14T13:35:31.421Z"
   },
   {
    "duration": 4,
    "start_time": "2022-12-14T13:35:31.651Z"
   },
   {
    "duration": 3,
    "start_time": "2022-12-14T13:35:31.844Z"
   },
   {
    "duration": 3,
    "start_time": "2022-12-14T13:35:32.051Z"
   },
   {
    "duration": 39,
    "start_time": "2022-12-14T13:35:32.238Z"
   },
   {
    "duration": 4,
    "start_time": "2022-12-14T13:35:32.627Z"
   },
   {
    "duration": 13,
    "start_time": "2022-12-14T13:35:32.837Z"
   },
   {
    "duration": 13,
    "start_time": "2022-12-14T13:35:33.048Z"
   },
   {
    "duration": 40,
    "start_time": "2022-12-14T13:35:33.284Z"
   },
   {
    "duration": 62,
    "start_time": "2022-12-14T13:35:33.980Z"
   },
   {
    "duration": 24,
    "start_time": "2022-12-14T13:35:34.208Z"
   },
   {
    "duration": 5,
    "start_time": "2022-12-14T13:35:34.687Z"
   },
   {
    "duration": 13,
    "start_time": "2022-12-14T13:35:35.221Z"
   },
   {
    "duration": 6,
    "start_time": "2022-12-14T13:35:35.658Z"
   },
   {
    "duration": 7,
    "start_time": "2022-12-14T13:35:36.437Z"
   },
   {
    "duration": 11,
    "start_time": "2022-12-14T13:35:36.685Z"
   },
   {
    "duration": 12,
    "start_time": "2022-12-14T13:35:37.086Z"
   },
   {
    "duration": 2,
    "start_time": "2022-12-14T13:35:38.626Z"
   },
   {
    "duration": 2,
    "start_time": "2022-12-14T13:35:38.886Z"
   },
   {
    "duration": 2,
    "start_time": "2022-12-14T13:35:39.490Z"
   },
   {
    "duration": 12,
    "start_time": "2022-12-14T13:35:44.535Z"
   },
   {
    "duration": 6,
    "start_time": "2022-12-14T13:35:45.848Z"
   },
   {
    "duration": 9,
    "start_time": "2022-12-14T13:35:50.742Z"
   },
   {
    "duration": 4,
    "start_time": "2022-12-14T13:35:52.570Z"
   },
   {
    "duration": 11,
    "start_time": "2022-12-14T13:35:56.059Z"
   },
   {
    "duration": 15,
    "start_time": "2022-12-14T13:36:16.083Z"
   },
   {
    "duration": 24,
    "start_time": "2022-12-14T13:36:36.774Z"
   },
   {
    "duration": 29,
    "start_time": "2022-12-14T13:36:54.174Z"
   },
   {
    "duration": 23,
    "start_time": "2022-12-14T13:39:01.323Z"
   },
   {
    "duration": 18,
    "start_time": "2022-12-14T13:39:16.314Z"
   },
   {
    "duration": 1197,
    "start_time": "2022-12-14T13:41:58.152Z"
   },
   {
    "duration": 19,
    "start_time": "2022-12-14T13:42:41.820Z"
   },
   {
    "duration": 13,
    "start_time": "2022-12-14T13:43:02.147Z"
   },
   {
    "duration": 3,
    "start_time": "2022-12-14T13:43:15.575Z"
   },
   {
    "duration": 3,
    "start_time": "2022-12-14T13:43:15.773Z"
   },
   {
    "duration": 2,
    "start_time": "2022-12-14T13:43:15.963Z"
   },
   {
    "duration": 3,
    "start_time": "2022-12-14T13:43:16.167Z"
   },
   {
    "duration": 39,
    "start_time": "2022-12-14T13:43:16.366Z"
   },
   {
    "duration": 4,
    "start_time": "2022-12-14T13:43:16.786Z"
   },
   {
    "duration": 15,
    "start_time": "2022-12-14T13:43:16.978Z"
   },
   {
    "duration": 13,
    "start_time": "2022-12-14T13:43:17.191Z"
   },
   {
    "duration": 41,
    "start_time": "2022-12-14T13:43:17.385Z"
   },
   {
    "duration": 50,
    "start_time": "2022-12-14T13:43:18.002Z"
   },
   {
    "duration": 18,
    "start_time": "2022-12-14T13:43:18.228Z"
   },
   {
    "duration": 5,
    "start_time": "2022-12-14T13:43:18.657Z"
   },
   {
    "duration": 12,
    "start_time": "2022-12-14T13:43:19.077Z"
   },
   {
    "duration": 6,
    "start_time": "2022-12-14T13:43:19.521Z"
   },
   {
    "duration": 6,
    "start_time": "2022-12-14T13:43:20.154Z"
   },
   {
    "duration": 10,
    "start_time": "2022-12-14T13:43:20.357Z"
   },
   {
    "duration": 11,
    "start_time": "2022-12-14T13:43:20.563Z"
   },
   {
    "duration": 2,
    "start_time": "2022-12-14T13:43:21.486Z"
   },
   {
    "duration": 3,
    "start_time": "2022-12-14T13:43:21.829Z"
   },
   {
    "duration": 3,
    "start_time": "2022-12-14T13:43:22.335Z"
   },
   {
    "duration": 13,
    "start_time": "2022-12-14T13:43:23.837Z"
   },
   {
    "duration": 6,
    "start_time": "2022-12-14T13:43:25.025Z"
   },
   {
    "duration": 9,
    "start_time": "2022-12-14T13:43:26.084Z"
   },
   {
    "duration": 5,
    "start_time": "2022-12-14T13:43:27.448Z"
   },
   {
    "duration": 14,
    "start_time": "2022-12-14T13:43:29.517Z"
   },
   {
    "duration": 15,
    "start_time": "2022-12-14T13:44:05.963Z"
   },
   {
    "duration": 14,
    "start_time": "2022-12-14T13:44:58.749Z"
   },
   {
    "duration": 9,
    "start_time": "2022-12-14T13:45:41.765Z"
   },
   {
    "duration": 9,
    "start_time": "2022-12-14T13:46:16.499Z"
   },
   {
    "duration": 9,
    "start_time": "2022-12-14T13:47:27.513Z"
   },
   {
    "duration": 3,
    "start_time": "2022-12-14T13:47:32.974Z"
   },
   {
    "duration": 12,
    "start_time": "2022-12-14T13:48:01.121Z"
   },
   {
    "duration": 6,
    "start_time": "2022-12-14T13:48:14.309Z"
   },
   {
    "duration": 7,
    "start_time": "2022-12-14T13:48:30.500Z"
   },
   {
    "duration": 23,
    "start_time": "2022-12-14T13:48:42.589Z"
   },
   {
    "duration": 6,
    "start_time": "2022-12-14T13:48:51.648Z"
   },
   {
    "duration": 22,
    "start_time": "2022-12-14T13:50:52.686Z"
   },
   {
    "duration": 7,
    "start_time": "2022-12-14T13:51:48.057Z"
   },
   {
    "duration": 24,
    "start_time": "2022-12-14T13:52:20.691Z"
   },
   {
    "duration": 9,
    "start_time": "2022-12-14T13:56:51.252Z"
   },
   {
    "duration": 10,
    "start_time": "2022-12-14T13:57:08.972Z"
   },
   {
    "duration": 7,
    "start_time": "2022-12-14T13:57:20.599Z"
   },
   {
    "duration": 22,
    "start_time": "2022-12-14T13:59:55.258Z"
   },
   {
    "duration": 12,
    "start_time": "2022-12-14T14:00:12.335Z"
   },
   {
    "duration": 11,
    "start_time": "2022-12-14T14:00:23.067Z"
   },
   {
    "duration": 10,
    "start_time": "2022-12-14T14:00:37.989Z"
   },
   {
    "duration": 9,
    "start_time": "2022-12-14T14:01:15.741Z"
   },
   {
    "duration": 8,
    "start_time": "2022-12-14T14:02:06.980Z"
   },
   {
    "duration": 15,
    "start_time": "2022-12-14T14:02:09.941Z"
   },
   {
    "duration": 15,
    "start_time": "2022-12-14T14:02:20.812Z"
   },
   {
    "duration": 12,
    "start_time": "2022-12-14T14:02:24.809Z"
   },
   {
    "duration": 2,
    "start_time": "2022-12-14T14:02:32.032Z"
   },
   {
    "duration": 3,
    "start_time": "2022-12-14T14:02:32.212Z"
   },
   {
    "duration": 3,
    "start_time": "2022-12-14T14:02:32.410Z"
   },
   {
    "duration": 2,
    "start_time": "2022-12-14T14:02:32.605Z"
   },
   {
    "duration": 38,
    "start_time": "2022-12-14T14:02:32.790Z"
   },
   {
    "duration": 4,
    "start_time": "2022-12-14T14:02:33.202Z"
   },
   {
    "duration": 13,
    "start_time": "2022-12-14T14:02:33.409Z"
   },
   {
    "duration": 12,
    "start_time": "2022-12-14T14:02:33.628Z"
   },
   {
    "duration": 41,
    "start_time": "2022-12-14T14:02:33.834Z"
   },
   {
    "duration": 65,
    "start_time": "2022-12-14T14:02:34.466Z"
   },
   {
    "duration": 18,
    "start_time": "2022-12-14T14:02:34.674Z"
   },
   {
    "duration": 5,
    "start_time": "2022-12-14T14:02:35.165Z"
   },
   {
    "duration": 11,
    "start_time": "2022-12-14T14:02:35.785Z"
   },
   {
    "duration": 6,
    "start_time": "2022-12-14T14:02:36.313Z"
   },
   {
    "duration": 7,
    "start_time": "2022-12-14T14:02:37.175Z"
   },
   {
    "duration": 15,
    "start_time": "2022-12-14T14:02:37.509Z"
   },
   {
    "duration": 12,
    "start_time": "2022-12-14T14:02:37.798Z"
   },
   {
    "duration": 2,
    "start_time": "2022-12-14T14:02:43.610Z"
   },
   {
    "duration": 3,
    "start_time": "2022-12-14T14:02:43.875Z"
   },
   {
    "duration": 2,
    "start_time": "2022-12-14T14:02:44.346Z"
   },
   {
    "duration": 13,
    "start_time": "2022-12-14T14:02:46.237Z"
   },
   {
    "duration": 5,
    "start_time": "2022-12-14T14:02:59.291Z"
   },
   {
    "duration": 9,
    "start_time": "2022-12-14T14:03:00.837Z"
   },
   {
    "duration": 4,
    "start_time": "2022-12-14T14:03:02.241Z"
   },
   {
    "duration": 6,
    "start_time": "2022-12-14T14:03:05.933Z"
   },
   {
    "duration": 11,
    "start_time": "2022-12-14T14:05:43.841Z"
   },
   {
    "duration": 26,
    "start_time": "2022-12-14T14:06:06.042Z"
   },
   {
    "duration": 25,
    "start_time": "2022-12-14T14:06:59.119Z"
   },
   {
    "duration": 10,
    "start_time": "2022-12-14T14:07:22.947Z"
   },
   {
    "duration": 28,
    "start_time": "2022-12-14T14:07:31.577Z"
   },
   {
    "duration": 10,
    "start_time": "2022-12-14T14:07:37.766Z"
   },
   {
    "duration": 14,
    "start_time": "2022-12-14T14:08:27.266Z"
   },
   {
    "duration": 10,
    "start_time": "2022-12-14T14:08:28.195Z"
   },
   {
    "duration": 10,
    "start_time": "2022-12-14T14:08:43.582Z"
   },
   {
    "duration": 19,
    "start_time": "2022-12-14T14:09:09.868Z"
   },
   {
    "duration": 8,
    "start_time": "2022-12-14T14:09:21.965Z"
   },
   {
    "duration": 4,
    "start_time": "2022-12-14T14:09:36.861Z"
   },
   {
    "duration": 14,
    "start_time": "2022-12-14T14:10:02.248Z"
   },
   {
    "duration": 11,
    "start_time": "2022-12-14T14:10:42.947Z"
   },
   {
    "duration": 13,
    "start_time": "2022-12-14T14:11:22.504Z"
   },
   {
    "duration": 11,
    "start_time": "2022-12-14T14:11:45.956Z"
   },
   {
    "duration": 12,
    "start_time": "2022-12-14T14:15:29.551Z"
   },
   {
    "duration": 13,
    "start_time": "2022-12-14T14:15:41.868Z"
   },
   {
    "duration": 15,
    "start_time": "2022-12-14T14:16:02.326Z"
   },
   {
    "duration": 14,
    "start_time": "2022-12-14T14:23:57.816Z"
   },
   {
    "duration": 14,
    "start_time": "2022-12-14T14:28:43.689Z"
   },
   {
    "duration": 14,
    "start_time": "2022-12-14T14:29:09.331Z"
   },
   {
    "duration": 12,
    "start_time": "2022-12-14T14:29:17.800Z"
   },
   {
    "duration": 3,
    "start_time": "2022-12-14T14:29:28.500Z"
   },
   {
    "duration": 3,
    "start_time": "2022-12-14T14:29:28.677Z"
   },
   {
    "duration": 2,
    "start_time": "2022-12-14T14:29:28.859Z"
   },
   {
    "duration": 2,
    "start_time": "2022-12-14T14:29:29.056Z"
   },
   {
    "duration": 39,
    "start_time": "2022-12-14T14:29:29.247Z"
   },
   {
    "duration": 4,
    "start_time": "2022-12-14T14:29:29.625Z"
   },
   {
    "duration": 14,
    "start_time": "2022-12-14T14:29:29.816Z"
   },
   {
    "duration": 13,
    "start_time": "2022-12-14T14:29:30.012Z"
   },
   {
    "duration": 42,
    "start_time": "2022-12-14T14:29:30.193Z"
   },
   {
    "duration": 49,
    "start_time": "2022-12-14T14:29:30.778Z"
   },
   {
    "duration": 21,
    "start_time": "2022-12-14T14:29:30.975Z"
   },
   {
    "duration": 4,
    "start_time": "2022-12-14T14:29:31.341Z"
   },
   {
    "duration": 13,
    "start_time": "2022-12-14T14:29:31.732Z"
   },
   {
    "duration": 6,
    "start_time": "2022-12-14T14:29:32.091Z"
   },
   {
    "duration": 8,
    "start_time": "2022-12-14T14:29:32.696Z"
   },
   {
    "duration": 13,
    "start_time": "2022-12-14T14:29:32.907Z"
   },
   {
    "duration": 13,
    "start_time": "2022-12-14T14:29:33.070Z"
   },
   {
    "duration": 2,
    "start_time": "2022-12-14T14:29:33.870Z"
   },
   {
    "duration": 2,
    "start_time": "2022-12-14T14:29:34.098Z"
   },
   {
    "duration": 2,
    "start_time": "2022-12-14T14:29:34.500Z"
   },
   {
    "duration": 13,
    "start_time": "2022-12-14T14:29:35.622Z"
   },
   {
    "duration": 6,
    "start_time": "2022-12-14T14:29:36.352Z"
   },
   {
    "duration": 9,
    "start_time": "2022-12-14T14:29:37.118Z"
   },
   {
    "duration": 5,
    "start_time": "2022-12-14T14:29:37.742Z"
   },
   {
    "duration": 6,
    "start_time": "2022-12-14T14:29:38.465Z"
   },
   {
    "duration": 28,
    "start_time": "2022-12-14T14:29:46.148Z"
   },
   {
    "duration": 6,
    "start_time": "2022-12-14T14:30:20.352Z"
   },
   {
    "duration": 13,
    "start_time": "2022-12-14T14:30:37.745Z"
   },
   {
    "duration": 7,
    "start_time": "2022-12-14T14:30:51.041Z"
   },
   {
    "duration": 7,
    "start_time": "2022-12-14T14:31:36.143Z"
   },
   {
    "duration": 22,
    "start_time": "2022-12-14T14:32:34.746Z"
   },
   {
    "duration": 8,
    "start_time": "2022-12-14T14:34:19.107Z"
   },
   {
    "duration": 11,
    "start_time": "2022-12-14T14:34:33.692Z"
   },
   {
    "duration": 20,
    "start_time": "2022-12-14T14:35:06.065Z"
   },
   {
    "duration": 11,
    "start_time": "2022-12-14T14:36:31.732Z"
   },
   {
    "duration": 11,
    "start_time": "2022-12-14T14:36:38.783Z"
   },
   {
    "duration": 12,
    "start_time": "2022-12-14T14:41:03.380Z"
   },
   {
    "duration": 71,
    "start_time": "2022-12-14T14:41:24.408Z"
   },
   {
    "duration": 76,
    "start_time": "2022-12-14T14:41:55.236Z"
   },
   {
    "duration": 81,
    "start_time": "2022-12-14T14:42:05.341Z"
   },
   {
    "duration": 74,
    "start_time": "2022-12-14T14:43:00.394Z"
   },
   {
    "duration": 104,
    "start_time": "2022-12-14T14:43:25.956Z"
   },
   {
    "duration": 74,
    "start_time": "2022-12-14T14:43:45.294Z"
   },
   {
    "duration": 11,
    "start_time": "2022-12-14T14:43:56.023Z"
   },
   {
    "duration": 12,
    "start_time": "2022-12-14T14:44:47.801Z"
   },
   {
    "duration": 85,
    "start_time": "2022-12-14T14:44:58.944Z"
   },
   {
    "duration": 69,
    "start_time": "2022-12-14T14:45:09.303Z"
   },
   {
    "duration": 100,
    "start_time": "2022-12-14T14:47:42.028Z"
   },
   {
    "duration": 12,
    "start_time": "2022-12-14T14:47:46.947Z"
   },
   {
    "duration": 12,
    "start_time": "2022-12-14T14:48:18.395Z"
   },
   {
    "duration": 11,
    "start_time": "2022-12-14T14:48:23.696Z"
   },
   {
    "duration": 10,
    "start_time": "2022-12-14T14:48:38.209Z"
   },
   {
    "duration": 10,
    "start_time": "2022-12-14T14:48:51.082Z"
   },
   {
    "duration": 9,
    "start_time": "2022-12-14T14:49:00.915Z"
   },
   {
    "duration": 14,
    "start_time": "2022-12-14T14:49:19.094Z"
   },
   {
    "duration": 6,
    "start_time": "2022-12-14T15:23:14.734Z"
   },
   {
    "duration": 16,
    "start_time": "2022-12-14T15:24:44.495Z"
   },
   {
    "duration": 6,
    "start_time": "2022-12-14T15:31:05.433Z"
   },
   {
    "duration": 10,
    "start_time": "2022-12-14T15:31:58.691Z"
   },
   {
    "duration": 11,
    "start_time": "2022-12-14T15:32:13.185Z"
   },
   {
    "duration": 24,
    "start_time": "2022-12-14T15:32:47.712Z"
   },
   {
    "duration": 26,
    "start_time": "2022-12-14T15:32:55.962Z"
   },
   {
    "duration": 26,
    "start_time": "2022-12-14T15:33:18.266Z"
   },
   {
    "duration": 15,
    "start_time": "2022-12-14T15:33:26.181Z"
   },
   {
    "duration": 21,
    "start_time": "2022-12-14T15:35:56.033Z"
   },
   {
    "duration": 22,
    "start_time": "2022-12-14T15:36:01.745Z"
   },
   {
    "duration": 17,
    "start_time": "2022-12-14T15:36:18.341Z"
   },
   {
    "duration": 3,
    "start_time": "2022-12-14T15:40:18.762Z"
   },
   {
    "duration": 6,
    "start_time": "2022-12-14T15:40:36.118Z"
   },
   {
    "duration": 22,
    "start_time": "2022-12-14T15:40:50.776Z"
   },
   {
    "duration": 7,
    "start_time": "2022-12-14T15:42:22.008Z"
   },
   {
    "duration": 21,
    "start_time": "2022-12-14T15:42:58.752Z"
   },
   {
    "duration": 8,
    "start_time": "2022-12-14T15:43:33.423Z"
   },
   {
    "duration": 11,
    "start_time": "2022-12-14T15:43:52.592Z"
   },
   {
    "duration": 24,
    "start_time": "2022-12-14T15:44:16.664Z"
   },
   {
    "duration": 21,
    "start_time": "2022-12-14T15:44:38.554Z"
   },
   {
    "duration": 28,
    "start_time": "2022-12-14T15:44:51.488Z"
   },
   {
    "duration": 23,
    "start_time": "2022-12-14T15:45:34.865Z"
   },
   {
    "duration": 22,
    "start_time": "2022-12-14T15:45:55.373Z"
   },
   {
    "duration": 15,
    "start_time": "2022-12-14T15:46:00.540Z"
   },
   {
    "duration": 16,
    "start_time": "2022-12-14T15:46:11.210Z"
   },
   {
    "duration": 15,
    "start_time": "2022-12-14T15:46:25.765Z"
   },
   {
    "duration": 18,
    "start_time": "2022-12-14T15:48:27.243Z"
   },
   {
    "duration": 12,
    "start_time": "2022-12-14T15:48:32.875Z"
   },
   {
    "duration": 14,
    "start_time": "2022-12-14T15:49:11.725Z"
   },
   {
    "duration": 23,
    "start_time": "2022-12-14T15:49:28.002Z"
   },
   {
    "duration": 6,
    "start_time": "2022-12-14T15:50:08.130Z"
   },
   {
    "duration": 9,
    "start_time": "2022-12-14T15:50:36.456Z"
   },
   {
    "duration": 22,
    "start_time": "2022-12-14T15:50:43.543Z"
   },
   {
    "duration": 10,
    "start_time": "2022-12-14T15:51:16.874Z"
   },
   {
    "duration": 12,
    "start_time": "2022-12-14T15:51:39.929Z"
   },
   {
    "duration": 13,
    "start_time": "2022-12-14T15:53:35.392Z"
   },
   {
    "duration": 18,
    "start_time": "2022-12-14T15:54:21.928Z"
   },
   {
    "duration": 15,
    "start_time": "2022-12-14T15:54:47.981Z"
   },
   {
    "duration": 23,
    "start_time": "2022-12-14T15:55:31.584Z"
   },
   {
    "duration": 17,
    "start_time": "2022-12-14T15:55:45.187Z"
   },
   {
    "duration": 19,
    "start_time": "2022-12-14T15:56:54.470Z"
   },
   {
    "duration": 11,
    "start_time": "2022-12-14T15:57:22.794Z"
   },
   {
    "duration": 20,
    "start_time": "2022-12-14T15:58:06.600Z"
   },
   {
    "duration": 21,
    "start_time": "2022-12-14T15:58:33.528Z"
   },
   {
    "duration": 10,
    "start_time": "2022-12-14T15:58:47.383Z"
   },
   {
    "duration": 23,
    "start_time": "2022-12-14T15:58:55.880Z"
   },
   {
    "duration": 8,
    "start_time": "2022-12-14T16:05:20.011Z"
   },
   {
    "duration": 69,
    "start_time": "2022-12-14T16:08:20.634Z"
   },
   {
    "duration": 72,
    "start_time": "2022-12-14T16:08:34.383Z"
   },
   {
    "duration": 14,
    "start_time": "2022-12-14T16:10:01.593Z"
   },
   {
    "duration": 9,
    "start_time": "2022-12-14T16:10:17.261Z"
   },
   {
    "duration": 10,
    "start_time": "2022-12-14T16:11:29.475Z"
   },
   {
    "duration": 17,
    "start_time": "2022-12-14T16:12:27.332Z"
   },
   {
    "duration": 16,
    "start_time": "2022-12-14T16:12:44.794Z"
   },
   {
    "duration": 21,
    "start_time": "2022-12-14T16:13:03.413Z"
   },
   {
    "duration": 25,
    "start_time": "2022-12-14T16:13:09.579Z"
   },
   {
    "duration": 20,
    "start_time": "2022-12-14T16:15:32.824Z"
   },
   {
    "duration": 23,
    "start_time": "2022-12-14T16:15:55.580Z"
   },
   {
    "duration": 15,
    "start_time": "2022-12-14T16:21:57.309Z"
   },
   {
    "duration": 22,
    "start_time": "2022-12-14T16:23:11.085Z"
   },
   {
    "duration": 18,
    "start_time": "2022-12-14T16:24:07.955Z"
   },
   {
    "duration": 20,
    "start_time": "2022-12-14T16:24:16.687Z"
   },
   {
    "duration": 3,
    "start_time": "2022-12-14T16:24:37.865Z"
   },
   {
    "duration": 3,
    "start_time": "2022-12-14T16:24:38.045Z"
   },
   {
    "duration": 2,
    "start_time": "2022-12-14T16:24:38.217Z"
   },
   {
    "duration": 2,
    "start_time": "2022-12-14T16:24:38.401Z"
   },
   {
    "duration": 37,
    "start_time": "2022-12-14T16:24:38.577Z"
   },
   {
    "duration": 4,
    "start_time": "2022-12-14T16:24:38.960Z"
   },
   {
    "duration": 13,
    "start_time": "2022-12-14T16:24:39.155Z"
   },
   {
    "duration": 13,
    "start_time": "2022-12-14T16:24:39.369Z"
   },
   {
    "duration": 39,
    "start_time": "2022-12-14T16:24:39.545Z"
   },
   {
    "duration": 51,
    "start_time": "2022-12-14T16:24:40.125Z"
   },
   {
    "duration": 19,
    "start_time": "2022-12-14T16:24:40.320Z"
   },
   {
    "duration": 4,
    "start_time": "2022-12-14T16:24:40.704Z"
   },
   {
    "duration": 12,
    "start_time": "2022-12-14T16:24:41.085Z"
   },
   {
    "duration": 7,
    "start_time": "2022-12-14T16:24:41.480Z"
   },
   {
    "duration": 6,
    "start_time": "2022-12-14T16:24:42.067Z"
   },
   {
    "duration": 12,
    "start_time": "2022-12-14T16:24:42.276Z"
   },
   {
    "duration": 12,
    "start_time": "2022-12-14T16:24:42.465Z"
   },
   {
    "duration": 3,
    "start_time": "2022-12-14T16:24:43.288Z"
   },
   {
    "duration": 2,
    "start_time": "2022-12-14T16:24:43.493Z"
   },
   {
    "duration": 4,
    "start_time": "2022-12-14T16:24:43.908Z"
   },
   {
    "duration": 12,
    "start_time": "2022-12-14T16:24:44.982Z"
   },
   {
    "duration": 5,
    "start_time": "2022-12-14T16:24:46.157Z"
   },
   {
    "duration": 10,
    "start_time": "2022-12-14T16:24:46.371Z"
   },
   {
    "duration": 4,
    "start_time": "2022-12-14T16:24:47.090Z"
   },
   {
    "duration": 16,
    "start_time": "2022-12-14T16:24:47.783Z"
   },
   {
    "duration": 19,
    "start_time": "2022-12-14T16:24:48.556Z"
   },
   {
    "duration": 19,
    "start_time": "2022-12-14T16:24:59.553Z"
   },
   {
    "duration": 14,
    "start_time": "2022-12-14T16:25:46.532Z"
   },
   {
    "duration": 16,
    "start_time": "2022-12-14T16:25:59.879Z"
   },
   {
    "duration": 14,
    "start_time": "2022-12-14T16:26:40.543Z"
   },
   {
    "duration": 9816,
    "start_time": "2022-12-14T18:44:44.262Z"
   },
   {
    "duration": 1312,
    "start_time": "2022-12-14T18:44:54.081Z"
   },
   {
    "duration": 106,
    "start_time": "2022-12-14T18:44:55.395Z"
   },
   {
    "duration": 3,
    "start_time": "2022-12-14T18:44:55.503Z"
   },
   {
    "duration": 31,
    "start_time": "2022-12-14T18:44:55.508Z"
   },
   {
    "duration": 184,
    "start_time": "2022-12-14T18:44:55.540Z"
   },
   {
    "duration": 7,
    "start_time": "2022-12-14T18:44:55.726Z"
   },
   {
    "duration": 43,
    "start_time": "2022-12-14T18:44:55.735Z"
   },
   {
    "duration": 12,
    "start_time": "2022-12-14T18:44:55.780Z"
   },
   {
    "duration": 38,
    "start_time": "2022-12-14T18:44:55.795Z"
   },
   {
    "duration": 65,
    "start_time": "2022-12-14T18:44:55.835Z"
   },
   {
    "duration": 20,
    "start_time": "2022-12-14T18:44:55.901Z"
   },
   {
    "duration": 5,
    "start_time": "2022-12-14T18:44:55.922Z"
   },
   {
    "duration": 14,
    "start_time": "2022-12-14T18:44:55.928Z"
   },
   {
    "duration": 7,
    "start_time": "2022-12-14T18:44:55.943Z"
   },
   {
    "duration": 33,
    "start_time": "2022-12-14T18:44:55.952Z"
   },
   {
    "duration": 14,
    "start_time": "2022-12-14T18:44:55.987Z"
   },
   {
    "duration": 11,
    "start_time": "2022-12-14T18:44:56.003Z"
   },
   {
    "duration": 5,
    "start_time": "2022-12-14T18:44:56.015Z"
   },
   {
    "duration": 6,
    "start_time": "2022-12-14T18:44:56.021Z"
   },
   {
    "duration": 6,
    "start_time": "2022-12-14T18:44:56.029Z"
   },
   {
    "duration": 18,
    "start_time": "2022-12-14T18:44:56.037Z"
   },
   {
    "duration": 5,
    "start_time": "2022-12-14T18:44:56.078Z"
   },
   {
    "duration": 10,
    "start_time": "2022-12-14T18:44:56.085Z"
   },
   {
    "duration": 4,
    "start_time": "2022-12-14T18:44:56.097Z"
   },
   {
    "duration": 123,
    "start_time": "2022-12-14T18:44:56.103Z"
   },
   {
    "duration": 0,
    "start_time": "2022-12-14T18:44:56.228Z"
   },
   {
    "duration": 0,
    "start_time": "2022-12-14T18:44:56.230Z"
   },
   {
    "duration": 0,
    "start_time": "2022-12-14T18:44:56.231Z"
   },
   {
    "duration": 0,
    "start_time": "2022-12-14T18:44:56.232Z"
   },
   {
    "duration": 0,
    "start_time": "2022-12-14T18:44:56.233Z"
   },
   {
    "duration": 0,
    "start_time": "2022-12-14T18:44:56.235Z"
   },
   {
    "duration": 0,
    "start_time": "2022-12-14T18:44:56.235Z"
   },
   {
    "duration": 0,
    "start_time": "2022-12-14T18:44:56.236Z"
   },
   {
    "duration": 0,
    "start_time": "2022-12-14T18:44:56.237Z"
   },
   {
    "duration": 0,
    "start_time": "2022-12-14T18:44:56.238Z"
   },
   {
    "duration": 0,
    "start_time": "2022-12-14T18:44:56.239Z"
   },
   {
    "duration": 0,
    "start_time": "2022-12-14T18:44:56.240Z"
   },
   {
    "duration": 0,
    "start_time": "2022-12-14T18:44:56.241Z"
   },
   {
    "duration": 0,
    "start_time": "2022-12-14T18:44:56.242Z"
   },
   {
    "duration": 0,
    "start_time": "2022-12-14T18:44:56.243Z"
   },
   {
    "duration": 0,
    "start_time": "2022-12-14T18:44:56.244Z"
   },
   {
    "duration": 0,
    "start_time": "2022-12-14T18:44:56.245Z"
   },
   {
    "duration": 0,
    "start_time": "2022-12-14T18:44:56.278Z"
   },
   {
    "duration": 0,
    "start_time": "2022-12-14T18:44:56.279Z"
   },
   {
    "duration": 0,
    "start_time": "2022-12-14T18:44:56.280Z"
   },
   {
    "duration": 0,
    "start_time": "2022-12-14T18:44:56.282Z"
   },
   {
    "duration": 0,
    "start_time": "2022-12-14T18:44:56.283Z"
   },
   {
    "duration": 0,
    "start_time": "2022-12-14T18:44:56.284Z"
   },
   {
    "duration": 0,
    "start_time": "2022-12-14T18:44:56.285Z"
   },
   {
    "duration": 4199,
    "start_time": "2022-12-14T18:47:57.807Z"
   },
   {
    "duration": 1094,
    "start_time": "2022-12-14T18:48:02.008Z"
   },
   {
    "duration": 103,
    "start_time": "2022-12-14T18:48:03.104Z"
   },
   {
    "duration": 3,
    "start_time": "2022-12-14T18:48:03.209Z"
   },
   {
    "duration": 5,
    "start_time": "2022-12-14T18:48:03.214Z"
   },
   {
    "duration": 44,
    "start_time": "2022-12-14T18:48:03.221Z"
   },
   {
    "duration": 6,
    "start_time": "2022-12-14T18:48:03.267Z"
   },
   {
    "duration": 21,
    "start_time": "2022-12-14T18:48:03.274Z"
   },
   {
    "duration": 15,
    "start_time": "2022-12-14T18:48:03.296Z"
   },
   {
    "duration": 37,
    "start_time": "2022-12-14T18:48:03.315Z"
   },
   {
    "duration": 57,
    "start_time": "2022-12-14T18:48:03.354Z"
   },
   {
    "duration": 20,
    "start_time": "2022-12-14T18:48:03.413Z"
   },
   {
    "duration": 4,
    "start_time": "2022-12-14T18:48:03.435Z"
   },
   {
    "duration": 15,
    "start_time": "2022-12-14T18:48:03.441Z"
   },
   {
    "duration": 6,
    "start_time": "2022-12-14T18:48:03.478Z"
   },
   {
    "duration": 10,
    "start_time": "2022-12-14T18:48:03.486Z"
   },
   {
    "duration": 12,
    "start_time": "2022-12-14T18:48:03.497Z"
   },
   {
    "duration": 11,
    "start_time": "2022-12-14T18:48:03.510Z"
   },
   {
    "duration": 14,
    "start_time": "2022-12-14T18:48:03.523Z"
   },
   {
    "duration": 10,
    "start_time": "2022-12-14T18:48:03.538Z"
   },
   {
    "duration": 14,
    "start_time": "2022-12-14T18:48:03.550Z"
   },
   {
    "duration": 19,
    "start_time": "2022-12-14T18:48:03.565Z"
   },
   {
    "duration": 8,
    "start_time": "2022-12-14T18:48:03.587Z"
   },
   {
    "duration": 14,
    "start_time": "2022-12-14T18:48:03.596Z"
   },
   {
    "duration": 4,
    "start_time": "2022-12-14T18:48:03.612Z"
   },
   {
    "duration": 122,
    "start_time": "2022-12-14T18:48:03.618Z"
   },
   {
    "duration": 0,
    "start_time": "2022-12-14T18:48:03.742Z"
   },
   {
    "duration": 0,
    "start_time": "2022-12-14T18:48:03.743Z"
   },
   {
    "duration": 0,
    "start_time": "2022-12-14T18:48:03.744Z"
   },
   {
    "duration": 0,
    "start_time": "2022-12-14T18:48:03.745Z"
   },
   {
    "duration": 0,
    "start_time": "2022-12-14T18:48:03.745Z"
   },
   {
    "duration": 0,
    "start_time": "2022-12-14T18:48:03.747Z"
   },
   {
    "duration": 0,
    "start_time": "2022-12-14T18:48:03.748Z"
   },
   {
    "duration": 0,
    "start_time": "2022-12-14T18:48:03.749Z"
   },
   {
    "duration": 0,
    "start_time": "2022-12-14T18:48:03.750Z"
   },
   {
    "duration": 0,
    "start_time": "2022-12-14T18:48:03.751Z"
   },
   {
    "duration": 0,
    "start_time": "2022-12-14T18:48:03.752Z"
   },
   {
    "duration": 0,
    "start_time": "2022-12-14T18:48:03.753Z"
   },
   {
    "duration": 0,
    "start_time": "2022-12-14T18:48:03.754Z"
   },
   {
    "duration": 0,
    "start_time": "2022-12-14T18:48:03.778Z"
   },
   {
    "duration": 0,
    "start_time": "2022-12-14T18:48:03.779Z"
   },
   {
    "duration": 0,
    "start_time": "2022-12-14T18:48:03.780Z"
   },
   {
    "duration": 0,
    "start_time": "2022-12-14T18:48:03.782Z"
   },
   {
    "duration": 0,
    "start_time": "2022-12-14T18:48:03.782Z"
   },
   {
    "duration": 0,
    "start_time": "2022-12-14T18:48:03.784Z"
   },
   {
    "duration": 0,
    "start_time": "2022-12-14T18:48:03.785Z"
   },
   {
    "duration": 0,
    "start_time": "2022-12-14T18:48:03.786Z"
   },
   {
    "duration": 0,
    "start_time": "2022-12-14T18:48:03.787Z"
   },
   {
    "duration": 0,
    "start_time": "2022-12-14T18:48:03.788Z"
   },
   {
    "duration": 0,
    "start_time": "2022-12-14T18:48:03.789Z"
   },
   {
    "duration": 14,
    "start_time": "2022-12-14T18:58:11.022Z"
   },
   {
    "duration": 8,
    "start_time": "2022-12-14T18:58:35.788Z"
   },
   {
    "duration": 2,
    "start_time": "2022-12-14T19:08:38.561Z"
   },
   {
    "duration": 83,
    "start_time": "2022-12-14T19:45:14.161Z"
   },
   {
    "duration": 14,
    "start_time": "2022-12-14T19:56:21.620Z"
   },
   {
    "duration": 10561,
    "start_time": "2022-12-14T19:56:29.780Z"
   },
   {
    "duration": 3,
    "start_time": "2022-12-14T19:56:40.343Z"
   },
   {
    "duration": 10,
    "start_time": "2022-12-14T19:56:40.347Z"
   },
   {
    "duration": 8,
    "start_time": "2022-12-14T19:56:40.359Z"
   },
   {
    "duration": 7,
    "start_time": "2022-12-14T19:56:40.369Z"
   },
   {
    "duration": 42,
    "start_time": "2022-12-14T19:56:40.377Z"
   },
   {
    "duration": 5,
    "start_time": "2022-12-14T19:56:40.420Z"
   },
   {
    "duration": 14,
    "start_time": "2022-12-14T19:56:40.426Z"
   },
   {
    "duration": 14,
    "start_time": "2022-12-14T19:56:40.442Z"
   },
   {
    "duration": 39,
    "start_time": "2022-12-14T19:56:40.458Z"
   },
   {
    "duration": 67,
    "start_time": "2022-12-14T19:56:40.499Z"
   },
   {
    "duration": 17,
    "start_time": "2022-12-14T19:56:40.568Z"
   },
   {
    "duration": 4,
    "start_time": "2022-12-14T19:56:40.587Z"
   },
   {
    "duration": 31,
    "start_time": "2022-12-14T19:56:40.592Z"
   },
   {
    "duration": 6,
    "start_time": "2022-12-14T19:56:40.624Z"
   },
   {
    "duration": 7,
    "start_time": "2022-12-14T19:56:40.632Z"
   },
   {
    "duration": 11,
    "start_time": "2022-12-14T19:56:40.640Z"
   },
   {
    "duration": 11,
    "start_time": "2022-12-14T19:56:40.652Z"
   },
   {
    "duration": 6,
    "start_time": "2022-12-14T19:56:40.665Z"
   },
   {
    "duration": 5,
    "start_time": "2022-12-14T19:56:40.673Z"
   },
   {
    "duration": 5,
    "start_time": "2022-12-14T19:56:40.679Z"
   },
   {
    "duration": 38,
    "start_time": "2022-12-14T19:56:40.686Z"
   },
   {
    "duration": 9,
    "start_time": "2022-12-14T19:56:40.726Z"
   },
   {
    "duration": 11,
    "start_time": "2022-12-14T19:56:40.736Z"
   },
   {
    "duration": 5,
    "start_time": "2022-12-14T19:56:40.749Z"
   },
   {
    "duration": 17,
    "start_time": "2022-12-14T19:56:43.360Z"
   },
   {
    "duration": 9,
    "start_time": "2022-12-14T19:56:52.998Z"
   },
   {
    "duration": 20,
    "start_time": "2022-12-14T19:58:14.688Z"
   },
   {
    "duration": 14,
    "start_time": "2022-12-14T19:58:21.383Z"
   },
   {
    "duration": 13,
    "start_time": "2022-12-14T19:58:37.481Z"
   },
   {
    "duration": 14,
    "start_time": "2022-12-14T19:58:57.168Z"
   },
   {
    "duration": 3936,
    "start_time": "2022-12-14T19:59:05.926Z"
   },
   {
    "duration": 3,
    "start_time": "2022-12-14T19:59:09.865Z"
   },
   {
    "duration": 6,
    "start_time": "2022-12-14T19:59:09.870Z"
   },
   {
    "duration": 19,
    "start_time": "2022-12-14T19:59:09.878Z"
   },
   {
    "duration": 6,
    "start_time": "2022-12-14T19:59:09.900Z"
   },
   {
    "duration": 44,
    "start_time": "2022-12-14T19:59:09.908Z"
   },
   {
    "duration": 5,
    "start_time": "2022-12-14T19:59:09.953Z"
   },
   {
    "duration": 63,
    "start_time": "2022-12-14T19:59:09.959Z"
   },
   {
    "duration": 14,
    "start_time": "2022-12-14T19:59:10.025Z"
   },
   {
    "duration": 39,
    "start_time": "2022-12-14T19:59:10.041Z"
   },
   {
    "duration": 71,
    "start_time": "2022-12-14T19:59:10.082Z"
   },
   {
    "duration": 18,
    "start_time": "2022-12-14T19:59:10.154Z"
   },
   {
    "duration": 4,
    "start_time": "2022-12-14T19:59:10.173Z"
   },
   {
    "duration": 32,
    "start_time": "2022-12-14T19:59:10.178Z"
   },
   {
    "duration": 14,
    "start_time": "2022-12-14T19:59:10.212Z"
   },
   {
    "duration": 7,
    "start_time": "2022-12-14T19:59:10.593Z"
   },
   {
    "duration": 11,
    "start_time": "2022-12-14T19:59:10.796Z"
   },
   {
    "duration": 12,
    "start_time": "2022-12-14T19:59:11.004Z"
   },
   {
    "duration": 3,
    "start_time": "2022-12-14T19:59:12.741Z"
   },
   {
    "duration": 3,
    "start_time": "2022-12-14T19:59:12.964Z"
   },
   {
    "duration": 2,
    "start_time": "2022-12-14T19:59:13.421Z"
   },
   {
    "duration": 11,
    "start_time": "2022-12-14T19:59:15.179Z"
   },
   {
    "duration": 6,
    "start_time": "2022-12-14T19:59:16.143Z"
   },
   {
    "duration": 11,
    "start_time": "2022-12-14T19:59:18.121Z"
   },
   {
    "duration": 4,
    "start_time": "2022-12-14T19:59:21.456Z"
   },
   {
    "duration": 17,
    "start_time": "2022-12-14T19:59:28.787Z"
   },
   {
    "duration": 15,
    "start_time": "2022-12-14T20:00:51.234Z"
   },
   {
    "duration": 9,
    "start_time": "2022-12-14T20:00:54.434Z"
   },
   {
    "duration": 12,
    "start_time": "2022-12-14T20:01:29.545Z"
   },
   {
    "duration": 17,
    "start_time": "2022-12-14T20:01:52.345Z"
   },
   {
    "duration": 15,
    "start_time": "2022-12-14T20:01:59.160Z"
   },
   {
    "duration": 12,
    "start_time": "2022-12-14T20:03:18.604Z"
   },
   {
    "duration": 12,
    "start_time": "2022-12-14T20:03:34.886Z"
   },
   {
    "duration": 8651,
    "start_time": "2022-12-15T08:39:41.582Z"
   },
   {
    "duration": 1268,
    "start_time": "2022-12-15T08:39:50.235Z"
   },
   {
    "duration": 101,
    "start_time": "2022-12-15T08:39:51.505Z"
   },
   {
    "duration": 3,
    "start_time": "2022-12-15T08:39:51.608Z"
   },
   {
    "duration": 13,
    "start_time": "2022-12-15T08:39:51.613Z"
   },
   {
    "duration": 95,
    "start_time": "2022-12-15T08:39:51.628Z"
   },
   {
    "duration": 5,
    "start_time": "2022-12-15T08:39:51.725Z"
   },
   {
    "duration": 16,
    "start_time": "2022-12-15T08:39:51.732Z"
   },
   {
    "duration": 12,
    "start_time": "2022-12-15T08:39:51.750Z"
   },
   {
    "duration": 49,
    "start_time": "2022-12-15T08:39:51.764Z"
   },
   {
    "duration": 50,
    "start_time": "2022-12-15T08:39:51.815Z"
   },
   {
    "duration": 35,
    "start_time": "2022-12-15T08:39:51.867Z"
   },
   {
    "duration": 6,
    "start_time": "2022-12-15T08:39:51.904Z"
   },
   {
    "duration": 39,
    "start_time": "2022-12-15T08:39:51.912Z"
   },
   {
    "duration": 14,
    "start_time": "2022-12-15T08:39:51.953Z"
   },
   {
    "duration": 17,
    "start_time": "2022-12-15T08:39:51.969Z"
   },
   {
    "duration": 12,
    "start_time": "2022-12-15T08:39:51.988Z"
   },
   {
    "duration": 12,
    "start_time": "2022-12-15T08:39:52.002Z"
   },
   {
    "duration": 8,
    "start_time": "2022-12-15T08:39:52.015Z"
   },
   {
    "duration": 5,
    "start_time": "2022-12-15T08:39:52.025Z"
   },
   {
    "duration": 6,
    "start_time": "2022-12-15T08:39:52.031Z"
   },
   {
    "duration": 19,
    "start_time": "2022-12-15T08:39:52.038Z"
   },
   {
    "duration": 7,
    "start_time": "2022-12-15T08:39:52.059Z"
   },
   {
    "duration": 30,
    "start_time": "2022-12-15T08:39:52.067Z"
   },
   {
    "duration": 15,
    "start_time": "2022-12-15T08:39:52.099Z"
   },
   {
    "duration": 27,
    "start_time": "2022-12-15T08:39:52.115Z"
   },
   {
    "duration": 8,
    "start_time": "2022-12-15T08:39:52.143Z"
   },
   {
    "duration": 10,
    "start_time": "2022-12-15T08:39:52.154Z"
   },
   {
    "duration": 122,
    "start_time": "2022-12-15T08:39:52.165Z"
   },
   {
    "duration": 0,
    "start_time": "2022-12-15T08:39:52.289Z"
   },
   {
    "duration": 0,
    "start_time": "2022-12-15T08:39:52.296Z"
   },
   {
    "duration": 0,
    "start_time": "2022-12-15T08:39:52.297Z"
   },
   {
    "duration": 0,
    "start_time": "2022-12-15T08:39:52.299Z"
   },
   {
    "duration": 0,
    "start_time": "2022-12-15T08:39:52.300Z"
   },
   {
    "duration": 0,
    "start_time": "2022-12-15T08:39:52.301Z"
   },
   {
    "duration": 0,
    "start_time": "2022-12-15T08:39:52.303Z"
   },
   {
    "duration": 0,
    "start_time": "2022-12-15T08:39:52.304Z"
   },
   {
    "duration": 0,
    "start_time": "2022-12-15T08:39:52.305Z"
   },
   {
    "duration": 0,
    "start_time": "2022-12-15T08:39:52.306Z"
   },
   {
    "duration": 0,
    "start_time": "2022-12-15T08:39:52.307Z"
   },
   {
    "duration": 0,
    "start_time": "2022-12-15T08:39:52.308Z"
   },
   {
    "duration": 0,
    "start_time": "2022-12-15T08:39:52.309Z"
   },
   {
    "duration": 0,
    "start_time": "2022-12-15T08:39:52.310Z"
   },
   {
    "duration": 0,
    "start_time": "2022-12-15T08:39:52.311Z"
   },
   {
    "duration": 0,
    "start_time": "2022-12-15T08:39:52.313Z"
   },
   {
    "duration": 0,
    "start_time": "2022-12-15T08:39:52.314Z"
   },
   {
    "duration": 0,
    "start_time": "2022-12-15T08:39:52.315Z"
   },
   {
    "duration": 0,
    "start_time": "2022-12-15T08:39:52.316Z"
   },
   {
    "duration": 0,
    "start_time": "2022-12-15T08:39:52.317Z"
   },
   {
    "duration": 0,
    "start_time": "2022-12-15T08:39:52.318Z"
   },
   {
    "duration": 0,
    "start_time": "2022-12-15T08:39:52.319Z"
   },
   {
    "duration": 0,
    "start_time": "2022-12-15T08:39:52.320Z"
   },
   {
    "duration": 11648,
    "start_time": "2022-12-15T08:58:53.574Z"
   },
   {
    "duration": 1340,
    "start_time": "2022-12-15T08:59:05.224Z"
   },
   {
    "duration": 105,
    "start_time": "2022-12-15T08:59:06.566Z"
   },
   {
    "duration": 3,
    "start_time": "2022-12-15T08:59:06.673Z"
   },
   {
    "duration": 12,
    "start_time": "2022-12-15T08:59:06.678Z"
   },
   {
    "duration": 111,
    "start_time": "2022-12-15T08:59:06.691Z"
   },
   {
    "duration": 5,
    "start_time": "2022-12-15T08:59:06.804Z"
   },
   {
    "duration": 32,
    "start_time": "2022-12-15T08:59:06.811Z"
   },
   {
    "duration": 13,
    "start_time": "2022-12-15T08:59:06.845Z"
   },
   {
    "duration": 48,
    "start_time": "2022-12-15T08:59:06.861Z"
   },
   {
    "duration": 60,
    "start_time": "2022-12-15T08:59:06.911Z"
   },
   {
    "duration": 18,
    "start_time": "2022-12-15T08:59:06.973Z"
   },
   {
    "duration": 4,
    "start_time": "2022-12-15T08:59:06.993Z"
   },
   {
    "duration": 57,
    "start_time": "2022-12-15T08:59:06.998Z"
   },
   {
    "duration": 18,
    "start_time": "2022-12-15T08:59:07.057Z"
   },
   {
    "duration": 9,
    "start_time": "2022-12-15T08:59:07.077Z"
   },
   {
    "duration": 37,
    "start_time": "2022-12-15T08:59:07.088Z"
   },
   {
    "duration": 31,
    "start_time": "2022-12-15T08:59:07.126Z"
   },
   {
    "duration": 33,
    "start_time": "2022-12-15T08:59:07.159Z"
   },
   {
    "duration": 10,
    "start_time": "2022-12-15T08:59:07.194Z"
   },
   {
    "duration": 10,
    "start_time": "2022-12-15T08:59:07.206Z"
   },
   {
    "duration": 18,
    "start_time": "2022-12-15T08:59:07.217Z"
   },
   {
    "duration": 5,
    "start_time": "2022-12-15T08:59:07.525Z"
   },
   {
    "duration": 9,
    "start_time": "2022-12-15T08:59:10.344Z"
   },
   {
    "duration": 7,
    "start_time": "2022-12-15T08:59:12.142Z"
   },
   {
    "duration": 16,
    "start_time": "2022-12-15T08:59:15.786Z"
   },
   {
    "duration": 13,
    "start_time": "2022-12-15T08:59:17.380Z"
   },
   {
    "duration": 70,
    "start_time": "2022-12-15T09:01:02.854Z"
   },
   {
    "duration": 12,
    "start_time": "2022-12-15T09:02:28.922Z"
   },
   {
    "duration": 9,
    "start_time": "2022-12-15T09:02:29.913Z"
   },
   {
    "duration": 15,
    "start_time": "2022-12-15T09:03:36.270Z"
   },
   {
    "duration": 9,
    "start_time": "2022-12-15T09:03:38.045Z"
   },
   {
    "duration": 23,
    "start_time": "2022-12-15T09:12:17.997Z"
   },
   {
    "duration": 16,
    "start_time": "2022-12-15T09:13:42.825Z"
   },
   {
    "duration": 8,
    "start_time": "2022-12-15T09:13:44.033Z"
   },
   {
    "duration": 16,
    "start_time": "2022-12-15T09:13:55.874Z"
   },
   {
    "duration": 69,
    "start_time": "2022-12-15T09:14:34.919Z"
   },
   {
    "duration": 16,
    "start_time": "2022-12-15T09:16:50.874Z"
   },
   {
    "duration": 16,
    "start_time": "2022-12-15T09:31:35.038Z"
   },
   {
    "duration": 9,
    "start_time": "2022-12-15T09:31:38.223Z"
   },
   {
    "duration": 19,
    "start_time": "2022-12-15T09:31:41.745Z"
   },
   {
    "duration": 11,
    "start_time": "2022-12-15T09:32:10.281Z"
   },
   {
    "duration": 3,
    "start_time": "2022-12-15T09:32:11.368Z"
   },
   {
    "duration": 9,
    "start_time": "2022-12-15T09:32:38.580Z"
   },
   {
    "duration": 50,
    "start_time": "2022-12-15T10:50:16.105Z"
   },
   {
    "duration": 53,
    "start_time": "2022-12-15T10:50:16.157Z"
   },
   {
    "duration": 39,
    "start_time": "2022-12-15T10:50:16.212Z"
   },
   {
    "duration": 4,
    "start_time": "2022-12-15T10:50:16.253Z"
   },
   {
    "duration": 4457,
    "start_time": "2022-12-15T10:50:16.259Z"
   },
   {
    "duration": 3,
    "start_time": "2022-12-15T10:50:20.719Z"
   },
   {
    "duration": 24,
    "start_time": "2022-12-15T10:50:20.723Z"
   },
   {
    "duration": 14,
    "start_time": "2022-12-15T10:50:20.749Z"
   },
   {
    "duration": 12,
    "start_time": "2022-12-15T10:50:20.765Z"
   },
   {
    "duration": 56,
    "start_time": "2022-12-15T10:50:20.779Z"
   },
   {
    "duration": 3,
    "start_time": "2022-12-15T10:50:20.837Z"
   },
   {
    "duration": 27,
    "start_time": "2022-12-15T10:50:20.842Z"
   },
   {
    "duration": 26,
    "start_time": "2022-12-15T10:50:20.871Z"
   },
   {
    "duration": 45,
    "start_time": "2022-12-15T10:50:20.899Z"
   },
   {
    "duration": 50,
    "start_time": "2022-12-15T10:50:20.946Z"
   },
   {
    "duration": 38,
    "start_time": "2022-12-15T10:50:20.998Z"
   },
   {
    "duration": 4,
    "start_time": "2022-12-15T10:50:21.038Z"
   },
   {
    "duration": 26,
    "start_time": "2022-12-15T10:50:21.044Z"
   },
   {
    "duration": 61,
    "start_time": "2022-12-15T10:50:21.072Z"
   },
   {
    "duration": 27,
    "start_time": "2022-12-15T10:50:21.135Z"
   },
   {
    "duration": 37,
    "start_time": "2022-12-15T10:50:21.164Z"
   },
   {
    "duration": 38,
    "start_time": "2022-12-15T10:50:21.203Z"
   },
   {
    "duration": 14,
    "start_time": "2022-12-15T10:50:21.243Z"
   },
   {
    "duration": 21,
    "start_time": "2022-12-15T10:50:21.258Z"
   },
   {
    "duration": 20,
    "start_time": "2022-12-15T10:50:21.282Z"
   },
   {
    "duration": 12,
    "start_time": "2022-12-15T10:50:22.288Z"
   },
   {
    "duration": 5,
    "start_time": "2022-12-15T10:50:23.296Z"
   },
   {
    "duration": 9,
    "start_time": "2022-12-15T10:50:25.057Z"
   },
   {
    "duration": 5,
    "start_time": "2022-12-15T10:50:25.688Z"
   },
   {
    "duration": 20,
    "start_time": "2022-12-15T10:50:27.383Z"
   },
   {
    "duration": 9,
    "start_time": "2022-12-15T10:50:27.554Z"
   },
   {
    "duration": 20,
    "start_time": "2022-12-15T10:50:28.582Z"
   },
   {
    "duration": 12,
    "start_time": "2022-12-15T10:50:28.800Z"
   },
   {
    "duration": 2,
    "start_time": "2022-12-15T10:50:29.081Z"
   },
   {
    "duration": 9,
    "start_time": "2022-12-15T10:50:30.905Z"
   },
   {
    "duration": 126,
    "start_time": "2022-12-15T10:50:38.358Z"
   },
   {
    "duration": 3,
    "start_time": "2022-12-15T10:51:28.686Z"
   },
   {
    "duration": 17,
    "start_time": "2022-12-15T10:52:15.407Z"
   },
   {
    "duration": 5,
    "start_time": "2022-12-15T10:56:12.939Z"
   },
   {
    "duration": 16,
    "start_time": "2022-12-15T10:56:45.437Z"
   },
   {
    "duration": 13,
    "start_time": "2022-12-15T10:57:04.909Z"
   },
   {
    "duration": 4509,
    "start_time": "2022-12-15T10:57:17.670Z"
   },
   {
    "duration": 3,
    "start_time": "2022-12-15T10:57:22.181Z"
   },
   {
    "duration": 25,
    "start_time": "2022-12-15T10:57:22.186Z"
   },
   {
    "duration": 14,
    "start_time": "2022-12-15T10:57:22.213Z"
   },
   {
    "duration": 13,
    "start_time": "2022-12-15T10:57:22.229Z"
   },
   {
    "duration": 82,
    "start_time": "2022-12-15T10:57:22.244Z"
   },
   {
    "duration": 3,
    "start_time": "2022-12-15T10:57:22.328Z"
   },
   {
    "duration": 32,
    "start_time": "2022-12-15T10:57:22.333Z"
   },
   {
    "duration": 33,
    "start_time": "2022-12-15T10:57:22.367Z"
   },
   {
    "duration": 57,
    "start_time": "2022-12-15T10:57:22.403Z"
   },
   {
    "duration": 74,
    "start_time": "2022-12-15T10:57:22.463Z"
   },
   {
    "duration": 26,
    "start_time": "2022-12-15T10:57:22.539Z"
   },
   {
    "duration": 13,
    "start_time": "2022-12-15T10:57:22.567Z"
   },
   {
    "duration": 43,
    "start_time": "2022-12-15T10:57:22.582Z"
   },
   {
    "duration": 20,
    "start_time": "2022-12-15T10:57:22.627Z"
   },
   {
    "duration": 39,
    "start_time": "2022-12-15T10:57:22.649Z"
   },
   {
    "duration": 27,
    "start_time": "2022-12-15T10:57:22.691Z"
   },
   {
    "duration": 17,
    "start_time": "2022-12-15T10:57:22.720Z"
   },
   {
    "duration": 2,
    "start_time": "2022-12-15T10:57:23.713Z"
   },
   {
    "duration": 2,
    "start_time": "2022-12-15T10:57:23.959Z"
   },
   {
    "duration": 2,
    "start_time": "2022-12-15T10:57:24.346Z"
   },
   {
    "duration": 12,
    "start_time": "2022-12-15T10:57:25.364Z"
   },
   {
    "duration": 5,
    "start_time": "2022-12-15T10:57:26.014Z"
   },
   {
    "duration": 10,
    "start_time": "2022-12-15T10:57:27.342Z"
   },
   {
    "duration": 4,
    "start_time": "2022-12-15T10:57:28.553Z"
   },
   {
    "duration": 16,
    "start_time": "2022-12-15T10:57:30.708Z"
   },
   {
    "duration": 9,
    "start_time": "2022-12-15T10:57:30.989Z"
   },
   {
    "duration": 28,
    "start_time": "2022-12-15T10:57:32.497Z"
   },
   {
    "duration": 12,
    "start_time": "2022-12-15T10:57:33.314Z"
   },
   {
    "duration": 2,
    "start_time": "2022-12-15T10:57:34.250Z"
   },
   {
    "duration": 18,
    "start_time": "2022-12-15T10:57:34.478Z"
   },
   {
    "duration": 7,
    "start_time": "2022-12-15T10:57:37.547Z"
   },
   {
    "duration": 19,
    "start_time": "2022-12-15T10:57:47.857Z"
   },
   {
    "duration": 7,
    "start_time": "2022-12-15T10:57:56.536Z"
   },
   {
    "duration": 872,
    "start_time": "2022-12-15T10:57:58.099Z"
   },
   {
    "duration": 16,
    "start_time": "2022-12-15T10:58:36.809Z"
   },
   {
    "duration": 13,
    "start_time": "2022-12-15T10:59:11.188Z"
   },
   {
    "duration": 3,
    "start_time": "2022-12-15T11:00:37.899Z"
   },
   {
    "duration": 16,
    "start_time": "2022-12-15T11:00:38.934Z"
   },
   {
    "duration": 13,
    "start_time": "2022-12-15T11:00:40.678Z"
   },
   {
    "duration": 15,
    "start_time": "2022-12-15T11:03:34.942Z"
   },
   {
    "duration": 60,
    "start_time": "2022-12-15T11:06:45.700Z"
   },
   {
    "duration": 49,
    "start_time": "2022-12-15T11:08:09.245Z"
   },
   {
    "duration": 4,
    "start_time": "2022-12-15T11:08:22.380Z"
   },
   {
    "duration": 5,
    "start_time": "2022-12-15T11:13:01.783Z"
   },
   {
    "duration": 19,
    "start_time": "2022-12-15T11:13:11.900Z"
   },
   {
    "duration": 11,
    "start_time": "2022-12-15T11:13:12.117Z"
   },
   {
    "duration": 2,
    "start_time": "2022-12-15T11:13:12.342Z"
   },
   {
    "duration": 18,
    "start_time": "2022-12-15T11:13:12.653Z"
   },
   {
    "duration": 5,
    "start_time": "2022-12-15T11:13:13.894Z"
   },
   {
    "duration": 9,
    "start_time": "2022-12-15T11:15:04.339Z"
   },
   {
    "duration": 10,
    "start_time": "2022-12-15T11:16:27.753Z"
   },
   {
    "duration": 24,
    "start_time": "2022-12-15T11:16:29.434Z"
   },
   {
    "duration": 19,
    "start_time": "2022-12-15T11:16:36.040Z"
   },
   {
    "duration": 52,
    "start_time": "2022-12-15T11:18:09.490Z"
   },
   {
    "duration": 859,
    "start_time": "2022-12-15T11:19:27.987Z"
   },
   {
    "duration": 921,
    "start_time": "2022-12-15T11:20:21.172Z"
   },
   {
    "duration": 19,
    "start_time": "2022-12-15T11:29:14.529Z"
   },
   {
    "duration": 18,
    "start_time": "2022-12-15T11:29:32.873Z"
   },
   {
    "duration": 16,
    "start_time": "2022-12-15T11:30:00.149Z"
   },
   {
    "duration": 20931,
    "start_time": "2022-12-15T11:31:20.622Z"
   },
   {
    "duration": 29,
    "start_time": "2022-12-15T11:31:41.554Z"
   },
   {
    "duration": 18,
    "start_time": "2022-12-15T11:31:41.584Z"
   },
   {
    "duration": 44,
    "start_time": "2022-12-15T11:31:41.604Z"
   },
   {
    "duration": 1024,
    "start_time": "2022-12-15T11:31:41.650Z"
   },
   {
    "duration": 29,
    "start_time": "2022-12-15T11:31:42.675Z"
   },
   {
    "duration": 3,
    "start_time": "2022-12-15T11:31:42.705Z"
   },
   {
    "duration": 17,
    "start_time": "2022-12-15T11:32:03.997Z"
   },
   {
    "duration": 10,
    "start_time": "2022-12-15T11:35:10.152Z"
   },
   {
    "duration": 14,
    "start_time": "2022-12-15T11:35:27.677Z"
   },
   {
    "duration": 14,
    "start_time": "2022-12-15T11:36:33.628Z"
   },
   {
    "duration": 13,
    "start_time": "2022-12-15T11:37:37.752Z"
   },
   {
    "duration": 14,
    "start_time": "2022-12-15T11:38:36.663Z"
   },
   {
    "duration": 15,
    "start_time": "2022-12-15T11:39:03.054Z"
   },
   {
    "duration": 14,
    "start_time": "2022-12-15T11:39:27.965Z"
   },
   {
    "duration": 13,
    "start_time": "2022-12-15T11:42:14.702Z"
   },
   {
    "duration": 13,
    "start_time": "2022-12-15T11:42:37.615Z"
   },
   {
    "duration": 14,
    "start_time": "2022-12-15T11:42:47.004Z"
   },
   {
    "duration": 15,
    "start_time": "2022-12-15T11:43:04.123Z"
   },
   {
    "duration": 10,
    "start_time": "2022-12-15T11:43:17.192Z"
   },
   {
    "duration": 13,
    "start_time": "2022-12-15T11:46:10.315Z"
   },
   {
    "duration": 10,
    "start_time": "2022-12-15T11:46:36.930Z"
   },
   {
    "duration": 14,
    "start_time": "2022-12-15T11:46:39.833Z"
   },
   {
    "duration": 13,
    "start_time": "2022-12-15T11:47:25.384Z"
   },
   {
    "duration": 11,
    "start_time": "2022-12-15T11:47:37.792Z"
   },
   {
    "duration": 13,
    "start_time": "2022-12-15T11:47:39.684Z"
   },
   {
    "duration": 68,
    "start_time": "2022-12-15T11:49:44.844Z"
   },
   {
    "duration": 19,
    "start_time": "2022-12-15T11:49:53.322Z"
   },
   {
    "duration": 4567,
    "start_time": "2022-12-15T11:57:49.275Z"
   },
   {
    "duration": 4,
    "start_time": "2022-12-15T11:57:53.845Z"
   },
   {
    "duration": 15,
    "start_time": "2022-12-15T11:57:53.851Z"
   },
   {
    "duration": 9,
    "start_time": "2022-12-15T11:57:53.868Z"
   },
   {
    "duration": 9,
    "start_time": "2022-12-15T11:57:53.878Z"
   },
   {
    "duration": 47,
    "start_time": "2022-12-15T11:57:53.889Z"
   },
   {
    "duration": 5,
    "start_time": "2022-12-15T11:57:53.938Z"
   },
   {
    "duration": 19,
    "start_time": "2022-12-15T11:57:53.944Z"
   },
   {
    "duration": 17,
    "start_time": "2022-12-15T11:57:53.965Z"
   },
   {
    "duration": 64,
    "start_time": "2022-12-15T11:57:53.985Z"
   },
   {
    "duration": 51,
    "start_time": "2022-12-15T11:57:54.050Z"
   },
   {
    "duration": 33,
    "start_time": "2022-12-15T11:57:54.103Z"
   },
   {
    "duration": 5,
    "start_time": "2022-12-15T11:57:54.138Z"
   },
   {
    "duration": 19,
    "start_time": "2022-12-15T11:57:54.144Z"
   },
   {
    "duration": 11,
    "start_time": "2022-12-15T11:57:54.165Z"
   },
   {
    "duration": 17,
    "start_time": "2022-12-15T11:57:54.177Z"
   },
   {
    "duration": 18,
    "start_time": "2022-12-15T11:57:54.196Z"
   },
   {
    "duration": 12,
    "start_time": "2022-12-15T11:57:54.319Z"
   },
   {
    "duration": 3,
    "start_time": "2022-12-15T11:57:55.350Z"
   },
   {
    "duration": 3,
    "start_time": "2022-12-15T11:57:55.558Z"
   },
   {
    "duration": 3,
    "start_time": "2022-12-15T11:57:55.998Z"
   },
   {
    "duration": 11,
    "start_time": "2022-12-15T11:57:57.203Z"
   },
   {
    "duration": 5,
    "start_time": "2022-12-15T11:57:57.820Z"
   },
   {
    "duration": 10,
    "start_time": "2022-12-15T11:57:59.117Z"
   },
   {
    "duration": 5,
    "start_time": "2022-12-15T11:57:59.808Z"
   },
   {
    "duration": 18,
    "start_time": "2022-12-15T11:58:04.309Z"
   },
   {
    "duration": 8,
    "start_time": "2022-12-15T11:58:06.290Z"
   },
   {
    "duration": 23,
    "start_time": "2022-12-15T11:58:07.726Z"
   },
   {
    "duration": 13,
    "start_time": "2022-12-15T11:58:08.354Z"
   },
   {
    "duration": 3,
    "start_time": "2022-12-15T11:58:12.998Z"
   },
   {
    "duration": 18,
    "start_time": "2022-12-15T11:58:18.756Z"
   },
   {
    "duration": 7,
    "start_time": "2022-12-15T11:58:22.050Z"
   },
   {
    "duration": 11,
    "start_time": "2022-12-15T11:58:26.382Z"
   },
   {
    "duration": 52,
    "start_time": "2022-12-15T11:58:38.111Z"
   },
   {
    "duration": 11,
    "start_time": "2022-12-15T11:58:53.368Z"
   },
   {
    "duration": 22,
    "start_time": "2022-12-15T11:58:57.268Z"
   },
   {
    "duration": 14,
    "start_time": "2022-12-15T12:00:57.891Z"
   },
   {
    "duration": 18,
    "start_time": "2022-12-15T12:01:10.376Z"
   },
   {
    "duration": 12,
    "start_time": "2022-12-15T12:02:43.932Z"
   },
   {
    "duration": 11,
    "start_time": "2022-12-15T12:03:07.175Z"
   },
   {
    "duration": 12,
    "start_time": "2022-12-15T12:03:13.195Z"
   },
   {
    "duration": 11,
    "start_time": "2022-12-15T12:03:24.259Z"
   },
   {
    "duration": 10,
    "start_time": "2022-12-15T12:03:45.812Z"
   },
   {
    "duration": 4105,
    "start_time": "2022-12-15T12:03:52.810Z"
   },
   {
    "duration": 3,
    "start_time": "2022-12-15T12:03:56.918Z"
   },
   {
    "duration": 10,
    "start_time": "2022-12-15T12:03:56.923Z"
   },
   {
    "duration": 15,
    "start_time": "2022-12-15T12:03:56.935Z"
   },
   {
    "duration": 5,
    "start_time": "2022-12-15T12:03:56.952Z"
   },
   {
    "duration": 47,
    "start_time": "2022-12-15T12:03:56.959Z"
   },
   {
    "duration": 4,
    "start_time": "2022-12-15T12:03:57.008Z"
   },
   {
    "duration": 26,
    "start_time": "2022-12-15T12:03:57.013Z"
   },
   {
    "duration": 20,
    "start_time": "2022-12-15T12:03:57.041Z"
   },
   {
    "duration": 39,
    "start_time": "2022-12-15T12:03:57.063Z"
   },
   {
    "duration": 57,
    "start_time": "2022-12-15T12:03:57.103Z"
   },
   {
    "duration": 20,
    "start_time": "2022-12-15T12:03:57.162Z"
   },
   {
    "duration": 4,
    "start_time": "2022-12-15T12:03:57.183Z"
   },
   {
    "duration": 29,
    "start_time": "2022-12-15T12:03:57.189Z"
   },
   {
    "duration": 17,
    "start_time": "2022-12-15T12:03:57.220Z"
   },
   {
    "duration": 7,
    "start_time": "2022-12-15T12:03:57.470Z"
   },
   {
    "duration": 11,
    "start_time": "2022-12-15T12:03:57.675Z"
   },
   {
    "duration": 11,
    "start_time": "2022-12-15T12:03:57.882Z"
   },
   {
    "duration": 2,
    "start_time": "2022-12-15T12:03:58.922Z"
   },
   {
    "duration": 2,
    "start_time": "2022-12-15T12:03:59.130Z"
   },
   {
    "duration": 2,
    "start_time": "2022-12-15T12:03:59.552Z"
   },
   {
    "duration": 11,
    "start_time": "2022-12-15T12:04:00.656Z"
   },
   {
    "duration": 6,
    "start_time": "2022-12-15T12:04:01.370Z"
   },
   {
    "duration": 9,
    "start_time": "2022-12-15T12:04:02.739Z"
   },
   {
    "duration": 4,
    "start_time": "2022-12-15T12:04:03.423Z"
   },
   {
    "duration": 16,
    "start_time": "2022-12-15T12:04:05.144Z"
   },
   {
    "duration": 9,
    "start_time": "2022-12-15T12:04:05.376Z"
   },
   {
    "duration": 21,
    "start_time": "2022-12-15T12:04:06.324Z"
   },
   {
    "duration": 11,
    "start_time": "2022-12-15T12:04:06.573Z"
   },
   {
    "duration": 3,
    "start_time": "2022-12-15T12:04:06.896Z"
   },
   {
    "duration": 19,
    "start_time": "2022-12-15T12:04:07.449Z"
   },
   {
    "duration": 7,
    "start_time": "2022-12-15T12:04:08.300Z"
   },
   {
    "duration": 11,
    "start_time": "2022-12-15T12:04:10.051Z"
   },
   {
    "duration": 16,
    "start_time": "2022-12-15T12:04:11.454Z"
   },
   {
    "duration": 10,
    "start_time": "2022-12-15T12:05:34.623Z"
   },
   {
    "duration": 13,
    "start_time": "2022-12-15T12:06:25.220Z"
   },
   {
    "duration": 14,
    "start_time": "2022-12-15T12:06:28.465Z"
   },
   {
    "duration": 14,
    "start_time": "2022-12-15T12:07:29.668Z"
   },
   {
    "duration": 13,
    "start_time": "2022-12-15T12:08:44.948Z"
   },
   {
    "duration": 54,
    "start_time": "2022-12-15T12:09:34.306Z"
   },
   {
    "duration": 10,
    "start_time": "2022-12-15T12:09:47.034Z"
   },
   {
    "duration": 13,
    "start_time": "2022-12-15T12:09:49.563Z"
   },
   {
    "duration": 14,
    "start_time": "2022-12-15T12:09:54.766Z"
   },
   {
    "duration": 15,
    "start_time": "2022-12-15T12:10:25.729Z"
   },
   {
    "duration": 10,
    "start_time": "2022-12-15T12:10:46.794Z"
   },
   {
    "duration": 13,
    "start_time": "2022-12-15T12:10:47.943Z"
   },
   {
    "duration": 20,
    "start_time": "2022-12-15T12:10:53.805Z"
   },
   {
    "duration": 16,
    "start_time": "2022-12-15T12:11:03.481Z"
   },
   {
    "duration": 16,
    "start_time": "2022-12-15T12:14:02.595Z"
   },
   {
    "duration": 20,
    "start_time": "2022-12-15T12:14:04.668Z"
   },
   {
    "duration": 11,
    "start_time": "2022-12-15T12:14:15.253Z"
   },
   {
    "duration": 19,
    "start_time": "2022-12-15T12:14:16.352Z"
   },
   {
    "duration": 11,
    "start_time": "2022-12-15T12:14:25.661Z"
   },
   {
    "duration": 22,
    "start_time": "2022-12-15T12:14:26.666Z"
   },
   {
    "duration": 10,
    "start_time": "2022-12-15T12:15:04.051Z"
   },
   {
    "duration": 19,
    "start_time": "2022-12-15T12:15:05.980Z"
   },
   {
    "duration": 17,
    "start_time": "2022-12-15T12:15:25.441Z"
   },
   {
    "duration": 10,
    "start_time": "2022-12-15T12:15:41.701Z"
   },
   {
    "duration": 20,
    "start_time": "2022-12-15T12:15:42.965Z"
   },
   {
    "duration": 14,
    "start_time": "2022-12-15T12:16:12.828Z"
   },
   {
    "duration": 11,
    "start_time": "2022-12-15T12:16:31.174Z"
   },
   {
    "duration": 20,
    "start_time": "2022-12-15T12:16:33.198Z"
   },
   {
    "duration": 10,
    "start_time": "2022-12-15T12:16:58.973Z"
   },
   {
    "duration": 20,
    "start_time": "2022-12-15T12:17:00.293Z"
   },
   {
    "duration": 18,
    "start_time": "2022-12-15T12:17:03.292Z"
   },
   {
    "duration": 4420,
    "start_time": "2022-12-15T12:17:23.065Z"
   },
   {
    "duration": 3,
    "start_time": "2022-12-15T12:17:27.488Z"
   },
   {
    "duration": 13,
    "start_time": "2022-12-15T12:17:27.493Z"
   },
   {
    "duration": 14,
    "start_time": "2022-12-15T12:17:27.508Z"
   },
   {
    "duration": 17,
    "start_time": "2022-12-15T12:17:27.524Z"
   },
   {
    "duration": 63,
    "start_time": "2022-12-15T12:17:27.543Z"
   },
   {
    "duration": 4,
    "start_time": "2022-12-15T12:17:27.608Z"
   },
   {
    "duration": 40,
    "start_time": "2022-12-15T12:17:27.613Z"
   },
   {
    "duration": 54,
    "start_time": "2022-12-15T12:17:27.655Z"
   },
   {
    "duration": 69,
    "start_time": "2022-12-15T12:17:27.712Z"
   },
   {
    "duration": 54,
    "start_time": "2022-12-15T12:17:27.783Z"
   },
   {
    "duration": 21,
    "start_time": "2022-12-15T12:17:27.840Z"
   },
   {
    "duration": 4,
    "start_time": "2022-12-15T12:17:27.864Z"
   },
   {
    "duration": 32,
    "start_time": "2022-12-15T12:17:27.870Z"
   },
   {
    "duration": 69,
    "start_time": "2022-12-15T12:17:27.904Z"
   },
   {
    "duration": 8,
    "start_time": "2022-12-15T12:17:28.226Z"
   },
   {
    "duration": 11,
    "start_time": "2022-12-15T12:17:28.413Z"
   },
   {
    "duration": 12,
    "start_time": "2022-12-15T12:17:28.610Z"
   },
   {
    "duration": 3,
    "start_time": "2022-12-15T12:17:29.737Z"
   },
   {
    "duration": 2,
    "start_time": "2022-12-15T12:17:29.937Z"
   },
   {
    "duration": 2,
    "start_time": "2022-12-15T12:17:30.364Z"
   },
   {
    "duration": 13,
    "start_time": "2022-12-15T12:17:31.740Z"
   },
   {
    "duration": 5,
    "start_time": "2022-12-15T12:17:32.388Z"
   },
   {
    "duration": 10,
    "start_time": "2022-12-15T12:17:33.892Z"
   },
   {
    "duration": 5,
    "start_time": "2022-12-15T12:17:34.604Z"
   },
   {
    "duration": 16,
    "start_time": "2022-12-15T12:17:36.597Z"
   },
   {
    "duration": 9,
    "start_time": "2022-12-15T12:17:36.880Z"
   },
   {
    "duration": 21,
    "start_time": "2022-12-15T12:17:38.425Z"
   },
   {
    "duration": 11,
    "start_time": "2022-12-15T12:17:38.865Z"
   },
   {
    "duration": 3,
    "start_time": "2022-12-15T12:17:39.386Z"
   },
   {
    "duration": 21,
    "start_time": "2022-12-15T12:17:39.983Z"
   },
   {
    "duration": 7,
    "start_time": "2022-12-15T12:17:41.925Z"
   },
   {
    "duration": 12,
    "start_time": "2022-12-15T12:17:43.201Z"
   },
   {
    "duration": 9,
    "start_time": "2022-12-15T12:17:44.273Z"
   },
   {
    "duration": 19,
    "start_time": "2022-12-15T12:17:45.002Z"
   },
   {
    "duration": 21,
    "start_time": "2022-12-15T12:17:46.380Z"
   },
   {
    "duration": 10,
    "start_time": "2022-12-15T12:19:38.275Z"
   },
   {
    "duration": 11,
    "start_time": "2022-12-15T12:19:59.223Z"
   },
   {
    "duration": 9,
    "start_time": "2022-12-15T12:20:06.471Z"
   },
   {
    "duration": 10,
    "start_time": "2022-12-15T12:20:28.159Z"
   },
   {
    "duration": 15,
    "start_time": "2022-12-15T12:21:34.198Z"
   },
   {
    "duration": 7,
    "start_time": "2022-12-15T12:21:44.554Z"
   },
   {
    "duration": 8,
    "start_time": "2022-12-15T12:24:39.727Z"
   },
   {
    "duration": 12,
    "start_time": "2022-12-15T12:25:11.438Z"
   },
   {
    "duration": 8,
    "start_time": "2022-12-15T12:25:32.197Z"
   },
   {
    "duration": 16,
    "start_time": "2022-12-15T12:25:35.205Z"
   },
   {
    "duration": 17,
    "start_time": "2022-12-15T12:26:02.361Z"
   },
   {
    "duration": 22,
    "start_time": "2022-12-15T12:27:51.941Z"
   },
   {
    "duration": 827,
    "start_time": "2022-12-15T12:28:04.519Z"
   },
   {
    "duration": 17,
    "start_time": "2022-12-15T12:28:25.721Z"
   },
   {
    "duration": 18,
    "start_time": "2022-12-15T12:28:56.749Z"
   },
   {
    "duration": 10,
    "start_time": "2022-12-15T12:30:04.121Z"
   },
   {
    "duration": 18,
    "start_time": "2022-12-15T12:30:06.163Z"
   },
   {
    "duration": 5,
    "start_time": "2022-12-15T12:30:39.672Z"
   },
   {
    "duration": 19,
    "start_time": "2022-12-15T12:30:41.099Z"
   },
   {
    "duration": 7,
    "start_time": "2022-12-15T12:30:50.214Z"
   },
   {
    "duration": 8,
    "start_time": "2022-12-15T12:30:51.091Z"
   },
   {
    "duration": 9,
    "start_time": "2022-12-15T12:30:51.704Z"
   },
   {
    "duration": 10,
    "start_time": "2022-12-15T12:30:53.616Z"
   },
   {
    "duration": 24,
    "start_time": "2022-12-15T12:30:54.933Z"
   },
   {
    "duration": 4502,
    "start_time": "2022-12-15T12:31:01.274Z"
   },
   {
    "duration": 4,
    "start_time": "2022-12-15T12:31:05.778Z"
   },
   {
    "duration": 11,
    "start_time": "2022-12-15T12:31:05.784Z"
   },
   {
    "duration": 9,
    "start_time": "2022-12-15T12:31:05.797Z"
   },
   {
    "duration": 10,
    "start_time": "2022-12-15T12:31:05.808Z"
   },
   {
    "duration": 56,
    "start_time": "2022-12-15T12:31:05.820Z"
   },
   {
    "duration": 4,
    "start_time": "2022-12-15T12:31:05.878Z"
   },
   {
    "duration": 29,
    "start_time": "2022-12-15T12:31:05.884Z"
   },
   {
    "duration": 34,
    "start_time": "2022-12-15T12:31:05.914Z"
   },
   {
    "duration": 41,
    "start_time": "2022-12-15T12:31:05.950Z"
   },
   {
    "duration": 66,
    "start_time": "2022-12-15T12:31:05.994Z"
   },
   {
    "duration": 20,
    "start_time": "2022-12-15T12:31:06.062Z"
   },
   {
    "duration": 4,
    "start_time": "2022-12-15T12:31:06.084Z"
   },
   {
    "duration": 27,
    "start_time": "2022-12-15T12:31:06.090Z"
   },
   {
    "duration": 19,
    "start_time": "2022-12-15T12:31:06.119Z"
   },
   {
    "duration": 23,
    "start_time": "2022-12-15T12:31:06.140Z"
   },
   {
    "duration": 35,
    "start_time": "2022-12-15T12:31:06.166Z"
   },
   {
    "duration": 11,
    "start_time": "2022-12-15T12:31:06.283Z"
   },
   {
    "duration": 2,
    "start_time": "2022-12-15T12:31:07.260Z"
   },
   {
    "duration": 3,
    "start_time": "2022-12-15T12:31:07.460Z"
   },
   {
    "duration": 2,
    "start_time": "2022-12-15T12:31:07.884Z"
   },
   {
    "duration": 12,
    "start_time": "2022-12-15T12:31:08.913Z"
   },
   {
    "duration": 6,
    "start_time": "2022-12-15T12:31:09.600Z"
   },
   {
    "duration": 9,
    "start_time": "2022-12-15T12:31:11.347Z"
   },
   {
    "duration": 5,
    "start_time": "2022-12-15T12:31:12.059Z"
   },
   {
    "duration": 17,
    "start_time": "2022-12-15T12:31:14.046Z"
   },
   {
    "duration": 9,
    "start_time": "2022-12-15T12:31:14.322Z"
   },
   {
    "duration": 21,
    "start_time": "2022-12-15T12:31:15.530Z"
   },
   {
    "duration": 12,
    "start_time": "2022-12-15T12:31:15.826Z"
   },
   {
    "duration": 3,
    "start_time": "2022-12-15T12:31:16.150Z"
   },
   {
    "duration": 18,
    "start_time": "2022-12-15T12:31:16.582Z"
   },
   {
    "duration": 6,
    "start_time": "2022-12-15T12:31:17.527Z"
   },
   {
    "duration": 10,
    "start_time": "2022-12-15T12:31:18.406Z"
   },
   {
    "duration": 4,
    "start_time": "2022-12-15T12:31:22.256Z"
   },
   {
    "duration": 18,
    "start_time": "2022-12-15T12:31:23.289Z"
   },
   {
    "duration": 3,
    "start_time": "2022-12-15T12:31:55.348Z"
   },
   {
    "duration": 19,
    "start_time": "2022-12-15T12:31:56.565Z"
   },
   {
    "duration": 4537,
    "start_time": "2022-12-15T12:32:05.650Z"
   },
   {
    "duration": 4,
    "start_time": "2022-12-15T12:32:10.189Z"
   },
   {
    "duration": 14,
    "start_time": "2022-12-15T12:32:10.194Z"
   },
   {
    "duration": 10,
    "start_time": "2022-12-15T12:32:10.210Z"
   },
   {
    "duration": 8,
    "start_time": "2022-12-15T12:32:10.221Z"
   },
   {
    "duration": 50,
    "start_time": "2022-12-15T12:32:10.230Z"
   },
   {
    "duration": 5,
    "start_time": "2022-12-15T12:32:10.282Z"
   },
   {
    "duration": 34,
    "start_time": "2022-12-15T12:32:10.288Z"
   },
   {
    "duration": 21,
    "start_time": "2022-12-15T12:32:10.324Z"
   },
   {
    "duration": 41,
    "start_time": "2022-12-15T12:32:10.347Z"
   },
   {
    "duration": 66,
    "start_time": "2022-12-15T12:32:10.390Z"
   },
   {
    "duration": 18,
    "start_time": "2022-12-15T12:32:10.458Z"
   },
   {
    "duration": 4,
    "start_time": "2022-12-15T12:32:10.478Z"
   },
   {
    "duration": 17,
    "start_time": "2022-12-15T12:32:10.484Z"
   },
   {
    "duration": 14,
    "start_time": "2022-12-15T12:32:10.503Z"
   },
   {
    "duration": 7,
    "start_time": "2022-12-15T12:32:10.535Z"
   },
   {
    "duration": 17,
    "start_time": "2022-12-15T12:32:10.544Z"
   },
   {
    "duration": 23,
    "start_time": "2022-12-15T12:32:10.563Z"
   },
   {
    "duration": 2,
    "start_time": "2022-12-15T12:32:11.335Z"
   },
   {
    "duration": 2,
    "start_time": "2022-12-15T12:32:11.544Z"
   },
   {
    "duration": 2,
    "start_time": "2022-12-15T12:32:11.944Z"
   },
   {
    "duration": 12,
    "start_time": "2022-12-15T12:32:12.956Z"
   },
   {
    "duration": 5,
    "start_time": "2022-12-15T12:32:13.616Z"
   },
   {
    "duration": 9,
    "start_time": "2022-12-15T12:32:14.904Z"
   },
   {
    "duration": 5,
    "start_time": "2022-12-15T12:32:15.557Z"
   },
   {
    "duration": 15,
    "start_time": "2022-12-15T12:32:17.504Z"
   },
   {
    "duration": 9,
    "start_time": "2022-12-15T12:32:17.743Z"
   },
   {
    "duration": 21,
    "start_time": "2022-12-15T12:32:19.170Z"
   },
   {
    "duration": 12,
    "start_time": "2022-12-15T12:32:19.394Z"
   },
   {
    "duration": 3,
    "start_time": "2022-12-15T12:32:19.765Z"
   },
   {
    "duration": 18,
    "start_time": "2022-12-15T12:32:20.163Z"
   },
   {
    "duration": 7,
    "start_time": "2022-12-15T12:32:20.837Z"
   },
   {
    "duration": 11,
    "start_time": "2022-12-15T12:32:21.613Z"
   },
   {
    "duration": 3,
    "start_time": "2022-12-15T12:32:22.742Z"
   },
   {
    "duration": 20,
    "start_time": "2022-12-15T12:32:23.833Z"
   },
   {
    "duration": 6,
    "start_time": "2022-12-15T12:32:24.248Z"
   },
   {
    "duration": 8,
    "start_time": "2022-12-15T12:32:24.811Z"
   },
   {
    "duration": 8,
    "start_time": "2022-12-15T12:32:25.220Z"
   },
   {
    "duration": 8,
    "start_time": "2022-12-15T12:32:41.968Z"
   },
   {
    "duration": 8,
    "start_time": "2022-12-15T12:32:43.476Z"
   },
   {
    "duration": 8,
    "start_time": "2022-12-15T12:32:43.944Z"
   },
   {
    "duration": 11,
    "start_time": "2022-12-15T12:32:45.024Z"
   },
   {
    "duration": 23,
    "start_time": "2022-12-15T12:32:46.091Z"
   },
   {
    "duration": 4541,
    "start_time": "2022-12-15T12:33:14.406Z"
   },
   {
    "duration": 3,
    "start_time": "2022-12-15T12:33:18.950Z"
   },
   {
    "duration": 12,
    "start_time": "2022-12-15T12:33:18.954Z"
   },
   {
    "duration": 10,
    "start_time": "2022-12-15T12:33:18.968Z"
   },
   {
    "duration": 6,
    "start_time": "2022-12-15T12:33:18.980Z"
   },
   {
    "duration": 53,
    "start_time": "2022-12-15T12:33:18.988Z"
   },
   {
    "duration": 5,
    "start_time": "2022-12-15T12:33:19.043Z"
   },
   {
    "duration": 39,
    "start_time": "2022-12-15T12:33:19.050Z"
   },
   {
    "duration": 25,
    "start_time": "2022-12-15T12:33:19.091Z"
   },
   {
    "duration": 52,
    "start_time": "2022-12-15T12:33:19.119Z"
   },
   {
    "duration": 65,
    "start_time": "2022-12-15T12:33:19.173Z"
   },
   {
    "duration": 21,
    "start_time": "2022-12-15T12:33:19.239Z"
   },
   {
    "duration": 5,
    "start_time": "2022-12-15T12:33:19.262Z"
   },
   {
    "duration": 26,
    "start_time": "2022-12-15T12:33:19.268Z"
   },
   {
    "duration": 7,
    "start_time": "2022-12-15T12:33:19.725Z"
   },
   {
    "duration": 8,
    "start_time": "2022-12-15T12:33:20.747Z"
   },
   {
    "duration": 11,
    "start_time": "2022-12-15T12:33:20.970Z"
   },
   {
    "duration": 13,
    "start_time": "2022-12-15T12:33:21.188Z"
   },
   {
    "duration": 3,
    "start_time": "2022-12-15T12:33:22.430Z"
   },
   {
    "duration": 3,
    "start_time": "2022-12-15T12:33:22.660Z"
   },
   {
    "duration": 2,
    "start_time": "2022-12-15T12:33:23.133Z"
   },
   {
    "duration": 17,
    "start_time": "2022-12-15T12:33:24.242Z"
   },
   {
    "duration": 7,
    "start_time": "2022-12-15T12:33:24.890Z"
   },
   {
    "duration": 9,
    "start_time": "2022-12-15T12:33:26.153Z"
   },
   {
    "duration": 5,
    "start_time": "2022-12-15T12:33:26.804Z"
   },
   {
    "duration": 17,
    "start_time": "2022-12-15T12:33:28.775Z"
   },
   {
    "duration": 9,
    "start_time": "2022-12-15T12:33:29.004Z"
   },
   {
    "duration": 21,
    "start_time": "2022-12-15T12:33:30.668Z"
   },
   {
    "duration": 13,
    "start_time": "2022-12-15T12:33:30.949Z"
   },
   {
    "duration": 2,
    "start_time": "2022-12-15T12:33:31.533Z"
   },
   {
    "duration": 18,
    "start_time": "2022-12-15T12:33:32.201Z"
   },
   {
    "duration": 6,
    "start_time": "2022-12-15T12:33:33.774Z"
   },
   {
    "duration": 10,
    "start_time": "2022-12-15T12:33:34.658Z"
   },
   {
    "duration": 3,
    "start_time": "2022-12-15T12:33:36.038Z"
   },
   {
    "duration": 20,
    "start_time": "2022-12-15T12:33:37.378Z"
   },
   {
    "duration": 7,
    "start_time": "2022-12-15T12:34:13.604Z"
   },
   {
    "duration": 9,
    "start_time": "2022-12-15T12:34:14.360Z"
   },
   {
    "duration": 8,
    "start_time": "2022-12-15T12:34:21.974Z"
   },
   {
    "duration": 7,
    "start_time": "2022-12-15T12:34:31.583Z"
   },
   {
    "duration": 12,
    "start_time": "2022-12-15T12:34:35.503Z"
   },
   {
    "duration": 7,
    "start_time": "2022-12-15T12:34:41.198Z"
   },
   {
    "duration": 11,
    "start_time": "2022-12-15T12:34:46.652Z"
   },
   {
    "duration": 9,
    "start_time": "2022-12-15T12:34:47.092Z"
   },
   {
    "duration": 11,
    "start_time": "2022-12-15T12:34:48.492Z"
   },
   {
    "duration": 18,
    "start_time": "2022-12-15T12:34:49.868Z"
   },
   {
    "duration": 4683,
    "start_time": "2022-12-15T12:35:58.199Z"
   },
   {
    "duration": 1193,
    "start_time": "2022-12-15T12:36:02.885Z"
   },
   {
    "duration": 105,
    "start_time": "2022-12-15T12:36:04.080Z"
   },
   {
    "duration": 3,
    "start_time": "2022-12-15T12:36:04.188Z"
   },
   {
    "duration": 18,
    "start_time": "2022-12-15T12:36:04.192Z"
   },
   {
    "duration": 63,
    "start_time": "2022-12-15T12:36:04.213Z"
   },
   {
    "duration": 6,
    "start_time": "2022-12-15T12:36:04.278Z"
   },
   {
    "duration": 37,
    "start_time": "2022-12-15T12:36:04.286Z"
   },
   {
    "duration": 27,
    "start_time": "2022-12-15T12:36:04.325Z"
   },
   {
    "duration": 46,
    "start_time": "2022-12-15T12:36:04.356Z"
   },
   {
    "duration": 55,
    "start_time": "2022-12-15T12:36:04.404Z"
   },
   {
    "duration": 21,
    "start_time": "2022-12-15T12:36:04.461Z"
   },
   {
    "duration": 10,
    "start_time": "2022-12-15T12:36:04.484Z"
   },
   {
    "duration": 31,
    "start_time": "2022-12-15T12:36:04.495Z"
   },
   {
    "duration": 19,
    "start_time": "2022-12-15T12:36:04.529Z"
   },
   {
    "duration": 21,
    "start_time": "2022-12-15T12:36:04.550Z"
   },
   {
    "duration": 27,
    "start_time": "2022-12-15T12:36:04.573Z"
   },
   {
    "duration": 17,
    "start_time": "2022-12-15T12:36:04.602Z"
   },
   {
    "duration": 18,
    "start_time": "2022-12-15T12:36:04.620Z"
   },
   {
    "duration": 9,
    "start_time": "2022-12-15T12:36:04.640Z"
   },
   {
    "duration": 16,
    "start_time": "2022-12-15T12:36:04.651Z"
   },
   {
    "duration": 22,
    "start_time": "2022-12-15T12:36:04.669Z"
   },
   {
    "duration": 11,
    "start_time": "2022-12-15T12:36:04.692Z"
   },
   {
    "duration": 25,
    "start_time": "2022-12-15T12:36:04.705Z"
   },
   {
    "duration": 10,
    "start_time": "2022-12-15T12:36:04.732Z"
   },
   {
    "duration": 25,
    "start_time": "2022-12-15T12:36:04.744Z"
   },
   {
    "duration": 11,
    "start_time": "2022-12-15T12:36:04.771Z"
   },
   {
    "duration": 28,
    "start_time": "2022-12-15T12:36:04.787Z"
   },
   {
    "duration": 19,
    "start_time": "2022-12-15T12:36:04.817Z"
   },
   {
    "duration": 8,
    "start_time": "2022-12-15T12:36:04.838Z"
   },
   {
    "duration": 30,
    "start_time": "2022-12-15T12:36:04.848Z"
   },
   {
    "duration": 18,
    "start_time": "2022-12-15T12:36:04.880Z"
   },
   {
    "duration": 41,
    "start_time": "2022-12-15T12:36:04.900Z"
   },
   {
    "duration": 26,
    "start_time": "2022-12-15T12:36:04.943Z"
   },
   {
    "duration": 128,
    "start_time": "2022-12-15T12:36:04.971Z"
   },
   {
    "duration": 0,
    "start_time": "2022-12-15T12:36:05.101Z"
   },
   {
    "duration": 0,
    "start_time": "2022-12-15T12:36:05.102Z"
   },
   {
    "duration": 0,
    "start_time": "2022-12-15T12:36:05.104Z"
   },
   {
    "duration": 0,
    "start_time": "2022-12-15T12:36:05.106Z"
   },
   {
    "duration": 0,
    "start_time": "2022-12-15T12:36:05.107Z"
   },
   {
    "duration": 0,
    "start_time": "2022-12-15T12:36:05.108Z"
   },
   {
    "duration": 0,
    "start_time": "2022-12-15T12:36:05.109Z"
   },
   {
    "duration": 0,
    "start_time": "2022-12-15T12:36:05.110Z"
   },
   {
    "duration": 0,
    "start_time": "2022-12-15T12:36:05.111Z"
   },
   {
    "duration": 1,
    "start_time": "2022-12-15T12:36:05.135Z"
   },
   {
    "duration": 0,
    "start_time": "2022-12-15T12:36:05.137Z"
   },
   {
    "duration": 0,
    "start_time": "2022-12-15T12:36:05.138Z"
   },
   {
    "duration": 0,
    "start_time": "2022-12-15T12:36:05.139Z"
   },
   {
    "duration": 0,
    "start_time": "2022-12-15T12:36:05.140Z"
   },
   {
    "duration": 0,
    "start_time": "2022-12-15T12:36:05.141Z"
   },
   {
    "duration": 0,
    "start_time": "2022-12-15T12:36:05.143Z"
   },
   {
    "duration": 0,
    "start_time": "2022-12-15T12:36:05.144Z"
   },
   {
    "duration": 0,
    "start_time": "2022-12-15T12:36:05.145Z"
   },
   {
    "duration": 0,
    "start_time": "2022-12-15T12:36:05.146Z"
   },
   {
    "duration": 0,
    "start_time": "2022-12-15T12:36:05.147Z"
   },
   {
    "duration": 0,
    "start_time": "2022-12-15T12:36:05.148Z"
   },
   {
    "duration": 0,
    "start_time": "2022-12-15T12:36:05.149Z"
   },
   {
    "duration": 0,
    "start_time": "2022-12-15T12:36:05.150Z"
   },
   {
    "duration": 0,
    "start_time": "2022-12-15T12:36:05.151Z"
   },
   {
    "duration": 0,
    "start_time": "2022-12-15T12:36:05.153Z"
   },
   {
    "duration": 0,
    "start_time": "2022-12-15T12:36:05.154Z"
   },
   {
    "duration": 0,
    "start_time": "2022-12-15T12:36:05.155Z"
   },
   {
    "duration": 0,
    "start_time": "2022-12-15T12:36:05.156Z"
   },
   {
    "duration": 4483,
    "start_time": "2022-12-15T12:36:06.761Z"
   },
   {
    "duration": 3,
    "start_time": "2022-12-15T12:36:11.247Z"
   },
   {
    "duration": 11,
    "start_time": "2022-12-15T12:36:11.252Z"
   },
   {
    "duration": 13,
    "start_time": "2022-12-15T12:36:11.265Z"
   },
   {
    "duration": 9,
    "start_time": "2022-12-15T12:36:11.279Z"
   },
   {
    "duration": 60,
    "start_time": "2022-12-15T12:36:11.289Z"
   },
   {
    "duration": 4,
    "start_time": "2022-12-15T12:36:11.351Z"
   },
   {
    "duration": 45,
    "start_time": "2022-12-15T12:36:11.357Z"
   },
   {
    "duration": 32,
    "start_time": "2022-12-15T12:36:11.403Z"
   },
   {
    "duration": 43,
    "start_time": "2022-12-15T12:36:11.438Z"
   },
   {
    "duration": 63,
    "start_time": "2022-12-15T12:36:11.482Z"
   },
   {
    "duration": 19,
    "start_time": "2022-12-15T12:36:11.547Z"
   },
   {
    "duration": 4,
    "start_time": "2022-12-15T12:36:11.568Z"
   },
   {
    "duration": 38,
    "start_time": "2022-12-15T12:36:11.574Z"
   },
   {
    "duration": 23,
    "start_time": "2022-12-15T12:36:11.615Z"
   },
   {
    "duration": 31,
    "start_time": "2022-12-15T12:36:11.640Z"
   },
   {
    "duration": 26,
    "start_time": "2022-12-15T12:36:11.673Z"
   },
   {
    "duration": 22,
    "start_time": "2022-12-15T12:36:11.701Z"
   },
   {
    "duration": 5,
    "start_time": "2022-12-15T12:36:12.578Z"
   },
   {
    "duration": 2,
    "start_time": "2022-12-15T12:36:12.785Z"
   },
   {
    "duration": 3,
    "start_time": "2022-12-15T12:36:13.253Z"
   },
   {
    "duration": 11,
    "start_time": "2022-12-15T12:36:14.638Z"
   },
   {
    "duration": 5,
    "start_time": "2022-12-15T12:36:15.290Z"
   },
   {
    "duration": 9,
    "start_time": "2022-12-15T12:36:16.599Z"
   },
   {
    "duration": 5,
    "start_time": "2022-12-15T12:36:17.255Z"
   },
   {
    "duration": 18,
    "start_time": "2022-12-15T12:36:19.147Z"
   },
   {
    "duration": 9,
    "start_time": "2022-12-15T12:36:19.420Z"
   },
   {
    "duration": 25,
    "start_time": "2022-12-15T12:36:26.412Z"
   },
   {
    "duration": 16,
    "start_time": "2022-12-15T12:36:26.667Z"
   },
   {
    "duration": 3,
    "start_time": "2022-12-15T12:36:27.627Z"
   },
   {
    "duration": 19,
    "start_time": "2022-12-15T12:36:27.889Z"
   },
   {
    "duration": 7,
    "start_time": "2022-12-15T12:36:29.023Z"
   },
   {
    "duration": 11,
    "start_time": "2022-12-15T12:36:31.402Z"
   },
   {
    "duration": 2,
    "start_time": "2022-12-15T12:36:33.184Z"
   },
   {
    "duration": 13,
    "start_time": "2022-12-15T12:36:34.316Z"
   },
   {
    "duration": 8,
    "start_time": "2022-12-15T12:36:41.214Z"
   },
   {
    "duration": 9,
    "start_time": "2022-12-15T12:36:41.657Z"
   },
   {
    "duration": 9,
    "start_time": "2022-12-15T12:36:42.320Z"
   },
   {
    "duration": 9,
    "start_time": "2022-12-15T12:36:44.766Z"
   },
   {
    "duration": 20,
    "start_time": "2022-12-15T12:36:46.494Z"
   },
   {
    "duration": 9,
    "start_time": "2022-12-15T12:37:17.741Z"
   },
   {
    "duration": 21,
    "start_time": "2022-12-15T12:37:19.022Z"
   },
   {
    "duration": 9,
    "start_time": "2022-12-15T12:37:20.187Z"
   },
   {
    "duration": 9,
    "start_time": "2022-12-15T12:37:21.219Z"
   },
   {
    "duration": 9,
    "start_time": "2022-12-15T12:37:21.707Z"
   },
   {
    "duration": 16,
    "start_time": "2022-12-15T12:37:24.353Z"
   },
   {
    "duration": 16,
    "start_time": "2022-12-15T12:37:48.373Z"
   },
   {
    "duration": 8,
    "start_time": "2022-12-15T12:38:19.987Z"
   },
   {
    "duration": 9,
    "start_time": "2022-12-15T12:38:32.425Z"
   },
   {
    "duration": 7,
    "start_time": "2022-12-15T12:38:40.844Z"
   },
   {
    "duration": 20,
    "start_time": "2022-12-15T12:39:45.359Z"
   },
   {
    "duration": 15,
    "start_time": "2022-12-15T12:39:57.924Z"
   },
   {
    "duration": 7,
    "start_time": "2022-12-15T12:40:07.014Z"
   },
   {
    "duration": 4,
    "start_time": "2022-12-15T12:40:56.982Z"
   },
   {
    "duration": 11,
    "start_time": "2022-12-15T12:40:58.211Z"
   },
   {
    "duration": 9,
    "start_time": "2022-12-15T12:41:08.773Z"
   },
   {
    "duration": 24,
    "start_time": "2022-12-15T12:41:09.826Z"
   },
   {
    "duration": 7,
    "start_time": "2022-12-15T12:41:14.338Z"
   },
   {
    "duration": 18,
    "start_time": "2022-12-15T12:41:17.394Z"
   },
   {
    "duration": 3,
    "start_time": "2022-12-15T12:41:44.882Z"
   },
   {
    "duration": 13,
    "start_time": "2022-12-15T12:41:45.978Z"
   },
   {
    "duration": 4467,
    "start_time": "2022-12-15T12:41:52.885Z"
   },
   {
    "duration": 1199,
    "start_time": "2022-12-15T12:41:57.355Z"
   },
   {
    "duration": 106,
    "start_time": "2022-12-15T12:41:58.556Z"
   },
   {
    "duration": 3,
    "start_time": "2022-12-15T12:41:58.664Z"
   },
   {
    "duration": 16,
    "start_time": "2022-12-15T12:41:58.668Z"
   },
   {
    "duration": 48,
    "start_time": "2022-12-15T12:41:58.686Z"
   },
   {
    "duration": 6,
    "start_time": "2022-12-15T12:41:58.735Z"
   },
   {
    "duration": 24,
    "start_time": "2022-12-15T12:41:58.742Z"
   },
   {
    "duration": 33,
    "start_time": "2022-12-15T12:41:58.768Z"
   },
   {
    "duration": 51,
    "start_time": "2022-12-15T12:41:58.804Z"
   },
   {
    "duration": 52,
    "start_time": "2022-12-15T12:41:58.857Z"
   },
   {
    "duration": 34,
    "start_time": "2022-12-15T12:41:58.911Z"
   },
   {
    "duration": 3,
    "start_time": "2022-12-15T12:41:58.947Z"
   },
   {
    "duration": 21,
    "start_time": "2022-12-15T12:41:58.952Z"
   },
   {
    "duration": 18,
    "start_time": "2022-12-15T12:41:58.975Z"
   },
   {
    "duration": 14,
    "start_time": "2022-12-15T12:41:58.994Z"
   },
   {
    "duration": 17,
    "start_time": "2022-12-15T12:41:59.009Z"
   },
   {
    "duration": 15,
    "start_time": "2022-12-15T12:41:59.027Z"
   },
   {
    "duration": 21,
    "start_time": "2022-12-15T12:41:59.044Z"
   },
   {
    "duration": 18,
    "start_time": "2022-12-15T12:41:59.067Z"
   },
   {
    "duration": 11,
    "start_time": "2022-12-15T12:41:59.086Z"
   },
   {
    "duration": 18,
    "start_time": "2022-12-15T12:41:59.099Z"
   },
   {
    "duration": 13,
    "start_time": "2022-12-15T12:41:59.119Z"
   },
   {
    "duration": 21,
    "start_time": "2022-12-15T12:41:59.133Z"
   },
   {
    "duration": 31,
    "start_time": "2022-12-15T12:41:59.155Z"
   },
   {
    "duration": 20,
    "start_time": "2022-12-15T12:41:59.188Z"
   },
   {
    "duration": 13,
    "start_time": "2022-12-15T12:41:59.209Z"
   },
   {
    "duration": 23,
    "start_time": "2022-12-15T12:41:59.226Z"
   },
   {
    "duration": 13,
    "start_time": "2022-12-15T12:41:59.251Z"
   },
   {
    "duration": 12,
    "start_time": "2022-12-15T12:41:59.265Z"
   },
   {
    "duration": 40,
    "start_time": "2022-12-15T12:41:59.278Z"
   },
   {
    "duration": 14,
    "start_time": "2022-12-15T12:41:59.320Z"
   },
   {
    "duration": 22,
    "start_time": "2022-12-15T12:41:59.336Z"
   },
   {
    "duration": 30,
    "start_time": "2022-12-15T12:41:59.359Z"
   },
   {
    "duration": 32,
    "start_time": "2022-12-15T12:41:59.391Z"
   },
   {
    "duration": 22,
    "start_time": "2022-12-15T12:41:59.425Z"
   },
   {
    "duration": 133,
    "start_time": "2022-12-15T12:41:59.448Z"
   },
   {
    "duration": 0,
    "start_time": "2022-12-15T12:41:59.583Z"
   },
   {
    "duration": 0,
    "start_time": "2022-12-15T12:41:59.584Z"
   },
   {
    "duration": 0,
    "start_time": "2022-12-15T12:41:59.585Z"
   },
   {
    "duration": 0,
    "start_time": "2022-12-15T12:41:59.586Z"
   },
   {
    "duration": 0,
    "start_time": "2022-12-15T12:41:59.588Z"
   },
   {
    "duration": 0,
    "start_time": "2022-12-15T12:41:59.589Z"
   },
   {
    "duration": 0,
    "start_time": "2022-12-15T12:41:59.590Z"
   },
   {
    "duration": 0,
    "start_time": "2022-12-15T12:41:59.591Z"
   },
   {
    "duration": 0,
    "start_time": "2022-12-15T12:41:59.592Z"
   },
   {
    "duration": 0,
    "start_time": "2022-12-15T12:41:59.594Z"
   },
   {
    "duration": 0,
    "start_time": "2022-12-15T12:41:59.595Z"
   },
   {
    "duration": 0,
    "start_time": "2022-12-15T12:41:59.596Z"
   },
   {
    "duration": 0,
    "start_time": "2022-12-15T12:41:59.597Z"
   },
   {
    "duration": 0,
    "start_time": "2022-12-15T12:41:59.598Z"
   },
   {
    "duration": 0,
    "start_time": "2022-12-15T12:41:59.600Z"
   },
   {
    "duration": 0,
    "start_time": "2022-12-15T12:41:59.601Z"
   },
   {
    "duration": 0,
    "start_time": "2022-12-15T12:41:59.602Z"
   },
   {
    "duration": 1,
    "start_time": "2022-12-15T12:41:59.603Z"
   },
   {
    "duration": 0,
    "start_time": "2022-12-15T12:41:59.636Z"
   },
   {
    "duration": 0,
    "start_time": "2022-12-15T12:41:59.638Z"
   },
   {
    "duration": 0,
    "start_time": "2022-12-15T12:41:59.639Z"
   },
   {
    "duration": 0,
    "start_time": "2022-12-15T12:41:59.640Z"
   },
   {
    "duration": 0,
    "start_time": "2022-12-15T12:41:59.641Z"
   },
   {
    "duration": 4461,
    "start_time": "2022-12-15T12:42:01.058Z"
   },
   {
    "duration": 4,
    "start_time": "2022-12-15T12:42:05.522Z"
   },
   {
    "duration": 17,
    "start_time": "2022-12-15T12:42:05.528Z"
   },
   {
    "duration": 50,
    "start_time": "2022-12-15T12:42:05.547Z"
   },
   {
    "duration": 14,
    "start_time": "2022-12-15T12:42:05.600Z"
   },
   {
    "duration": 85,
    "start_time": "2022-12-15T12:42:05.616Z"
   },
   {
    "duration": 5,
    "start_time": "2022-12-15T12:42:05.703Z"
   },
   {
    "duration": 35,
    "start_time": "2022-12-15T12:42:05.709Z"
   },
   {
    "duration": 20,
    "start_time": "2022-12-15T12:42:05.746Z"
   },
   {
    "duration": 60,
    "start_time": "2022-12-15T12:42:05.769Z"
   },
   {
    "duration": 50,
    "start_time": "2022-12-15T12:42:05.830Z"
   },
   {
    "duration": 21,
    "start_time": "2022-12-15T12:42:05.881Z"
   },
   {
    "duration": 4,
    "start_time": "2022-12-15T12:42:05.904Z"
   },
   {
    "duration": 31,
    "start_time": "2022-12-15T12:42:05.909Z"
   },
   {
    "duration": 13,
    "start_time": "2022-12-15T12:42:05.941Z"
   },
   {
    "duration": 15,
    "start_time": "2022-12-15T12:42:05.957Z"
   },
   {
    "duration": 21,
    "start_time": "2022-12-15T12:42:05.974Z"
   },
   {
    "duration": 12,
    "start_time": "2022-12-15T12:42:06.055Z"
   },
   {
    "duration": 3,
    "start_time": "2022-12-15T12:42:07.165Z"
   },
   {
    "duration": 3,
    "start_time": "2022-12-15T12:42:07.290Z"
   },
   {
    "duration": 2,
    "start_time": "2022-12-15T12:42:07.728Z"
   },
   {
    "duration": 13,
    "start_time": "2022-12-15T12:42:08.743Z"
   },
   {
    "duration": 6,
    "start_time": "2022-12-15T12:42:09.388Z"
   },
   {
    "duration": 9,
    "start_time": "2022-12-15T12:42:10.711Z"
   },
   {
    "duration": 4,
    "start_time": "2022-12-15T12:42:11.440Z"
   },
   {
    "duration": 16,
    "start_time": "2022-12-15T12:42:13.443Z"
   },
   {
    "duration": 9,
    "start_time": "2022-12-15T12:42:13.722Z"
   },
   {
    "duration": 21,
    "start_time": "2022-12-15T12:42:15.309Z"
   },
   {
    "duration": 12,
    "start_time": "2022-12-15T12:42:15.746Z"
   },
   {
    "duration": 2,
    "start_time": "2022-12-15T12:42:16.348Z"
   },
   {
    "duration": 17,
    "start_time": "2022-12-15T12:42:17.720Z"
   },
   {
    "duration": 3,
    "start_time": "2022-12-15T12:42:19.605Z"
   },
   {
    "duration": 11,
    "start_time": "2022-12-15T12:42:20.727Z"
   },
   {
    "duration": 11,
    "start_time": "2022-12-15T12:42:25.523Z"
   },
   {
    "duration": 23,
    "start_time": "2022-12-15T12:42:26.881Z"
   },
   {
    "duration": 10,
    "start_time": "2022-12-15T12:42:30.321Z"
   },
   {
    "duration": 10,
    "start_time": "2022-12-15T12:42:36.085Z"
   },
   {
    "duration": 26,
    "start_time": "2022-12-15T12:42:41.329Z"
   },
   {
    "duration": 7,
    "start_time": "2022-12-15T12:45:53.342Z"
   },
   {
    "duration": 10,
    "start_time": "2022-12-15T12:45:54.374Z"
   },
   {
    "duration": 9,
    "start_time": "2022-12-15T12:45:55.925Z"
   },
   {
    "duration": 19,
    "start_time": "2022-12-15T12:45:57.058Z"
   },
   {
    "duration": 7,
    "start_time": "2022-12-15T12:46:03.210Z"
   },
   {
    "duration": 6,
    "start_time": "2022-12-15T12:46:38.681Z"
   },
   {
    "duration": 8,
    "start_time": "2022-12-15T12:46:51.885Z"
   },
   {
    "duration": 47,
    "start_time": "2022-12-15T12:52:38.962Z"
   },
   {
    "duration": 21,
    "start_time": "2022-12-15T12:52:43.956Z"
   },
   {
    "duration": 6,
    "start_time": "2022-12-15T12:52:58.652Z"
   },
   {
    "duration": 4494,
    "start_time": "2022-12-15T12:53:14.077Z"
   },
   {
    "duration": 1200,
    "start_time": "2022-12-15T12:53:18.573Z"
   },
   {
    "duration": 106,
    "start_time": "2022-12-15T12:53:19.775Z"
   },
   {
    "duration": 3,
    "start_time": "2022-12-15T12:53:19.883Z"
   },
   {
    "duration": 30,
    "start_time": "2022-12-15T12:53:19.888Z"
   },
   {
    "duration": 61,
    "start_time": "2022-12-15T12:53:19.920Z"
   },
   {
    "duration": 6,
    "start_time": "2022-12-15T12:53:19.983Z"
   },
   {
    "duration": 47,
    "start_time": "2022-12-15T12:53:19.991Z"
   },
   {
    "duration": 17,
    "start_time": "2022-12-15T12:53:20.039Z"
   },
   {
    "duration": 48,
    "start_time": "2022-12-15T12:53:20.058Z"
   },
   {
    "duration": 64,
    "start_time": "2022-12-15T12:53:20.108Z"
   },
   {
    "duration": 19,
    "start_time": "2022-12-15T12:53:20.174Z"
   },
   {
    "duration": 4,
    "start_time": "2022-12-15T12:53:20.195Z"
   },
   {
    "duration": 35,
    "start_time": "2022-12-15T12:53:20.201Z"
   },
   {
    "duration": 16,
    "start_time": "2022-12-15T12:53:20.239Z"
   },
   {
    "duration": 35,
    "start_time": "2022-12-15T12:53:20.257Z"
   },
   {
    "duration": 23,
    "start_time": "2022-12-15T12:53:20.294Z"
   },
   {
    "duration": 35,
    "start_time": "2022-12-15T12:53:20.319Z"
   },
   {
    "duration": 18,
    "start_time": "2022-12-15T12:53:20.356Z"
   },
   {
    "duration": 20,
    "start_time": "2022-12-15T12:53:20.376Z"
   },
   {
    "duration": 16,
    "start_time": "2022-12-15T12:53:20.398Z"
   },
   {
    "duration": 29,
    "start_time": "2022-12-15T12:53:20.416Z"
   },
   {
    "duration": 25,
    "start_time": "2022-12-15T12:53:20.447Z"
   },
   {
    "duration": 27,
    "start_time": "2022-12-15T12:53:20.474Z"
   },
   {
    "duration": 22,
    "start_time": "2022-12-15T12:53:20.503Z"
   },
   {
    "duration": 46,
    "start_time": "2022-12-15T12:53:20.527Z"
   },
   {
    "duration": 50,
    "start_time": "2022-12-15T12:53:20.575Z"
   },
   {
    "duration": 36,
    "start_time": "2022-12-15T12:53:20.629Z"
   },
   {
    "duration": 11,
    "start_time": "2022-12-15T12:53:20.666Z"
   },
   {
    "duration": 17,
    "start_time": "2022-12-15T12:53:20.679Z"
   },
   {
    "duration": 26,
    "start_time": "2022-12-15T12:53:20.697Z"
   },
   {
    "duration": 14,
    "start_time": "2022-12-15T12:53:20.725Z"
   },
   {
    "duration": 19,
    "start_time": "2022-12-15T12:53:20.741Z"
   },
   {
    "duration": 42,
    "start_time": "2022-12-15T12:53:20.762Z"
   },
   {
    "duration": 38,
    "start_time": "2022-12-15T12:53:20.805Z"
   },
   {
    "duration": 13,
    "start_time": "2022-12-15T12:53:20.844Z"
   },
   {
    "duration": 30,
    "start_time": "2022-12-15T12:53:20.859Z"
   },
   {
    "duration": 7,
    "start_time": "2022-12-15T12:53:20.890Z"
   },
   {
    "duration": 143,
    "start_time": "2022-12-15T12:53:20.905Z"
   },
   {
    "duration": 0,
    "start_time": "2022-12-15T12:53:21.050Z"
   },
   {
    "duration": 0,
    "start_time": "2022-12-15T12:53:21.051Z"
   },
   {
    "duration": 0,
    "start_time": "2022-12-15T12:53:21.052Z"
   },
   {
    "duration": 0,
    "start_time": "2022-12-15T12:53:21.053Z"
   },
   {
    "duration": 0,
    "start_time": "2022-12-15T12:53:21.054Z"
   },
   {
    "duration": 0,
    "start_time": "2022-12-15T12:53:21.055Z"
   },
   {
    "duration": 0,
    "start_time": "2022-12-15T12:53:21.056Z"
   },
   {
    "duration": 0,
    "start_time": "2022-12-15T12:53:21.057Z"
   },
   {
    "duration": 0,
    "start_time": "2022-12-15T12:53:21.058Z"
   },
   {
    "duration": 0,
    "start_time": "2022-12-15T12:53:21.059Z"
   },
   {
    "duration": 0,
    "start_time": "2022-12-15T12:53:21.060Z"
   },
   {
    "duration": 0,
    "start_time": "2022-12-15T12:53:21.061Z"
   },
   {
    "duration": 0,
    "start_time": "2022-12-15T12:53:21.062Z"
   },
   {
    "duration": 0,
    "start_time": "2022-12-15T12:53:21.063Z"
   },
   {
    "duration": 0,
    "start_time": "2022-12-15T12:53:21.064Z"
   },
   {
    "duration": 0,
    "start_time": "2022-12-15T12:53:21.065Z"
   },
   {
    "duration": 0,
    "start_time": "2022-12-15T12:53:21.066Z"
   },
   {
    "duration": 0,
    "start_time": "2022-12-15T12:53:21.067Z"
   },
   {
    "duration": 0,
    "start_time": "2022-12-15T12:53:21.068Z"
   },
   {
    "duration": 0,
    "start_time": "2022-12-15T12:53:21.069Z"
   },
   {
    "duration": 0,
    "start_time": "2022-12-15T12:53:21.071Z"
   },
   {
    "duration": 0,
    "start_time": "2022-12-15T12:53:21.072Z"
   },
   {
    "duration": 0,
    "start_time": "2022-12-15T12:53:21.073Z"
   },
   {
    "duration": 4502,
    "start_time": "2022-12-15T12:53:28.978Z"
   },
   {
    "duration": 4,
    "start_time": "2022-12-15T12:53:33.482Z"
   },
   {
    "duration": 11,
    "start_time": "2022-12-15T12:53:33.487Z"
   },
   {
    "duration": 12,
    "start_time": "2022-12-15T12:53:33.501Z"
   },
   {
    "duration": 13,
    "start_time": "2022-12-15T12:53:33.514Z"
   },
   {
    "duration": 54,
    "start_time": "2022-12-15T12:53:33.529Z"
   },
   {
    "duration": 4,
    "start_time": "2022-12-15T12:53:33.585Z"
   },
   {
    "duration": 29,
    "start_time": "2022-12-15T12:53:33.592Z"
   },
   {
    "duration": 18,
    "start_time": "2022-12-15T12:53:33.623Z"
   },
   {
    "duration": 44,
    "start_time": "2022-12-15T12:53:33.644Z"
   },
   {
    "duration": 67,
    "start_time": "2022-12-15T12:53:33.690Z"
   },
   {
    "duration": 20,
    "start_time": "2022-12-15T12:53:33.759Z"
   },
   {
    "duration": 4,
    "start_time": "2022-12-15T12:53:33.780Z"
   },
   {
    "duration": 20,
    "start_time": "2022-12-15T12:53:33.785Z"
   },
   {
    "duration": 13,
    "start_time": "2022-12-15T12:53:33.807Z"
   },
   {
    "duration": 6,
    "start_time": "2022-12-15T12:53:33.847Z"
   },
   {
    "duration": 13,
    "start_time": "2022-12-15T12:53:34.249Z"
   },
   {
    "duration": 12,
    "start_time": "2022-12-15T12:53:34.984Z"
   },
   {
    "duration": 2,
    "start_time": "2022-12-15T12:53:36.260Z"
   },
   {
    "duration": 3,
    "start_time": "2022-12-15T12:53:36.457Z"
   },
   {
    "duration": 3,
    "start_time": "2022-12-15T12:53:36.816Z"
   },
   {
    "duration": 11,
    "start_time": "2022-12-15T12:53:37.808Z"
   },
   {
    "duration": 6,
    "start_time": "2022-12-15T12:53:38.478Z"
   },
   {
    "duration": 9,
    "start_time": "2022-12-15T12:53:39.806Z"
   },
   {
    "duration": 5,
    "start_time": "2022-12-15T12:53:40.518Z"
   },
   {
    "duration": 17,
    "start_time": "2022-12-15T12:53:42.330Z"
   },
   {
    "duration": 11,
    "start_time": "2022-12-15T12:53:42.539Z"
   },
   {
    "duration": 23,
    "start_time": "2022-12-15T12:53:43.497Z"
   },
   {
    "duration": 13,
    "start_time": "2022-12-15T12:53:43.730Z"
   },
   {
    "duration": 3,
    "start_time": "2022-12-15T12:53:43.978Z"
   },
   {
    "duration": 27,
    "start_time": "2022-12-15T12:53:44.263Z"
   },
   {
    "duration": 6,
    "start_time": "2022-12-15T12:53:45.261Z"
   },
   {
    "duration": 11,
    "start_time": "2022-12-15T12:53:45.809Z"
   },
   {
    "duration": 11,
    "start_time": "2022-12-15T12:53:46.239Z"
   },
   {
    "duration": 24,
    "start_time": "2022-12-15T12:53:46.711Z"
   },
   {
    "duration": 10,
    "start_time": "2022-12-15T12:53:46.934Z"
   },
   {
    "duration": 29,
    "start_time": "2022-12-15T12:53:47.132Z"
   },
   {
    "duration": 6,
    "start_time": "2022-12-15T12:53:48.384Z"
   },
   {
    "duration": 6,
    "start_time": "2022-12-15T12:53:59.750Z"
   },
   {
    "duration": 18,
    "start_time": "2022-12-15T12:54:00.376Z"
   },
   {
    "duration": 7,
    "start_time": "2022-12-15T12:54:00.862Z"
   },
   {
    "duration": 21,
    "start_time": "2022-12-15T12:54:03.589Z"
   },
   {
    "duration": 19,
    "start_time": "2022-12-15T12:55:33.860Z"
   },
   {
    "duration": 6,
    "start_time": "2022-12-15T12:55:34.994Z"
   },
   {
    "duration": 50,
    "start_time": "2022-12-15T12:55:51.250Z"
   },
   {
    "duration": 8,
    "start_time": "2022-12-15T12:55:56.616Z"
   },
   {
    "duration": 18,
    "start_time": "2022-12-15T12:56:12.063Z"
   },
   {
    "duration": 6,
    "start_time": "2022-12-15T12:56:14.209Z"
   },
   {
    "duration": 18,
    "start_time": "2022-12-15T12:56:18.389Z"
   },
   {
    "duration": 21,
    "start_time": "2022-12-15T12:56:38.162Z"
   },
   {
    "duration": 6,
    "start_time": "2022-12-15T12:56:39.059Z"
   },
   {
    "duration": 4521,
    "start_time": "2022-12-15T12:57:04.450Z"
   },
   {
    "duration": 3,
    "start_time": "2022-12-15T12:57:08.974Z"
   },
   {
    "duration": 14,
    "start_time": "2022-12-15T12:57:08.979Z"
   },
   {
    "duration": 10,
    "start_time": "2022-12-15T12:57:08.996Z"
   },
   {
    "duration": 20,
    "start_time": "2022-12-15T12:57:09.007Z"
   },
   {
    "duration": 58,
    "start_time": "2022-12-15T12:57:09.029Z"
   },
   {
    "duration": 4,
    "start_time": "2022-12-15T12:57:09.089Z"
   },
   {
    "duration": 44,
    "start_time": "2022-12-15T12:57:09.095Z"
   },
   {
    "duration": 22,
    "start_time": "2022-12-15T12:57:09.141Z"
   },
   {
    "duration": 41,
    "start_time": "2022-12-15T12:57:09.166Z"
   },
   {
    "duration": 64,
    "start_time": "2022-12-15T12:57:09.209Z"
   },
   {
    "duration": 19,
    "start_time": "2022-12-15T12:57:09.274Z"
   },
   {
    "duration": 7,
    "start_time": "2022-12-15T12:57:09.295Z"
   },
   {
    "duration": 12,
    "start_time": "2022-12-15T12:57:14.717Z"
   },
   {
    "duration": 7,
    "start_time": "2022-12-15T12:57:15.612Z"
   },
   {
    "duration": 7,
    "start_time": "2022-12-15T12:57:16.687Z"
   },
   {
    "duration": 12,
    "start_time": "2022-12-15T12:57:16.895Z"
   },
   {
    "duration": 11,
    "start_time": "2022-12-15T12:57:17.086Z"
   },
   {
    "duration": 2,
    "start_time": "2022-12-15T12:57:17.954Z"
   },
   {
    "duration": 3,
    "start_time": "2022-12-15T12:57:18.144Z"
   },
   {
    "duration": 3,
    "start_time": "2022-12-15T12:57:18.495Z"
   },
   {
    "duration": 17,
    "start_time": "2022-12-15T12:57:19.413Z"
   },
   {
    "duration": 5,
    "start_time": "2022-12-15T12:57:19.953Z"
   },
   {
    "duration": 10,
    "start_time": "2022-12-15T12:57:21.068Z"
   },
   {
    "duration": 6,
    "start_time": "2022-12-15T12:57:21.669Z"
   },
   {
    "duration": 16,
    "start_time": "2022-12-15T12:57:23.559Z"
   },
   {
    "duration": 10,
    "start_time": "2022-12-15T12:57:23.770Z"
   },
   {
    "duration": 22,
    "start_time": "2022-12-15T12:57:25.250Z"
   },
   {
    "duration": 13,
    "start_time": "2022-12-15T12:57:25.497Z"
   },
   {
    "duration": 4,
    "start_time": "2022-12-15T12:57:26.033Z"
   },
   {
    "duration": 21,
    "start_time": "2022-12-15T12:57:26.371Z"
   },
   {
    "duration": 8,
    "start_time": "2022-12-15T12:57:27.470Z"
   },
   {
    "duration": 11,
    "start_time": "2022-12-15T12:57:28.035Z"
   },
   {
    "duration": 9,
    "start_time": "2022-12-15T12:57:31.382Z"
   },
   {
    "duration": 18,
    "start_time": "2022-12-15T12:57:33.737Z"
   },
   {
    "duration": 6,
    "start_time": "2022-12-15T12:57:34.599Z"
   },
   {
    "duration": 21,
    "start_time": "2022-12-15T12:57:35.945Z"
   },
   {
    "duration": 6,
    "start_time": "2022-12-15T12:57:37.529Z"
   },
   {
    "duration": 8,
    "start_time": "2022-12-15T12:57:46.541Z"
   },
   {
    "duration": 22,
    "start_time": "2022-12-15T12:57:48.537Z"
   },
   {
    "duration": 4536,
    "start_time": "2022-12-15T12:57:55.756Z"
   },
   {
    "duration": 1189,
    "start_time": "2022-12-15T12:58:00.295Z"
   },
   {
    "duration": 97,
    "start_time": "2022-12-15T12:58:01.486Z"
   },
   {
    "duration": 3,
    "start_time": "2022-12-15T12:58:01.586Z"
   },
   {
    "duration": 38,
    "start_time": "2022-12-15T12:58:01.590Z"
   },
   {
    "duration": 63,
    "start_time": "2022-12-15T12:58:01.630Z"
   },
   {
    "duration": 6,
    "start_time": "2022-12-15T12:58:01.695Z"
   },
   {
    "duration": 31,
    "start_time": "2022-12-15T12:58:01.702Z"
   },
   {
    "duration": 27,
    "start_time": "2022-12-15T12:58:01.735Z"
   },
   {
    "duration": 76,
    "start_time": "2022-12-15T12:58:01.766Z"
   },
   {
    "duration": 62,
    "start_time": "2022-12-15T12:58:01.844Z"
   },
   {
    "duration": 32,
    "start_time": "2022-12-15T12:58:01.907Z"
   },
   {
    "duration": 5,
    "start_time": "2022-12-15T12:58:01.941Z"
   },
   {
    "duration": 52,
    "start_time": "2022-12-15T12:58:01.948Z"
   },
   {
    "duration": 62,
    "start_time": "2022-12-15T12:58:02.002Z"
   },
   {
    "duration": 44,
    "start_time": "2022-12-15T12:58:02.065Z"
   },
   {
    "duration": 31,
    "start_time": "2022-12-15T12:58:02.111Z"
   },
   {
    "duration": 24,
    "start_time": "2022-12-15T12:58:02.144Z"
   },
   {
    "duration": 28,
    "start_time": "2022-12-15T12:58:02.170Z"
   },
   {
    "duration": 21,
    "start_time": "2022-12-15T12:58:02.200Z"
   },
   {
    "duration": 12,
    "start_time": "2022-12-15T12:58:02.222Z"
   },
   {
    "duration": 20,
    "start_time": "2022-12-15T12:58:02.236Z"
   },
   {
    "duration": 19,
    "start_time": "2022-12-15T12:58:02.257Z"
   },
   {
    "duration": 47,
    "start_time": "2022-12-15T12:58:02.278Z"
   },
   {
    "duration": 18,
    "start_time": "2022-12-15T12:58:02.327Z"
   },
   {
    "duration": 23,
    "start_time": "2022-12-15T12:58:02.347Z"
   },
   {
    "duration": 22,
    "start_time": "2022-12-15T12:58:02.372Z"
   },
   {
    "duration": 30,
    "start_time": "2022-12-15T12:58:02.399Z"
   },
   {
    "duration": 19,
    "start_time": "2022-12-15T12:58:02.432Z"
   },
   {
    "duration": 21,
    "start_time": "2022-12-15T12:58:02.456Z"
   },
   {
    "duration": 35,
    "start_time": "2022-12-15T12:58:02.480Z"
   },
   {
    "duration": 32,
    "start_time": "2022-12-15T12:58:02.518Z"
   },
   {
    "duration": 27,
    "start_time": "2022-12-15T12:58:02.552Z"
   },
   {
    "duration": 19,
    "start_time": "2022-12-15T12:58:02.581Z"
   },
   {
    "duration": 38,
    "start_time": "2022-12-15T12:58:02.602Z"
   },
   {
    "duration": 28,
    "start_time": "2022-12-15T12:58:02.642Z"
   },
   {
    "duration": 35,
    "start_time": "2022-12-15T12:58:02.673Z"
   },
   {
    "duration": 6,
    "start_time": "2022-12-15T12:58:02.710Z"
   },
   {
    "duration": 138,
    "start_time": "2022-12-15T12:58:02.718Z"
   },
   {
    "duration": 0,
    "start_time": "2022-12-15T12:58:02.857Z"
   },
   {
    "duration": 0,
    "start_time": "2022-12-15T12:58:02.859Z"
   },
   {
    "duration": 0,
    "start_time": "2022-12-15T12:58:02.860Z"
   },
   {
    "duration": 0,
    "start_time": "2022-12-15T12:58:02.861Z"
   },
   {
    "duration": 0,
    "start_time": "2022-12-15T12:58:02.862Z"
   },
   {
    "duration": 0,
    "start_time": "2022-12-15T12:58:02.863Z"
   },
   {
    "duration": 0,
    "start_time": "2022-12-15T12:58:02.864Z"
   },
   {
    "duration": 0,
    "start_time": "2022-12-15T12:58:02.865Z"
   },
   {
    "duration": 0,
    "start_time": "2022-12-15T12:58:02.867Z"
   },
   {
    "duration": 0,
    "start_time": "2022-12-15T12:58:02.868Z"
   },
   {
    "duration": 0,
    "start_time": "2022-12-15T12:58:02.869Z"
   },
   {
    "duration": 0,
    "start_time": "2022-12-15T12:58:02.870Z"
   },
   {
    "duration": 0,
    "start_time": "2022-12-15T12:58:02.871Z"
   },
   {
    "duration": 0,
    "start_time": "2022-12-15T12:58:02.873Z"
   },
   {
    "duration": 0,
    "start_time": "2022-12-15T12:58:02.874Z"
   },
   {
    "duration": 0,
    "start_time": "2022-12-15T12:58:02.875Z"
   },
   {
    "duration": 0,
    "start_time": "2022-12-15T12:58:02.876Z"
   },
   {
    "duration": 0,
    "start_time": "2022-12-15T12:58:02.878Z"
   },
   {
    "duration": 0,
    "start_time": "2022-12-15T12:58:02.879Z"
   },
   {
    "duration": 0,
    "start_time": "2022-12-15T12:58:02.880Z"
   },
   {
    "duration": 0,
    "start_time": "2022-12-15T12:58:02.881Z"
   },
   {
    "duration": 0,
    "start_time": "2022-12-15T12:58:02.882Z"
   },
   {
    "duration": 0,
    "start_time": "2022-12-15T12:58:02.883Z"
   },
   {
    "duration": 4608,
    "start_time": "2022-12-15T12:58:02.941Z"
   },
   {
    "duration": 3,
    "start_time": "2022-12-15T12:58:07.551Z"
   },
   {
    "duration": 28,
    "start_time": "2022-12-15T12:58:07.556Z"
   },
   {
    "duration": 14,
    "start_time": "2022-12-15T12:58:07.586Z"
   },
   {
    "duration": 11,
    "start_time": "2022-12-15T12:58:07.602Z"
   },
   {
    "duration": 61,
    "start_time": "2022-12-15T12:58:07.614Z"
   },
   {
    "duration": 4,
    "start_time": "2022-12-15T12:58:07.677Z"
   },
   {
    "duration": 31,
    "start_time": "2022-12-15T12:58:07.682Z"
   },
   {
    "duration": 33,
    "start_time": "2022-12-15T12:58:07.714Z"
   },
   {
    "duration": 56,
    "start_time": "2022-12-15T12:58:07.750Z"
   },
   {
    "duration": 50,
    "start_time": "2022-12-15T12:58:07.808Z"
   },
   {
    "duration": 19,
    "start_time": "2022-12-15T12:58:07.860Z"
   },
   {
    "duration": 4,
    "start_time": "2022-12-15T12:58:14.759Z"
   },
   {
    "duration": 12,
    "start_time": "2022-12-15T12:58:15.546Z"
   },
   {
    "duration": 7,
    "start_time": "2022-12-15T12:58:16.050Z"
   },
   {
    "duration": 8,
    "start_time": "2022-12-15T12:58:17.132Z"
   },
   {
    "duration": 13,
    "start_time": "2022-12-15T12:58:17.400Z"
   },
   {
    "duration": 12,
    "start_time": "2022-12-15T12:58:17.717Z"
   },
   {
    "duration": 2,
    "start_time": "2022-12-15T12:58:19.608Z"
   },
   {
    "duration": 2,
    "start_time": "2022-12-15T12:58:19.888Z"
   },
   {
    "duration": 2,
    "start_time": "2022-12-15T12:58:20.607Z"
   },
   {
    "duration": 14,
    "start_time": "2022-12-15T12:58:22.481Z"
   },
   {
    "duration": 7,
    "start_time": "2022-12-15T12:58:24.053Z"
   },
   {
    "duration": 10,
    "start_time": "2022-12-15T12:58:25.863Z"
   },
   {
    "duration": 5,
    "start_time": "2022-12-15T12:58:26.838Z"
   },
   {
    "duration": 17,
    "start_time": "2022-12-15T12:58:30.289Z"
   },
   {
    "duration": 12,
    "start_time": "2022-12-15T12:58:31.243Z"
   },
   {
    "duration": 22,
    "start_time": "2022-12-15T12:58:36.104Z"
   },
   {
    "duration": 11,
    "start_time": "2022-12-15T12:58:36.476Z"
   },
   {
    "duration": 3,
    "start_time": "2022-12-15T12:58:37.240Z"
   },
   {
    "duration": 19,
    "start_time": "2022-12-15T12:58:37.697Z"
   },
   {
    "duration": 7,
    "start_time": "2022-12-15T12:58:38.436Z"
   },
   {
    "duration": 10,
    "start_time": "2022-12-15T12:58:38.956Z"
   },
   {
    "duration": 11,
    "start_time": "2022-12-15T12:58:41.105Z"
   },
   {
    "duration": 22,
    "start_time": "2022-12-15T12:58:42.358Z"
   },
   {
    "duration": 8,
    "start_time": "2022-12-15T12:58:43.361Z"
   },
   {
    "duration": 24,
    "start_time": "2022-12-15T12:58:44.410Z"
   },
   {
    "duration": 7,
    "start_time": "2022-12-15T12:58:47.734Z"
   },
   {
    "duration": 5,
    "start_time": "2022-12-15T12:59:34.382Z"
   },
   {
    "duration": 6,
    "start_time": "2022-12-15T12:59:35.496Z"
   },
   {
    "duration": 19,
    "start_time": "2022-12-15T12:59:45.238Z"
   },
   {
    "duration": 8,
    "start_time": "2022-12-15T12:59:45.974Z"
   },
   {
    "duration": 12,
    "start_time": "2022-12-15T12:59:58.418Z"
   },
   {
    "duration": 6,
    "start_time": "2022-12-15T12:59:59.270Z"
   },
   {
    "duration": 15,
    "start_time": "2022-12-15T13:00:17.486Z"
   },
   {
    "duration": 11,
    "start_time": "2022-12-15T13:01:51.438Z"
   },
   {
    "duration": 23,
    "start_time": "2022-12-15T13:01:52.778Z"
   },
   {
    "duration": 8,
    "start_time": "2022-12-15T13:02:07.237Z"
   },
   {
    "duration": 11,
    "start_time": "2022-12-15T13:02:09.680Z"
   },
   {
    "duration": 6,
    "start_time": "2022-12-15T13:02:14.336Z"
   },
   {
    "duration": 23,
    "start_time": "2022-12-15T13:02:16.663Z"
   },
   {
    "duration": 21,
    "start_time": "2022-12-15T13:02:54.410Z"
   },
   {
    "duration": 6,
    "start_time": "2022-12-15T13:02:59.285Z"
   },
   {
    "duration": 12,
    "start_time": "2022-12-15T13:03:05.258Z"
   },
   {
    "duration": 14,
    "start_time": "2022-12-15T13:05:01.999Z"
   },
   {
    "duration": 11,
    "start_time": "2022-12-15T13:05:22.972Z"
   },
   {
    "duration": 11,
    "start_time": "2022-12-15T13:07:23.929Z"
   },
   {
    "duration": 13,
    "start_time": "2022-12-15T13:07:30.767Z"
   },
   {
    "duration": 3,
    "start_time": "2022-12-15T13:08:28.864Z"
   },
   {
    "duration": 9,
    "start_time": "2022-12-15T13:08:38.302Z"
   },
   {
    "duration": 10,
    "start_time": "2022-12-15T13:08:45.674Z"
   },
   {
    "duration": 45,
    "start_time": "2022-12-15T13:08:58.969Z"
   },
   {
    "duration": 4,
    "start_time": "2022-12-15T13:09:05.559Z"
   },
   {
    "duration": 7,
    "start_time": "2022-12-15T13:09:08.262Z"
   },
   {
    "duration": 28,
    "start_time": "2022-12-15T13:09:21.563Z"
   },
   {
    "duration": 3,
    "start_time": "2022-12-15T13:09:51.100Z"
   },
   {
    "duration": 7,
    "start_time": "2022-12-15T13:09:51.802Z"
   },
   {
    "duration": 21,
    "start_time": "2022-12-15T13:09:55.568Z"
   },
   {
    "duration": 4,
    "start_time": "2022-12-15T13:10:10.718Z"
   },
   {
    "duration": 6,
    "start_time": "2022-12-15T13:10:11.409Z"
   },
   {
    "duration": 22,
    "start_time": "2022-12-15T13:10:13.976Z"
   },
   {
    "duration": 3,
    "start_time": "2022-12-15T13:10:23.833Z"
   },
   {
    "duration": 6,
    "start_time": "2022-12-15T13:10:24.411Z"
   },
   {
    "duration": 22,
    "start_time": "2022-12-15T13:10:27.001Z"
   },
   {
    "duration": 12,
    "start_time": "2022-12-15T13:10:35.282Z"
   },
   {
    "duration": 3,
    "start_time": "2022-12-15T13:10:39.418Z"
   },
   {
    "duration": 6,
    "start_time": "2022-12-15T13:10:40.450Z"
   },
   {
    "duration": 21,
    "start_time": "2022-12-15T13:10:43.161Z"
   },
   {
    "duration": 4282,
    "start_time": "2022-12-15T13:12:46.038Z"
   },
   {
    "duration": 3,
    "start_time": "2022-12-15T13:12:50.323Z"
   },
   {
    "duration": 14,
    "start_time": "2022-12-15T13:12:50.328Z"
   },
   {
    "duration": 17,
    "start_time": "2022-12-15T13:12:50.344Z"
   },
   {
    "duration": 13,
    "start_time": "2022-12-15T13:12:50.362Z"
   },
   {
    "duration": 45,
    "start_time": "2022-12-15T13:12:50.377Z"
   },
   {
    "duration": 4,
    "start_time": "2022-12-15T13:12:50.424Z"
   },
   {
    "duration": 26,
    "start_time": "2022-12-15T13:12:50.431Z"
   },
   {
    "duration": 25,
    "start_time": "2022-12-15T13:12:50.460Z"
   },
   {
    "duration": 49,
    "start_time": "2022-12-15T13:12:50.488Z"
   },
   {
    "duration": 54,
    "start_time": "2022-12-15T13:12:50.539Z"
   },
   {
    "duration": 42,
    "start_time": "2022-12-15T13:12:50.595Z"
   },
   {
    "duration": 5,
    "start_time": "2022-12-15T13:12:50.639Z"
   },
   {
    "duration": 36,
    "start_time": "2022-12-15T13:12:50.645Z"
   },
   {
    "duration": 39,
    "start_time": "2022-12-15T13:12:50.683Z"
   },
   {
    "duration": 7,
    "start_time": "2022-12-15T13:12:50.947Z"
   },
   {
    "duration": 16,
    "start_time": "2022-12-15T13:12:51.128Z"
   },
   {
    "duration": 16,
    "start_time": "2022-12-15T13:12:51.343Z"
   },
   {
    "duration": 3,
    "start_time": "2022-12-15T13:12:53.212Z"
   },
   {
    "duration": 3,
    "start_time": "2022-12-15T13:12:53.456Z"
   },
   {
    "duration": 2,
    "start_time": "2022-12-15T13:12:53.918Z"
   },
   {
    "duration": 19,
    "start_time": "2022-12-15T13:12:55.090Z"
   },
   {
    "duration": 8,
    "start_time": "2022-12-15T13:12:55.761Z"
   },
   {
    "duration": 9,
    "start_time": "2022-12-15T13:12:57.153Z"
   },
   {
    "duration": 6,
    "start_time": "2022-12-15T13:12:58.324Z"
   },
   {
    "duration": 16,
    "start_time": "2022-12-15T13:13:00.165Z"
   },
   {
    "duration": 10,
    "start_time": "2022-12-15T13:13:00.433Z"
   },
   {
    "duration": 35,
    "start_time": "2022-12-15T13:13:02.039Z"
   },
   {
    "duration": 17,
    "start_time": "2022-12-15T13:13:02.263Z"
   },
   {
    "duration": 4,
    "start_time": "2022-12-15T13:13:02.546Z"
   },
   {
    "duration": 18,
    "start_time": "2022-12-15T13:13:02.892Z"
   },
   {
    "duration": 16,
    "start_time": "2022-12-15T13:13:03.426Z"
   },
   {
    "duration": 12,
    "start_time": "2022-12-15T13:13:04.011Z"
   },
   {
    "duration": 10,
    "start_time": "2022-12-15T13:13:05.271Z"
   },
   {
    "duration": 21,
    "start_time": "2022-12-15T13:13:05.668Z"
   },
   {
    "duration": 9,
    "start_time": "2022-12-15T13:13:05.999Z"
   },
   {
    "duration": 4,
    "start_time": "2022-12-15T13:13:06.591Z"
   },
   {
    "duration": 6,
    "start_time": "2022-12-15T13:13:07.587Z"
   },
   {
    "duration": 25,
    "start_time": "2022-12-15T13:13:11.317Z"
   },
   {
    "duration": 21,
    "start_time": "2022-12-15T13:13:37.496Z"
   },
   {
    "duration": 4,
    "start_time": "2022-12-15T13:14:37.371Z"
   },
   {
    "duration": 6,
    "start_time": "2022-12-15T13:14:37.891Z"
   },
   {
    "duration": 783,
    "start_time": "2022-12-15T13:14:43.981Z"
   },
   {
    "duration": 3,
    "start_time": "2022-12-15T13:17:10.163Z"
   },
   {
    "duration": 21,
    "start_time": "2022-12-15T13:17:10.642Z"
   },
   {
    "duration": 6,
    "start_time": "2022-12-15T13:17:10.833Z"
   },
   {
    "duration": 5,
    "start_time": "2022-12-15T13:17:11.028Z"
   },
   {
    "duration": 8,
    "start_time": "2022-12-15T13:17:11.572Z"
   },
   {
    "duration": 49,
    "start_time": "2022-12-15T13:17:38.988Z"
   },
   {
    "duration": 998,
    "start_time": "2022-12-15T14:20:06.347Z"
   },
   {
    "duration": 64,
    "start_time": "2022-12-15T14:37:43.726Z"
   },
   {
    "duration": 1711,
    "start_time": "2022-12-15T14:38:28.186Z"
   },
   {
    "duration": 3,
    "start_time": "2022-12-15T14:40:31.073Z"
   },
   {
    "duration": 61,
    "start_time": "2022-12-15T14:46:05.312Z"
   },
   {
    "duration": 4567,
    "start_time": "2022-12-15T14:49:34.894Z"
   },
   {
    "duration": 1146,
    "start_time": "2022-12-15T14:49:39.463Z"
   },
   {
    "duration": 99,
    "start_time": "2022-12-15T14:49:40.611Z"
   },
   {
    "duration": 2,
    "start_time": "2022-12-15T14:49:40.713Z"
   },
   {
    "duration": 6,
    "start_time": "2022-12-15T14:49:40.717Z"
   },
   {
    "duration": 50,
    "start_time": "2022-12-15T14:49:40.725Z"
   },
   {
    "duration": 5,
    "start_time": "2022-12-15T14:49:40.777Z"
   },
   {
    "duration": 26,
    "start_time": "2022-12-15T14:49:40.783Z"
   },
   {
    "duration": 12,
    "start_time": "2022-12-15T14:49:40.811Z"
   },
   {
    "duration": 49,
    "start_time": "2022-12-15T14:49:40.826Z"
   },
   {
    "duration": 60,
    "start_time": "2022-12-15T14:49:40.876Z"
   },
   {
    "duration": 20,
    "start_time": "2022-12-15T14:49:40.938Z"
   },
   {
    "duration": 4,
    "start_time": "2022-12-15T14:49:40.960Z"
   },
   {
    "duration": 32,
    "start_time": "2022-12-15T14:49:40.965Z"
   },
   {
    "duration": 14,
    "start_time": "2022-12-15T14:49:40.999Z"
   },
   {
    "duration": 13,
    "start_time": "2022-12-15T14:49:41.015Z"
   },
   {
    "duration": 22,
    "start_time": "2022-12-15T14:49:41.030Z"
   },
   {
    "duration": 17,
    "start_time": "2022-12-15T14:49:41.053Z"
   },
   {
    "duration": 11,
    "start_time": "2022-12-15T14:49:41.071Z"
   },
   {
    "duration": 19,
    "start_time": "2022-12-15T14:49:41.084Z"
   },
   {
    "duration": 14,
    "start_time": "2022-12-15T14:49:41.105Z"
   },
   {
    "duration": 21,
    "start_time": "2022-12-15T14:49:41.120Z"
   },
   {
    "duration": 11,
    "start_time": "2022-12-15T14:49:41.142Z"
   },
   {
    "duration": 15,
    "start_time": "2022-12-15T14:49:41.155Z"
   },
   {
    "duration": 22,
    "start_time": "2022-12-15T14:49:41.172Z"
   },
   {
    "duration": 24,
    "start_time": "2022-12-15T14:49:41.196Z"
   },
   {
    "duration": 16,
    "start_time": "2022-12-15T14:49:41.222Z"
   },
   {
    "duration": 28,
    "start_time": "2022-12-15T14:49:41.242Z"
   },
   {
    "duration": 11,
    "start_time": "2022-12-15T14:49:41.272Z"
   },
   {
    "duration": 12,
    "start_time": "2022-12-15T14:49:41.285Z"
   },
   {
    "duration": 27,
    "start_time": "2022-12-15T14:49:41.298Z"
   },
   {
    "duration": 22,
    "start_time": "2022-12-15T14:49:41.327Z"
   },
   {
    "duration": 19,
    "start_time": "2022-12-15T14:49:41.350Z"
   },
   {
    "duration": 19,
    "start_time": "2022-12-15T14:49:41.370Z"
   },
   {
    "duration": 6,
    "start_time": "2022-12-15T14:49:41.391Z"
   },
   {
    "duration": 34,
    "start_time": "2022-12-15T14:49:41.399Z"
   },
   {
    "duration": 6,
    "start_time": "2022-12-15T14:49:41.435Z"
   },
   {
    "duration": 12,
    "start_time": "2022-12-15T14:49:41.442Z"
   },
   {
    "duration": 9,
    "start_time": "2022-12-15T14:49:41.455Z"
   },
   {
    "duration": 1935,
    "start_time": "2022-12-15T14:49:41.466Z"
   },
   {
    "duration": 3,
    "start_time": "2022-12-15T14:49:43.402Z"
   },
   {
    "duration": 32404,
    "start_time": "2022-12-15T14:49:43.408Z"
   },
   {
    "duration": 35,
    "start_time": "2022-12-15T14:50:15.814Z"
   },
   {
    "duration": 26,
    "start_time": "2022-12-15T14:50:15.851Z"
   },
   {
    "duration": 29,
    "start_time": "2022-12-15T14:50:15.879Z"
   },
   {
    "duration": 1026,
    "start_time": "2022-12-15T14:50:15.910Z"
   },
   {
    "duration": 29,
    "start_time": "2022-12-15T14:50:16.938Z"
   },
   {
    "duration": 3,
    "start_time": "2022-12-15T14:50:16.969Z"
   },
   {
    "duration": 40,
    "start_time": "2022-12-15T14:50:16.974Z"
   },
   {
    "duration": 979,
    "start_time": "2022-12-15T14:50:17.016Z"
   },
   {
    "duration": 26,
    "start_time": "2022-12-15T14:50:17.997Z"
   },
   {
    "duration": 20,
    "start_time": "2022-12-15T14:50:18.024Z"
   },
   {
    "duration": 37,
    "start_time": "2022-12-15T14:50:18.045Z"
   },
   {
    "duration": 1341,
    "start_time": "2022-12-15T14:50:18.084Z"
   },
   {
    "duration": 38,
    "start_time": "2022-12-15T14:50:19.427Z"
   },
   {
    "duration": 11,
    "start_time": "2022-12-15T14:50:19.467Z"
   },
   {
    "duration": 26,
    "start_time": "2022-12-15T14:50:19.480Z"
   },
   {
    "duration": 602,
    "start_time": "2022-12-15T14:50:19.507Z"
   },
   {
    "duration": 24,
    "start_time": "2022-12-15T14:50:20.111Z"
   },
   {
    "duration": 1248,
    "start_time": "2022-12-15T14:50:20.137Z"
   },
   {
    "duration": 226,
    "start_time": "2022-12-15T14:50:21.387Z"
   },
   {
    "duration": 6,
    "start_time": "2022-12-15T14:50:21.615Z"
   },
   {
    "duration": 236,
    "start_time": "2022-12-15T14:50:21.623Z"
   },
   {
    "duration": 172,
    "start_time": "2022-12-15T14:50:21.860Z"
   },
   {
    "duration": 4360,
    "start_time": "2022-12-15T14:50:22.038Z"
   },
   {
    "duration": 3,
    "start_time": "2022-12-15T14:50:26.400Z"
   },
   {
    "duration": 18,
    "start_time": "2022-12-15T14:50:26.405Z"
   },
   {
    "duration": 10,
    "start_time": "2022-12-15T14:50:26.424Z"
   },
   {
    "duration": 11,
    "start_time": "2022-12-15T14:50:26.436Z"
   },
   {
    "duration": 48,
    "start_time": "2022-12-15T14:50:26.449Z"
   },
   {
    "duration": 17,
    "start_time": "2022-12-15T14:50:26.504Z"
   },
   {
    "duration": 30,
    "start_time": "2022-12-15T14:50:26.522Z"
   },
   {
    "duration": 5,
    "start_time": "2022-12-15T14:50:26.554Z"
   },
   {
    "duration": 17,
    "start_time": "2022-12-15T14:58:18.868Z"
   },
   {
    "duration": 13,
    "start_time": "2022-12-15T14:58:19.350Z"
   },
   {
    "duration": 48,
    "start_time": "2022-12-15T14:58:19.539Z"
   },
   {
    "duration": 53,
    "start_time": "2022-12-15T14:58:20.784Z"
   },
   {
    "duration": 20,
    "start_time": "2022-12-15T14:58:20.978Z"
   },
   {
    "duration": 4,
    "start_time": "2022-12-15T14:58:21.438Z"
   },
   {
    "duration": 12,
    "start_time": "2022-12-15T14:58:21.798Z"
   },
   {
    "duration": 6,
    "start_time": "2022-12-15T14:58:22.171Z"
   },
   {
    "duration": 7,
    "start_time": "2022-12-15T14:58:22.789Z"
   },
   {
    "duration": 12,
    "start_time": "2022-12-15T14:58:22.989Z"
   },
   {
    "duration": 19,
    "start_time": "2022-12-15T14:58:23.194Z"
   },
   {
    "duration": 2,
    "start_time": "2022-12-15T14:58:24.180Z"
   },
   {
    "duration": 2,
    "start_time": "2022-12-15T14:58:24.403Z"
   },
   {
    "duration": 2,
    "start_time": "2022-12-15T14:58:24.807Z"
   },
   {
    "duration": 12,
    "start_time": "2022-12-15T14:58:25.856Z"
   },
   {
    "duration": 7,
    "start_time": "2022-12-15T14:58:26.500Z"
   },
   {
    "duration": 8,
    "start_time": "2022-12-15T14:58:27.692Z"
   },
   {
    "duration": 4,
    "start_time": "2022-12-15T14:58:28.443Z"
   },
   {
    "duration": 16,
    "start_time": "2022-12-15T14:58:32.291Z"
   },
   {
    "duration": 8,
    "start_time": "2022-12-15T14:58:36.614Z"
   },
   {
    "duration": 22,
    "start_time": "2022-12-15T14:58:37.967Z"
   },
   {
    "duration": 11,
    "start_time": "2022-12-15T14:58:38.194Z"
   },
   {
    "duration": 2,
    "start_time": "2022-12-15T14:58:38.826Z"
   },
   {
    "duration": 20,
    "start_time": "2022-12-15T14:58:39.048Z"
   },
   {
    "duration": 7,
    "start_time": "2022-12-15T14:58:39.420Z"
   },
   {
    "duration": 10,
    "start_time": "2022-12-15T14:58:39.820Z"
   },
   {
    "duration": 11,
    "start_time": "2022-12-15T14:58:40.246Z"
   },
   {
    "duration": 2,
    "start_time": "2022-12-15T14:58:40.468Z"
   },
   {
    "duration": 20,
    "start_time": "2022-12-15T14:58:40.684Z"
   },
   {
    "duration": 7,
    "start_time": "2022-12-15T14:58:40.920Z"
   },
   {
    "duration": 6,
    "start_time": "2022-12-15T14:58:41.503Z"
   },
   {
    "duration": 6,
    "start_time": "2022-12-15T14:58:42.064Z"
   },
   {
    "duration": 1930,
    "start_time": "2022-12-15T14:58:48.421Z"
   },
   {
    "duration": 2,
    "start_time": "2022-12-15T14:59:13.653Z"
   },
   {
    "duration": 32671,
    "start_time": "2022-12-15T14:59:15.505Z"
   },
   {
    "duration": 1857,
    "start_time": "2022-12-15T14:59:50.068Z"
   },
   {
    "duration": 61935,
    "start_time": "2022-12-15T15:04:25.074Z"
   },
   {
    "duration": 33528,
    "start_time": "2022-12-15T15:10:59.359Z"
   },
   {
    "duration": 2,
    "start_time": "2022-12-15T15:11:57.848Z"
   },
   {
    "duration": 42827,
    "start_time": "2022-12-15T15:14:25.817Z"
   },
   {
    "duration": 43994,
    "start_time": "2022-12-15T15:20:05.728Z"
   },
   {
    "duration": 2,
    "start_time": "2022-12-15T15:20:49.725Z"
   },
   {
    "duration": 115,
    "start_time": "2022-12-15T15:21:51.611Z"
   },
   {
    "duration": 11,
    "start_time": "2022-12-15T15:25:16.282Z"
   },
   {
    "duration": 83,
    "start_time": "2022-12-15T15:28:52.061Z"
   },
   {
    "duration": 2,
    "start_time": "2022-12-15T15:31:55.774Z"
   },
   {
    "duration": 3,
    "start_time": "2022-12-15T15:31:58.314Z"
   },
   {
    "duration": 2,
    "start_time": "2022-12-15T15:32:55.072Z"
   },
   {
    "duration": 2,
    "start_time": "2022-12-15T15:37:20.274Z"
   },
   {
    "duration": 3,
    "start_time": "2022-12-15T15:37:34.322Z"
   },
   {
    "duration": 4,
    "start_time": "2022-12-15T15:37:46.006Z"
   },
   {
    "duration": 3,
    "start_time": "2022-12-15T15:37:53.611Z"
   },
   {
    "duration": 3,
    "start_time": "2022-12-15T15:38:10.832Z"
   },
   {
    "duration": 1843,
    "start_time": "2022-12-15T15:39:08.866Z"
   },
   {
    "duration": 45,
    "start_time": "2022-12-15T15:44:55.302Z"
   },
   {
    "duration": 44,
    "start_time": "2022-12-15T15:49:39.886Z"
   },
   {
    "duration": 1865,
    "start_time": "2022-12-15T15:50:00.332Z"
   },
   {
    "duration": 44070,
    "start_time": "2022-12-15T15:50:14.314Z"
   },
   {
    "duration": 3,
    "start_time": "2022-12-15T15:54:06.646Z"
   },
   {
    "duration": 57,
    "start_time": "2022-12-15T15:55:33.480Z"
   },
   {
    "duration": 3,
    "start_time": "2022-12-15T15:56:02.390Z"
   },
   {
    "duration": 3545,
    "start_time": "2022-12-15T15:59:03.069Z"
   },
   {
    "duration": 4518,
    "start_time": "2022-12-15T15:59:08.759Z"
   },
   {
    "duration": 2195,
    "start_time": "2022-12-15T15:59:13.279Z"
   },
   {
    "duration": 5,
    "start_time": "2022-12-15T15:59:16.400Z"
   },
   {
    "duration": 48,
    "start_time": "2022-12-15T15:59:59.832Z"
   },
   {
    "duration": 3,
    "start_time": "2022-12-15T16:06:54.386Z"
   },
   {
    "duration": 1828,
    "start_time": "2022-12-15T16:09:34.235Z"
   },
   {
    "duration": 2,
    "start_time": "2022-12-15T16:09:53.287Z"
   },
   {
    "duration": 104,
    "start_time": "2022-12-15T16:12:04.714Z"
   },
   {
    "duration": 31,
    "start_time": "2022-12-15T16:21:52.994Z"
   },
   {
    "duration": 36,
    "start_time": "2022-12-15T16:22:32.278Z"
   },
   {
    "duration": 36,
    "start_time": "2022-12-15T16:23:31.422Z"
   },
   {
    "duration": 25,
    "start_time": "2022-12-15T16:24:01.591Z"
   },
   {
    "duration": 23,
    "start_time": "2022-12-15T16:24:27.543Z"
   },
   {
    "duration": 1797,
    "start_time": "2022-12-15T16:24:59.187Z"
   },
   {
    "duration": 4649,
    "start_time": "2022-12-15T16:25:05.202Z"
   },
   {
    "duration": 2211,
    "start_time": "2022-12-15T16:25:09.853Z"
   },
   {
    "duration": 4,
    "start_time": "2022-12-15T16:25:12.066Z"
   },
   {
    "duration": 21,
    "start_time": "2022-12-15T16:25:12.073Z"
   },
   {
    "duration": 14,
    "start_time": "2022-12-15T16:25:12.096Z"
   },
   {
    "duration": 15,
    "start_time": "2022-12-15T16:25:12.111Z"
   },
   {
    "duration": 11,
    "start_time": "2022-12-15T16:25:12.128Z"
   },
   {
    "duration": 60,
    "start_time": "2022-12-15T16:25:12.141Z"
   },
   {
    "duration": 4,
    "start_time": "2022-12-15T16:25:12.203Z"
   },
   {
    "duration": 29,
    "start_time": "2022-12-15T16:25:12.210Z"
   },
   {
    "duration": 22,
    "start_time": "2022-12-15T16:25:12.241Z"
   },
   {
    "duration": 62,
    "start_time": "2022-12-15T16:25:12.266Z"
   },
   {
    "duration": 61,
    "start_time": "2022-12-15T16:25:12.330Z"
   },
   {
    "duration": 47,
    "start_time": "2022-12-15T16:25:12.393Z"
   },
   {
    "duration": 26,
    "start_time": "2022-12-15T16:25:12.445Z"
   },
   {
    "duration": 59,
    "start_time": "2022-12-15T16:25:12.473Z"
   },
   {
    "duration": 4517,
    "start_time": "2022-12-15T16:25:19.012Z"
   },
   {
    "duration": 2370,
    "start_time": "2022-12-15T16:25:23.531Z"
   },
   {
    "duration": 1251,
    "start_time": "2022-12-15T16:25:25.904Z"
   },
   {
    "duration": 118,
    "start_time": "2022-12-15T16:25:27.158Z"
   },
   {
    "duration": 4,
    "start_time": "2022-12-15T16:25:27.278Z"
   },
   {
    "duration": 52,
    "start_time": "2022-12-15T16:25:27.284Z"
   },
   {
    "duration": 3,
    "start_time": "2022-12-15T16:25:27.338Z"
   },
   {
    "duration": 72,
    "start_time": "2022-12-15T16:25:27.343Z"
   },
   {
    "duration": 6,
    "start_time": "2022-12-15T16:25:27.417Z"
   },
   {
    "duration": 29,
    "start_time": "2022-12-15T16:25:27.426Z"
   },
   {
    "duration": 14,
    "start_time": "2022-12-15T16:25:27.457Z"
   },
   {
    "duration": 45,
    "start_time": "2022-12-15T16:25:27.474Z"
   },
   {
    "duration": 63,
    "start_time": "2022-12-15T16:25:27.521Z"
   },
   {
    "duration": 21,
    "start_time": "2022-12-15T16:25:27.585Z"
   },
   {
    "duration": 4,
    "start_time": "2022-12-15T16:25:27.608Z"
   },
   {
    "duration": 11,
    "start_time": "2022-12-15T16:25:27.636Z"
   },
   {
    "duration": 15,
    "start_time": "2022-12-15T16:25:27.649Z"
   },
   {
    "duration": 18,
    "start_time": "2022-12-15T16:25:27.666Z"
   },
   {
    "duration": 25,
    "start_time": "2022-12-15T16:25:27.686Z"
   },
   {
    "duration": 15,
    "start_time": "2022-12-15T16:25:27.713Z"
   },
   {
    "duration": 6,
    "start_time": "2022-12-15T16:25:27.730Z"
   },
   {
    "duration": 10,
    "start_time": "2022-12-15T16:25:27.738Z"
   },
   {
    "duration": 12,
    "start_time": "2022-12-15T16:25:27.749Z"
   },
   {
    "duration": 31,
    "start_time": "2022-12-15T16:25:27.763Z"
   },
   {
    "duration": 22,
    "start_time": "2022-12-15T16:25:27.796Z"
   },
   {
    "duration": 18,
    "start_time": "2022-12-15T16:25:27.820Z"
   },
   {
    "duration": 21,
    "start_time": "2022-12-15T16:25:27.839Z"
   },
   {
    "duration": 17,
    "start_time": "2022-12-15T16:25:27.864Z"
   },
   {
    "duration": 11,
    "start_time": "2022-12-15T16:25:27.883Z"
   },
   {
    "duration": 33,
    "start_time": "2022-12-15T16:25:27.895Z"
   },
   {
    "duration": 11,
    "start_time": "2022-12-15T16:25:27.930Z"
   },
   {
    "duration": 4,
    "start_time": "2022-12-15T16:25:27.943Z"
   },
   {
    "duration": 26,
    "start_time": "2022-12-15T16:25:27.949Z"
   },
   {
    "duration": 16,
    "start_time": "2022-12-15T16:25:27.977Z"
   },
   {
    "duration": 29,
    "start_time": "2022-12-15T16:25:27.995Z"
   },
   {
    "duration": 30,
    "start_time": "2022-12-15T16:25:28.026Z"
   },
   {
    "duration": 18,
    "start_time": "2022-12-15T16:25:28.058Z"
   },
   {
    "duration": 32,
    "start_time": "2022-12-15T16:25:28.077Z"
   },
   {
    "duration": 19,
    "start_time": "2022-12-15T16:25:28.110Z"
   },
   {
    "duration": 7,
    "start_time": "2022-12-15T16:25:28.131Z"
   },
   {
    "duration": 12,
    "start_time": "2022-12-15T16:25:28.140Z"
   },
   {
    "duration": 1877,
    "start_time": "2022-12-15T16:25:28.154Z"
   },
   {
    "duration": 3,
    "start_time": "2022-12-15T16:25:30.035Z"
   },
   {
    "duration": 118,
    "start_time": "2022-12-15T16:27:01.700Z"
   },
   {
    "duration": 0,
    "start_time": "2022-12-15T16:27:01.822Z"
   },
   {
    "duration": 0,
    "start_time": "2022-12-15T16:27:01.824Z"
   },
   {
    "duration": 1,
    "start_time": "2022-12-15T16:27:01.825Z"
   },
   {
    "duration": 0,
    "start_time": "2022-12-15T16:27:01.836Z"
   },
   {
    "duration": 0,
    "start_time": "2022-12-15T16:27:01.837Z"
   },
   {
    "duration": 0,
    "start_time": "2022-12-15T16:27:01.838Z"
   },
   {
    "duration": 0,
    "start_time": "2022-12-15T16:27:01.840Z"
   },
   {
    "duration": 0,
    "start_time": "2022-12-15T16:27:01.842Z"
   },
   {
    "duration": 0,
    "start_time": "2022-12-15T16:27:01.843Z"
   },
   {
    "duration": 0,
    "start_time": "2022-12-15T16:27:01.845Z"
   },
   {
    "duration": 0,
    "start_time": "2022-12-15T16:27:01.846Z"
   },
   {
    "duration": 0,
    "start_time": "2022-12-15T16:27:01.848Z"
   },
   {
    "duration": 0,
    "start_time": "2022-12-15T16:27:01.849Z"
   },
   {
    "duration": 0,
    "start_time": "2022-12-15T16:27:01.851Z"
   },
   {
    "duration": 1,
    "start_time": "2022-12-15T16:27:01.852Z"
   },
   {
    "duration": 0,
    "start_time": "2022-12-15T16:27:01.854Z"
   },
   {
    "duration": 0,
    "start_time": "2022-12-15T16:27:01.855Z"
   },
   {
    "duration": 0,
    "start_time": "2022-12-15T16:27:01.857Z"
   },
   {
    "duration": 0,
    "start_time": "2022-12-15T16:27:01.858Z"
   },
   {
    "duration": 0,
    "start_time": "2022-12-15T16:27:01.859Z"
   },
   {
    "duration": 0,
    "start_time": "2022-12-15T16:27:01.861Z"
   },
   {
    "duration": 0,
    "start_time": "2022-12-15T16:27:01.862Z"
   },
   {
    "duration": 0,
    "start_time": "2022-12-15T16:27:01.864Z"
   },
   {
    "duration": 0,
    "start_time": "2022-12-15T16:27:01.865Z"
   },
   {
    "duration": 0,
    "start_time": "2022-12-15T16:27:01.867Z"
   },
   {
    "duration": 0,
    "start_time": "2022-12-15T16:27:01.868Z"
   },
   {
    "duration": 1,
    "start_time": "2022-12-15T16:27:01.869Z"
   },
   {
    "duration": 0,
    "start_time": "2022-12-15T16:27:01.871Z"
   },
   {
    "duration": 0,
    "start_time": "2022-12-15T16:27:01.872Z"
   },
   {
    "duration": 0,
    "start_time": "2022-12-15T16:27:01.873Z"
   },
   {
    "duration": 0,
    "start_time": "2022-12-15T16:27:01.874Z"
   },
   {
    "duration": 0,
    "start_time": "2022-12-15T16:27:01.936Z"
   },
   {
    "duration": 0,
    "start_time": "2022-12-15T16:27:01.937Z"
   },
   {
    "duration": 0,
    "start_time": "2022-12-15T16:27:01.938Z"
   },
   {
    "duration": 0,
    "start_time": "2022-12-15T16:27:01.939Z"
   },
   {
    "duration": 0,
    "start_time": "2022-12-15T16:27:01.941Z"
   },
   {
    "duration": 0,
    "start_time": "2022-12-15T16:27:01.942Z"
   },
   {
    "duration": 0,
    "start_time": "2022-12-15T16:27:01.943Z"
   },
   {
    "duration": 0,
    "start_time": "2022-12-15T16:27:01.944Z"
   },
   {
    "duration": 0,
    "start_time": "2022-12-15T16:27:01.945Z"
   },
   {
    "duration": 0,
    "start_time": "2022-12-15T16:27:01.946Z"
   },
   {
    "duration": 0,
    "start_time": "2022-12-15T16:27:01.947Z"
   },
   {
    "duration": 0,
    "start_time": "2022-12-15T16:27:01.948Z"
   },
   {
    "duration": 0,
    "start_time": "2022-12-15T16:27:01.949Z"
   },
   {
    "duration": 0,
    "start_time": "2022-12-15T16:27:01.950Z"
   },
   {
    "duration": 0,
    "start_time": "2022-12-15T16:27:01.951Z"
   },
   {
    "duration": 0,
    "start_time": "2022-12-15T16:27:01.952Z"
   },
   {
    "duration": 0,
    "start_time": "2022-12-15T16:27:01.953Z"
   },
   {
    "duration": 0,
    "start_time": "2022-12-15T16:27:01.954Z"
   },
   {
    "duration": 0,
    "start_time": "2022-12-15T16:27:01.955Z"
   },
   {
    "duration": 0,
    "start_time": "2022-12-15T16:27:01.956Z"
   },
   {
    "duration": 0,
    "start_time": "2022-12-15T16:27:01.957Z"
   },
   {
    "duration": 0,
    "start_time": "2022-12-15T16:27:01.958Z"
   },
   {
    "duration": 0,
    "start_time": "2022-12-15T16:27:01.959Z"
   },
   {
    "duration": 0,
    "start_time": "2022-12-15T16:27:01.961Z"
   },
   {
    "duration": 0,
    "start_time": "2022-12-15T16:27:01.961Z"
   },
   {
    "duration": 0,
    "start_time": "2022-12-15T16:27:01.962Z"
   },
   {
    "duration": 0,
    "start_time": "2022-12-15T16:27:01.963Z"
   },
   {
    "duration": 0,
    "start_time": "2022-12-15T16:27:01.964Z"
   },
   {
    "duration": 0,
    "start_time": "2022-12-15T16:27:01.965Z"
   },
   {
    "duration": 0,
    "start_time": "2022-12-15T16:27:01.966Z"
   },
   {
    "duration": 0,
    "start_time": "2022-12-15T16:27:01.967Z"
   },
   {
    "duration": 0,
    "start_time": "2022-12-15T16:27:01.968Z"
   },
   {
    "duration": 0,
    "start_time": "2022-12-15T16:27:01.969Z"
   },
   {
    "duration": 0,
    "start_time": "2022-12-15T16:27:01.970Z"
   },
   {
    "duration": 0,
    "start_time": "2022-12-15T16:27:01.971Z"
   },
   {
    "duration": 0,
    "start_time": "2022-12-15T16:27:01.972Z"
   },
   {
    "duration": 0,
    "start_time": "2022-12-15T16:27:02.036Z"
   },
   {
    "duration": 0,
    "start_time": "2022-12-15T16:27:02.038Z"
   },
   {
    "duration": 0,
    "start_time": "2022-12-15T16:27:02.039Z"
   },
   {
    "duration": 0,
    "start_time": "2022-12-15T16:27:02.040Z"
   },
   {
    "duration": 0,
    "start_time": "2022-12-15T16:27:02.041Z"
   },
   {
    "duration": 0,
    "start_time": "2022-12-15T16:27:02.042Z"
   },
   {
    "duration": 0,
    "start_time": "2022-12-15T16:27:02.043Z"
   },
   {
    "duration": 0,
    "start_time": "2022-12-15T16:27:02.045Z"
   },
   {
    "duration": 0,
    "start_time": "2022-12-15T16:27:02.046Z"
   },
   {
    "duration": 4528,
    "start_time": "2022-12-15T16:37:42.709Z"
   },
   {
    "duration": 2234,
    "start_time": "2022-12-15T16:37:47.239Z"
   },
   {
    "duration": 4,
    "start_time": "2022-12-15T16:37:49.475Z"
   },
   {
    "duration": 12,
    "start_time": "2022-12-15T16:37:49.481Z"
   },
   {
    "duration": 7,
    "start_time": "2022-12-15T16:37:49.495Z"
   },
   {
    "duration": 8,
    "start_time": "2022-12-15T16:37:49.504Z"
   },
   {
    "duration": 23,
    "start_time": "2022-12-15T16:37:49.513Z"
   },
   {
    "duration": 69,
    "start_time": "2022-12-15T16:37:49.538Z"
   },
   {
    "duration": 4,
    "start_time": "2022-12-15T16:37:49.609Z"
   },
   {
    "duration": 14,
    "start_time": "2022-12-15T16:37:51.944Z"
   },
   {
    "duration": 17,
    "start_time": "2022-12-15T16:37:52.570Z"
   },
   {
    "duration": 40,
    "start_time": "2022-12-15T16:37:52.759Z"
   },
   {
    "duration": 50,
    "start_time": "2022-12-15T16:37:53.299Z"
   },
   {
    "duration": 19,
    "start_time": "2022-12-15T16:37:53.497Z"
   },
   {
    "duration": 5,
    "start_time": "2022-12-15T16:37:53.865Z"
   },
   {
    "duration": 12,
    "start_time": "2022-12-15T16:37:54.250Z"
   },
   {
    "duration": 7,
    "start_time": "2022-12-15T16:37:54.630Z"
   },
   {
    "duration": 8,
    "start_time": "2022-12-15T16:37:55.251Z"
   },
   {
    "duration": 11,
    "start_time": "2022-12-15T16:37:55.439Z"
   },
   {
    "duration": 12,
    "start_time": "2022-12-15T16:37:55.624Z"
   },
   {
    "duration": 2,
    "start_time": "2022-12-15T16:37:56.567Z"
   },
   {
    "duration": 3,
    "start_time": "2022-12-15T16:37:56.754Z"
   },
   {
    "duration": 2,
    "start_time": "2022-12-15T16:37:57.155Z"
   },
   {
    "duration": 12,
    "start_time": "2022-12-15T16:37:58.142Z"
   },
   {
    "duration": 5,
    "start_time": "2022-12-15T16:37:58.722Z"
   },
   {
    "duration": 9,
    "start_time": "2022-12-15T16:37:59.912Z"
   },
   {
    "duration": 6,
    "start_time": "2022-12-15T16:38:00.524Z"
   },
   {
    "duration": 16,
    "start_time": "2022-12-15T16:38:02.129Z"
   },
   {
    "duration": 9,
    "start_time": "2022-12-15T16:38:02.330Z"
   },
   {
    "duration": 20,
    "start_time": "2022-12-15T16:38:03.176Z"
   },
   {
    "duration": 13,
    "start_time": "2022-12-15T16:38:03.379Z"
   },
   {
    "duration": 3,
    "start_time": "2022-12-15T16:38:03.588Z"
   },
   {
    "duration": 19,
    "start_time": "2022-12-15T16:38:03.833Z"
   },
   {
    "duration": 7,
    "start_time": "2022-12-15T16:38:04.288Z"
   },
   {
    "duration": 11,
    "start_time": "2022-12-15T16:38:04.753Z"
   },
   {
    "duration": 11,
    "start_time": "2022-12-15T16:38:05.127Z"
   },
   {
    "duration": 2,
    "start_time": "2022-12-15T16:38:05.306Z"
   },
   {
    "duration": 20,
    "start_time": "2022-12-15T16:38:05.617Z"
   },
   {
    "duration": 7,
    "start_time": "2022-12-15T16:38:05.870Z"
   },
   {
    "duration": 5,
    "start_time": "2022-12-15T16:38:06.109Z"
   },
   {
    "duration": 27,
    "start_time": "2022-12-15T16:38:06.116Z"
   },
   {
    "duration": 1772,
    "start_time": "2022-12-15T16:38:07.089Z"
   },
   {
    "duration": 2,
    "start_time": "2022-12-15T16:38:08.863Z"
   },
   {
    "duration": 44278,
    "start_time": "2022-12-15T16:38:09.233Z"
   },
   {
    "duration": 3,
    "start_time": "2022-12-15T16:38:53.513Z"
   },
   {
    "duration": 3,
    "start_time": "2022-12-15T16:38:53.640Z"
   },
   {
    "duration": 112,
    "start_time": "2022-12-15T16:38:53.646Z"
   },
   {
    "duration": 14,
    "start_time": "2022-12-15T16:38:53.760Z"
   },
   {
    "duration": 9,
    "start_time": "2022-12-15T16:38:53.775Z"
   },
   {
    "duration": 17,
    "start_time": "2022-12-15T16:38:53.785Z"
   },
   {
    "duration": 19,
    "start_time": "2022-12-15T16:38:53.803Z"
   },
   {
    "duration": 8,
    "start_time": "2022-12-15T16:38:53.825Z"
   },
   {
    "duration": 12,
    "start_time": "2022-12-15T16:38:53.835Z"
   },
   {
    "duration": 12,
    "start_time": "2022-12-15T16:38:53.848Z"
   },
   {
    "duration": 1876,
    "start_time": "2022-12-15T16:38:53.862Z"
   },
   {
    "duration": 99,
    "start_time": "2022-12-15T16:38:55.740Z"
   },
   {
    "duration": 2,
    "start_time": "2022-12-15T16:39:02.674Z"
   },
   {
    "duration": 2,
    "start_time": "2022-12-15T16:39:03.852Z"
   },
   {
    "duration": 3,
    "start_time": "2022-12-15T16:39:04.216Z"
   },
   {
    "duration": 3,
    "start_time": "2022-12-15T16:39:04.612Z"
   },
   {
    "duration": 2,
    "start_time": "2022-12-15T16:39:04.806Z"
   },
   {
    "duration": 2,
    "start_time": "2022-12-15T16:39:04.991Z"
   },
   {
    "duration": 2,
    "start_time": "2022-12-15T16:39:05.317Z"
   },
   {
    "duration": 2,
    "start_time": "2022-12-15T16:39:06.057Z"
   },
   {
    "duration": 2,
    "start_time": "2022-12-15T16:39:06.264Z"
   },
   {
    "duration": 1924,
    "start_time": "2022-12-15T16:39:13.678Z"
   },
   {
    "duration": 2,
    "start_time": "2022-12-15T16:39:15.906Z"
   },
   {
    "duration": 43020,
    "start_time": "2022-12-15T16:39:18.507Z"
   },
   {
    "duration": 3,
    "start_time": "2022-12-15T16:40:01.536Z"
   },
   {
    "duration": 97,
    "start_time": "2022-12-15T16:40:01.540Z"
   },
   {
    "duration": 97,
    "start_time": "2022-12-15T16:40:01.640Z"
   },
   {
    "duration": 43,
    "start_time": "2022-12-15T16:40:01.739Z"
   },
   {
    "duration": 31,
    "start_time": "2022-12-15T16:40:01.784Z"
   },
   {
    "duration": 33,
    "start_time": "2022-12-15T16:40:18.142Z"
   },
   {
    "duration": 1812,
    "start_time": "2022-12-15T16:40:24.799Z"
   },
   {
    "duration": 2311,
    "start_time": "2022-12-15T16:41:19.045Z"
   },
   {
    "duration": 29,
    "start_time": "2022-12-15T16:41:59.019Z"
   },
   {
    "duration": 1867,
    "start_time": "2022-12-15T16:42:13.656Z"
   },
   {
    "duration": 1898,
    "start_time": "2022-12-15T16:43:42.705Z"
   },
   {
    "duration": 2393,
    "start_time": "2022-12-15T16:44:13.845Z"
   },
   {
    "duration": 48,
    "start_time": "2022-12-15T16:50:18.370Z"
   },
   {
    "duration": 38,
    "start_time": "2022-12-15T16:56:43.626Z"
   },
   {
    "duration": 2308,
    "start_time": "2022-12-15T16:56:43.666Z"
   },
   {
    "duration": 96276,
    "start_time": "2022-12-15T16:56:45.976Z"
   },
   {
    "duration": 84,
    "start_time": "2022-12-15T16:58:22.254Z"
   },
   {
    "duration": 4699,
    "start_time": "2022-12-15T16:58:22.341Z"
   },
   {
    "duration": 2248,
    "start_time": "2022-12-15T16:58:27.043Z"
   },
   {
    "duration": 3,
    "start_time": "2022-12-15T16:58:29.294Z"
   },
   {
    "duration": 24,
    "start_time": "2022-12-15T16:58:29.298Z"
   },
   {
    "duration": 16,
    "start_time": "2022-12-15T16:58:29.324Z"
   },
   {
    "duration": 14,
    "start_time": "2022-12-15T16:58:29.342Z"
   },
   {
    "duration": 10,
    "start_time": "2022-12-15T16:58:29.357Z"
   },
   {
    "duration": 51,
    "start_time": "2022-12-15T16:58:29.369Z"
   },
   {
    "duration": 4,
    "start_time": "2022-12-15T16:58:29.422Z"
   },
   {
    "duration": 24,
    "start_time": "2022-12-15T16:58:29.428Z"
   },
   {
    "duration": 16,
    "start_time": "2022-12-15T16:58:52.439Z"
   },
   {
    "duration": 40,
    "start_time": "2022-12-15T16:58:52.868Z"
   },
   {
    "duration": 51,
    "start_time": "2022-12-15T16:58:53.376Z"
   },
   {
    "duration": 19,
    "start_time": "2022-12-15T16:58:53.572Z"
   },
   {
    "duration": 5,
    "start_time": "2022-12-15T16:58:53.945Z"
   },
   {
    "duration": 11,
    "start_time": "2022-12-15T16:58:54.339Z"
   },
   {
    "duration": 6,
    "start_time": "2022-12-15T16:58:55.362Z"
   },
   {
    "duration": 7,
    "start_time": "2022-12-15T16:58:55.930Z"
   },
   {
    "duration": 11,
    "start_time": "2022-12-15T16:58:56.102Z"
   },
   {
    "duration": 11,
    "start_time": "2022-12-15T16:58:56.289Z"
   },
   {
    "duration": 2,
    "start_time": "2022-12-15T16:58:57.231Z"
   },
   {
    "duration": 2,
    "start_time": "2022-12-15T16:58:57.406Z"
   },
   {
    "duration": 2,
    "start_time": "2022-12-15T16:58:58.273Z"
   },
   {
    "duration": 12,
    "start_time": "2022-12-15T16:58:58.734Z"
   },
   {
    "duration": 7,
    "start_time": "2022-12-15T16:58:59.323Z"
   },
   {
    "duration": 11,
    "start_time": "2022-12-15T16:59:00.596Z"
   },
   {
    "duration": 5,
    "start_time": "2022-12-15T16:59:01.232Z"
   },
   {
    "duration": 17,
    "start_time": "2022-12-15T16:59:02.944Z"
   },
   {
    "duration": 9,
    "start_time": "2022-12-15T16:59:03.164Z"
   },
   {
    "duration": 22,
    "start_time": "2022-12-15T16:59:04.487Z"
   },
   {
    "duration": 13,
    "start_time": "2022-12-15T16:59:04.704Z"
   },
   {
    "duration": 2,
    "start_time": "2022-12-15T16:59:04.956Z"
   },
   {
    "duration": 20,
    "start_time": "2022-12-15T16:59:05.484Z"
   },
   {
    "duration": 6,
    "start_time": "2022-12-15T16:59:06.232Z"
   },
   {
    "duration": 10,
    "start_time": "2022-12-15T16:59:07.070Z"
   },
   {
    "duration": 10,
    "start_time": "2022-12-15T16:59:07.986Z"
   },
   {
    "duration": 2,
    "start_time": "2022-12-15T16:59:08.257Z"
   },
   {
    "duration": 20,
    "start_time": "2022-12-15T16:59:08.532Z"
   },
   {
    "duration": 8,
    "start_time": "2022-12-15T16:59:09.026Z"
   },
   {
    "duration": 6,
    "start_time": "2022-12-15T16:59:09.436Z"
   },
   {
    "duration": 7,
    "start_time": "2022-12-15T16:59:10.034Z"
   },
   {
    "duration": 1939,
    "start_time": "2022-12-15T16:59:12.070Z"
   },
   {
    "duration": 1900,
    "start_time": "2022-12-15T16:59:15.124Z"
   },
   {
    "duration": 9,
    "start_time": "2022-12-15T16:59:17.026Z"
   },
   {
    "duration": 44018,
    "start_time": "2022-12-15T16:59:17.037Z"
   },
   {
    "duration": 3,
    "start_time": "2022-12-15T17:00:01.057Z"
   },
   {
    "duration": 183,
    "start_time": "2022-12-15T17:00:01.062Z"
   },
   {
    "duration": 105,
    "start_time": "2022-12-15T17:00:01.247Z"
   },
   {
    "duration": 48,
    "start_time": "2022-12-15T17:00:01.354Z"
   },
   {
    "duration": 73,
    "start_time": "2022-12-15T17:00:01.404Z"
   },
   {
    "duration": 65,
    "start_time": "2022-12-15T17:00:01.479Z"
   },
   {
    "duration": 52,
    "start_time": "2022-12-15T17:00:01.545Z"
   },
   {
    "duration": 64,
    "start_time": "2022-12-15T17:00:01.599Z"
   },
   {
    "duration": 38,
    "start_time": "2022-12-15T17:00:01.664Z"
   },
   {
    "duration": 20,
    "start_time": "2022-12-15T17:00:01.703Z"
   },
   {
    "duration": 39,
    "start_time": "2022-12-15T17:00:01.725Z"
   },
   {
    "duration": 1999,
    "start_time": "2022-12-15T17:00:01.766Z"
   },
   {
    "duration": 2,
    "start_time": "2022-12-15T17:00:03.767Z"
   },
   {
    "duration": 43985,
    "start_time": "2022-12-15T17:00:03.770Z"
   },
   {
    "duration": 2,
    "start_time": "2022-12-15T17:00:47.757Z"
   },
   {
    "duration": 178,
    "start_time": "2022-12-15T17:00:47.761Z"
   },
   {
    "duration": 91,
    "start_time": "2022-12-15T17:00:47.946Z"
   },
   {
    "duration": 11,
    "start_time": "2022-12-15T17:00:48.039Z"
   },
   {
    "duration": 17,
    "start_time": "2022-12-15T17:00:48.052Z"
   },
   {
    "duration": 55,
    "start_time": "2022-12-15T17:00:48.070Z"
   },
   {
    "duration": 2324,
    "start_time": "2022-12-15T17:00:48.127Z"
   },
   {
    "duration": 95430,
    "start_time": "2022-12-15T17:00:50.453Z"
   },
   {
    "duration": 2,
    "start_time": "2022-12-15T17:03:50.273Z"
   },
   {
    "duration": 56,
    "start_time": "2022-12-15T17:04:26.898Z"
   },
   {
    "duration": 15,
    "start_time": "2022-12-15T17:08:08.934Z"
   },
   {
    "duration": 62,
    "start_time": "2022-12-15T17:10:47.776Z"
   },
   {
    "duration": 3,
    "start_time": "2022-12-15T17:12:07.110Z"
   },
   {
    "duration": 66,
    "start_time": "2022-12-15T17:13:29.980Z"
   },
   {
    "duration": 45,
    "start_time": "2022-12-15T18:07:13.033Z"
   },
   {
    "duration": 11,
    "start_time": "2022-12-15T18:07:30.081Z"
   },
   {
    "duration": 2,
    "start_time": "2022-12-15T18:08:12.168Z"
   },
   {
    "duration": 20,
    "start_time": "2022-12-15T18:08:21.832Z"
   },
   {
    "duration": 946,
    "start_time": "2022-12-15T18:16:07.376Z"
   },
   {
    "duration": 3,
    "start_time": "2022-12-15T18:16:54.356Z"
   },
   {
    "duration": 58654,
    "start_time": "2022-12-15T18:19:12.199Z"
   },
   {
    "duration": 58303,
    "start_time": "2022-12-15T18:22:03.680Z"
   },
   {
    "duration": 34273,
    "start_time": "2022-12-15T18:25:20.138Z"
   },
   {
    "duration": 29,
    "start_time": "2022-12-15T18:29:14.920Z"
   },
   {
    "duration": 32,
    "start_time": "2022-12-15T18:39:32.561Z"
   },
   {
    "duration": 2317,
    "start_time": "2022-12-15T18:40:14.245Z"
   },
   {
    "duration": 95752,
    "start_time": "2022-12-15T18:40:55.694Z"
   },
   {
    "duration": 3,
    "start_time": "2022-12-15T18:42:47.757Z"
   },
   {
    "duration": 3,
    "start_time": "2022-12-15T18:42:49.246Z"
   },
   {
    "duration": 69,
    "start_time": "2022-12-15T18:43:13.773Z"
   },
   {
    "duration": 911,
    "start_time": "2022-12-15T18:43:44.729Z"
   },
   {
    "duration": 33547,
    "start_time": "2022-12-15T18:44:23.127Z"
   },
   {
    "duration": 18,
    "start_time": "2022-12-15T18:46:01.397Z"
   },
   {
    "duration": 419,
    "start_time": "2022-12-15T18:46:52.757Z"
   },
   {
    "duration": 99,
    "start_time": "2022-12-15T18:46:55.004Z"
   },
   {
    "duration": 81,
    "start_time": "2022-12-15T18:47:42.706Z"
   },
   {
    "duration": 403,
    "start_time": "2022-12-15T18:48:06.171Z"
   },
   {
    "duration": 102,
    "start_time": "2022-12-15T18:48:08.564Z"
   },
   {
    "duration": 524,
    "start_time": "2022-12-15T18:48:29.538Z"
   },
   {
    "duration": 154,
    "start_time": "2022-12-15T18:48:39.543Z"
   },
   {
    "duration": 411,
    "start_time": "2022-12-15T18:49:12.035Z"
   },
   {
    "duration": 182,
    "start_time": "2022-12-15T18:49:12.449Z"
   },
   {
    "duration": 405,
    "start_time": "2022-12-15T18:49:29.067Z"
   },
   {
    "duration": 94,
    "start_time": "2022-12-15T18:49:29.681Z"
   },
   {
    "duration": 4,
    "start_time": "2022-12-15T18:50:01.763Z"
   },
   {
    "duration": 136,
    "start_time": "2022-12-15T18:50:02.672Z"
   },
   {
    "duration": 5,
    "start_time": "2022-12-15T18:51:35.141Z"
   },
   {
    "duration": 166,
    "start_time": "2022-12-15T18:54:05.738Z"
   },
   {
    "duration": 67,
    "start_time": "2022-12-15T18:56:52.843Z"
   },
   {
    "duration": 4,
    "start_time": "2022-12-15T18:56:58.157Z"
   },
   {
    "duration": 95,
    "start_time": "2022-12-15T18:56:59.416Z"
   },
   {
    "duration": 129,
    "start_time": "2022-12-15T18:57:29.692Z"
   },
   {
    "duration": 3,
    "start_time": "2022-12-15T18:58:15.148Z"
   },
   {
    "duration": 119,
    "start_time": "2022-12-15T18:59:52.581Z"
   },
   {
    "duration": 298,
    "start_time": "2022-12-15T19:00:15.749Z"
   },
   {
    "duration": 46,
    "start_time": "2022-12-15T19:00:51.625Z"
   },
   {
    "duration": 44,
    "start_time": "2022-12-15T19:02:12.725Z"
   },
   {
    "duration": 51,
    "start_time": "2022-12-15T19:02:40.350Z"
   },
   {
    "duration": 4317,
    "start_time": "2022-12-15T19:02:59.617Z"
   },
   {
    "duration": 2094,
    "start_time": "2022-12-15T19:03:03.937Z"
   },
   {
    "duration": 1128,
    "start_time": "2022-12-15T19:03:06.033Z"
   },
   {
    "duration": 96,
    "start_time": "2022-12-15T19:03:07.163Z"
   },
   {
    "duration": 2,
    "start_time": "2022-12-15T19:03:07.261Z"
   },
   {
    "duration": 38,
    "start_time": "2022-12-15T19:03:07.265Z"
   },
   {
    "duration": 2,
    "start_time": "2022-12-15T19:03:07.305Z"
   },
   {
    "duration": 48,
    "start_time": "2022-12-15T19:03:07.308Z"
   },
   {
    "duration": 5,
    "start_time": "2022-12-15T19:03:07.357Z"
   },
   {
    "duration": 22,
    "start_time": "2022-12-15T19:03:07.365Z"
   },
   {
    "duration": 12,
    "start_time": "2022-12-15T19:03:07.389Z"
   },
   {
    "duration": 49,
    "start_time": "2022-12-15T19:03:07.402Z"
   },
   {
    "duration": 48,
    "start_time": "2022-12-15T19:03:07.452Z"
   },
   {
    "duration": 35,
    "start_time": "2022-12-15T19:03:07.501Z"
   },
   {
    "duration": 3,
    "start_time": "2022-12-15T19:03:07.538Z"
   },
   {
    "duration": 15,
    "start_time": "2022-12-15T19:03:07.543Z"
   },
   {
    "duration": 22,
    "start_time": "2022-12-15T19:03:07.560Z"
   },
   {
    "duration": 8,
    "start_time": "2022-12-15T19:03:07.584Z"
   },
   {
    "duration": 12,
    "start_time": "2022-12-15T19:03:07.594Z"
   },
   {
    "duration": 11,
    "start_time": "2022-12-15T19:03:07.607Z"
   },
   {
    "duration": 5,
    "start_time": "2022-12-15T19:03:07.620Z"
   },
   {
    "duration": 10,
    "start_time": "2022-12-15T19:03:07.627Z"
   },
   {
    "duration": 19,
    "start_time": "2022-12-15T19:03:07.639Z"
   },
   {
    "duration": 32,
    "start_time": "2022-12-15T19:03:07.660Z"
   },
   {
    "duration": 25,
    "start_time": "2022-12-15T19:03:07.694Z"
   },
   {
    "duration": 17,
    "start_time": "2022-12-15T19:03:07.721Z"
   },
   {
    "duration": 7,
    "start_time": "2022-12-15T19:03:07.740Z"
   },
   {
    "duration": 17,
    "start_time": "2022-12-15T19:03:07.751Z"
   },
   {
    "duration": 8,
    "start_time": "2022-12-15T19:03:07.770Z"
   },
   {
    "duration": 40,
    "start_time": "2022-12-15T19:03:07.779Z"
   },
   {
    "duration": 11,
    "start_time": "2022-12-15T19:03:07.821Z"
   },
   {
    "duration": 2,
    "start_time": "2022-12-15T19:03:07.835Z"
   },
   {
    "duration": 20,
    "start_time": "2022-12-15T19:03:07.839Z"
   },
   {
    "duration": 9,
    "start_time": "2022-12-15T19:03:07.861Z"
   },
   {
    "duration": 13,
    "start_time": "2022-12-15T19:03:07.872Z"
   },
   {
    "duration": 13,
    "start_time": "2022-12-15T19:03:07.886Z"
   },
   {
    "duration": 3,
    "start_time": "2022-12-15T19:03:07.900Z"
   },
   {
    "duration": 40,
    "start_time": "2022-12-15T19:03:07.905Z"
   },
   {
    "duration": 6,
    "start_time": "2022-12-15T19:03:07.947Z"
   },
   {
    "duration": 7,
    "start_time": "2022-12-15T19:03:07.955Z"
   },
   {
    "duration": 6,
    "start_time": "2022-12-15T19:03:07.963Z"
   },
   {
    "duration": 1748,
    "start_time": "2022-12-15T19:03:07.970Z"
   },
   {
    "duration": 2,
    "start_time": "2022-12-15T19:03:09.720Z"
   },
   {
    "duration": 0,
    "start_time": "2022-12-15T19:06:13.890Z"
   },
   {
    "duration": 0,
    "start_time": "2022-12-15T19:06:13.892Z"
   },
   {
    "duration": 0,
    "start_time": "2022-12-15T19:06:13.893Z"
   },
   {
    "duration": 0,
    "start_time": "2022-12-15T19:06:13.894Z"
   },
   {
    "duration": 0,
    "start_time": "2022-12-15T19:06:13.895Z"
   },
   {
    "duration": 0,
    "start_time": "2022-12-15T19:06:13.896Z"
   },
   {
    "duration": 0,
    "start_time": "2022-12-15T19:06:13.897Z"
   },
   {
    "duration": 0,
    "start_time": "2022-12-15T19:06:13.898Z"
   },
   {
    "duration": 0,
    "start_time": "2022-12-15T19:06:13.899Z"
   },
   {
    "duration": 0,
    "start_time": "2022-12-15T19:06:13.900Z"
   },
   {
    "duration": 0,
    "start_time": "2022-12-15T19:06:13.901Z"
   },
   {
    "duration": 0,
    "start_time": "2022-12-15T19:06:13.903Z"
   },
   {
    "duration": 0,
    "start_time": "2022-12-15T19:06:13.904Z"
   },
   {
    "duration": 0,
    "start_time": "2022-12-15T19:06:13.905Z"
   },
   {
    "duration": 0,
    "start_time": "2022-12-15T19:06:13.906Z"
   },
   {
    "duration": 0,
    "start_time": "2022-12-15T19:06:13.907Z"
   },
   {
    "duration": 0,
    "start_time": "2022-12-15T19:06:13.936Z"
   },
   {
    "duration": 0,
    "start_time": "2022-12-15T19:06:13.937Z"
   },
   {
    "duration": 0,
    "start_time": "2022-12-15T19:06:13.938Z"
   },
   {
    "duration": 0,
    "start_time": "2022-12-15T19:06:13.940Z"
   },
   {
    "duration": 0,
    "start_time": "2022-12-15T19:06:13.941Z"
   },
   {
    "duration": 0,
    "start_time": "2022-12-15T19:06:13.942Z"
   },
   {
    "duration": 0,
    "start_time": "2022-12-15T19:06:13.944Z"
   },
   {
    "duration": 1,
    "start_time": "2022-12-15T19:06:13.944Z"
   },
   {
    "duration": 0,
    "start_time": "2022-12-15T19:06:13.946Z"
   },
   {
    "duration": 0,
    "start_time": "2022-12-15T19:06:13.947Z"
   },
   {
    "duration": 0,
    "start_time": "2022-12-15T19:06:13.948Z"
   },
   {
    "duration": 0,
    "start_time": "2022-12-15T19:06:13.949Z"
   },
   {
    "duration": 0,
    "start_time": "2022-12-15T19:06:13.951Z"
   },
   {
    "duration": 0,
    "start_time": "2022-12-15T19:06:13.952Z"
   },
   {
    "duration": 0,
    "start_time": "2022-12-15T19:06:13.953Z"
   },
   {
    "duration": 0,
    "start_time": "2022-12-15T19:06:13.954Z"
   },
   {
    "duration": 0,
    "start_time": "2022-12-15T19:06:13.955Z"
   },
   {
    "duration": 0,
    "start_time": "2022-12-15T19:06:13.956Z"
   },
   {
    "duration": 0,
    "start_time": "2022-12-15T19:06:13.957Z"
   },
   {
    "duration": 0,
    "start_time": "2022-12-15T19:06:13.958Z"
   },
   {
    "duration": 0,
    "start_time": "2022-12-15T19:06:13.959Z"
   },
   {
    "duration": 0,
    "start_time": "2022-12-15T19:06:13.960Z"
   },
   {
    "duration": 0,
    "start_time": "2022-12-15T19:06:13.961Z"
   },
   {
    "duration": 0,
    "start_time": "2022-12-15T19:06:13.962Z"
   },
   {
    "duration": 0,
    "start_time": "2022-12-15T19:06:13.963Z"
   },
   {
    "duration": 0,
    "start_time": "2022-12-15T19:06:13.965Z"
   },
   {
    "duration": 0,
    "start_time": "2022-12-15T19:06:13.965Z"
   },
   {
    "duration": 0,
    "start_time": "2022-12-15T19:06:13.967Z"
   },
   {
    "duration": 0,
    "start_time": "2022-12-15T19:06:13.968Z"
   },
   {
    "duration": 0,
    "start_time": "2022-12-15T19:06:13.969Z"
   },
   {
    "duration": 0,
    "start_time": "2022-12-15T19:06:13.970Z"
   },
   {
    "duration": 0,
    "start_time": "2022-12-15T19:06:13.971Z"
   },
   {
    "duration": 0,
    "start_time": "2022-12-15T19:06:13.972Z"
   },
   {
    "duration": 0,
    "start_time": "2022-12-15T19:06:13.973Z"
   },
   {
    "duration": 0,
    "start_time": "2022-12-15T19:06:13.974Z"
   },
   {
    "duration": 0,
    "start_time": "2022-12-15T19:06:14.037Z"
   },
   {
    "duration": 0,
    "start_time": "2022-12-15T19:06:14.038Z"
   },
   {
    "duration": 0,
    "start_time": "2022-12-15T19:06:14.040Z"
   },
   {
    "duration": 0,
    "start_time": "2022-12-15T19:06:14.042Z"
   },
   {
    "duration": 0,
    "start_time": "2022-12-15T19:06:14.043Z"
   },
   {
    "duration": 0,
    "start_time": "2022-12-15T19:06:14.045Z"
   },
   {
    "duration": 0,
    "start_time": "2022-12-15T19:06:14.046Z"
   },
   {
    "duration": 0,
    "start_time": "2022-12-15T19:06:14.047Z"
   },
   {
    "duration": 0,
    "start_time": "2022-12-15T19:06:14.049Z"
   },
   {
    "duration": 0,
    "start_time": "2022-12-15T19:06:14.050Z"
   },
   {
    "duration": 0,
    "start_time": "2022-12-15T19:06:14.051Z"
   },
   {
    "duration": 0,
    "start_time": "2022-12-15T19:06:14.052Z"
   },
   {
    "duration": 0,
    "start_time": "2022-12-15T19:06:14.053Z"
   },
   {
    "duration": 0,
    "start_time": "2022-12-15T19:06:14.054Z"
   },
   {
    "duration": 0,
    "start_time": "2022-12-15T19:06:14.055Z"
   },
   {
    "duration": 0,
    "start_time": "2022-12-15T19:06:14.056Z"
   },
   {
    "duration": 0,
    "start_time": "2022-12-15T19:06:14.057Z"
   },
   {
    "duration": 0,
    "start_time": "2022-12-15T19:06:14.059Z"
   },
   {
    "duration": 0,
    "start_time": "2022-12-15T19:06:14.060Z"
   },
   {
    "duration": 0,
    "start_time": "2022-12-15T19:06:14.061Z"
   },
   {
    "duration": 0,
    "start_time": "2022-12-15T19:06:14.062Z"
   },
   {
    "duration": 0,
    "start_time": "2022-12-15T19:06:14.063Z"
   },
   {
    "duration": 0,
    "start_time": "2022-12-15T19:06:14.064Z"
   },
   {
    "duration": 0,
    "start_time": "2022-12-15T19:06:14.065Z"
   },
   {
    "duration": 0,
    "start_time": "2022-12-15T19:06:14.066Z"
   },
   {
    "duration": 0,
    "start_time": "2022-12-15T19:06:14.067Z"
   },
   {
    "duration": 0,
    "start_time": "2022-12-15T19:06:14.068Z"
   },
   {
    "duration": 0,
    "start_time": "2022-12-15T19:06:14.070Z"
   },
   {
    "duration": 0,
    "start_time": "2022-12-15T19:06:14.071Z"
   },
   {
    "duration": 0,
    "start_time": "2022-12-15T19:06:14.072Z"
   },
   {
    "duration": 0,
    "start_time": "2022-12-15T19:06:14.137Z"
   },
   {
    "duration": 0,
    "start_time": "2022-12-15T19:06:14.138Z"
   },
   {
    "duration": 4553,
    "start_time": "2022-12-15T19:06:19.352Z"
   },
   {
    "duration": 2224,
    "start_time": "2022-12-15T19:06:23.907Z"
   },
   {
    "duration": 3,
    "start_time": "2022-12-15T19:06:26.134Z"
   },
   {
    "duration": 13,
    "start_time": "2022-12-15T19:06:26.139Z"
   },
   {
    "duration": 10,
    "start_time": "2022-12-15T19:06:26.154Z"
   },
   {
    "duration": 8,
    "start_time": "2022-12-15T19:06:26.166Z"
   },
   {
    "duration": 9,
    "start_time": "2022-12-15T19:06:26.176Z"
   },
   {
    "duration": 54,
    "start_time": "2022-12-15T19:06:26.187Z"
   },
   {
    "duration": 3,
    "start_time": "2022-12-15T19:06:26.243Z"
   },
   {
    "duration": 32,
    "start_time": "2022-12-15T19:06:26.249Z"
   },
   {
    "duration": 14,
    "start_time": "2022-12-15T19:06:35.820Z"
   },
   {
    "duration": 40,
    "start_time": "2022-12-15T19:06:36.237Z"
   },
   {
    "duration": 58,
    "start_time": "2022-12-15T19:06:36.824Z"
   },
   {
    "duration": 23,
    "start_time": "2022-12-15T19:06:37.018Z"
   },
   {
    "duration": 5,
    "start_time": "2022-12-15T19:06:37.428Z"
   },
   {
    "duration": 12,
    "start_time": "2022-12-15T19:06:37.824Z"
   },
   {
    "duration": 8,
    "start_time": "2022-12-15T19:06:38.250Z"
   },
   {
    "duration": 7,
    "start_time": "2022-12-15T19:06:38.885Z"
   },
   {
    "duration": 16,
    "start_time": "2022-12-15T19:06:39.082Z"
   },
   {
    "duration": 12,
    "start_time": "2022-12-15T19:06:39.269Z"
   },
   {
    "duration": 2,
    "start_time": "2022-12-15T19:06:40.209Z"
   },
   {
    "duration": 3,
    "start_time": "2022-12-15T19:06:40.400Z"
   },
   {
    "duration": 2,
    "start_time": "2022-12-15T19:06:40.778Z"
   },
   {
    "duration": 13,
    "start_time": "2022-12-15T19:06:41.774Z"
   },
   {
    "duration": 7,
    "start_time": "2022-12-15T19:06:42.363Z"
   },
   {
    "duration": 10,
    "start_time": "2022-12-15T19:06:43.753Z"
   },
   {
    "duration": 4,
    "start_time": "2022-12-15T19:06:44.395Z"
   },
   {
    "duration": 27,
    "start_time": "2022-12-15T19:06:45.977Z"
   },
   {
    "duration": 10,
    "start_time": "2022-12-15T19:06:46.174Z"
   },
   {
    "duration": 21,
    "start_time": "2022-12-15T19:06:47.048Z"
   },
   {
    "duration": 12,
    "start_time": "2022-12-15T19:06:47.284Z"
   },
   {
    "duration": 3,
    "start_time": "2022-12-15T19:06:47.500Z"
   },
   {
    "duration": 19,
    "start_time": "2022-12-15T19:06:47.704Z"
   },
   {
    "duration": 7,
    "start_time": "2022-12-15T19:06:48.111Z"
   },
   {
    "duration": 10,
    "start_time": "2022-12-15T19:06:48.524Z"
   },
   {
    "duration": 10,
    "start_time": "2022-12-15T19:06:48.911Z"
   },
   {
    "duration": 3,
    "start_time": "2022-12-15T19:06:49.163Z"
   },
   {
    "duration": 22,
    "start_time": "2022-12-15T19:06:49.380Z"
   },
   {
    "duration": 7,
    "start_time": "2022-12-15T19:06:49.578Z"
   },
   {
    "duration": 7,
    "start_time": "2022-12-15T19:06:49.794Z"
   },
   {
    "duration": 6,
    "start_time": "2022-12-15T19:06:50.028Z"
   },
   {
    "duration": 1866,
    "start_time": "2022-12-15T19:06:51.040Z"
   },
   {
    "duration": 3,
    "start_time": "2022-12-15T19:06:52.908Z"
   },
   {
    "duration": 42360,
    "start_time": "2022-12-15T19:06:52.912Z"
   },
   {
    "duration": 2,
    "start_time": "2022-12-15T19:07:35.274Z"
   },
   {
    "duration": 64,
    "start_time": "2022-12-15T19:07:35.278Z"
   },
   {
    "duration": 94,
    "start_time": "2022-12-15T19:07:35.344Z"
   },
   {
    "duration": 101,
    "start_time": "2022-12-15T19:07:35.440Z"
   },
   {
    "duration": 6,
    "start_time": "2022-12-15T19:07:35.544Z"
   },
   {
    "duration": 44,
    "start_time": "2022-12-15T19:07:35.552Z"
   },
   {
    "duration": 14,
    "start_time": "2022-12-15T19:07:35.598Z"
   },
   {
    "duration": 25,
    "start_time": "2022-12-15T19:07:35.614Z"
   },
   {
    "duration": 63,
    "start_time": "2022-12-15T19:07:35.641Z"
   },
   {
    "duration": 13,
    "start_time": "2022-12-15T19:07:35.706Z"
   },
   {
    "duration": 18,
    "start_time": "2022-12-15T19:07:35.721Z"
   },
   {
    "duration": 1938,
    "start_time": "2022-12-15T19:07:35.741Z"
   },
   {
    "duration": 2,
    "start_time": "2022-12-15T19:08:30.848Z"
   },
   {
    "duration": 42846,
    "start_time": "2022-12-15T19:08:31.341Z"
   },
   {
    "duration": 2,
    "start_time": "2022-12-15T19:09:14.189Z"
   },
   {
    "duration": 103,
    "start_time": "2022-12-15T19:09:45.233Z"
   },
   {
    "duration": 2,
    "start_time": "2022-12-15T19:09:45.653Z"
   },
   {
    "duration": 3,
    "start_time": "2022-12-15T19:09:51.873Z"
   },
   {
    "duration": 3,
    "start_time": "2022-12-15T19:09:52.342Z"
   },
   {
    "duration": 34,
    "start_time": "2022-12-15T19:09:53.422Z"
   },
   {
    "duration": 2217,
    "start_time": "2022-12-15T19:09:54.471Z"
   },
   {
    "duration": 93749,
    "start_time": "2022-12-15T19:09:59.283Z"
   },
   {
    "duration": 2,
    "start_time": "2022-12-15T19:11:33.036Z"
   },
   {
    "duration": 3,
    "start_time": "2022-12-15T19:11:36.711Z"
   },
   {
    "duration": 46,
    "start_time": "2022-12-15T19:11:37.192Z"
   },
   {
    "duration": 44,
    "start_time": "2022-12-15T19:11:39.605Z"
   },
   {
    "duration": 19,
    "start_time": "2022-12-15T19:11:39.806Z"
   },
   {
    "duration": 914,
    "start_time": "2022-12-15T19:11:40.590Z"
   },
   {
    "duration": 2,
    "start_time": "2022-12-15T19:11:41.506Z"
   },
   {
    "duration": 33287,
    "start_time": "2022-12-15T19:11:44.080Z"
   },
   {
    "duration": 19,
    "start_time": "2022-12-15T19:14:41.896Z"
   },
   {
    "duration": 402,
    "start_time": "2022-12-15T19:14:45.975Z"
   },
   {
    "duration": 85,
    "start_time": "2022-12-15T19:14:46.503Z"
   },
   {
    "duration": 4,
    "start_time": "2022-12-15T19:14:50.473Z"
   },
   {
    "duration": 227,
    "start_time": "2022-12-15T19:14:50.689Z"
   },
   {
    "duration": 3,
    "start_time": "2022-12-15T19:14:51.195Z"
   },
   {
    "duration": 2,
    "start_time": "2022-12-15T19:14:51.449Z"
   },
   {
    "duration": 2,
    "start_time": "2022-12-15T19:14:54.176Z"
   },
   {
    "duration": 2,
    "start_time": "2022-12-15T19:14:54.380Z"
   },
   {
    "duration": 8805,
    "start_time": "2022-12-15T20:34:02.350Z"
   },
   {
    "duration": 3180,
    "start_time": "2022-12-15T20:34:11.157Z"
   },
   {
    "duration": 1268,
    "start_time": "2022-12-15T20:34:14.339Z"
   },
   {
    "duration": 93,
    "start_time": "2022-12-15T20:34:15.609Z"
   },
   {
    "duration": 2,
    "start_time": "2022-12-15T20:34:15.704Z"
   },
   {
    "duration": 46,
    "start_time": "2022-12-15T20:34:15.713Z"
   },
   {
    "duration": 2,
    "start_time": "2022-12-15T20:34:15.761Z"
   },
   {
    "duration": 178,
    "start_time": "2022-12-15T20:34:15.765Z"
   },
   {
    "duration": 5,
    "start_time": "2022-12-15T20:34:15.944Z"
   },
   {
    "duration": 30,
    "start_time": "2022-12-15T20:34:15.952Z"
   },
   {
    "duration": 19,
    "start_time": "2022-12-15T20:34:15.983Z"
   },
   {
    "duration": 41,
    "start_time": "2022-12-15T20:34:16.003Z"
   },
   {
    "duration": 46,
    "start_time": "2022-12-15T20:34:16.045Z"
   },
   {
    "duration": 27,
    "start_time": "2022-12-15T20:34:16.093Z"
   },
   {
    "duration": 4,
    "start_time": "2022-12-15T20:34:16.122Z"
   },
   {
    "duration": 33,
    "start_time": "2022-12-15T20:34:16.127Z"
   },
   {
    "duration": 20,
    "start_time": "2022-12-15T20:34:16.161Z"
   },
   {
    "duration": 13,
    "start_time": "2022-12-15T20:34:16.182Z"
   },
   {
    "duration": 31,
    "start_time": "2022-12-15T20:34:16.196Z"
   },
   {
    "duration": 15,
    "start_time": "2022-12-15T20:34:16.228Z"
   },
   {
    "duration": 24,
    "start_time": "2022-12-15T20:34:16.245Z"
   },
   {
    "duration": 16,
    "start_time": "2022-12-15T20:34:16.271Z"
   },
   {
    "duration": 8,
    "start_time": "2022-12-15T20:34:16.289Z"
   },
   {
    "duration": 56,
    "start_time": "2022-12-15T20:34:16.299Z"
   },
   {
    "duration": 15,
    "start_time": "2022-12-15T20:34:16.357Z"
   },
   {
    "duration": 26,
    "start_time": "2022-12-15T20:34:16.374Z"
   },
   {
    "duration": 20,
    "start_time": "2022-12-15T20:34:16.401Z"
   },
   {
    "duration": 25,
    "start_time": "2022-12-15T20:34:16.424Z"
   },
   {
    "duration": 24,
    "start_time": "2022-12-15T20:34:16.450Z"
   },
   {
    "duration": 24,
    "start_time": "2022-12-15T20:34:16.475Z"
   },
   {
    "duration": 135,
    "start_time": "2022-12-15T20:34:16.501Z"
   },
   {
    "duration": 0,
    "start_time": "2022-12-15T20:34:16.638Z"
   },
   {
    "duration": 14,
    "start_time": "2022-12-15T20:34:31.716Z"
   },
   {
    "duration": 13,
    "start_time": "2022-12-15T20:34:46.753Z"
   },
   {
    "duration": 10,
    "start_time": "2022-12-15T20:34:49.242Z"
   },
   {
    "duration": 9,
    "start_time": "2022-12-15T20:37:05.208Z"
   },
   {
    "duration": 3893,
    "start_time": "2022-12-15T20:39:35.263Z"
   },
   {
    "duration": 1932,
    "start_time": "2022-12-15T20:39:39.159Z"
   },
   {
    "duration": 3,
    "start_time": "2022-12-15T20:39:41.093Z"
   },
   {
    "duration": 7,
    "start_time": "2022-12-15T20:39:41.098Z"
   },
   {
    "duration": 4,
    "start_time": "2022-12-15T20:39:41.108Z"
   },
   {
    "duration": 5,
    "start_time": "2022-12-15T20:39:41.113Z"
   },
   {
    "duration": 4,
    "start_time": "2022-12-15T20:39:41.120Z"
   },
   {
    "duration": 42,
    "start_time": "2022-12-15T20:39:41.125Z"
   },
   {
    "duration": 3,
    "start_time": "2022-12-15T20:39:41.169Z"
   },
   {
    "duration": 15,
    "start_time": "2022-12-15T20:39:41.174Z"
   },
   {
    "duration": 15,
    "start_time": "2022-12-15T20:39:41.190Z"
   },
   {
    "duration": 37,
    "start_time": "2022-12-15T20:39:41.206Z"
   },
   {
    "duration": 53,
    "start_time": "2022-12-15T20:39:41.244Z"
   },
   {
    "duration": 29,
    "start_time": "2022-12-15T20:39:41.300Z"
   },
   {
    "duration": 4,
    "start_time": "2022-12-15T20:39:41.331Z"
   },
   {
    "duration": 14,
    "start_time": "2022-12-15T20:39:41.336Z"
   },
   {
    "duration": 8,
    "start_time": "2022-12-15T20:39:41.352Z"
   },
   {
    "duration": 8,
    "start_time": "2022-12-15T20:39:41.361Z"
   },
   {
    "duration": 12,
    "start_time": "2022-12-15T20:39:41.370Z"
   },
   {
    "duration": 33,
    "start_time": "2022-12-15T20:39:41.384Z"
   },
   {
    "duration": 6,
    "start_time": "2022-12-15T20:39:41.418Z"
   },
   {
    "duration": 5,
    "start_time": "2022-12-15T20:39:41.425Z"
   },
   {
    "duration": 5,
    "start_time": "2022-12-15T20:39:41.431Z"
   },
   {
    "duration": 13,
    "start_time": "2022-12-15T20:39:41.437Z"
   },
   {
    "duration": 7,
    "start_time": "2022-12-15T20:39:41.452Z"
   },
   {
    "duration": 10,
    "start_time": "2022-12-15T20:39:41.461Z"
   },
   {
    "duration": 4,
    "start_time": "2022-12-15T20:39:41.473Z"
   },
   {
    "duration": 41,
    "start_time": "2022-12-15T20:39:41.479Z"
   },
   {
    "duration": 9,
    "start_time": "2022-12-15T20:39:41.521Z"
   },
   {
    "duration": 22,
    "start_time": "2022-12-15T20:39:41.531Z"
   },
   {
    "duration": 11,
    "start_time": "2022-12-15T20:39:41.554Z"
   },
   {
    "duration": 3,
    "start_time": "2022-12-15T20:39:41.566Z"
   },
   {
    "duration": 44,
    "start_time": "2022-12-15T20:39:41.570Z"
   },
   {
    "duration": 7,
    "start_time": "2022-12-15T20:39:41.615Z"
   },
   {
    "duration": 16,
    "start_time": "2022-12-15T20:39:41.623Z"
   },
   {
    "duration": 6,
    "start_time": "2022-12-15T20:39:41.640Z"
   },
   {
    "duration": 11,
    "start_time": "2022-12-15T20:39:41.647Z"
   },
   {
    "duration": 9,
    "start_time": "2022-12-15T20:39:41.660Z"
   },
   {
    "duration": 6,
    "start_time": "2022-12-15T20:39:41.671Z"
   },
   {
    "duration": 38,
    "start_time": "2022-12-15T20:39:41.678Z"
   },
   {
    "duration": 8,
    "start_time": "2022-12-15T20:39:41.720Z"
   },
   {
    "duration": 6,
    "start_time": "2022-12-15T20:39:41.729Z"
   },
   {
    "duration": 6,
    "start_time": "2022-12-15T20:39:41.736Z"
   },
   {
    "duration": 1674,
    "start_time": "2022-12-15T20:39:41.743Z"
   },
   {
    "duration": 3,
    "start_time": "2022-12-15T20:39:43.420Z"
   },
   {
    "duration": 40915,
    "start_time": "2022-12-15T20:39:43.425Z"
   },
   {
    "duration": 2,
    "start_time": "2022-12-15T20:40:24.341Z"
   },
   {
    "duration": 74,
    "start_time": "2022-12-15T20:40:24.345Z"
   },
   {
    "duration": 93,
    "start_time": "2022-12-15T20:40:24.420Z"
   },
   {
    "duration": 3,
    "start_time": "2022-12-15T20:40:24.515Z"
   },
   {
    "duration": 94,
    "start_time": "2022-12-15T20:40:24.520Z"
   },
   {
    "duration": 20,
    "start_time": "2022-12-15T20:40:24.615Z"
   },
   {
    "duration": 8,
    "start_time": "2022-12-15T20:40:24.637Z"
   },
   {
    "duration": 22,
    "start_time": "2022-12-15T20:40:24.646Z"
   },
   {
    "duration": 22,
    "start_time": "2022-12-15T20:40:24.670Z"
   },
   {
    "duration": 11,
    "start_time": "2022-12-15T20:40:24.693Z"
   },
   {
    "duration": 11,
    "start_time": "2022-12-15T20:40:24.706Z"
   },
   {
    "duration": 1636,
    "start_time": "2022-12-15T20:40:24.719Z"
   },
   {
    "duration": 2,
    "start_time": "2022-12-15T20:40:26.357Z"
   },
   {
    "duration": 41302,
    "start_time": "2022-12-15T20:40:26.361Z"
   },
   {
    "duration": 2,
    "start_time": "2022-12-15T20:41:07.665Z"
   },
   {
    "duration": 145,
    "start_time": "2022-12-15T20:41:07.668Z"
   },
   {
    "duration": 4,
    "start_time": "2022-12-15T20:41:07.818Z"
   },
   {
    "duration": 9,
    "start_time": "2022-12-15T20:41:07.914Z"
   },
   {
    "duration": 7,
    "start_time": "2022-12-15T20:41:07.925Z"
   },
   {
    "duration": 35,
    "start_time": "2022-12-15T20:41:07.934Z"
   },
   {
    "duration": 2597,
    "start_time": "2022-12-15T20:41:07.970Z"
   },
   {
    "duration": 97941,
    "start_time": "2022-12-15T20:41:10.569Z"
   },
   {
    "duration": 2,
    "start_time": "2022-12-15T20:42:48.512Z"
   },
   {
    "duration": 11,
    "start_time": "2022-12-15T20:42:48.515Z"
   },
   {
    "duration": 88,
    "start_time": "2022-12-15T20:42:48.528Z"
   },
   {
    "duration": 130,
    "start_time": "2022-12-15T20:42:48.617Z"
   },
   {
    "duration": 0,
    "start_time": "2022-12-15T20:42:48.748Z"
   },
   {
    "duration": 0,
    "start_time": "2022-12-15T20:42:48.750Z"
   },
   {
    "duration": 0,
    "start_time": "2022-12-15T20:42:48.751Z"
   },
   {
    "duration": 0,
    "start_time": "2022-12-15T20:42:48.752Z"
   },
   {
    "duration": 0,
    "start_time": "2022-12-15T20:42:48.753Z"
   },
   {
    "duration": 0,
    "start_time": "2022-12-15T20:42:48.754Z"
   },
   {
    "duration": 0,
    "start_time": "2022-12-15T20:42:48.755Z"
   },
   {
    "duration": 0,
    "start_time": "2022-12-15T20:42:48.756Z"
   },
   {
    "duration": 0,
    "start_time": "2022-12-15T20:42:48.757Z"
   },
   {
    "duration": 0,
    "start_time": "2022-12-15T20:42:48.759Z"
   },
   {
    "duration": 0,
    "start_time": "2022-12-15T20:42:48.760Z"
   },
   {
    "duration": 0,
    "start_time": "2022-12-15T20:42:48.761Z"
   },
   {
    "duration": 0,
    "start_time": "2022-12-15T20:42:48.762Z"
   },
   {
    "duration": 37,
    "start_time": "2022-12-15T20:48:05.883Z"
   },
   {
    "duration": 91,
    "start_time": "2022-12-15T20:48:05.923Z"
   },
   {
    "duration": 117,
    "start_time": "2022-12-15T20:48:06.015Z"
   },
   {
    "duration": 886,
    "start_time": "2022-12-15T20:48:06.134Z"
   },
   {
    "duration": 2,
    "start_time": "2022-12-15T20:48:07.022Z"
   },
   {
    "duration": 32154,
    "start_time": "2022-12-15T20:48:07.026Z"
   },
   {
    "duration": 21,
    "start_time": "2022-12-15T20:48:39.181Z"
   },
   {
    "duration": 505,
    "start_time": "2022-12-15T20:48:39.212Z"
   },
   {
    "duration": 156,
    "start_time": "2022-12-15T20:48:39.719Z"
   },
   {
    "duration": 7,
    "start_time": "2022-12-15T20:48:39.878Z"
   },
   {
    "duration": 223,
    "start_time": "2022-12-15T20:48:39.886Z"
   },
   {
    "duration": 0,
    "start_time": "2022-12-15T20:48:40.111Z"
   },
   {
    "duration": 0,
    "start_time": "2022-12-15T20:48:40.113Z"
   },
   {
    "duration": 0,
    "start_time": "2022-12-15T20:48:40.115Z"
   },
   {
    "duration": 0,
    "start_time": "2022-12-15T20:48:40.116Z"
   },
   {
    "duration": 67,
    "start_time": "2022-12-15T21:26:33.289Z"
   },
   {
    "duration": 10432,
    "start_time": "2022-12-15T21:26:44.809Z"
   },
   {
    "duration": 8684,
    "start_time": "2022-12-15T21:26:55.245Z"
   },
   {
    "duration": 1338,
    "start_time": "2022-12-15T21:27:03.939Z"
   },
   {
    "duration": 101,
    "start_time": "2022-12-15T21:27:05.280Z"
   },
   {
    "duration": 3,
    "start_time": "2022-12-15T21:27:05.383Z"
   },
   {
    "duration": 56,
    "start_time": "2022-12-15T21:27:05.387Z"
   },
   {
    "duration": 3,
    "start_time": "2022-12-15T21:27:05.445Z"
   },
   {
    "duration": 125,
    "start_time": "2022-12-15T21:27:05.451Z"
   },
   {
    "duration": 5,
    "start_time": "2022-12-15T21:27:05.578Z"
   },
   {
    "duration": 17,
    "start_time": "2022-12-15T21:27:05.586Z"
   },
   {
    "duration": 20,
    "start_time": "2022-12-15T21:27:05.604Z"
   },
   {
    "duration": 65,
    "start_time": "2022-12-15T21:27:05.625Z"
   },
   {
    "duration": 66,
    "start_time": "2022-12-15T21:27:05.691Z"
   },
   {
    "duration": 21,
    "start_time": "2022-12-15T21:27:05.759Z"
   },
   {
    "duration": 5,
    "start_time": "2022-12-15T21:27:05.782Z"
   },
   {
    "duration": 41,
    "start_time": "2022-12-15T21:27:05.789Z"
   },
   {
    "duration": 24,
    "start_time": "2022-12-15T21:27:05.832Z"
   },
   {
    "duration": 15,
    "start_time": "2022-12-15T21:27:05.857Z"
   },
   {
    "duration": 12,
    "start_time": "2022-12-15T21:27:05.873Z"
   },
   {
    "duration": 10,
    "start_time": "2022-12-15T21:27:05.887Z"
   },
   {
    "duration": 15,
    "start_time": "2022-12-15T21:27:05.899Z"
   },
   {
    "duration": 31,
    "start_time": "2022-12-15T21:27:05.921Z"
   },
   {
    "duration": 4,
    "start_time": "2022-12-15T21:27:05.954Z"
   },
   {
    "duration": 14,
    "start_time": "2022-12-15T21:27:05.960Z"
   },
   {
    "duration": 6,
    "start_time": "2022-12-15T21:27:05.976Z"
   },
   {
    "duration": 12,
    "start_time": "2022-12-15T21:27:05.984Z"
   },
   {
    "duration": 6,
    "start_time": "2022-12-15T21:27:05.998Z"
   },
   {
    "duration": 26,
    "start_time": "2022-12-15T21:27:06.008Z"
   },
   {
    "duration": 42,
    "start_time": "2022-12-15T21:27:06.036Z"
   },
   {
    "duration": 25,
    "start_time": "2022-12-15T21:27:06.080Z"
   },
   {
    "duration": 17,
    "start_time": "2022-12-15T21:27:06.349Z"
   },
   {
    "duration": 2,
    "start_time": "2022-12-15T21:27:06.568Z"
   },
   {
    "duration": 19,
    "start_time": "2022-12-15T21:27:07.551Z"
   },
   {
    "duration": 7,
    "start_time": "2022-12-15T21:27:08.036Z"
   },
   {
    "duration": 12,
    "start_time": "2022-12-15T21:27:11.938Z"
   },
   {
    "duration": 3,
    "start_time": "2022-12-15T21:29:03.699Z"
   },
   {
    "duration": 10,
    "start_time": "2022-12-15T21:29:04.292Z"
   },
   {
    "duration": 10,
    "start_time": "2022-12-15T21:29:08.561Z"
   },
   {
    "duration": 2,
    "start_time": "2022-12-15T21:29:09.043Z"
   },
   {
    "duration": 21,
    "start_time": "2022-12-15T21:29:09.550Z"
   },
   {
    "duration": 6,
    "start_time": "2022-12-15T21:29:11.888Z"
   },
   {
    "duration": 6,
    "start_time": "2022-12-15T21:29:13.386Z"
   },
   {
    "duration": 10,
    "start_time": "2022-12-15T21:29:25.431Z"
   },
   {
    "duration": 6,
    "start_time": "2022-12-15T21:29:32.848Z"
   },
   {
    "duration": 1962,
    "start_time": "2022-12-15T21:29:48.695Z"
   },
   {
    "duration": 41,
    "start_time": "2022-12-15T21:35:40.153Z"
   },
   {
    "duration": 90,
    "start_time": "2022-12-15T21:51:05.366Z"
   },
   {
    "duration": 4815,
    "start_time": "2022-12-15T21:51:13.908Z"
   },
   {
    "duration": 2586,
    "start_time": "2022-12-15T21:51:18.726Z"
   },
   {
    "duration": 11,
    "start_time": "2022-12-15T21:51:21.314Z"
   },
   {
    "duration": 20,
    "start_time": "2022-12-15T21:51:21.331Z"
   },
   {
    "duration": 5,
    "start_time": "2022-12-15T21:51:21.352Z"
   },
   {
    "duration": 5,
    "start_time": "2022-12-15T21:51:21.359Z"
   },
   {
    "duration": 9,
    "start_time": "2022-12-15T21:51:21.366Z"
   },
   {
    "duration": 50,
    "start_time": "2022-12-15T21:51:21.376Z"
   },
   {
    "duration": 7,
    "start_time": "2022-12-15T21:51:21.428Z"
   },
   {
    "duration": 30,
    "start_time": "2022-12-15T21:51:21.437Z"
   },
   {
    "duration": 13,
    "start_time": "2022-12-15T21:51:21.468Z"
   },
   {
    "duration": 67,
    "start_time": "2022-12-15T21:51:21.483Z"
   },
   {
    "duration": 60,
    "start_time": "2022-12-15T21:51:40.299Z"
   },
   {
    "duration": 20,
    "start_time": "2022-12-15T21:51:41.435Z"
   },
   {
    "duration": 4,
    "start_time": "2022-12-15T21:51:41.861Z"
   },
   {
    "duration": 13,
    "start_time": "2022-12-15T21:51:42.843Z"
   },
   {
    "duration": 7,
    "start_time": "2022-12-15T21:51:43.243Z"
   },
   {
    "duration": 7,
    "start_time": "2022-12-15T21:51:43.989Z"
   },
   {
    "duration": 12,
    "start_time": "2022-12-15T21:51:44.189Z"
   },
   {
    "duration": 12,
    "start_time": "2022-12-15T21:51:44.405Z"
   },
   {
    "duration": 2,
    "start_time": "2022-12-15T21:51:45.580Z"
   },
   {
    "duration": 2,
    "start_time": "2022-12-15T21:51:45.788Z"
   },
   {
    "duration": 2,
    "start_time": "2022-12-15T21:51:46.276Z"
   },
   {
    "duration": 12,
    "start_time": "2022-12-15T21:51:47.673Z"
   },
   {
    "duration": 5,
    "start_time": "2022-12-15T21:51:48.298Z"
   },
   {
    "duration": 12,
    "start_time": "2022-12-15T21:51:49.512Z"
   },
   {
    "duration": 5,
    "start_time": "2022-12-15T21:51:50.160Z"
   },
   {
    "duration": 19,
    "start_time": "2022-12-15T21:51:52.043Z"
   },
   {
    "duration": 9,
    "start_time": "2022-12-15T21:51:52.369Z"
   },
   {
    "duration": 20,
    "start_time": "2022-12-15T21:51:53.669Z"
   },
   {
    "duration": 11,
    "start_time": "2022-12-15T21:51:53.944Z"
   },
   {
    "duration": 2,
    "start_time": "2022-12-15T21:51:54.174Z"
   },
   {
    "duration": 19,
    "start_time": "2022-12-15T21:51:54.652Z"
   },
   {
    "duration": 7,
    "start_time": "2022-12-15T21:51:55.565Z"
   },
   {
    "duration": 21,
    "start_time": "2022-12-15T21:51:56.709Z"
   },
   {
    "duration": 5,
    "start_time": "2022-12-15T21:51:56.947Z"
   },
   {
    "duration": 11,
    "start_time": "2022-12-15T21:51:57.169Z"
   },
   {
    "duration": 9,
    "start_time": "2022-12-15T21:51:59.902Z"
   },
   {
    "duration": 2,
    "start_time": "2022-12-15T21:52:00.110Z"
   },
   {
    "duration": 26,
    "start_time": "2022-12-15T21:52:00.342Z"
   },
   {
    "duration": 1877,
    "start_time": "2022-12-15T21:52:02.476Z"
   },
   {
    "duration": 3,
    "start_time": "2022-12-15T21:52:06.740Z"
   },
   {
    "duration": 47207,
    "start_time": "2022-12-15T21:52:08.493Z"
   },
   {
    "duration": 2,
    "start_time": "2022-12-15T21:53:25.150Z"
   },
   {
    "duration": 158,
    "start_time": "2022-12-15T21:53:28.168Z"
   },
   {
    "duration": 2,
    "start_time": "2022-12-15T21:53:29.342Z"
   },
   {
    "duration": 2,
    "start_time": "2022-12-15T21:53:30.388Z"
   },
   {
    "duration": 3,
    "start_time": "2022-12-15T21:53:30.648Z"
   },
   {
    "duration": 3,
    "start_time": "2022-12-15T21:53:30.944Z"
   },
   {
    "duration": 2,
    "start_time": "2022-12-15T21:53:31.173Z"
   },
   {
    "duration": 2,
    "start_time": "2022-12-15T21:53:31.444Z"
   },
   {
    "duration": 2,
    "start_time": "2022-12-15T21:53:31.668Z"
   },
   {
    "duration": 2,
    "start_time": "2022-12-15T21:53:32.165Z"
   },
   {
    "duration": 8,
    "start_time": "2022-12-15T21:53:32.510Z"
   },
   {
    "duration": 1956,
    "start_time": "2022-12-15T21:53:34.607Z"
   },
   {
    "duration": 3,
    "start_time": "2022-12-15T21:53:37.986Z"
   },
   {
    "duration": 46737,
    "start_time": "2022-12-15T21:53:39.455Z"
   },
   {
    "duration": 3,
    "start_time": "2022-12-15T21:55:36.291Z"
   },
   {
    "duration": 86,
    "start_time": "2022-12-15T21:55:40.345Z"
   },
   {
    "duration": 3,
    "start_time": "2022-12-15T21:55:41.146Z"
   },
   {
    "duration": 2,
    "start_time": "2022-12-15T21:55:43.158Z"
   },
   {
    "duration": 3,
    "start_time": "2022-12-15T21:55:43.394Z"
   },
   {
    "duration": 39,
    "start_time": "2022-12-15T21:55:45.396Z"
   },
   {
    "duration": 2963,
    "start_time": "2022-12-15T21:56:02.187Z"
   },
   {
    "duration": 112657,
    "start_time": "2022-12-15T21:56:24.505Z"
   },
   {
    "duration": 3,
    "start_time": "2022-12-15T21:58:17.164Z"
   },
   {
    "duration": 59,
    "start_time": "2022-12-15T22:01:12.439Z"
   },
   {
    "duration": 10,
    "start_time": "2022-12-15T22:01:27.702Z"
   },
   {
    "duration": 8,
    "start_time": "2022-12-15T22:02:37.763Z"
   },
   {
    "duration": 3,
    "start_time": "2022-12-15T22:03:00.455Z"
   },
   {
    "duration": 3,
    "start_time": "2022-12-15T22:05:29.007Z"
   },
   {
    "duration": 75,
    "start_time": "2022-12-15T22:05:30.146Z"
   },
   {
    "duration": 6,
    "start_time": "2022-12-15T22:05:50.675Z"
   },
   {
    "duration": 19,
    "start_time": "2022-12-15T22:05:51.853Z"
   },
   {
    "duration": 1068,
    "start_time": "2022-12-15T22:05:56.343Z"
   },
   {
    "duration": 37975,
    "start_time": "2022-12-15T22:06:45.760Z"
   },
   {
    "duration": 21,
    "start_time": "2022-12-15T22:07:47.754Z"
   },
   {
    "duration": 3331,
    "start_time": "2022-12-15T22:08:30.253Z"
   },
   {
    "duration": 947,
    "start_time": "2022-12-15T22:08:33.586Z"
   },
   {
    "duration": 6,
    "start_time": "2022-12-15T22:09:56.644Z"
   },
   {
    "duration": 121,
    "start_time": "2022-12-15T22:10:26.471Z"
   },
   {
    "duration": 78,
    "start_time": "2022-12-15T22:17:08.276Z"
   },
   {
    "duration": 3143,
    "start_time": "2022-12-15T22:17:18.308Z"
   },
   {
    "duration": 2799,
    "start_time": "2022-12-15T22:18:20.545Z"
   },
   {
    "duration": 2873,
    "start_time": "2022-12-15T22:18:59.597Z"
   },
   {
    "duration": 2798,
    "start_time": "2022-12-15T22:19:34.252Z"
   },
   {
    "duration": 2,
    "start_time": "2022-12-15T22:23:32.276Z"
   },
   {
    "duration": 3,
    "start_time": "2022-12-15T22:23:32.472Z"
   },
   {
    "duration": 3,
    "start_time": "2022-12-15T22:23:32.668Z"
   },
   {
    "duration": 2,
    "start_time": "2022-12-15T22:23:32.847Z"
   },
   {
    "duration": 646,
    "start_time": "2022-12-22T21:41:42.874Z"
   }
  ],
  "kernelspec": {
   "display_name": "Python 3 (ipykernel)",
   "language": "python",
   "name": "python3"
  },
  "language_info": {
   "codemirror_mode": {
    "name": "ipython",
    "version": 3
   },
   "file_extension": ".py",
   "mimetype": "text/x-python",
   "name": "python",
   "nbconvert_exporter": "python",
   "pygments_lexer": "ipython3",
   "version": "3.9.5"
  },
  "toc": {
   "base_numbering": 1,
   "nav_menu": {},
   "number_sections": true,
   "sideBar": true,
   "skip_h1_title": true,
   "title_cell": "Содержание",
   "title_sidebar": "Contents",
   "toc_cell": true,
   "toc_position": {},
   "toc_section_display": true,
   "toc_window_display": false
  }
 },
 "nbformat": 4,
 "nbformat_minor": 2
}
